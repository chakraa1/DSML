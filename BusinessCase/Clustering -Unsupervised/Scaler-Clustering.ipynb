{
 "cells": [
  {
   "cell_type": "code",
   "execution_count": 1410,
   "id": "870f1e44",
   "metadata": {},
   "outputs": [],
   "source": [
    "import numpy as np\n",
    "import pandas as pd\n",
    "import matplotlib.pyplot as plt\n",
    "import seaborn as sns\n",
    "import warnings\n",
    "warnings.simplefilter(action='ignore', category=FutureWarning)"
   ]
  },
  {
   "cell_type": "markdown",
   "id": "f0e8cab2",
   "metadata": {},
   "source": [
    "## Problem Statement"
   ]
  },
  {
   "cell_type": "markdown",
   "id": "6e2aa2be",
   "metadata": {},
   "source": [
    "- **Primary Goal**\n",
    " - **Cluster students on the basis of followings**:\n",
    "     - Job profile\n",
    "     - Company\n",
    "     - Aspired roles\n",
    " - Recognizing **significant features** that will drive similar characteristics.\n",
    "- **Long term benefits** : \n",
    "    - **Better Guideline for Business executives to target right student , more conversions**\n",
    "    - **More market penetration**"
   ]
  },
  {
   "cell_type": "code",
   "execution_count": 1411,
   "id": "f4d9829c",
   "metadata": {},
   "outputs": [],
   "source": [
    "df = pd.read_csv(\"scaler_clustering.csv\")"
   ]
  },
  {
   "cell_type": "code",
   "execution_count": 1412,
   "id": "4919f0ad",
   "metadata": {},
   "outputs": [
    {
     "name": "stdout",
     "output_type": "stream",
     "text": [
      "<class 'pandas.core.frame.DataFrame'>\n",
      "RangeIndex: 205843 entries, 0 to 205842\n",
      "Data columns (total 7 columns):\n",
      " #   Column            Non-Null Count   Dtype  \n",
      "---  ------            --------------   -----  \n",
      " 0   Unnamed: 0        205843 non-null  int64  \n",
      " 1   company_hash      205799 non-null  object \n",
      " 2   email_hash        205843 non-null  object \n",
      " 3   orgyear           205757 non-null  float64\n",
      " 4   ctc               205843 non-null  int64  \n",
      " 5   job_position      153281 non-null  object \n",
      " 6   ctc_updated_year  205843 non-null  float64\n",
      "dtypes: float64(2), int64(2), object(3)\n",
      "memory usage: 11.0+ MB\n"
     ]
    }
   ],
   "source": [
    "df.info()"
   ]
  },
  {
   "cell_type": "code",
   "execution_count": 1413,
   "id": "82dd739a",
   "metadata": {},
   "outputs": [
    {
     "data": {
      "text/plain": [
       "(205843, 7)"
      ]
     },
     "execution_count": 1413,
     "metadata": {},
     "output_type": "execute_result"
    }
   ],
   "source": [
    "df.shape"
   ]
  },
  {
   "cell_type": "code",
   "execution_count": 1414,
   "id": "966d5d92",
   "metadata": {},
   "outputs": [
    {
     "data": {
      "text/html": [
       "<div>\n",
       "<style scoped>\n",
       "    .dataframe tbody tr th:only-of-type {\n",
       "        vertical-align: middle;\n",
       "    }\n",
       "\n",
       "    .dataframe tbody tr th {\n",
       "        vertical-align: top;\n",
       "    }\n",
       "\n",
       "    .dataframe thead th {\n",
       "        text-align: right;\n",
       "    }\n",
       "</style>\n",
       "<table border=\"1\" class=\"dataframe\">\n",
       "  <thead>\n",
       "    <tr style=\"text-align: right;\">\n",
       "      <th></th>\n",
       "      <th>Unnamed: 0</th>\n",
       "      <th>company_hash</th>\n",
       "      <th>email_hash</th>\n",
       "      <th>orgyear</th>\n",
       "      <th>ctc</th>\n",
       "      <th>job_position</th>\n",
       "      <th>ctc_updated_year</th>\n",
       "    </tr>\n",
       "  </thead>\n",
       "  <tbody>\n",
       "    <tr>\n",
       "      <th>0</th>\n",
       "      <td>0</td>\n",
       "      <td>atrgxnnt xzaxv</td>\n",
       "      <td>6de0a4417d18ab14334c3f43397fc13b30c35149d70c05...</td>\n",
       "      <td>2016.0</td>\n",
       "      <td>1100000</td>\n",
       "      <td>Other</td>\n",
       "      <td>2020.0</td>\n",
       "    </tr>\n",
       "    <tr>\n",
       "      <th>1</th>\n",
       "      <td>1</td>\n",
       "      <td>qtrxvzwt xzegwgbb rxbxnta</td>\n",
       "      <td>b0aaf1ac138b53cb6e039ba2c3d6604a250d02d5145c10...</td>\n",
       "      <td>2018.0</td>\n",
       "      <td>449999</td>\n",
       "      <td>FullStack Engineer</td>\n",
       "      <td>2019.0</td>\n",
       "    </tr>\n",
       "    <tr>\n",
       "      <th>2</th>\n",
       "      <td>2</td>\n",
       "      <td>ojzwnvwnxw vx</td>\n",
       "      <td>4860c670bcd48fb96c02a4b0ae3608ae6fdd98176112e9...</td>\n",
       "      <td>2015.0</td>\n",
       "      <td>2000000</td>\n",
       "      <td>Backend Engineer</td>\n",
       "      <td>2020.0</td>\n",
       "    </tr>\n",
       "    <tr>\n",
       "      <th>3</th>\n",
       "      <td>3</td>\n",
       "      <td>ngpgutaxv</td>\n",
       "      <td>effdede7a2e7c2af664c8a31d9346385016128d66bbc58...</td>\n",
       "      <td>2017.0</td>\n",
       "      <td>700000</td>\n",
       "      <td>Backend Engineer</td>\n",
       "      <td>2019.0</td>\n",
       "    </tr>\n",
       "    <tr>\n",
       "      <th>4</th>\n",
       "      <td>4</td>\n",
       "      <td>qxen sqghu</td>\n",
       "      <td>6ff54e709262f55cb999a1c1db8436cb2055d8f79ab520...</td>\n",
       "      <td>2017.0</td>\n",
       "      <td>1400000</td>\n",
       "      <td>FullStack Engineer</td>\n",
       "      <td>2019.0</td>\n",
       "    </tr>\n",
       "  </tbody>\n",
       "</table>\n",
       "</div>"
      ],
      "text/plain": [
       "   Unnamed: 0               company_hash  \\\n",
       "0           0             atrgxnnt xzaxv   \n",
       "1           1  qtrxvzwt xzegwgbb rxbxnta   \n",
       "2           2              ojzwnvwnxw vx   \n",
       "3           3                  ngpgutaxv   \n",
       "4           4                 qxen sqghu   \n",
       "\n",
       "                                          email_hash  orgyear      ctc  \\\n",
       "0  6de0a4417d18ab14334c3f43397fc13b30c35149d70c05...   2016.0  1100000   \n",
       "1  b0aaf1ac138b53cb6e039ba2c3d6604a250d02d5145c10...   2018.0   449999   \n",
       "2  4860c670bcd48fb96c02a4b0ae3608ae6fdd98176112e9...   2015.0  2000000   \n",
       "3  effdede7a2e7c2af664c8a31d9346385016128d66bbc58...   2017.0   700000   \n",
       "4  6ff54e709262f55cb999a1c1db8436cb2055d8f79ab520...   2017.0  1400000   \n",
       "\n",
       "         job_position  ctc_updated_year  \n",
       "0               Other            2020.0  \n",
       "1  FullStack Engineer            2019.0  \n",
       "2    Backend Engineer            2020.0  \n",
       "3    Backend Engineer            2019.0  \n",
       "4  FullStack Engineer            2019.0  "
      ]
     },
     "execution_count": 1414,
     "metadata": {},
     "output_type": "execute_result"
    }
   ],
   "source": [
    "df.head()"
   ]
  },
  {
   "cell_type": "markdown",
   "id": "9f40b64b",
   "metadata": {},
   "source": [
    "#### Dropping Unnamed Column "
   ]
  },
  {
   "cell_type": "code",
   "execution_count": 1415,
   "id": "f8b37fdd",
   "metadata": {},
   "outputs": [],
   "source": [
    "df.drop(['Unnamed: 0'], axis=1,inplace=True)"
   ]
  },
  {
   "cell_type": "markdown",
   "id": "d4a79901",
   "metadata": {},
   "source": [
    "#### Convert 'orgyear' and 'ctc_updated_year'  to integer"
   ]
  },
  {
   "cell_type": "code",
   "execution_count": 1416,
   "id": "1ae3916d",
   "metadata": {},
   "outputs": [],
   "source": [
    "#df['orgyear'] = df['orgyear'].astype(np.int64)\n",
    "#df['ctc_updated_year'] = df['ctc_updated_year'].astype(np.int64)"
   ]
  },
  {
   "cell_type": "markdown",
   "id": "74670554",
   "metadata": {},
   "source": [
    "#### Missing value detection"
   ]
  },
  {
   "cell_type": "code",
   "execution_count": 1417,
   "id": "77725f1b",
   "metadata": {},
   "outputs": [
    {
     "data": {
      "text/html": [
       "<div>\n",
       "<style scoped>\n",
       "    .dataframe tbody tr th:only-of-type {\n",
       "        vertical-align: middle;\n",
       "    }\n",
       "\n",
       "    .dataframe tbody tr th {\n",
       "        vertical-align: top;\n",
       "    }\n",
       "\n",
       "    .dataframe thead th {\n",
       "        text-align: right;\n",
       "    }\n",
       "</style>\n",
       "<table border=\"1\" class=\"dataframe\">\n",
       "  <thead>\n",
       "    <tr style=\"text-align: right;\">\n",
       "      <th></th>\n",
       "      <th>column_name</th>\n",
       "      <th>percent_missing</th>\n",
       "    </tr>\n",
       "  </thead>\n",
       "  <tbody>\n",
       "    <tr>\n",
       "      <th>job_position</th>\n",
       "      <td>job_position</td>\n",
       "      <td>25.534995</td>\n",
       "    </tr>\n",
       "    <tr>\n",
       "      <th>orgyear</th>\n",
       "      <td>orgyear</td>\n",
       "      <td>0.041779</td>\n",
       "    </tr>\n",
       "    <tr>\n",
       "      <th>company_hash</th>\n",
       "      <td>company_hash</td>\n",
       "      <td>0.021376</td>\n",
       "    </tr>\n",
       "    <tr>\n",
       "      <th>email_hash</th>\n",
       "      <td>email_hash</td>\n",
       "      <td>0.000000</td>\n",
       "    </tr>\n",
       "    <tr>\n",
       "      <th>ctc</th>\n",
       "      <td>ctc</td>\n",
       "      <td>0.000000</td>\n",
       "    </tr>\n",
       "    <tr>\n",
       "      <th>ctc_updated_year</th>\n",
       "      <td>ctc_updated_year</td>\n",
       "      <td>0.000000</td>\n",
       "    </tr>\n",
       "  </tbody>\n",
       "</table>\n",
       "</div>"
      ],
      "text/plain": [
       "                       column_name  percent_missing\n",
       "job_position          job_position        25.534995\n",
       "orgyear                    orgyear         0.041779\n",
       "company_hash          company_hash         0.021376\n",
       "email_hash              email_hash         0.000000\n",
       "ctc                            ctc         0.000000\n",
       "ctc_updated_year  ctc_updated_year         0.000000"
      ]
     },
     "execution_count": 1417,
     "metadata": {},
     "output_type": "execute_result"
    }
   ],
   "source": [
    "percent_missing = df.isnull().sum() * 100 / len(df)\n",
    "missing_value_df = pd.DataFrame({'column_name': df.columns,\n",
    "                                 'percent_missing': percent_missing})\n",
    "missing_value_df.sort_values('percent_missing', ascending=False)"
   ]
  },
  {
   "cell_type": "markdown",
   "id": "53afc136",
   "metadata": {},
   "source": [
    "#### Statistical summary"
   ]
  },
  {
   "cell_type": "code",
   "execution_count": 1418,
   "id": "86957bae",
   "metadata": {},
   "outputs": [
    {
     "data": {
      "text/html": [
       "<div>\n",
       "<style scoped>\n",
       "    .dataframe tbody tr th:only-of-type {\n",
       "        vertical-align: middle;\n",
       "    }\n",
       "\n",
       "    .dataframe tbody tr th {\n",
       "        vertical-align: top;\n",
       "    }\n",
       "\n",
       "    .dataframe thead th {\n",
       "        text-align: right;\n",
       "    }\n",
       "</style>\n",
       "<table border=\"1\" class=\"dataframe\">\n",
       "  <thead>\n",
       "    <tr style=\"text-align: right;\">\n",
       "      <th></th>\n",
       "      <th>orgyear</th>\n",
       "      <th>ctc</th>\n",
       "      <th>ctc_updated_year</th>\n",
       "    </tr>\n",
       "  </thead>\n",
       "  <tbody>\n",
       "    <tr>\n",
       "      <th>count</th>\n",
       "      <td>205757.000000</td>\n",
       "      <td>2.058430e+05</td>\n",
       "      <td>205843.000000</td>\n",
       "    </tr>\n",
       "    <tr>\n",
       "      <th>mean</th>\n",
       "      <td>2014.882750</td>\n",
       "      <td>2.271685e+06</td>\n",
       "      <td>2019.628231</td>\n",
       "    </tr>\n",
       "    <tr>\n",
       "      <th>std</th>\n",
       "      <td>63.571115</td>\n",
       "      <td>1.180091e+07</td>\n",
       "      <td>1.325104</td>\n",
       "    </tr>\n",
       "    <tr>\n",
       "      <th>min</th>\n",
       "      <td>0.000000</td>\n",
       "      <td>2.000000e+00</td>\n",
       "      <td>2015.000000</td>\n",
       "    </tr>\n",
       "    <tr>\n",
       "      <th>25%</th>\n",
       "      <td>2013.000000</td>\n",
       "      <td>5.300000e+05</td>\n",
       "      <td>2019.000000</td>\n",
       "    </tr>\n",
       "    <tr>\n",
       "      <th>50%</th>\n",
       "      <td>2016.000000</td>\n",
       "      <td>9.500000e+05</td>\n",
       "      <td>2020.000000</td>\n",
       "    </tr>\n",
       "    <tr>\n",
       "      <th>75%</th>\n",
       "      <td>2018.000000</td>\n",
       "      <td>1.700000e+06</td>\n",
       "      <td>2021.000000</td>\n",
       "    </tr>\n",
       "    <tr>\n",
       "      <th>max</th>\n",
       "      <td>20165.000000</td>\n",
       "      <td>1.000150e+09</td>\n",
       "      <td>2021.000000</td>\n",
       "    </tr>\n",
       "  </tbody>\n",
       "</table>\n",
       "</div>"
      ],
      "text/plain": [
       "             orgyear           ctc  ctc_updated_year\n",
       "count  205757.000000  2.058430e+05     205843.000000\n",
       "mean     2014.882750  2.271685e+06       2019.628231\n",
       "std        63.571115  1.180091e+07          1.325104\n",
       "min         0.000000  2.000000e+00       2015.000000\n",
       "25%      2013.000000  5.300000e+05       2019.000000\n",
       "50%      2016.000000  9.500000e+05       2020.000000\n",
       "75%      2018.000000  1.700000e+06       2021.000000\n",
       "max     20165.000000  1.000150e+09       2021.000000"
      ]
     },
     "execution_count": 1418,
     "metadata": {},
     "output_type": "execute_result"
    }
   ],
   "source": [
    "df.describe()"
   ]
  },
  {
   "cell_type": "code",
   "execution_count": 1419,
   "id": "34d35a09",
   "metadata": {},
   "outputs": [
    {
     "data": {
      "text/html": [
       "<div>\n",
       "<style scoped>\n",
       "    .dataframe tbody tr th:only-of-type {\n",
       "        vertical-align: middle;\n",
       "    }\n",
       "\n",
       "    .dataframe tbody tr th {\n",
       "        vertical-align: top;\n",
       "    }\n",
       "\n",
       "    .dataframe thead th {\n",
       "        text-align: right;\n",
       "    }\n",
       "</style>\n",
       "<table border=\"1\" class=\"dataframe\">\n",
       "  <thead>\n",
       "    <tr style=\"text-align: right;\">\n",
       "      <th></th>\n",
       "      <th>company_hash</th>\n",
       "      <th>email_hash</th>\n",
       "      <th>job_position</th>\n",
       "    </tr>\n",
       "  </thead>\n",
       "  <tbody>\n",
       "    <tr>\n",
       "      <th>count</th>\n",
       "      <td>205799</td>\n",
       "      <td>205843</td>\n",
       "      <td>153281</td>\n",
       "    </tr>\n",
       "    <tr>\n",
       "      <th>unique</th>\n",
       "      <td>37299</td>\n",
       "      <td>153443</td>\n",
       "      <td>1017</td>\n",
       "    </tr>\n",
       "    <tr>\n",
       "      <th>top</th>\n",
       "      <td>nvnv wgzohrnvzwj otqcxwto</td>\n",
       "      <td>bbace3cc586400bbc65765bc6a16b77d8913836cfc98b7...</td>\n",
       "      <td>Backend Engineer</td>\n",
       "    </tr>\n",
       "    <tr>\n",
       "      <th>freq</th>\n",
       "      <td>8337</td>\n",
       "      <td>10</td>\n",
       "      <td>43554</td>\n",
       "    </tr>\n",
       "  </tbody>\n",
       "</table>\n",
       "</div>"
      ],
      "text/plain": [
       "                     company_hash  \\\n",
       "count                      205799   \n",
       "unique                      37299   \n",
       "top     nvnv wgzohrnvzwj otqcxwto   \n",
       "freq                         8337   \n",
       "\n",
       "                                               email_hash      job_position  \n",
       "count                                              205843            153281  \n",
       "unique                                             153443              1017  \n",
       "top     bbace3cc586400bbc65765bc6a16b77d8913836cfc98b7...  Backend Engineer  \n",
       "freq                                                   10             43554  "
      ]
     },
     "execution_count": 1419,
     "metadata": {},
     "output_type": "execute_result"
    }
   ],
   "source": [
    "df.describe(include=object)"
   ]
  },
  {
   "cell_type": "markdown",
   "id": "f1845df7",
   "metadata": {},
   "source": [
    "### Exploratory Data Analysis"
   ]
  },
  {
   "cell_type": "markdown",
   "id": "bcd7130a",
   "metadata": {},
   "source": [
    "#### Univariate Analysis"
   ]
  },
  {
   "cell_type": "code",
   "execution_count": 1420,
   "id": "1d14ba9f",
   "metadata": {},
   "outputs": [
    {
     "data": {
      "text/plain": [
       "Backend Engineer                  43554\n",
       "FullStack Engineer                24717\n",
       "Other                             18071\n",
       "Frontend Engineer                 10417\n",
       "Engineering Leadership             6870\n",
       "                                  ...  \n",
       "ayS                                   1\n",
       "Principal Product Engineer            1\n",
       "Senior Director of Engineering        1\n",
       "Seller Support Associate              1\n",
       "Android Application developer         1\n",
       "Name: job_position, Length: 1017, dtype: int64"
      ]
     },
     "execution_count": 1420,
     "metadata": {},
     "output_type": "execute_result"
    }
   ],
   "source": [
    "df[\"job_position\"].value_counts()"
   ]
  },
  {
   "cell_type": "code",
   "execution_count": 1421,
   "id": "a732a748",
   "metadata": {},
   "outputs": [
    {
     "data": {
      "text/plain": [
       "nvnv wgzohrnvzwj otqcxwto         8337\n",
       "xzegojo                           5381\n",
       "vbvkgz                            3481\n",
       "zgn vuurxwvmrt vwwghzn            3411\n",
       "wgszxkvzn                         3240\n",
       "                                  ... \n",
       "onvqmhwpo                            1\n",
       "bvsxw ogenfvqt uqxcvnt rxbxnta       1\n",
       "agsbv ojontbo                        1\n",
       "vnnhzt xzegwgb                       1\n",
       "bvptbjnqxu td vbvkgz                 1\n",
       "Name: company_hash, Length: 37299, dtype: int64"
      ]
     },
     "execution_count": 1421,
     "metadata": {},
     "output_type": "execute_result"
    }
   ],
   "source": [
    "df[\"company_hash\"].value_counts()"
   ]
  },
  {
   "cell_type": "code",
   "execution_count": 1422,
   "id": "dbb9655b",
   "metadata": {},
   "outputs": [
    {
     "data": {
      "text/plain": [
       "2018.0    25256\n",
       "2019.0    23427\n",
       "2017.0    23239\n",
       "2016.0    23043\n",
       "2015.0    20610\n",
       "          ...  \n",
       "2107.0        1\n",
       "1972.0        1\n",
       "2101.0        1\n",
       "208.0         1\n",
       "200.0         1\n",
       "Name: orgyear, Length: 77, dtype: int64"
      ]
     },
     "execution_count": 1422,
     "metadata": {},
     "output_type": "execute_result"
    }
   ],
   "source": [
    "df[\"orgyear\"].value_counts()"
   ]
  },
  {
   "cell_type": "code",
   "execution_count": 1423,
   "id": "77b4ddf0",
   "metadata": {},
   "outputs": [
    {
     "data": {
      "text/plain": [
       "2019.0    68688\n",
       "2021.0    64976\n",
       "2020.0    49444\n",
       "2017.0     7561\n",
       "2018.0     6746\n",
       "2016.0     5501\n",
       "2015.0     2927\n",
       "Name: ctc_updated_year, dtype: int64"
      ]
     },
     "execution_count": 1423,
     "metadata": {},
     "output_type": "execute_result"
    }
   ],
   "source": [
    "df[\"ctc_updated_year\"].value_counts()"
   ]
  },
  {
   "cell_type": "markdown",
   "id": "04dce2eb",
   "metadata": {},
   "source": [
    "### Filtering features by data type"
   ]
  },
  {
   "cell_type": "markdown",
   "id": "f35b0711",
   "metadata": {},
   "source": [
    "#### Numerical features"
   ]
  },
  {
   "cell_type": "code",
   "execution_count": 1424,
   "id": "80024199",
   "metadata": {},
   "outputs": [
    {
     "data": {
      "text/plain": [
       "Index(['orgyear', 'ctc', 'ctc_updated_year'], dtype='object')"
      ]
     },
     "execution_count": 1424,
     "metadata": {},
     "output_type": "execute_result"
    }
   ],
   "source": [
    "continious_features = df.select_dtypes(include=['int64','float64']).columns\n",
    "continious_features"
   ]
  },
  {
   "cell_type": "markdown",
   "id": "8a2f1db3",
   "metadata": {},
   "source": [
    "#### Categorical features"
   ]
  },
  {
   "cell_type": "code",
   "execution_count": 1425,
   "id": "14afb5f3",
   "metadata": {},
   "outputs": [
    {
     "data": {
      "text/plain": [
       "Index(['company_hash', 'email_hash', 'job_position'], dtype='object')"
      ]
     },
     "execution_count": 1425,
     "metadata": {},
     "output_type": "execute_result"
    }
   ],
   "source": [
    "categorical_features = df.select_dtypes(include=['object']).columns\n",
    "categorical_features"
   ]
  },
  {
   "cell_type": "markdown",
   "id": "6e7230c6",
   "metadata": {},
   "source": [
    "### Outlier Treatment"
   ]
  },
  {
   "cell_type": "code",
   "execution_count": 1426,
   "id": "1fd6015a",
   "metadata": {},
   "outputs": [
    {
     "data": {
      "text/html": [
       "<div>\n",
       "<style scoped>\n",
       "    .dataframe tbody tr th:only-of-type {\n",
       "        vertical-align: middle;\n",
       "    }\n",
       "\n",
       "    .dataframe tbody tr th {\n",
       "        vertical-align: top;\n",
       "    }\n",
       "\n",
       "    .dataframe thead th {\n",
       "        text-align: right;\n",
       "    }\n",
       "</style>\n",
       "<table border=\"1\" class=\"dataframe\">\n",
       "  <thead>\n",
       "    <tr style=\"text-align: right;\">\n",
       "      <th></th>\n",
       "      <th>orgyear</th>\n",
       "      <th>ctc</th>\n",
       "      <th>ctc_updated_year</th>\n",
       "    </tr>\n",
       "  </thead>\n",
       "  <tbody>\n",
       "    <tr>\n",
       "      <th>0</th>\n",
       "      <td>2016.0</td>\n",
       "      <td>1100000</td>\n",
       "      <td>2020.0</td>\n",
       "    </tr>\n",
       "    <tr>\n",
       "      <th>1</th>\n",
       "      <td>2018.0</td>\n",
       "      <td>449999</td>\n",
       "      <td>2019.0</td>\n",
       "    </tr>\n",
       "    <tr>\n",
       "      <th>2</th>\n",
       "      <td>2015.0</td>\n",
       "      <td>2000000</td>\n",
       "      <td>2020.0</td>\n",
       "    </tr>\n",
       "    <tr>\n",
       "      <th>3</th>\n",
       "      <td>2017.0</td>\n",
       "      <td>700000</td>\n",
       "      <td>2019.0</td>\n",
       "    </tr>\n",
       "    <tr>\n",
       "      <th>4</th>\n",
       "      <td>2017.0</td>\n",
       "      <td>1400000</td>\n",
       "      <td>2019.0</td>\n",
       "    </tr>\n",
       "  </tbody>\n",
       "</table>\n",
       "</div>"
      ],
      "text/plain": [
       "   orgyear      ctc  ctc_updated_year\n",
       "0   2016.0  1100000            2020.0\n",
       "1   2018.0   449999            2019.0\n",
       "2   2015.0  2000000            2020.0\n",
       "3   2017.0   700000            2019.0\n",
       "4   2017.0  1400000            2019.0"
      ]
     },
     "execution_count": 1426,
     "metadata": {},
     "output_type": "execute_result"
    }
   ],
   "source": [
    "df_numeric = df[continious_features]\n",
    "df_numeric.head()"
   ]
  },
  {
   "cell_type": "code",
   "execution_count": 1427,
   "id": "0e055b9a",
   "metadata": {},
   "outputs": [],
   "source": [
    "def find_outliers_IQR(column_name):\n",
    "    print(\"Outliers by feature name --> \",column_name)\n",
    "    Q1=df[column_name].quantile(0.25)\n",
    "    Q3=df[column_name].quantile(0.75)\n",
    "\n",
    "    IQR=Q3-Q1\n",
    "    lower = Q1 - 1.5*IQR\n",
    "    upper = Q3 + 1.5*IQR\n",
    "\n",
    "    outliers = df[((df[column_name]<lower) & (df[column_name]>upper))]\n",
    "\n",
    "    return outliers"
   ]
  },
  {
   "cell_type": "code",
   "execution_count": 1428,
   "id": "ba842c0f",
   "metadata": {},
   "outputs": [
    {
     "name": "stdout",
     "output_type": "stream",
     "text": [
      "Outliers by feature name -->  orgyear\n"
     ]
    }
   ],
   "source": [
    "outlier_df_by_orgyear = find_outliers_IQR(\"orgyear\")\n",
    "df.drop(outlier_df_by_orgyear.index,inplace = True)"
   ]
  },
  {
   "cell_type": "code",
   "execution_count": 1429,
   "id": "53aded36",
   "metadata": {},
   "outputs": [
    {
     "name": "stdout",
     "output_type": "stream",
     "text": [
      "Outliers by feature name -->  orgyear\n"
     ]
    },
    {
     "data": {
      "text/html": [
       "<div>\n",
       "<style scoped>\n",
       "    .dataframe tbody tr th:only-of-type {\n",
       "        vertical-align: middle;\n",
       "    }\n",
       "\n",
       "    .dataframe tbody tr th {\n",
       "        vertical-align: top;\n",
       "    }\n",
       "\n",
       "    .dataframe thead th {\n",
       "        text-align: right;\n",
       "    }\n",
       "</style>\n",
       "<table border=\"1\" class=\"dataframe\">\n",
       "  <thead>\n",
       "    <tr style=\"text-align: right;\">\n",
       "      <th></th>\n",
       "      <th>company_hash</th>\n",
       "      <th>email_hash</th>\n",
       "      <th>orgyear</th>\n",
       "      <th>ctc</th>\n",
       "      <th>job_position</th>\n",
       "      <th>ctc_updated_year</th>\n",
       "    </tr>\n",
       "  </thead>\n",
       "  <tbody>\n",
       "  </tbody>\n",
       "</table>\n",
       "</div>"
      ],
      "text/plain": [
       "Empty DataFrame\n",
       "Columns: [company_hash, email_hash, orgyear, ctc, job_position, ctc_updated_year]\n",
       "Index: []"
      ]
     },
     "execution_count": 1429,
     "metadata": {},
     "output_type": "execute_result"
    }
   ],
   "source": [
    "outlier_df_by_orgyear = find_outliers_IQR(\"orgyear\")\n",
    "outlier_df_by_orgyear"
   ]
  },
  {
   "cell_type": "code",
   "execution_count": 1430,
   "id": "d4b03e4e",
   "metadata": {},
   "outputs": [
    {
     "name": "stdout",
     "output_type": "stream",
     "text": [
      "Outliers by feature name -->  ctc\n"
     ]
    },
    {
     "data": {
      "text/html": [
       "<div>\n",
       "<style scoped>\n",
       "    .dataframe tbody tr th:only-of-type {\n",
       "        vertical-align: middle;\n",
       "    }\n",
       "\n",
       "    .dataframe tbody tr th {\n",
       "        vertical-align: top;\n",
       "    }\n",
       "\n",
       "    .dataframe thead th {\n",
       "        text-align: right;\n",
       "    }\n",
       "</style>\n",
       "<table border=\"1\" class=\"dataframe\">\n",
       "  <thead>\n",
       "    <tr style=\"text-align: right;\">\n",
       "      <th></th>\n",
       "      <th>company_hash</th>\n",
       "      <th>email_hash</th>\n",
       "      <th>orgyear</th>\n",
       "      <th>ctc</th>\n",
       "      <th>job_position</th>\n",
       "      <th>ctc_updated_year</th>\n",
       "    </tr>\n",
       "  </thead>\n",
       "  <tbody>\n",
       "  </tbody>\n",
       "</table>\n",
       "</div>"
      ],
      "text/plain": [
       "Empty DataFrame\n",
       "Columns: [company_hash, email_hash, orgyear, ctc, job_position, ctc_updated_year]\n",
       "Index: []"
      ]
     },
     "execution_count": 1430,
     "metadata": {},
     "output_type": "execute_result"
    }
   ],
   "source": [
    "outlier_df_by_ctc = find_outliers_IQR(\"ctc\")\n",
    "outlier_df_by_ctc"
   ]
  },
  {
   "cell_type": "code",
   "execution_count": 1431,
   "id": "d80a1ab9",
   "metadata": {},
   "outputs": [],
   "source": [
    "df.drop(outlier_df_by_ctc.index,inplace = True)"
   ]
  },
  {
   "cell_type": "code",
   "execution_count": 1432,
   "id": "fc580a33",
   "metadata": {},
   "outputs": [
    {
     "name": "stdout",
     "output_type": "stream",
     "text": [
      "Outliers by feature name -->  ctc\n"
     ]
    },
    {
     "data": {
      "text/html": [
       "<div>\n",
       "<style scoped>\n",
       "    .dataframe tbody tr th:only-of-type {\n",
       "        vertical-align: middle;\n",
       "    }\n",
       "\n",
       "    .dataframe tbody tr th {\n",
       "        vertical-align: top;\n",
       "    }\n",
       "\n",
       "    .dataframe thead th {\n",
       "        text-align: right;\n",
       "    }\n",
       "</style>\n",
       "<table border=\"1\" class=\"dataframe\">\n",
       "  <thead>\n",
       "    <tr style=\"text-align: right;\">\n",
       "      <th></th>\n",
       "      <th>company_hash</th>\n",
       "      <th>email_hash</th>\n",
       "      <th>orgyear</th>\n",
       "      <th>ctc</th>\n",
       "      <th>job_position</th>\n",
       "      <th>ctc_updated_year</th>\n",
       "    </tr>\n",
       "  </thead>\n",
       "  <tbody>\n",
       "  </tbody>\n",
       "</table>\n",
       "</div>"
      ],
      "text/plain": [
       "Empty DataFrame\n",
       "Columns: [company_hash, email_hash, orgyear, ctc, job_position, ctc_updated_year]\n",
       "Index: []"
      ]
     },
     "execution_count": 1432,
     "metadata": {},
     "output_type": "execute_result"
    }
   ],
   "source": [
    "outlier_df_by_ctc = find_outliers_IQR(\"ctc\")\n",
    "outlier_df_by_ctc"
   ]
  },
  {
   "cell_type": "code",
   "execution_count": 1433,
   "id": "2e2525b9",
   "metadata": {},
   "outputs": [
    {
     "name": "stdout",
     "output_type": "stream",
     "text": [
      "Outliers by feature name -->  ctc_updated_year\n"
     ]
    },
    {
     "data": {
      "text/html": [
       "<div>\n",
       "<style scoped>\n",
       "    .dataframe tbody tr th:only-of-type {\n",
       "        vertical-align: middle;\n",
       "    }\n",
       "\n",
       "    .dataframe tbody tr th {\n",
       "        vertical-align: top;\n",
       "    }\n",
       "\n",
       "    .dataframe thead th {\n",
       "        text-align: right;\n",
       "    }\n",
       "</style>\n",
       "<table border=\"1\" class=\"dataframe\">\n",
       "  <thead>\n",
       "    <tr style=\"text-align: right;\">\n",
       "      <th></th>\n",
       "      <th>company_hash</th>\n",
       "      <th>email_hash</th>\n",
       "      <th>orgyear</th>\n",
       "      <th>ctc</th>\n",
       "      <th>job_position</th>\n",
       "      <th>ctc_updated_year</th>\n",
       "    </tr>\n",
       "  </thead>\n",
       "  <tbody>\n",
       "  </tbody>\n",
       "</table>\n",
       "</div>"
      ],
      "text/plain": [
       "Empty DataFrame\n",
       "Columns: [company_hash, email_hash, orgyear, ctc, job_position, ctc_updated_year]\n",
       "Index: []"
      ]
     },
     "execution_count": 1433,
     "metadata": {},
     "output_type": "execute_result"
    }
   ],
   "source": [
    "outlier_df_by_ctc_updated_year = find_outliers_IQR(\"ctc_updated_year\")\n",
    "outlier_df_by_ctc_updated_year"
   ]
  },
  {
   "cell_type": "markdown",
   "id": "f607b5de",
   "metadata": {},
   "source": [
    "### Data Pre-processing"
   ]
  },
  {
   "cell_type": "code",
   "execution_count": 1434,
   "id": "fb9eb03a",
   "metadata": {},
   "outputs": [
    {
     "data": {
      "text/html": [
       "<div>\n",
       "<style scoped>\n",
       "    .dataframe tbody tr th:only-of-type {\n",
       "        vertical-align: middle;\n",
       "    }\n",
       "\n",
       "    .dataframe tbody tr th {\n",
       "        vertical-align: top;\n",
       "    }\n",
       "\n",
       "    .dataframe thead th {\n",
       "        text-align: right;\n",
       "    }\n",
       "</style>\n",
       "<table border=\"1\" class=\"dataframe\">\n",
       "  <thead>\n",
       "    <tr style=\"text-align: right;\">\n",
       "      <th></th>\n",
       "      <th>column_name</th>\n",
       "      <th>percent_missing</th>\n",
       "    </tr>\n",
       "  </thead>\n",
       "  <tbody>\n",
       "    <tr>\n",
       "      <th>job_position</th>\n",
       "      <td>job_position</td>\n",
       "      <td>25.534995</td>\n",
       "    </tr>\n",
       "    <tr>\n",
       "      <th>orgyear</th>\n",
       "      <td>orgyear</td>\n",
       "      <td>0.041779</td>\n",
       "    </tr>\n",
       "    <tr>\n",
       "      <th>company_hash</th>\n",
       "      <td>company_hash</td>\n",
       "      <td>0.021376</td>\n",
       "    </tr>\n",
       "    <tr>\n",
       "      <th>email_hash</th>\n",
       "      <td>email_hash</td>\n",
       "      <td>0.000000</td>\n",
       "    </tr>\n",
       "    <tr>\n",
       "      <th>ctc</th>\n",
       "      <td>ctc</td>\n",
       "      <td>0.000000</td>\n",
       "    </tr>\n",
       "    <tr>\n",
       "      <th>ctc_updated_year</th>\n",
       "      <td>ctc_updated_year</td>\n",
       "      <td>0.000000</td>\n",
       "    </tr>\n",
       "  </tbody>\n",
       "</table>\n",
       "</div>"
      ],
      "text/plain": [
       "                       column_name  percent_missing\n",
       "job_position          job_position        25.534995\n",
       "orgyear                    orgyear         0.041779\n",
       "company_hash          company_hash         0.021376\n",
       "email_hash              email_hash         0.000000\n",
       "ctc                            ctc         0.000000\n",
       "ctc_updated_year  ctc_updated_year         0.000000"
      ]
     },
     "execution_count": 1434,
     "metadata": {},
     "output_type": "execute_result"
    }
   ],
   "source": [
    "percent_missing = df.isnull().sum() * 100 / len(df)\n",
    "missing_value_df = pd.DataFrame({'column_name': df.columns,\n",
    "                                 'percent_missing': percent_missing})\n",
    "missing_value_df.sort_values('percent_missing', ascending=False)"
   ]
  },
  {
   "cell_type": "code",
   "execution_count": 1435,
   "id": "601a9e91",
   "metadata": {},
   "outputs": [],
   "source": [
    "df['job_position'].replace(np.nan, \"UNKNOWN\",inplace=True)\n",
    "df['company_hash'].replace(np.nan, \"UNKNOWN\",inplace=True)"
   ]
  },
  {
   "cell_type": "markdown",
   "id": "5aca8253",
   "metadata": {},
   "source": [
    "#### KNN Imputation of  feature 'orgyear' (Numerical feature)"
   ]
  },
  {
   "cell_type": "code",
   "execution_count": 1436,
   "id": "662a3289",
   "metadata": {},
   "outputs": [],
   "source": [
    "#### Numerical missing value treatment - KNN Imputer\n",
    "from sklearn.impute import KNNImputer\n",
    "imputer = KNNImputer(missing_values = np.nan, n_neighbors=7)\n",
    "df[\"orgyear\"] = pd.DataFrame(imputer.fit_transform(df[[\"orgyear\"]]))"
   ]
  },
  {
   "cell_type": "code",
   "execution_count": 1437,
   "id": "be6516d1",
   "metadata": {},
   "outputs": [
    {
     "data": {
      "text/html": [
       "<div>\n",
       "<style scoped>\n",
       "    .dataframe tbody tr th:only-of-type {\n",
       "        vertical-align: middle;\n",
       "    }\n",
       "\n",
       "    .dataframe tbody tr th {\n",
       "        vertical-align: top;\n",
       "    }\n",
       "\n",
       "    .dataframe thead th {\n",
       "        text-align: right;\n",
       "    }\n",
       "</style>\n",
       "<table border=\"1\" class=\"dataframe\">\n",
       "  <thead>\n",
       "    <tr style=\"text-align: right;\">\n",
       "      <th></th>\n",
       "      <th>column_name</th>\n",
       "      <th>percent_missing</th>\n",
       "    </tr>\n",
       "  </thead>\n",
       "  <tbody>\n",
       "    <tr>\n",
       "      <th>company_hash</th>\n",
       "      <td>company_hash</td>\n",
       "      <td>0.0</td>\n",
       "    </tr>\n",
       "    <tr>\n",
       "      <th>email_hash</th>\n",
       "      <td>email_hash</td>\n",
       "      <td>0.0</td>\n",
       "    </tr>\n",
       "    <tr>\n",
       "      <th>orgyear</th>\n",
       "      <td>orgyear</td>\n",
       "      <td>0.0</td>\n",
       "    </tr>\n",
       "    <tr>\n",
       "      <th>ctc</th>\n",
       "      <td>ctc</td>\n",
       "      <td>0.0</td>\n",
       "    </tr>\n",
       "    <tr>\n",
       "      <th>job_position</th>\n",
       "      <td>job_position</td>\n",
       "      <td>0.0</td>\n",
       "    </tr>\n",
       "    <tr>\n",
       "      <th>ctc_updated_year</th>\n",
       "      <td>ctc_updated_year</td>\n",
       "      <td>0.0</td>\n",
       "    </tr>\n",
       "  </tbody>\n",
       "</table>\n",
       "</div>"
      ],
      "text/plain": [
       "                       column_name  percent_missing\n",
       "company_hash          company_hash              0.0\n",
       "email_hash              email_hash              0.0\n",
       "orgyear                    orgyear              0.0\n",
       "ctc                            ctc              0.0\n",
       "job_position          job_position              0.0\n",
       "ctc_updated_year  ctc_updated_year              0.0"
      ]
     },
     "execution_count": 1437,
     "metadata": {},
     "output_type": "execute_result"
    }
   ],
   "source": [
    "percent_missing = df.isnull().sum() * 100 / len(df)\n",
    "missing_value_df = pd.DataFrame({'column_name': df.columns,\n",
    "                                 'percent_missing': percent_missing})\n",
    "missing_value_df.sort_values('percent_missing', ascending=False)"
   ]
  },
  {
   "cell_type": "markdown",
   "id": "f3dc3f23",
   "metadata": {},
   "source": [
    "#### Setting missing categorical feature values to level \"UNKNOWN\""
   ]
  },
  {
   "cell_type": "code",
   "execution_count": 1438,
   "id": "bb4d0f8c",
   "metadata": {},
   "outputs": [],
   "source": [
    "df['company_hash'].replace(np.nan, \"UNKNOWN\",inplace=True)\n",
    "df['job_position'].replace(np.nan, \"UNKNOWN\",inplace=True)"
   ]
  },
  {
   "cell_type": "code",
   "execution_count": 1439,
   "id": "4cd2cde9",
   "metadata": {},
   "outputs": [
    {
     "data": {
      "text/html": [
       "<div>\n",
       "<style scoped>\n",
       "    .dataframe tbody tr th:only-of-type {\n",
       "        vertical-align: middle;\n",
       "    }\n",
       "\n",
       "    .dataframe tbody tr th {\n",
       "        vertical-align: top;\n",
       "    }\n",
       "\n",
       "    .dataframe thead th {\n",
       "        text-align: right;\n",
       "    }\n",
       "</style>\n",
       "<table border=\"1\" class=\"dataframe\">\n",
       "  <thead>\n",
       "    <tr style=\"text-align: right;\">\n",
       "      <th></th>\n",
       "      <th>column_name</th>\n",
       "      <th>percent_missing</th>\n",
       "    </tr>\n",
       "  </thead>\n",
       "  <tbody>\n",
       "    <tr>\n",
       "      <th>company_hash</th>\n",
       "      <td>company_hash</td>\n",
       "      <td>0.0</td>\n",
       "    </tr>\n",
       "    <tr>\n",
       "      <th>email_hash</th>\n",
       "      <td>email_hash</td>\n",
       "      <td>0.0</td>\n",
       "    </tr>\n",
       "    <tr>\n",
       "      <th>orgyear</th>\n",
       "      <td>orgyear</td>\n",
       "      <td>0.0</td>\n",
       "    </tr>\n",
       "    <tr>\n",
       "      <th>ctc</th>\n",
       "      <td>ctc</td>\n",
       "      <td>0.0</td>\n",
       "    </tr>\n",
       "    <tr>\n",
       "      <th>job_position</th>\n",
       "      <td>job_position</td>\n",
       "      <td>0.0</td>\n",
       "    </tr>\n",
       "    <tr>\n",
       "      <th>ctc_updated_year</th>\n",
       "      <td>ctc_updated_year</td>\n",
       "      <td>0.0</td>\n",
       "    </tr>\n",
       "  </tbody>\n",
       "</table>\n",
       "</div>"
      ],
      "text/plain": [
       "                       column_name  percent_missing\n",
       "company_hash          company_hash              0.0\n",
       "email_hash              email_hash              0.0\n",
       "orgyear                    orgyear              0.0\n",
       "ctc                            ctc              0.0\n",
       "job_position          job_position              0.0\n",
       "ctc_updated_year  ctc_updated_year              0.0"
      ]
     },
     "execution_count": 1439,
     "metadata": {},
     "output_type": "execute_result"
    }
   ],
   "source": [
    "percent_missing = df.isnull().sum() * 100 / len(df)\n",
    "missing_value_df = pd.DataFrame({'column_name': df.columns,\n",
    "                                 'percent_missing': percent_missing})\n",
    "missing_value_df.sort_values('percent_missing', ascending=False)"
   ]
  },
  {
   "cell_type": "markdown",
   "id": "5f8091ea",
   "metadata": {},
   "source": [
    "#### Regex for cleaning company names"
   ]
  },
  {
   "cell_type": "code",
   "execution_count": 1440,
   "id": "a35eaad8",
   "metadata": {},
   "outputs": [],
   "source": [
    "# Function to Remove special characters from company_hash by using Regex\n",
    "import re\n",
    "def remove_special_characters_company_names(company_name):\n",
    "    # Search for opening bracket in the name followed by\n",
    "    # any characters repeated any number of times\n",
    "    if re.search('[^A-Za-z0-9 ]+', company_name):\n",
    "        # return the cleaned name    \n",
    "        return re.sub('[^A-Za-z0-9 ]+', '', company_name)\n",
    "  \n",
    "    else:\n",
    "        # if clean up needed return the same name\n",
    "        return company_name       "
   ]
  },
  {
   "cell_type": "code",
   "execution_count": 1441,
   "id": "67c25c91",
   "metadata": {},
   "outputs": [],
   "source": [
    "# Updated the company names \n",
    "df['company_hash'] = df['company_hash'].apply(remove_special_characters_company_names)"
   ]
  },
  {
   "cell_type": "code",
   "execution_count": 1442,
   "id": "407b8f6f",
   "metadata": {},
   "outputs": [
    {
     "data": {
      "text/html": [
       "<div>\n",
       "<style scoped>\n",
       "    .dataframe tbody tr th:only-of-type {\n",
       "        vertical-align: middle;\n",
       "    }\n",
       "\n",
       "    .dataframe tbody tr th {\n",
       "        vertical-align: top;\n",
       "    }\n",
       "\n",
       "    .dataframe thead th {\n",
       "        text-align: right;\n",
       "    }\n",
       "</style>\n",
       "<table border=\"1\" class=\"dataframe\">\n",
       "  <thead>\n",
       "    <tr style=\"text-align: right;\">\n",
       "      <th></th>\n",
       "      <th>column_name</th>\n",
       "      <th>percent_missing</th>\n",
       "    </tr>\n",
       "  </thead>\n",
       "  <tbody>\n",
       "    <tr>\n",
       "      <th>company_hash</th>\n",
       "      <td>company_hash</td>\n",
       "      <td>0.0</td>\n",
       "    </tr>\n",
       "    <tr>\n",
       "      <th>email_hash</th>\n",
       "      <td>email_hash</td>\n",
       "      <td>0.0</td>\n",
       "    </tr>\n",
       "    <tr>\n",
       "      <th>orgyear</th>\n",
       "      <td>orgyear</td>\n",
       "      <td>0.0</td>\n",
       "    </tr>\n",
       "    <tr>\n",
       "      <th>ctc</th>\n",
       "      <td>ctc</td>\n",
       "      <td>0.0</td>\n",
       "    </tr>\n",
       "    <tr>\n",
       "      <th>job_position</th>\n",
       "      <td>job_position</td>\n",
       "      <td>0.0</td>\n",
       "    </tr>\n",
       "    <tr>\n",
       "      <th>ctc_updated_year</th>\n",
       "      <td>ctc_updated_year</td>\n",
       "      <td>0.0</td>\n",
       "    </tr>\n",
       "  </tbody>\n",
       "</table>\n",
       "</div>"
      ],
      "text/plain": [
       "                       column_name  percent_missing\n",
       "company_hash          company_hash              0.0\n",
       "email_hash              email_hash              0.0\n",
       "orgyear                    orgyear              0.0\n",
       "ctc                            ctc              0.0\n",
       "job_position          job_position              0.0\n",
       "ctc_updated_year  ctc_updated_year              0.0"
      ]
     },
     "execution_count": 1442,
     "metadata": {},
     "output_type": "execute_result"
    }
   ],
   "source": [
    "percent_missing = df.isnull().sum() * 100 / len(df)\n",
    "missing_value_df = pd.DataFrame({'column_name': df.columns,\n",
    "                                 'percent_missing': percent_missing})\n",
    "missing_value_df.sort_values('percent_missing', ascending=False)"
   ]
  },
  {
   "cell_type": "markdown",
   "id": "289c75e6",
   "metadata": {},
   "source": [
    "#### Processing 'job_position' based on frequency of data points  "
   ]
  },
  {
   "cell_type": "code",
   "execution_count": 1443,
   "id": "81fce8f9",
   "metadata": {},
   "outputs": [
    {
     "data": {
      "text/plain": [
       "1018"
      ]
     },
     "execution_count": 1443,
     "metadata": {},
     "output_type": "execute_result"
    }
   ],
   "source": [
    "# Before processing unique job positions \n",
    "df['job_position'].nunique()"
   ]
  },
  {
   "cell_type": "code",
   "execution_count": 1444,
   "id": "afb884ac",
   "metadata": {},
   "outputs": [],
   "source": [
    "df['job_position'] = df['job_position'].str.lower()\n",
    "job_position_counts = df['job_position'].value_counts()\n",
    "job_position_counts[job_position_counts > 1] # only considering job positions having frequency more than equal 2\n",
    "df = df[df['job_position'].isin(job_position_counts[job_position_counts > 1].index)]"
   ]
  },
  {
   "cell_type": "code",
   "execution_count": 1445,
   "id": "d98d3486",
   "metadata": {},
   "outputs": [
    {
     "data": {
      "text/plain": [
       "242"
      ]
     },
     "execution_count": 1445,
     "metadata": {},
     "output_type": "execute_result"
    }
   ],
   "source": [
    "# After processing unique job positions \n",
    "df['job_position'].nunique()"
   ]
  },
  {
   "cell_type": "markdown",
   "id": "549a4466",
   "metadata": {},
   "source": [
    "#### Processing 'company_hash' based on frequency of data points  "
   ]
  },
  {
   "cell_type": "code",
   "execution_count": 1446,
   "id": "b3fe5ece",
   "metadata": {},
   "outputs": [
    {
     "data": {
      "text/plain": [
       "37220"
      ]
     },
     "execution_count": 1446,
     "metadata": {},
     "output_type": "execute_result"
    }
   ],
   "source": [
    "# Before processing unique company_hash \n",
    "df['company_hash'].nunique()"
   ]
  },
  {
   "cell_type": "code",
   "execution_count": 1447,
   "id": "a677bb32",
   "metadata": {},
   "outputs": [],
   "source": [
    "df['company_hash'] = df['company_hash'].str.lower()\n",
    "company_hash_counts = df['company_hash'].value_counts()\n",
    "company_hash_counts[company_hash_counts > 1] # only considering company_hash having frequency more than equal 2\n",
    "df = df[df['company_hash'].isin(company_hash_counts[company_hash_counts > 1].index)]"
   ]
  },
  {
   "cell_type": "code",
   "execution_count": 1448,
   "id": "ec992d69",
   "metadata": {},
   "outputs": [
    {
     "data": {
      "text/plain": [
       "13763"
      ]
     },
     "execution_count": 1448,
     "metadata": {},
     "output_type": "execute_result"
    }
   ],
   "source": [
    "df['company_hash'].nunique()"
   ]
  },
  {
   "cell_type": "markdown",
   "id": "3573b72f",
   "metadata": {},
   "source": [
    "#### Removing Email as it can be condidered to be indentity feature "
   ]
  },
  {
   "cell_type": "code",
   "execution_count": 1449,
   "id": "6c7b4bad",
   "metadata": {},
   "outputs": [],
   "source": [
    "#df.drop(columns=[\"company_hash\",\"email_hash\"],inplace=True)\n",
    "df.drop(columns=[\"email_hash\"],inplace=True)"
   ]
  },
  {
   "cell_type": "markdown",
   "id": "de714f73",
   "metadata": {},
   "source": [
    "#### Checking for duplicates in the dataset and drop them"
   ]
  },
  {
   "cell_type": "code",
   "execution_count": 1450,
   "id": "46cd217d",
   "metadata": {},
   "outputs": [
    {
     "data": {
      "text/plain": [
       "(17580, 5)"
      ]
     },
     "execution_count": 1450,
     "metadata": {},
     "output_type": "execute_result"
    }
   ],
   "source": [
    "duplicate = df[df.duplicated()]\n",
    "duplicate.shape"
   ]
  },
  {
   "cell_type": "code",
   "execution_count": 1451,
   "id": "2bbd3e29",
   "metadata": {},
   "outputs": [],
   "source": [
    "df.drop_duplicates(keep=False, inplace=True)"
   ]
  },
  {
   "cell_type": "code",
   "execution_count": 1452,
   "id": "9b7b191a",
   "metadata": {},
   "outputs": [
    {
     "data": {
      "text/html": [
       "<div>\n",
       "<style scoped>\n",
       "    .dataframe tbody tr th:only-of-type {\n",
       "        vertical-align: middle;\n",
       "    }\n",
       "\n",
       "    .dataframe tbody tr th {\n",
       "        vertical-align: top;\n",
       "    }\n",
       "\n",
       "    .dataframe thead th {\n",
       "        text-align: right;\n",
       "    }\n",
       "</style>\n",
       "<table border=\"1\" class=\"dataframe\">\n",
       "  <thead>\n",
       "    <tr style=\"text-align: right;\">\n",
       "      <th></th>\n",
       "      <th>company_hash</th>\n",
       "      <th>orgyear</th>\n",
       "      <th>ctc</th>\n",
       "      <th>job_position</th>\n",
       "      <th>ctc_updated_year</th>\n",
       "    </tr>\n",
       "  </thead>\n",
       "  <tbody>\n",
       "  </tbody>\n",
       "</table>\n",
       "</div>"
      ],
      "text/plain": [
       "Empty DataFrame\n",
       "Columns: [company_hash, orgyear, ctc, job_position, ctc_updated_year]\n",
       "Index: []"
      ]
     },
     "execution_count": 1452,
     "metadata": {},
     "output_type": "execute_result"
    }
   ],
   "source": [
    "duplicate = df[df.duplicated()]\n",
    "duplicate"
   ]
  },
  {
   "cell_type": "markdown",
   "id": "598811c8",
   "metadata": {},
   "source": [
    "#### Creating feature ‘Years of Experience’ column by subtracting 'orgyear' from 'current year'"
   ]
  },
  {
   "cell_type": "code",
   "execution_count": 1453,
   "id": "aa2425d6",
   "metadata": {},
   "outputs": [],
   "source": [
    "import datetime\n",
    "current_year = datetime.datetime.now().year #get current year\n",
    "df[\"years_of_experience\"] = current_year - df['orgyear']  # substract to get the year delta"
   ]
  },
  {
   "cell_type": "markdown",
   "id": "ffa28812",
   "metadata": {},
   "source": [
    "#### Encoding"
   ]
  },
  {
   "cell_type": "code",
   "execution_count": 1454,
   "id": "d7e544fa",
   "metadata": {},
   "outputs": [
    {
     "data": {
      "text/plain": [
       "Index(['company_hash', 'job_position'], dtype='object')"
      ]
     },
     "execution_count": 1454,
     "metadata": {},
     "output_type": "execute_result"
    }
   ],
   "source": [
    "categorical_features = df.select_dtypes(include=['object']).columns\n",
    "categorical_features"
   ]
  },
  {
   "cell_type": "markdown",
   "id": "ee3c623d",
   "metadata": {},
   "source": [
    "**Lebel encoding is not the best option here** howver there is no other best optins availble as there are \n",
    "Mutiple sub lebels available hence OneHot encoding won't be appropriate as it will introduce more dimentions and sparcity \n",
    "which won't be good for clustering algoritms \n",
    "Hence sticking to Label Encoding(although it will introduce ordinality in the data)\n",
    "**Restricting Label Encoding to only job_position** as we need numerical data for clustering "
   ]
  },
  {
   "cell_type": "code",
   "execution_count": 1455,
   "id": "5d3f5c2b",
   "metadata": {},
   "outputs": [
    {
     "data": {
      "text/plain": [
       "0         103\n",
       "1          68\n",
       "3          33\n",
       "4          68\n",
       "5          68\n",
       "         ... \n",
       "205838    239\n",
       "205839    239\n",
       "205840    239\n",
       "205841    239\n",
       "205842    239\n",
       "Name: job_position_new, Length: 155682, dtype: int32"
      ]
     },
     "execution_count": 1455,
     "metadata": {},
     "output_type": "execute_result"
    }
   ],
   "source": [
    "from sklearn.preprocessing import LabelEncoder \n",
    "le = LabelEncoder()\n",
    "\n",
    "df['job_position_new'] = le.fit_transform(df['job_position'])\n",
    "df['job_position_new']"
   ]
  },
  {
   "cell_type": "markdown",
   "id": "94f40323",
   "metadata": {},
   "source": [
    "#### Changing data type"
   ]
  },
  {
   "cell_type": "code",
   "execution_count": 1456,
   "id": "582f7419",
   "metadata": {},
   "outputs": [],
   "source": [
    "# Converting feature's data type from float to integer \n",
    "df['job_position_new'] = df['job_position_new'].astype(np.int32)\n",
    "df['orgyear'] = df['orgyear'].astype(np.int32)\n",
    "df['ctc_updated_year'] = df['ctc_updated_year'].astype(np.int32)\n",
    "df['years_of_experience'] = df['years_of_experience'].astype(np.int32)"
   ]
  },
  {
   "cell_type": "code",
   "execution_count": 1457,
   "id": "d605d1e3",
   "metadata": {},
   "outputs": [],
   "source": [
    "def exp_correction(x):\n",
    "    if x < 0:\n",
    "        return 0\n",
    "    else:\n",
    "        return x\n",
    "df['years_of_experience'] = df['years_of_experience'].apply(exp_correction)"
   ]
  },
  {
   "cell_type": "markdown",
   "id": "be71f8d6",
   "metadata": {},
   "source": [
    "### Manual Clustering"
   ]
  },
  {
   "cell_type": "code",
   "execution_count": 1458,
   "id": "53f7e8ee",
   "metadata": {},
   "outputs": [],
   "source": [
    "df = df[[\"company_hash\",\"job_position\",\"orgyear\",\"ctc\",\"job_position_new\",\"ctc_updated_year\",\"years_of_experience\"]]"
   ]
  },
  {
   "cell_type": "code",
   "execution_count": 1459,
   "id": "1bb4c832",
   "metadata": {},
   "outputs": [],
   "source": [
    "def convert_to_designation(row):\n",
    "    ctc_percentile_25,ctc_percentile_50,ctc_percentile_75,ctc = (row[\"25%\"],row[\"50%\"],row[\"75%\"],row[\"ctc\"])  \n",
    "    if ctc > ctc_percentile_75:\n",
    "        return 3\n",
    "    elif ctc > ctc_percentile_50:\n",
    "        return 2\n",
    "    else:\n",
    "        return 1"
   ]
  },
  {
   "cell_type": "code",
   "execution_count": 1460,
   "id": "831dfcbe",
   "metadata": {},
   "outputs": [
    {
     "data": {
      "text/plain": [
       "(155682, 7)"
      ]
     },
     "execution_count": 1460,
     "metadata": {},
     "output_type": "execute_result"
    }
   ],
   "source": [
    "df.shape"
   ]
  },
  {
   "cell_type": "markdown",
   "id": "8e02b754",
   "metadata": {},
   "source": [
    "- **Manual Clustering** on the **basis of** learner’s **company, job position and years of experience**"
   ]
  },
  {
   "cell_type": "code",
   "execution_count": 1461,
   "id": "5579dddd",
   "metadata": {},
   "outputs": [],
   "source": [
    "df_grp_exp_pos_company = df.groupby([\"years_of_experience\",\"job_position\",\"company_hash\"])[\"ctc\"].describe().reset_index()\n",
    "df_grp_exp_pos_company = df_grp_exp_pos_company[[\"years_of_experience\",\"job_position\",\"company_hash\",\"mean\",\"25%\",\"50%\",\"75%\"]]\n",
    "df = df.merge(df_grp_exp_pos_company,on=[\"years_of_experience\",\"job_position\",\"company_hash\"], how=\"inner\")\n",
    "df[\"designation\"] = df.apply(convert_to_designation,axis=1) "
   ]
  },
  {
   "cell_type": "code",
   "execution_count": 1462,
   "id": "66d7362f",
   "metadata": {},
   "outputs": [],
   "source": [
    "df = df[[\"company_hash\",\"job_position\",\"orgyear\",\"ctc\",\"job_position_new\",\"ctc_updated_year\",\"years_of_experience\",\"designation\"]]"
   ]
  },
  {
   "cell_type": "code",
   "execution_count": 1463,
   "id": "7a591648",
   "metadata": {},
   "outputs": [
    {
     "data": {
      "text/html": [
       "<div>\n",
       "<style scoped>\n",
       "    .dataframe tbody tr th:only-of-type {\n",
       "        vertical-align: middle;\n",
       "    }\n",
       "\n",
       "    .dataframe tbody tr th {\n",
       "        vertical-align: top;\n",
       "    }\n",
       "\n",
       "    .dataframe thead th {\n",
       "        text-align: right;\n",
       "    }\n",
       "</style>\n",
       "<table border=\"1\" class=\"dataframe\">\n",
       "  <thead>\n",
       "    <tr style=\"text-align: right;\">\n",
       "      <th></th>\n",
       "      <th>company_hash</th>\n",
       "      <th>job_position</th>\n",
       "      <th>orgyear</th>\n",
       "      <th>ctc</th>\n",
       "      <th>job_position_new</th>\n",
       "      <th>ctc_updated_year</th>\n",
       "      <th>years_of_experience</th>\n",
       "      <th>designation</th>\n",
       "    </tr>\n",
       "  </thead>\n",
       "  <tbody>\n",
       "    <tr>\n",
       "      <th>0</th>\n",
       "      <td>atrgxnnt xzaxv</td>\n",
       "      <td>other</td>\n",
       "      <td>2016</td>\n",
       "      <td>1100000</td>\n",
       "      <td>103</td>\n",
       "      <td>2020</td>\n",
       "      <td>7</td>\n",
       "      <td>1</td>\n",
       "    </tr>\n",
       "    <tr>\n",
       "      <th>1</th>\n",
       "      <td>qtrxvzwt xzegwgbb rxbxnta</td>\n",
       "      <td>fullstack engineer</td>\n",
       "      <td>2018</td>\n",
       "      <td>449999</td>\n",
       "      <td>68</td>\n",
       "      <td>2019</td>\n",
       "      <td>5</td>\n",
       "      <td>1</td>\n",
       "    </tr>\n",
       "    <tr>\n",
       "      <th>2</th>\n",
       "      <td>qtrxvzwt xzegwgbb rxbxnta</td>\n",
       "      <td>fullstack engineer</td>\n",
       "      <td>2018</td>\n",
       "      <td>620000</td>\n",
       "      <td>68</td>\n",
       "      <td>2020</td>\n",
       "      <td>5</td>\n",
       "      <td>1</td>\n",
       "    </tr>\n",
       "    <tr>\n",
       "      <th>3</th>\n",
       "      <td>qtrxvzwt xzegwgbb rxbxnta</td>\n",
       "      <td>fullstack engineer</td>\n",
       "      <td>2018</td>\n",
       "      <td>950000</td>\n",
       "      <td>68</td>\n",
       "      <td>2021</td>\n",
       "      <td>5</td>\n",
       "      <td>3</td>\n",
       "    </tr>\n",
       "    <tr>\n",
       "      <th>4</th>\n",
       "      <td>qtrxvzwt xzegwgbb rxbxnta</td>\n",
       "      <td>fullstack engineer</td>\n",
       "      <td>2018</td>\n",
       "      <td>750000</td>\n",
       "      <td>68</td>\n",
       "      <td>2020</td>\n",
       "      <td>5</td>\n",
       "      <td>1</td>\n",
       "    </tr>\n",
       "  </tbody>\n",
       "</table>\n",
       "</div>"
      ],
      "text/plain": [
       "                company_hash        job_position  orgyear      ctc  \\\n",
       "0             atrgxnnt xzaxv               other     2016  1100000   \n",
       "1  qtrxvzwt xzegwgbb rxbxnta  fullstack engineer     2018   449999   \n",
       "2  qtrxvzwt xzegwgbb rxbxnta  fullstack engineer     2018   620000   \n",
       "3  qtrxvzwt xzegwgbb rxbxnta  fullstack engineer     2018   950000   \n",
       "4  qtrxvzwt xzegwgbb rxbxnta  fullstack engineer     2018   750000   \n",
       "\n",
       "   job_position_new  ctc_updated_year  years_of_experience  designation  \n",
       "0               103              2020                    7            1  \n",
       "1                68              2019                    5            1  \n",
       "2                68              2020                    5            1  \n",
       "3                68              2021                    5            3  \n",
       "4                68              2020                    5            1  "
      ]
     },
     "execution_count": 1463,
     "metadata": {},
     "output_type": "execute_result"
    }
   ],
   "source": [
    "df.head()"
   ]
  },
  {
   "cell_type": "code",
   "execution_count": 1464,
   "id": "0e9a6d74",
   "metadata": {},
   "outputs": [
    {
     "data": {
      "text/plain": [
       "(155682, 8)"
      ]
     },
     "execution_count": 1464,
     "metadata": {},
     "output_type": "execute_result"
    }
   ],
   "source": [
    "df.shape"
   ]
  },
  {
   "cell_type": "markdown",
   "id": "f6ff316f",
   "metadata": {},
   "source": [
    "- **Analysis at Company & Job Position level. Name that flag Class with values [1,2,3]**"
   ]
  },
  {
   "cell_type": "code",
   "execution_count": 1465,
   "id": "3387a5df",
   "metadata": {},
   "outputs": [],
   "source": [
    "df_grp_pos_company = df.groupby([\"job_position\",\"company_hash\"])[\"ctc\"].describe().reset_index()\n",
    "df_grp_pos_company = df_grp_pos_company[[\"job_position\",\"company_hash\",\"mean\",\"25%\",\"50%\",\"75%\"]]\n",
    "df = df.merge(df_grp_pos_company,on=[\"job_position\",\"company_hash\"], how=\"inner\")\n",
    "df[\"class\"] = df.apply(convert_to_designation,axis=1) "
   ]
  },
  {
   "cell_type": "code",
   "execution_count": 1466,
   "id": "a39e6cc5",
   "metadata": {},
   "outputs": [],
   "source": [
    "df = df[[\"company_hash\",\"job_position\",\"orgyear\",\"ctc\",\"job_position_new\",\"ctc_updated_year\",\"years_of_experience\",\"designation\",\"class\"]]"
   ]
  },
  {
   "cell_type": "code",
   "execution_count": 1467,
   "id": "c15c8591",
   "metadata": {},
   "outputs": [
    {
     "data": {
      "text/html": [
       "<div>\n",
       "<style scoped>\n",
       "    .dataframe tbody tr th:only-of-type {\n",
       "        vertical-align: middle;\n",
       "    }\n",
       "\n",
       "    .dataframe tbody tr th {\n",
       "        vertical-align: top;\n",
       "    }\n",
       "\n",
       "    .dataframe thead th {\n",
       "        text-align: right;\n",
       "    }\n",
       "</style>\n",
       "<table border=\"1\" class=\"dataframe\">\n",
       "  <thead>\n",
       "    <tr style=\"text-align: right;\">\n",
       "      <th></th>\n",
       "      <th>company_hash</th>\n",
       "      <th>job_position</th>\n",
       "      <th>orgyear</th>\n",
       "      <th>ctc</th>\n",
       "      <th>job_position_new</th>\n",
       "      <th>ctc_updated_year</th>\n",
       "      <th>years_of_experience</th>\n",
       "      <th>designation</th>\n",
       "      <th>class</th>\n",
       "    </tr>\n",
       "  </thead>\n",
       "  <tbody>\n",
       "    <tr>\n",
       "      <th>0</th>\n",
       "      <td>atrgxnnt xzaxv</td>\n",
       "      <td>other</td>\n",
       "      <td>2016</td>\n",
       "      <td>1100000</td>\n",
       "      <td>103</td>\n",
       "      <td>2020</td>\n",
       "      <td>7</td>\n",
       "      <td>1</td>\n",
       "      <td>3</td>\n",
       "    </tr>\n",
       "    <tr>\n",
       "      <th>1</th>\n",
       "      <td>atrgxnnt xzaxv</td>\n",
       "      <td>other</td>\n",
       "      <td>2014</td>\n",
       "      <td>1070000</td>\n",
       "      <td>103</td>\n",
       "      <td>2018</td>\n",
       "      <td>9</td>\n",
       "      <td>1</td>\n",
       "      <td>1</td>\n",
       "    </tr>\n",
       "    <tr>\n",
       "      <th>2</th>\n",
       "      <td>qtrxvzwt xzegwgbb rxbxnta</td>\n",
       "      <td>fullstack engineer</td>\n",
       "      <td>2018</td>\n",
       "      <td>449999</td>\n",
       "      <td>68</td>\n",
       "      <td>2019</td>\n",
       "      <td>5</td>\n",
       "      <td>1</td>\n",
       "      <td>1</td>\n",
       "    </tr>\n",
       "    <tr>\n",
       "      <th>3</th>\n",
       "      <td>qtrxvzwt xzegwgbb rxbxnta</td>\n",
       "      <td>fullstack engineer</td>\n",
       "      <td>2018</td>\n",
       "      <td>620000</td>\n",
       "      <td>68</td>\n",
       "      <td>2020</td>\n",
       "      <td>5</td>\n",
       "      <td>1</td>\n",
       "      <td>1</td>\n",
       "    </tr>\n",
       "    <tr>\n",
       "      <th>4</th>\n",
       "      <td>qtrxvzwt xzegwgbb rxbxnta</td>\n",
       "      <td>fullstack engineer</td>\n",
       "      <td>2018</td>\n",
       "      <td>950000</td>\n",
       "      <td>68</td>\n",
       "      <td>2021</td>\n",
       "      <td>5</td>\n",
       "      <td>3</td>\n",
       "      <td>2</td>\n",
       "    </tr>\n",
       "  </tbody>\n",
       "</table>\n",
       "</div>"
      ],
      "text/plain": [
       "                company_hash        job_position  orgyear      ctc  \\\n",
       "0             atrgxnnt xzaxv               other     2016  1100000   \n",
       "1             atrgxnnt xzaxv               other     2014  1070000   \n",
       "2  qtrxvzwt xzegwgbb rxbxnta  fullstack engineer     2018   449999   \n",
       "3  qtrxvzwt xzegwgbb rxbxnta  fullstack engineer     2018   620000   \n",
       "4  qtrxvzwt xzegwgbb rxbxnta  fullstack engineer     2018   950000   \n",
       "\n",
       "   job_position_new  ctc_updated_year  years_of_experience  designation  class  \n",
       "0               103              2020                    7            1      3  \n",
       "1               103              2018                    9            1      1  \n",
       "2                68              2019                    5            1      1  \n",
       "3                68              2020                    5            1      1  \n",
       "4                68              2021                    5            3      2  "
      ]
     },
     "execution_count": 1467,
     "metadata": {},
     "output_type": "execute_result"
    }
   ],
   "source": [
    "df.head()"
   ]
  },
  {
   "cell_type": "markdown",
   "id": "1800c76c",
   "metadata": {},
   "source": [
    "- **Analysis at the Company level. Name that flag Tier with values [1,2,3]**"
   ]
  },
  {
   "cell_type": "code",
   "execution_count": 1468,
   "id": "65de1d88",
   "metadata": {},
   "outputs": [],
   "source": [
    "df_grp_company = df.groupby([\"company_hash\"])[\"ctc\"].describe().reset_index()\n",
    "df_grp_company = df_grp_company[[\"company_hash\",\"mean\",\"25%\",\"50%\",\"75%\"]]\n",
    "df = df.merge(df_grp_company,on=[\"company_hash\"], how=\"inner\")\n",
    "df[\"Tier\"] = df.apply(convert_to_designation,axis=1) "
   ]
  },
  {
   "cell_type": "code",
   "execution_count": 1469,
   "id": "de436661",
   "metadata": {},
   "outputs": [],
   "source": [
    "df = df[[\"company_hash\",\"job_position\",\"orgyear\",\"ctc\",\"job_position_new\",\"ctc_updated_year\",\"years_of_experience\",\"designation\",\"class\",\"Tier\"]]"
   ]
  },
  {
   "cell_type": "code",
   "execution_count": 1470,
   "id": "f80e6927",
   "metadata": {},
   "outputs": [
    {
     "data": {
      "text/html": [
       "<div>\n",
       "<style scoped>\n",
       "    .dataframe tbody tr th:only-of-type {\n",
       "        vertical-align: middle;\n",
       "    }\n",
       "\n",
       "    .dataframe tbody tr th {\n",
       "        vertical-align: top;\n",
       "    }\n",
       "\n",
       "    .dataframe thead th {\n",
       "        text-align: right;\n",
       "    }\n",
       "</style>\n",
       "<table border=\"1\" class=\"dataframe\">\n",
       "  <thead>\n",
       "    <tr style=\"text-align: right;\">\n",
       "      <th></th>\n",
       "      <th>company_hash</th>\n",
       "      <th>job_position</th>\n",
       "      <th>orgyear</th>\n",
       "      <th>ctc</th>\n",
       "      <th>job_position_new</th>\n",
       "      <th>ctc_updated_year</th>\n",
       "      <th>years_of_experience</th>\n",
       "      <th>designation</th>\n",
       "      <th>class</th>\n",
       "      <th>Tier</th>\n",
       "    </tr>\n",
       "  </thead>\n",
       "  <tbody>\n",
       "    <tr>\n",
       "      <th>0</th>\n",
       "      <td>atrgxnnt xzaxv</td>\n",
       "      <td>other</td>\n",
       "      <td>2016</td>\n",
       "      <td>1100000</td>\n",
       "      <td>103</td>\n",
       "      <td>2020</td>\n",
       "      <td>7</td>\n",
       "      <td>1</td>\n",
       "      <td>3</td>\n",
       "      <td>2</td>\n",
       "    </tr>\n",
       "    <tr>\n",
       "      <th>1</th>\n",
       "      <td>atrgxnnt xzaxv</td>\n",
       "      <td>other</td>\n",
       "      <td>2014</td>\n",
       "      <td>1070000</td>\n",
       "      <td>103</td>\n",
       "      <td>2018</td>\n",
       "      <td>9</td>\n",
       "      <td>1</td>\n",
       "      <td>1</td>\n",
       "      <td>1</td>\n",
       "    </tr>\n",
       "    <tr>\n",
       "      <th>2</th>\n",
       "      <td>atrgxnnt xzaxv</td>\n",
       "      <td>backend engineer</td>\n",
       "      <td>2019</td>\n",
       "      <td>500000</td>\n",
       "      <td>33</td>\n",
       "      <td>2020</td>\n",
       "      <td>4</td>\n",
       "      <td>1</td>\n",
       "      <td>1</td>\n",
       "      <td>1</td>\n",
       "    </tr>\n",
       "    <tr>\n",
       "      <th>3</th>\n",
       "      <td>atrgxnnt xzaxv</td>\n",
       "      <td>backend engineer</td>\n",
       "      <td>2014</td>\n",
       "      <td>1000000</td>\n",
       "      <td>33</td>\n",
       "      <td>2018</td>\n",
       "      <td>9</td>\n",
       "      <td>1</td>\n",
       "      <td>3</td>\n",
       "      <td>1</td>\n",
       "    </tr>\n",
       "    <tr>\n",
       "      <th>4</th>\n",
       "      <td>atrgxnnt xzaxv</td>\n",
       "      <td>data scientist</td>\n",
       "      <td>2017</td>\n",
       "      <td>1700000</td>\n",
       "      <td>46</td>\n",
       "      <td>2020</td>\n",
       "      <td>6</td>\n",
       "      <td>1</td>\n",
       "      <td>1</td>\n",
       "      <td>3</td>\n",
       "    </tr>\n",
       "  </tbody>\n",
       "</table>\n",
       "</div>"
      ],
      "text/plain": [
       "     company_hash      job_position  orgyear      ctc  job_position_new  \\\n",
       "0  atrgxnnt xzaxv             other     2016  1100000               103   \n",
       "1  atrgxnnt xzaxv             other     2014  1070000               103   \n",
       "2  atrgxnnt xzaxv  backend engineer     2019   500000                33   \n",
       "3  atrgxnnt xzaxv  backend engineer     2014  1000000                33   \n",
       "4  atrgxnnt xzaxv    data scientist     2017  1700000                46   \n",
       "\n",
       "   ctc_updated_year  years_of_experience  designation  class  Tier  \n",
       "0              2020                    7            1      3     2  \n",
       "1              2018                    9            1      1     1  \n",
       "2              2020                    4            1      1     1  \n",
       "3              2018                    9            1      3     1  \n",
       "4              2020                    6            1      1     3  "
      ]
     },
     "execution_count": 1470,
     "metadata": {},
     "output_type": "execute_result"
    }
   ],
   "source": [
    "df.head()"
   ]
  },
  {
   "cell_type": "markdown",
   "id": "cc478bd7",
   "metadata": {},
   "source": [
    "- **Manual clustering based on ctc_updated_year**\n",
    " - Like ctc manual clustering can be performed based on ctc_updated_year ,based on recency of update or frequency count of year "
   ]
  },
  {
   "cell_type": "markdown",
   "id": "916b5ba2",
   "metadata": {},
   "source": [
    "### Insights Manual Clustering"
   ]
  },
  {
   "cell_type": "markdown",
   "id": "54e44eac",
   "metadata": {},
   "source": [
    "- **Top 10 employees** (**earning** more than most of the employees in the company) - **Tier 1**"
   ]
  },
  {
   "cell_type": "code",
   "execution_count": 1471,
   "id": "6081b7c3",
   "metadata": {},
   "outputs": [
    {
     "data": {
      "text/html": [
       "<div>\n",
       "<style scoped>\n",
       "    .dataframe tbody tr th:only-of-type {\n",
       "        vertical-align: middle;\n",
       "    }\n",
       "\n",
       "    .dataframe tbody tr th {\n",
       "        vertical-align: top;\n",
       "    }\n",
       "\n",
       "    .dataframe thead th {\n",
       "        text-align: right;\n",
       "    }\n",
       "</style>\n",
       "<table border=\"1\" class=\"dataframe\">\n",
       "  <thead>\n",
       "    <tr style=\"text-align: right;\">\n",
       "      <th></th>\n",
       "      <th>company_hash</th>\n",
       "      <th>job_position</th>\n",
       "      <th>ctc</th>\n",
       "      <th>Tier</th>\n",
       "    </tr>\n",
       "  </thead>\n",
       "  <tbody>\n",
       "    <tr>\n",
       "      <th>147980</th>\n",
       "      <td>agyv tdnqvwg</td>\n",
       "      <td>other</td>\n",
       "      <td>200000000</td>\n",
       "      <td>1</td>\n",
       "    </tr>\n",
       "    <tr>\n",
       "      <th>134966</th>\n",
       "      <td>ltnvxqfvjo</td>\n",
       "      <td>unknown</td>\n",
       "      <td>200000000</td>\n",
       "      <td>1</td>\n",
       "    </tr>\n",
       "    <tr>\n",
       "      <th>134965</th>\n",
       "      <td>ltnvxqfvjo</td>\n",
       "      <td>data analyst</td>\n",
       "      <td>200000000</td>\n",
       "      <td>1</td>\n",
       "    </tr>\n",
       "    <tr>\n",
       "      <th>147981</th>\n",
       "      <td>agyv tdnqvwg</td>\n",
       "      <td>unknown</td>\n",
       "      <td>200000000</td>\n",
       "      <td>1</td>\n",
       "    </tr>\n",
       "    <tr>\n",
       "      <th>149530</th>\n",
       "      <td>wvquvzntq</td>\n",
       "      <td>unknown</td>\n",
       "      <td>200000000</td>\n",
       "      <td>1</td>\n",
       "    </tr>\n",
       "    <tr>\n",
       "      <th>101225</th>\n",
       "      <td>ztnwrgha ojontbo uqxcvnt rxbxnta</td>\n",
       "      <td>data analyst</td>\n",
       "      <td>200000000</td>\n",
       "      <td>1</td>\n",
       "    </tr>\n",
       "    <tr>\n",
       "      <th>149531</th>\n",
       "      <td>wvquvzntq</td>\n",
       "      <td>sdet</td>\n",
       "      <td>200000000</td>\n",
       "      <td>1</td>\n",
       "    </tr>\n",
       "    <tr>\n",
       "      <th>101226</th>\n",
       "      <td>ztnwrgha ojontbo uqxcvnt rxbxnta</td>\n",
       "      <td>android engineer</td>\n",
       "      <td>200000000</td>\n",
       "      <td>1</td>\n",
       "    </tr>\n",
       "    <tr>\n",
       "      <th>129108</th>\n",
       "      <td>oyqttzxfvo ntwyzgwqtvoj</td>\n",
       "      <td>support engineer</td>\n",
       "      <td>199900000</td>\n",
       "      <td>1</td>\n",
       "    </tr>\n",
       "    <tr>\n",
       "      <th>129109</th>\n",
       "      <td>oyqttzxfvo ntwyzgwqtvoj</td>\n",
       "      <td>unknown</td>\n",
       "      <td>199900000</td>\n",
       "      <td>1</td>\n",
       "    </tr>\n",
       "  </tbody>\n",
       "</table>\n",
       "</div>"
      ],
      "text/plain": [
       "                            company_hash      job_position        ctc  Tier\n",
       "147980                      agyv tdnqvwg             other  200000000     1\n",
       "134966                        ltnvxqfvjo           unknown  200000000     1\n",
       "134965                        ltnvxqfvjo      data analyst  200000000     1\n",
       "147981                      agyv tdnqvwg           unknown  200000000     1\n",
       "149530                         wvquvzntq           unknown  200000000     1\n",
       "101225  ztnwrgha ojontbo uqxcvnt rxbxnta      data analyst  200000000     1\n",
       "149531                         wvquvzntq              sdet  200000000     1\n",
       "101226  ztnwrgha ojontbo uqxcvnt rxbxnta  android engineer  200000000     1\n",
       "129108           oyqttzxfvo ntwyzgwqtvoj  support engineer  199900000     1\n",
       "129109           oyqttzxfvo ntwyzgwqtvoj           unknown  199900000     1"
      ]
     },
     "execution_count": 1471,
     "metadata": {},
     "output_type": "execute_result"
    }
   ],
   "source": [
    "df_tier_1 = df[df[\"Tier\"] ==1][[\"company_hash\",\"job_position\",\"ctc\",\"Tier\"]]\n",
    "df_tier_1 = df_tier_1.sort_values(by=\"ctc\",ascending=False)\n",
    "df_tier_1.head(10)"
   ]
  },
  {
   "cell_type": "markdown",
   "id": "2d3bd06d",
   "metadata": {},
   "source": [
    "-  **Top 10 employees** of data science in Amazon / TCS etc **earning more than their peers - Class 1**\n"
   ]
  },
  {
   "cell_type": "code",
   "execution_count": 1472,
   "id": "3cff54e0",
   "metadata": {},
   "outputs": [
    {
     "data": {
      "text/html": [
       "<div>\n",
       "<style scoped>\n",
       "    .dataframe tbody tr th:only-of-type {\n",
       "        vertical-align: middle;\n",
       "    }\n",
       "\n",
       "    .dataframe tbody tr th {\n",
       "        vertical-align: top;\n",
       "    }\n",
       "\n",
       "    .dataframe thead th {\n",
       "        text-align: right;\n",
       "    }\n",
       "</style>\n",
       "<table border=\"1\" class=\"dataframe\">\n",
       "  <thead>\n",
       "    <tr style=\"text-align: right;\">\n",
       "      <th></th>\n",
       "      <th>company_hash</th>\n",
       "      <th>job_position</th>\n",
       "      <th>ctc</th>\n",
       "      <th>class</th>\n",
       "    </tr>\n",
       "  </thead>\n",
       "  <tbody>\n",
       "    <tr>\n",
       "      <th>96359</th>\n",
       "      <td>egdwgzz</td>\n",
       "      <td>engineering leadership</td>\n",
       "      <td>200000000</td>\n",
       "      <td>1</td>\n",
       "    </tr>\n",
       "    <tr>\n",
       "      <th>131271</th>\n",
       "      <td>cxcg</td>\n",
       "      <td>android engineer</td>\n",
       "      <td>200000000</td>\n",
       "      <td>1</td>\n",
       "    </tr>\n",
       "    <tr>\n",
       "      <th>98610</th>\n",
       "      <td>qvzaonva</td>\n",
       "      <td>support engineer</td>\n",
       "      <td>200000000</td>\n",
       "      <td>1</td>\n",
       "    </tr>\n",
       "    <tr>\n",
       "      <th>113247</th>\n",
       "      <td>xqgz bghznvxz</td>\n",
       "      <td>other</td>\n",
       "      <td>200000000</td>\n",
       "      <td>1</td>\n",
       "    </tr>\n",
       "    <tr>\n",
       "      <th>149530</th>\n",
       "      <td>wvquvzntq</td>\n",
       "      <td>unknown</td>\n",
       "      <td>200000000</td>\n",
       "      <td>1</td>\n",
       "    </tr>\n",
       "    <tr>\n",
       "      <th>83591</th>\n",
       "      <td>eqttwyvqst</td>\n",
       "      <td>security leadership</td>\n",
       "      <td>200000000</td>\n",
       "      <td>1</td>\n",
       "    </tr>\n",
       "    <tr>\n",
       "      <th>149531</th>\n",
       "      <td>wvquvzntq</td>\n",
       "      <td>sdet</td>\n",
       "      <td>200000000</td>\n",
       "      <td>1</td>\n",
       "    </tr>\n",
       "    <tr>\n",
       "      <th>122274</th>\n",
       "      <td>nvnv ntrtotqcxwto rna</td>\n",
       "      <td>other</td>\n",
       "      <td>200000000</td>\n",
       "      <td>1</td>\n",
       "    </tr>\n",
       "    <tr>\n",
       "      <th>83826</th>\n",
       "      <td>mgzxng atoxszo</td>\n",
       "      <td>other</td>\n",
       "      <td>200000000</td>\n",
       "      <td>1</td>\n",
       "    </tr>\n",
       "    <tr>\n",
       "      <th>134966</th>\n",
       "      <td>ltnvxqfvjo</td>\n",
       "      <td>unknown</td>\n",
       "      <td>200000000</td>\n",
       "      <td>1</td>\n",
       "    </tr>\n",
       "  </tbody>\n",
       "</table>\n",
       "</div>"
      ],
      "text/plain": [
       "                 company_hash            job_position        ctc  class\n",
       "96359                 egdwgzz  engineering leadership  200000000      1\n",
       "131271                   cxcg        android engineer  200000000      1\n",
       "98610                qvzaonva        support engineer  200000000      1\n",
       "113247          xqgz bghznvxz                   other  200000000      1\n",
       "149530              wvquvzntq                 unknown  200000000      1\n",
       "83591              eqttwyvqst     security leadership  200000000      1\n",
       "149531              wvquvzntq                    sdet  200000000      1\n",
       "122274  nvnv ntrtotqcxwto rna                   other  200000000      1\n",
       "83826          mgzxng atoxszo                   other  200000000      1\n",
       "134966             ltnvxqfvjo                 unknown  200000000      1"
      ]
     },
     "execution_count": 1472,
     "metadata": {},
     "output_type": "execute_result"
    }
   ],
   "source": [
    "df_class_1 = df[df[\"class\"] ==1][[\"company_hash\",\"job_position\",\"ctc\",\"class\"]]\n",
    "df_class_1 = df_class_1.sort_values(by=\"ctc\",ascending=False)\n",
    "df_class_1.head(10)"
   ]
  },
  {
   "cell_type": "markdown",
   "id": "ed384535",
   "metadata": {},
   "source": [
    "- **Bottom 10 employees** of data science in Amazon / TCS etc **earning less than their peers - Class 3**"
   ]
  },
  {
   "cell_type": "code",
   "execution_count": 1473,
   "id": "e62a0127",
   "metadata": {},
   "outputs": [
    {
     "data": {
      "text/html": [
       "<div>\n",
       "<style scoped>\n",
       "    .dataframe tbody tr th:only-of-type {\n",
       "        vertical-align: middle;\n",
       "    }\n",
       "\n",
       "    .dataframe tbody tr th {\n",
       "        vertical-align: top;\n",
       "    }\n",
       "\n",
       "    .dataframe thead th {\n",
       "        text-align: right;\n",
       "    }\n",
       "</style>\n",
       "<table border=\"1\" class=\"dataframe\">\n",
       "  <thead>\n",
       "    <tr style=\"text-align: right;\">\n",
       "      <th></th>\n",
       "      <th>company_hash</th>\n",
       "      <th>job_position</th>\n",
       "      <th>ctc</th>\n",
       "      <th>class</th>\n",
       "    </tr>\n",
       "  </thead>\n",
       "  <tbody>\n",
       "    <tr>\n",
       "      <th>147777</th>\n",
       "      <td>xmtd</td>\n",
       "      <td>unknown</td>\n",
       "      <td>20000</td>\n",
       "      <td>3</td>\n",
       "    </tr>\n",
       "    <tr>\n",
       "      <th>143879</th>\n",
       "      <td>xz rgwg</td>\n",
       "      <td>backend engineer</td>\n",
       "      <td>16000</td>\n",
       "      <td>3</td>\n",
       "    </tr>\n",
       "    <tr>\n",
       "      <th>141878</th>\n",
       "      <td>vzjwgzztwn</td>\n",
       "      <td>ios engineer</td>\n",
       "      <td>15000</td>\n",
       "      <td>3</td>\n",
       "    </tr>\n",
       "    <tr>\n",
       "      <th>141810</th>\n",
       "      <td>mlxn</td>\n",
       "      <td>backend engineer</td>\n",
       "      <td>15000</td>\n",
       "      <td>3</td>\n",
       "    </tr>\n",
       "    <tr>\n",
       "      <th>110981</th>\n",
       "      <td>rs trtwnqgzxwo</td>\n",
       "      <td>android engineer</td>\n",
       "      <td>14000</td>\n",
       "      <td>3</td>\n",
       "    </tr>\n",
       "    <tr>\n",
       "      <th>134585</th>\n",
       "      <td>hzxctqoxnj ge xrrxzgxo vn wyxwvsg</td>\n",
       "      <td>backend engineer</td>\n",
       "      <td>12000</td>\n",
       "      <td>3</td>\n",
       "    </tr>\n",
       "    <tr>\n",
       "      <th>125832</th>\n",
       "      <td>exznqhon ogrhnxgzo ucn rna</td>\n",
       "      <td>data scientist</td>\n",
       "      <td>10000</td>\n",
       "      <td>3</td>\n",
       "    </tr>\n",
       "    <tr>\n",
       "      <th>152806</th>\n",
       "      <td>gutzoggi</td>\n",
       "      <td>ios engineer</td>\n",
       "      <td>9500</td>\n",
       "      <td>3</td>\n",
       "    </tr>\n",
       "    <tr>\n",
       "      <th>128462</th>\n",
       "      <td>uqtu ntwyzgrgsxto</td>\n",
       "      <td>fullstack engineer</td>\n",
       "      <td>2400</td>\n",
       "      <td>3</td>\n",
       "    </tr>\n",
       "    <tr>\n",
       "      <th>155290</th>\n",
       "      <td>xm</td>\n",
       "      <td>unknown</td>\n",
       "      <td>16</td>\n",
       "      <td>3</td>\n",
       "    </tr>\n",
       "  </tbody>\n",
       "</table>\n",
       "</div>"
      ],
      "text/plain": [
       "                             company_hash        job_position    ctc  class\n",
       "147777                               xmtd             unknown  20000      3\n",
       "143879                            xz rgwg    backend engineer  16000      3\n",
       "141878                         vzjwgzztwn        ios engineer  15000      3\n",
       "141810                               mlxn    backend engineer  15000      3\n",
       "110981                     rs trtwnqgzxwo    android engineer  14000      3\n",
       "134585  hzxctqoxnj ge xrrxzgxo vn wyxwvsg    backend engineer  12000      3\n",
       "125832         exznqhon ogrhnxgzo ucn rna      data scientist  10000      3\n",
       "152806                           gutzoggi        ios engineer   9500      3\n",
       "128462                  uqtu ntwyzgrgsxto  fullstack engineer   2400      3\n",
       "155290                                 xm             unknown     16      3"
      ]
     },
     "execution_count": 1473,
     "metadata": {},
     "output_type": "execute_result"
    }
   ],
   "source": [
    "df_class_3 = df[df[\"class\"] ==3][[\"company_hash\",\"job_position\",\"ctc\",\"class\"]]\n",
    "df_class_3 = df_class_3.sort_values(by=\"ctc\",ascending=False)\n",
    "df_class_3.tail(10)"
   ]
  },
  {
   "cell_type": "markdown",
   "id": "59e48f7c",
   "metadata": {},
   "source": [
    "-  **Bottom 10 employees** (earning less than most of the employees in the company)- **Tier 3**"
   ]
  },
  {
   "cell_type": "code",
   "execution_count": 1474,
   "id": "8123abdd",
   "metadata": {},
   "outputs": [
    {
     "data": {
      "text/html": [
       "<div>\n",
       "<style scoped>\n",
       "    .dataframe tbody tr th:only-of-type {\n",
       "        vertical-align: middle;\n",
       "    }\n",
       "\n",
       "    .dataframe tbody tr th {\n",
       "        vertical-align: top;\n",
       "    }\n",
       "\n",
       "    .dataframe thead th {\n",
       "        text-align: right;\n",
       "    }\n",
       "</style>\n",
       "<table border=\"1\" class=\"dataframe\">\n",
       "  <thead>\n",
       "    <tr style=\"text-align: right;\">\n",
       "      <th></th>\n",
       "      <th>company_hash</th>\n",
       "      <th>job_position</th>\n",
       "      <th>ctc</th>\n",
       "      <th>Tier</th>\n",
       "    </tr>\n",
       "  </thead>\n",
       "  <tbody>\n",
       "    <tr>\n",
       "      <th>98858</th>\n",
       "      <td>vsgav</td>\n",
       "      <td>fullstack engineer</td>\n",
       "      <td>1000</td>\n",
       "      <td>1</td>\n",
       "    </tr>\n",
       "    <tr>\n",
       "      <th>85802</th>\n",
       "      <td>sggsrt</td>\n",
       "      <td>co-founder</td>\n",
       "      <td>1000</td>\n",
       "      <td>1</td>\n",
       "    </tr>\n",
       "    <tr>\n",
       "      <th>27924</th>\n",
       "      <td>nvnv wgzohrnvzwj otqcxwto</td>\n",
       "      <td>backend engineer</td>\n",
       "      <td>600</td>\n",
       "      <td>1</td>\n",
       "    </tr>\n",
       "    <tr>\n",
       "      <th>55276</th>\n",
       "      <td>gjg</td>\n",
       "      <td>fullstack engineer</td>\n",
       "      <td>600</td>\n",
       "      <td>1</td>\n",
       "    </tr>\n",
       "    <tr>\n",
       "      <th>88165</th>\n",
       "      <td>zvz</td>\n",
       "      <td>unknown</td>\n",
       "      <td>600</td>\n",
       "      <td>1</td>\n",
       "    </tr>\n",
       "    <tr>\n",
       "      <th>138193</th>\n",
       "      <td>hzxctqoxnj ge fvoyxzsngz</td>\n",
       "      <td>unknown</td>\n",
       "      <td>200</td>\n",
       "      <td>1</td>\n",
       "    </tr>\n",
       "    <tr>\n",
       "      <th>155291</th>\n",
       "      <td>xm</td>\n",
       "      <td>unknown</td>\n",
       "      <td>15</td>\n",
       "      <td>1</td>\n",
       "    </tr>\n",
       "    <tr>\n",
       "      <th>83414</th>\n",
       "      <td>xzntqcxtfmxn</td>\n",
       "      <td>unknown</td>\n",
       "      <td>14</td>\n",
       "      <td>1</td>\n",
       "    </tr>\n",
       "    <tr>\n",
       "      <th>83415</th>\n",
       "      <td>xzntqcxtfmxn</td>\n",
       "      <td>unknown</td>\n",
       "      <td>6</td>\n",
       "      <td>1</td>\n",
       "    </tr>\n",
       "    <tr>\n",
       "      <th>83398</th>\n",
       "      <td>xzntqcxtfmxn</td>\n",
       "      <td>backend engineer</td>\n",
       "      <td>2</td>\n",
       "      <td>1</td>\n",
       "    </tr>\n",
       "  </tbody>\n",
       "</table>\n",
       "</div>"
      ],
      "text/plain": [
       "                     company_hash        job_position   ctc  Tier\n",
       "98858                       vsgav  fullstack engineer  1000     1\n",
       "85802                      sggsrt          co-founder  1000     1\n",
       "27924   nvnv wgzohrnvzwj otqcxwto    backend engineer   600     1\n",
       "55276                         gjg  fullstack engineer   600     1\n",
       "88165                         zvz             unknown   600     1\n",
       "138193   hzxctqoxnj ge fvoyxzsngz             unknown   200     1\n",
       "155291                         xm             unknown    15     1\n",
       "83414                xzntqcxtfmxn             unknown    14     1\n",
       "83415                xzntqcxtfmxn             unknown     6     1\n",
       "83398                xzntqcxtfmxn    backend engineer     2     1"
      ]
     },
     "execution_count": 1474,
     "metadata": {},
     "output_type": "execute_result"
    }
   ],
   "source": [
    "df_tier_3 = df[df[\"Tier\"] ==3][[\"company_hash\",\"job_position\",\"ctc\",\"Tier\"]]\n",
    "df_tier_3 = df_tier_3.sort_values(by=\"ctc\",ascending=False)\n",
    "df_tier_1.tail(10)"
   ]
  },
  {
   "cell_type": "markdown",
   "id": "d63fe6c9",
   "metadata": {},
   "source": [
    "-  **Top 10 employees** in Amazon- X department - **having 5/6/7 years of experience** earning more than their peers - **Tier X**"
   ]
  },
  {
   "cell_type": "code",
   "execution_count": 1475,
   "id": "53264c27",
   "metadata": {},
   "outputs": [],
   "source": [
    "#df_tier_x = df[df[\"Tier\"] =='x' & df[\"years_of_experience\"] in (5,6,7)][[\"company_hash\",\"email_hash\",\"job_position\",\"ctc\",\"Tier\"]]\n",
    "#df_tier_X = df_tier_x.sort_values(by=\"ctc\",ascending=False)\n",
    "#df_tier_x.head(10)"
   ]
  },
  {
   "cell_type": "markdown",
   "id": "2407b158",
   "metadata": {},
   "source": [
    "-  **Top 10 companies (based on their CTC)**"
   ]
  },
  {
   "cell_type": "code",
   "execution_count": 1476,
   "id": "dc7117c7",
   "metadata": {},
   "outputs": [
    {
     "data": {
      "text/html": [
       "<div>\n",
       "<style scoped>\n",
       "    .dataframe tbody tr th:only-of-type {\n",
       "        vertical-align: middle;\n",
       "    }\n",
       "\n",
       "    .dataframe tbody tr th {\n",
       "        vertical-align: top;\n",
       "    }\n",
       "\n",
       "    .dataframe thead th {\n",
       "        text-align: right;\n",
       "    }\n",
       "</style>\n",
       "<table border=\"1\" class=\"dataframe\">\n",
       "  <thead>\n",
       "    <tr style=\"text-align: right;\">\n",
       "      <th></th>\n",
       "      <th>company_hash</th>\n",
       "      <th>ctc</th>\n",
       "    </tr>\n",
       "  </thead>\n",
       "  <tbody>\n",
       "    <tr>\n",
       "      <th>130248</th>\n",
       "      <td>obvqnuqxdwgb</td>\n",
       "      <td>255555555</td>\n",
       "    </tr>\n",
       "    <tr>\n",
       "      <th>87440</th>\n",
       "      <td>zvz</td>\n",
       "      <td>200000000</td>\n",
       "    </tr>\n",
       "    <tr>\n",
       "      <th>27505</th>\n",
       "      <td>nvnv wgzohrnvzwj otqcxwto</td>\n",
       "      <td>200000000</td>\n",
       "    </tr>\n",
       "    <tr>\n",
       "      <th>29809</th>\n",
       "      <td>nvnv wgzohrnvzwj otqcxwto</td>\n",
       "      <td>200000000</td>\n",
       "    </tr>\n",
       "    <tr>\n",
       "      <th>39853</th>\n",
       "      <td>vwwtznhqt</td>\n",
       "      <td>200000000</td>\n",
       "    </tr>\n",
       "    <tr>\n",
       "      <th>11943</th>\n",
       "      <td>ntwy bvyxzaqv</td>\n",
       "      <td>200000000</td>\n",
       "    </tr>\n",
       "    <tr>\n",
       "      <th>56685</th>\n",
       "      <td>mqxonrtwgzt v bvyxzaqv sqghu wgbuvzj</td>\n",
       "      <td>200000000</td>\n",
       "    </tr>\n",
       "    <tr>\n",
       "      <th>14803</th>\n",
       "      <td>fxuqg rxbxnta</td>\n",
       "      <td>200000000</td>\n",
       "    </tr>\n",
       "    <tr>\n",
       "      <th>16880</th>\n",
       "      <td>vbvkgz</td>\n",
       "      <td>200000000</td>\n",
       "    </tr>\n",
       "    <tr>\n",
       "      <th>39818</th>\n",
       "      <td>vwwtznhqt</td>\n",
       "      <td>200000000</td>\n",
       "    </tr>\n",
       "  </tbody>\n",
       "</table>\n",
       "</div>"
      ],
      "text/plain": [
       "                                company_hash        ctc\n",
       "130248                          obvqnuqxdwgb  255555555\n",
       "87440                                    zvz  200000000\n",
       "27505              nvnv wgzohrnvzwj otqcxwto  200000000\n",
       "29809              nvnv wgzohrnvzwj otqcxwto  200000000\n",
       "39853                              vwwtznhqt  200000000\n",
       "11943                          ntwy bvyxzaqv  200000000\n",
       "56685   mqxonrtwgzt v bvyxzaqv sqghu wgbuvzj  200000000\n",
       "14803                          fxuqg rxbxnta  200000000\n",
       "16880                                 vbvkgz  200000000\n",
       "39818                              vwwtznhqt  200000000"
      ]
     },
     "execution_count": 1476,
     "metadata": {},
     "output_type": "execute_result"
    }
   ],
   "source": [
    "df_top_ctc= df.sort_values(by=\"ctc\",ascending=False)\n",
    "df_top_ctc[[\"company_hash\",\"ctc\"]].head(10)"
   ]
  },
  {
   "cell_type": "markdown",
   "id": "287acdaa",
   "metadata": {},
   "source": [
    "- **Top 2 positions in every company (based on their CTC)**"
   ]
  },
  {
   "cell_type": "code",
   "execution_count": 1477,
   "id": "8d55c8eb",
   "metadata": {},
   "outputs": [
    {
     "data": {
      "text/html": [
       "<div>\n",
       "<style scoped>\n",
       "    .dataframe tbody tr th:only-of-type {\n",
       "        vertical-align: middle;\n",
       "    }\n",
       "\n",
       "    .dataframe tbody tr th {\n",
       "        vertical-align: top;\n",
       "    }\n",
       "\n",
       "    .dataframe thead th {\n",
       "        text-align: right;\n",
       "    }\n",
       "</style>\n",
       "<table border=\"1\" class=\"dataframe\">\n",
       "  <thead>\n",
       "    <tr style=\"text-align: right;\">\n",
       "      <th></th>\n",
       "      <th></th>\n",
       "      <th>company_hash</th>\n",
       "      <th>job_position</th>\n",
       "      <th>orgyear</th>\n",
       "      <th>ctc</th>\n",
       "      <th>job_position_new</th>\n",
       "      <th>ctc_updated_year</th>\n",
       "      <th>years_of_experience</th>\n",
       "      <th>designation</th>\n",
       "      <th>class</th>\n",
       "      <th>Tier</th>\n",
       "    </tr>\n",
       "    <tr>\n",
       "      <th>company_hash</th>\n",
       "      <th></th>\n",
       "      <th></th>\n",
       "      <th></th>\n",
       "      <th></th>\n",
       "      <th></th>\n",
       "      <th></th>\n",
       "      <th></th>\n",
       "      <th></th>\n",
       "      <th></th>\n",
       "      <th></th>\n",
       "      <th></th>\n",
       "    </tr>\n",
       "  </thead>\n",
       "  <tbody>\n",
       "    <tr>\n",
       "      <th rowspan=\"2\" valign=\"top\">0</th>\n",
       "      <th>89358</th>\n",
       "      <td>0</td>\n",
       "      <td>unknown</td>\n",
       "      <td>2020</td>\n",
       "      <td>100000</td>\n",
       "      <td>239</td>\n",
       "      <td>2020</td>\n",
       "      <td>3</td>\n",
       "      <td>1</td>\n",
       "      <td>1</td>\n",
       "      <td>1</td>\n",
       "    </tr>\n",
       "    <tr>\n",
       "      <th>89359</th>\n",
       "      <td>0</td>\n",
       "      <td>other</td>\n",
       "      <td>2020</td>\n",
       "      <td>100000</td>\n",
       "      <td>103</td>\n",
       "      <td>2020</td>\n",
       "      <td>3</td>\n",
       "      <td>1</td>\n",
       "      <td>1</td>\n",
       "      <td>1</td>\n",
       "    </tr>\n",
       "    <tr>\n",
       "      <th rowspan=\"2\" valign=\"top\">01 ojztqsj</th>\n",
       "      <th>140334</th>\n",
       "      <td>01 ojztqsj</td>\n",
       "      <td>frontend engineer</td>\n",
       "      <td>2011</td>\n",
       "      <td>830000</td>\n",
       "      <td>65</td>\n",
       "      <td>2019</td>\n",
       "      <td>12</td>\n",
       "      <td>1</td>\n",
       "      <td>1</td>\n",
       "      <td>3</td>\n",
       "    </tr>\n",
       "    <tr>\n",
       "      <th>140335</th>\n",
       "      <td>01 ojztqsj</td>\n",
       "      <td>android engineer</td>\n",
       "      <td>2016</td>\n",
       "      <td>270000</td>\n",
       "      <td>3</td>\n",
       "      <td>2019</td>\n",
       "      <td>7</td>\n",
       "      <td>1</td>\n",
       "      <td>1</td>\n",
       "      <td>1</td>\n",
       "    </tr>\n",
       "    <tr>\n",
       "      <th>05mz exzytvrny uqxcvnt rxbxnta</th>\n",
       "      <th>148889</th>\n",
       "      <td>05mz exzytvrny uqxcvnt rxbxnta</td>\n",
       "      <td>unknown</td>\n",
       "      <td>2019</td>\n",
       "      <td>1100000</td>\n",
       "      <td>239</td>\n",
       "      <td>2021</td>\n",
       "      <td>4</td>\n",
       "      <td>1</td>\n",
       "      <td>1</td>\n",
       "      <td>1</td>\n",
       "    </tr>\n",
       "    <tr>\n",
       "      <th>...</th>\n",
       "      <th>...</th>\n",
       "      <td>...</td>\n",
       "      <td>...</td>\n",
       "      <td>...</td>\n",
       "      <td>...</td>\n",
       "      <td>...</td>\n",
       "      <td>...</td>\n",
       "      <td>...</td>\n",
       "      <td>...</td>\n",
       "      <td>...</td>\n",
       "      <td>...</td>\n",
       "    </tr>\n",
       "    <tr>\n",
       "      <th>zyco xzaxv</th>\n",
       "      <th>125943</th>\n",
       "      <td>zyco xzaxv</td>\n",
       "      <td>unknown</td>\n",
       "      <td>2013</td>\n",
       "      <td>600000</td>\n",
       "      <td>239</td>\n",
       "      <td>2021</td>\n",
       "      <td>10</td>\n",
       "      <td>1</td>\n",
       "      <td>1</td>\n",
       "      <td>1</td>\n",
       "    </tr>\n",
       "    <tr>\n",
       "      <th rowspan=\"2\" valign=\"top\">zz</th>\n",
       "      <th>97005</th>\n",
       "      <td>zz</td>\n",
       "      <td>other</td>\n",
       "      <td>2013</td>\n",
       "      <td>1370000</td>\n",
       "      <td>103</td>\n",
       "      <td>2020</td>\n",
       "      <td>10</td>\n",
       "      <td>1</td>\n",
       "      <td>1</td>\n",
       "      <td>3</td>\n",
       "    </tr>\n",
       "    <tr>\n",
       "      <th>97006</th>\n",
       "      <td>zz</td>\n",
       "      <td>unknown</td>\n",
       "      <td>2009</td>\n",
       "      <td>500000</td>\n",
       "      <td>239</td>\n",
       "      <td>2021</td>\n",
       "      <td>14</td>\n",
       "      <td>1</td>\n",
       "      <td>1</td>\n",
       "      <td>1</td>\n",
       "    </tr>\n",
       "    <tr>\n",
       "      <th rowspan=\"2\" valign=\"top\">zzb ztdnstz vacxogqj ucn rna</th>\n",
       "      <th>144472</th>\n",
       "      <td>zzb ztdnstz vacxogqj ucn rna</td>\n",
       "      <td>fullstack engineer</td>\n",
       "      <td>2017</td>\n",
       "      <td>600000</td>\n",
       "      <td>68</td>\n",
       "      <td>2021</td>\n",
       "      <td>6</td>\n",
       "      <td>1</td>\n",
       "      <td>1</td>\n",
       "      <td>1</td>\n",
       "    </tr>\n",
       "    <tr>\n",
       "      <th>144473</th>\n",
       "      <td>zzb ztdnstz vacxogqj ucn rna</td>\n",
       "      <td>unknown</td>\n",
       "      <td>2017</td>\n",
       "      <td>600000</td>\n",
       "      <td>239</td>\n",
       "      <td>2021</td>\n",
       "      <td>6</td>\n",
       "      <td>1</td>\n",
       "      <td>1</td>\n",
       "      <td>1</td>\n",
       "    </tr>\n",
       "  </tbody>\n",
       "</table>\n",
       "<p>27385 rows × 10 columns</p>\n",
       "</div>"
      ],
      "text/plain": [
       "                                                         company_hash  \\\n",
       "company_hash                                                            \n",
       "0                              89358                                0   \n",
       "                               89359                                0   \n",
       "01 ojztqsj                     140334                      01 ojztqsj   \n",
       "                               140335                      01 ojztqsj   \n",
       "05mz exzytvrny uqxcvnt rxbxnta 148889  05mz exzytvrny uqxcvnt rxbxnta   \n",
       "...                                                               ...   \n",
       "zyco xzaxv                     125943                      zyco xzaxv   \n",
       "zz                             97005                               zz   \n",
       "                               97006                               zz   \n",
       "zzb ztdnstz vacxogqj ucn rna   144472    zzb ztdnstz vacxogqj ucn rna   \n",
       "                               144473    zzb ztdnstz vacxogqj ucn rna   \n",
       "\n",
       "                                             job_position  orgyear      ctc  \\\n",
       "company_hash                                                                  \n",
       "0                              89358              unknown     2020   100000   \n",
       "                               89359                other     2020   100000   \n",
       "01 ojztqsj                     140334   frontend engineer     2011   830000   \n",
       "                               140335    android engineer     2016   270000   \n",
       "05mz exzytvrny uqxcvnt rxbxnta 148889             unknown     2019  1100000   \n",
       "...                                                   ...      ...      ...   \n",
       "zyco xzaxv                     125943             unknown     2013   600000   \n",
       "zz                             97005                other     2013  1370000   \n",
       "                               97006              unknown     2009   500000   \n",
       "zzb ztdnstz vacxogqj ucn rna   144472  fullstack engineer     2017   600000   \n",
       "                               144473             unknown     2017   600000   \n",
       "\n",
       "                                       job_position_new  ctc_updated_year  \\\n",
       "company_hash                                                                \n",
       "0                              89358                239              2020   \n",
       "                               89359                103              2020   \n",
       "01 ojztqsj                     140334                65              2019   \n",
       "                               140335                 3              2019   \n",
       "05mz exzytvrny uqxcvnt rxbxnta 148889               239              2021   \n",
       "...                                                 ...               ...   \n",
       "zyco xzaxv                     125943               239              2021   \n",
       "zz                             97005                103              2020   \n",
       "                               97006                239              2021   \n",
       "zzb ztdnstz vacxogqj ucn rna   144472                68              2021   \n",
       "                               144473               239              2021   \n",
       "\n",
       "                                       years_of_experience  designation  \\\n",
       "company_hash                                                              \n",
       "0                              89358                     3            1   \n",
       "                               89359                     3            1   \n",
       "01 ojztqsj                     140334                   12            1   \n",
       "                               140335                    7            1   \n",
       "05mz exzytvrny uqxcvnt rxbxnta 148889                    4            1   \n",
       "...                                                    ...          ...   \n",
       "zyco xzaxv                     125943                   10            1   \n",
       "zz                             97005                    10            1   \n",
       "                               97006                    14            1   \n",
       "zzb ztdnstz vacxogqj ucn rna   144472                    6            1   \n",
       "                               144473                    6            1   \n",
       "\n",
       "                                       class  Tier  \n",
       "company_hash                                        \n",
       "0                              89358       1     1  \n",
       "                               89359       1     1  \n",
       "01 ojztqsj                     140334      1     3  \n",
       "                               140335      1     1  \n",
       "05mz exzytvrny uqxcvnt rxbxnta 148889      1     1  \n",
       "...                                      ...   ...  \n",
       "zyco xzaxv                     125943      1     1  \n",
       "zz                             97005       1     3  \n",
       "                               97006       1     1  \n",
       "zzb ztdnstz vacxogqj ucn rna   144472      1     1  \n",
       "                               144473      1     1  \n",
       "\n",
       "[27385 rows x 10 columns]"
      ]
     },
     "execution_count": 1477,
     "metadata": {},
     "output_type": "execute_result"
    }
   ],
   "source": [
    "df2=df.groupby(['company_hash']).apply(lambda x: x.sort_values(['ctc'], ascending=False).head(2))\n",
    "df2"
   ]
  },
  {
   "cell_type": "code",
   "execution_count": 1478,
   "id": "9f9ff1d6",
   "metadata": {},
   "outputs": [
    {
     "data": {
      "text/plain": [
       "company_hash                          \n",
       "0                               89358      100000\n",
       "                                89359      100000\n",
       "01 ojztqsj                      140334     830000\n",
       "                                140335     270000\n",
       "05mz exzytvrny uqxcvnt rxbxnta  148889    1100000\n",
       "                                           ...   \n",
       "zyco xzaxv                      125943     600000\n",
       "zz                              97005     1370000\n",
       "                                97006      500000\n",
       "zzb ztdnstz vacxogqj ucn rna    144472     600000\n",
       "                                144473     600000\n",
       "Name: ctc, Length: 27385, dtype: int64"
      ]
     },
     "execution_count": 1478,
     "metadata": {},
     "output_type": "execute_result"
    }
   ],
   "source": [
    "df3 = df.groupby('company_hash')['ctc'].nlargest(2)\n",
    "df3"
   ]
  },
  {
   "cell_type": "markdown",
   "id": "487f5466",
   "metadata": {},
   "source": [
    "#### Designation Flag & Insights"
   ]
  },
  {
   "cell_type": "code",
   "execution_count": 1479,
   "id": "e700a4a6",
   "metadata": {},
   "outputs": [
    {
     "data": {
      "text/plain": [
       "1    74.518570\n",
       "3    17.775337\n",
       "2     7.706093\n",
       "Name: designation, dtype: float64"
      ]
     },
     "execution_count": 1479,
     "metadata": {},
     "output_type": "execute_result"
    }
   ],
   "source": [
    "df[\"designation\"].value_counts(normalize=True)*100"
   ]
  },
  {
   "cell_type": "markdown",
   "id": "71a3c6c0",
   "metadata": {},
   "source": [
    "#### Class Flag & Insights"
   ]
  },
  {
   "cell_type": "code",
   "execution_count": 1480,
   "id": "4a4df945",
   "metadata": {},
   "outputs": [
    {
     "data": {
      "text/plain": [
       "1    62.634730\n",
       "3    22.276821\n",
       "2    15.088450\n",
       "Name: class, dtype: float64"
      ]
     },
     "execution_count": 1480,
     "metadata": {},
     "output_type": "execute_result"
    }
   ],
   "source": [
    "df[\"class\"].value_counts(normalize=True)*100"
   ]
  },
  {
   "cell_type": "markdown",
   "id": "a56776bc",
   "metadata": {},
   "source": [
    "#### Tier Flag & Insights"
   ]
  },
  {
   "cell_type": "code",
   "execution_count": 1481,
   "id": "aebe0bfa",
   "metadata": {},
   "outputs": [
    {
     "data": {
      "text/plain": [
       "1    56.320577\n",
       "3    23.116353\n",
       "2    20.563071\n",
       "Name: Tier, dtype: float64"
      ]
     },
     "execution_count": 1481,
     "metadata": {},
     "output_type": "execute_result"
    }
   ],
   "source": [
    "df[\"Tier\"].value_counts(normalize=True)*100"
   ]
  },
  {
   "cell_type": "markdown",
   "id": "07733b9b",
   "metadata": {},
   "source": [
    "#### Insights based on EDA"
   ]
  },
  {
   "cell_type": "code",
   "execution_count": 1482,
   "id": "b6c7f87b",
   "metadata": {},
   "outputs": [],
   "source": [
    "df_selected = df[[\"company_hash\",\"orgyear\",\"ctc\",\"job_position_new\",\"ctc_updated_year\",\"years_of_experience\",\"designation\",\"class\",\"Tier\"]]"
   ]
  },
  {
   "cell_type": "code",
   "execution_count": 1483,
   "id": "4d46734b",
   "metadata": {},
   "outputs": [
    {
     "data": {
      "image/png": "[encoded data removed]",
      "text/plain": [
       "<Figure size 1080x720 with 3 Axes>"
      ]
     },
     "metadata": {
      "needs_background": "light"
     },
     "output_type": "display_data"
    }
   ],
   "source": [
    "plt.figure(figsize=(15, 10))\n",
    "plt.subplot(2, 3, 1)   # Define 2 rows, 3 column, Activate subplot 1. \n",
    "sp = sns.countplot(x=\"job_position\",data=df,hue=\"designation\",order=df.job_position.value_counts().iloc[:10].index)\n",
    "sp.set(title='Top job positions by designation')\n",
    "plt.xticks(rotation=90)\n",
    "plt.subplot(2, 3, 2)   # Define 2 rows, 3 column, Activate subplot 2. \n",
    "sp = sns.countplot(x=\"job_position\",data=df,hue=\"class\",order=df.job_position.value_counts().iloc[:10].index)\n",
    "sp.set(title='Top job positions by class')\n",
    "plt.xticks(rotation=90)\n",
    "plt.subplot(2, 3, 3)   # Define 2 rows, 3 column, Activate subplot 3. \n",
    "sp = sns.countplot(x=\"job_position\",data=df,hue=\"Tier\",order=df.job_position.value_counts().iloc[:10].index)\n",
    "sp.set(title='Top job positions by Tier')\n",
    "plt.xticks(rotation=90)\n",
    "plt.show()"
   ]
  },
  {
   "cell_type": "markdown",
   "id": "9d114ec0",
   "metadata": {},
   "source": [
    "- **Insights**\n",
    "  - **Backend and Fullstack Engineers** have got top CTC across job positions\n",
    "    - It's consistent across designation, class and Tier flags"
   ]
  },
  {
   "cell_type": "code",
   "execution_count": 1484,
   "id": "8a67d741",
   "metadata": {},
   "outputs": [
    {
     "data": {
      "image/png": "[encoded data removed]",
      "text/plain": [
       "<Figure size 1080x720 with 3 Axes>"
      ]
     },
     "metadata": {
      "needs_background": "light"
     },
     "output_type": "display_data"
    }
   ],
   "source": [
    "plt.figure(figsize=(15, 10))\n",
    "plt.subplot(2, 3, 1)   # Define 2 rows, 3 column, Activate subplot 1. \n",
    "sp = sns.countplot(x=\"years_of_experience\",data=df,hue=\"designation\",order=df.years_of_experience.value_counts().iloc[:10].index)\n",
    "sp.set(title='Top years_of_experience by designation')\n",
    "plt.xticks(rotation=90)\n",
    "plt.subplot(2, 3, 2)   # Define 2 rows, 3 column, Activate subplot 2. \n",
    "sp = sns.countplot(x=\"years_of_experience\",data=df,hue=\"class\",order=df.years_of_experience.value_counts().iloc[:10].index)\n",
    "sp.set(title='Top years_of_experience by class')\n",
    "plt.xticks(rotation=90)\n",
    "plt.subplot(2, 3, 3)   # Define 2 rows, 3 column, Activate subplot 3. \n",
    "sp = sns.countplot(x=\"years_of_experience\",data=df,hue=\"Tier\",order=df.years_of_experience.value_counts().iloc[:10].index)\n",
    "sp.set(title='Top years_of_experience by Tier')\n",
    "plt.xticks(rotation=90)\n",
    "plt.show()"
   ]
  },
  {
   "cell_type": "markdown",
   "id": "ce80eb0a",
   "metadata": {},
   "source": [
    "- **Insights**\n",
    "  - **4-9 years experience professionals** shares top CTC \n",
    "    - It's consistent across designation, class and Tier flags"
   ]
  },
  {
   "cell_type": "code",
   "execution_count": 1485,
   "id": "f87b975f",
   "metadata": {},
   "outputs": [
    {
     "data": {
      "image/png": "[encoded data removed]",
      "text/plain": [
       "<Figure size 1080x720 with 3 Axes>"
      ]
     },
     "metadata": {
      "needs_background": "light"
     },
     "output_type": "display_data"
    }
   ],
   "source": [
    "plt.figure(figsize=(15, 10))\n",
    "plt.subplot(2, 3, 1)   # Define 2 rows, 3 column, Activate subplot 1. \n",
    "sp = sns.countplot(x=\"company_hash\",data=df,hue=\"designation\",order=df.company_hash.value_counts().iloc[:10].index)\n",
    "sp.set(title='Top company_hash by designation')\n",
    "plt.xticks(rotation=90)\n",
    "plt.subplot(2, 3, 2)   # Define 2 rows, 3 column, Activate subplot 2. \n",
    "sp = sns.countplot(x=\"company_hash\",data=df,hue=\"class\",order=df.company_hash.value_counts().iloc[:10].index)\n",
    "sp.set(title='Top company_hash by class')\n",
    "plt.xticks(rotation=90)\n",
    "plt.subplot(2, 3, 3)   # Define 2 rows, 3 column, Activate subplot 3. \n",
    "sp = sns.countplot(x=\"company_hash\",data=df,hue=\"Tier\",order=df.company_hash.value_counts().iloc[:10].index)\n",
    "sp.set(title='Top company_hash by Tier')\n",
    "plt.xticks(rotation=90)\n",
    "plt.show()"
   ]
  },
  {
   "cell_type": "code",
   "execution_count": 1508,
   "id": "302bc2b3",
   "metadata": {},
   "outputs": [
    {
     "data": {
      "text/plain": [
       "(array([0, 1, 2, 3, 4, 5, 6]),\n",
       " [Text(0, 0, '2019'),\n",
       "  Text(1, 0, '2021'),\n",
       "  Text(2, 0, '2020'),\n",
       "  Text(3, 0, '2017'),\n",
       "  Text(4, 0, '2018'),\n",
       "  Text(5, 0, '2016'),\n",
       "  Text(6, 0, '2015')])"
      ]
     },
     "execution_count": 1508,
     "metadata": {},
     "output_type": "execute_result"
    },
    {
     "data": {
      "image/png": "[encoded data removed]",
      "text/plain": [
       "<Figure size 1080x720 with 1 Axes>"
      ]
     },
     "metadata": {
      "needs_background": "light"
     },
     "output_type": "display_data"
    }
   ],
   "source": [
    "plt.figure(figsize=(15, 10))\n",
    "sp = sns.countplot(x=\"ctc_updated_year\",data=df,hue=\"designation\",order=df.ctc_updated_year.value_counts().iloc[:10].index)\n",
    "sp.set(title='Top company_hash by designation')\n",
    "plt.xticks(rotation=90)"
   ]
  },
  {
   "cell_type": "markdown",
   "id": "aa92caca",
   "metadata": {},
   "source": [
    "- **Insights**\n",
    "  - **In years 2021,2019,2020 most CTC updates took place** \n",
    "  - Highest CTC offered (i.e.More than 75th percentile) in year 2021"
   ]
  },
  {
   "cell_type": "markdown",
   "id": "43168b42",
   "metadata": {},
   "source": [
    "### Data processing for Unsupervised clustering - Standardization of data"
   ]
  },
  {
   "cell_type": "code",
   "execution_count": 1486,
   "id": "842d901e",
   "metadata": {},
   "outputs": [],
   "source": [
    "#df_selected = df[[\"orgyear\",\"ctc\",\"ctc_updated_year\",\"years_of_experience\",\"designation\",\"class\",\"Tier\"]]\n",
    "df_selected = df[[\"orgyear\",\"ctc\",\"job_position_new\",\"ctc_updated_year\",\"years_of_experience\",\"designation\",\"class\",\"Tier\"]]"
   ]
  },
  {
   "cell_type": "code",
   "execution_count": 1487,
   "id": "21e0d656",
   "metadata": {},
   "outputs": [],
   "source": [
    "#from sklearn.preprocessing import MinMaxScaler\n",
    "from sklearn.preprocessing import StandardScaler\n",
    "scaler = StandardScaler()\n",
    "scaler.fit(df_selected)\n",
    "X=scaler.transform(df_selected)"
   ]
  },
  {
   "cell_type": "markdown",
   "id": "4f8abcdf",
   "metadata": {},
   "source": [
    "### Unsupervised learning"
   ]
  },
  {
   "cell_type": "markdown",
   "id": "818be3d2",
   "metadata": {},
   "source": [
    "- K-means clustering"
   ]
  },
  {
   "cell_type": "code",
   "execution_count": 1488,
   "id": "ce1be45f",
   "metadata": {},
   "outputs": [],
   "source": [
    "from sklearn.cluster import KMeans\n",
    "\n",
    "k = 8\n",
    "kmeans = KMeans(n_clusters=k)\n",
    "y_pred = kmeans.fit_predict(X)"
   ]
  },
  {
   "cell_type": "markdown",
   "id": "525187f5",
   "metadata": {},
   "source": [
    "#### Checking clustering tendency, Elbow method & K- means clustering"
   ]
  },
  {
   "cell_type": "code",
   "execution_count": 1489,
   "id": "49fe3c1a",
   "metadata": {},
   "outputs": [],
   "source": [
    "# Inertia = Within Cluster Sum of Squares\n",
    "kmeans_per_k = [KMeans(n_clusters=k, random_state=42).fit(X)\n",
    "                for k in range(1, 10)]\n",
    "\n",
    "inertias = [model.inertia_ for model in kmeans_per_k]"
   ]
  },
  {
   "cell_type": "code",
   "execution_count": 1490,
   "id": "640c067a",
   "metadata": {},
   "outputs": [
    {
     "data": {
      "image/png": "[encoded data removed]",
      "text/plain": [
       "<Figure size 864x576 with 1 Axes>"
      ]
     },
     "metadata": {
      "needs_background": "light"
     },
     "output_type": "display_data"
    }
   ],
   "source": [
    "plt.figure(figsize=(12, 8))\n",
    "plt.plot(range(1, 10), inertias, \"bo-\")\n",
    "plt.xlabel(\"$k$\", fontsize=14)\n",
    "plt.ylabel(\"Inertia\", fontsize=14)\n",
    "plt.show()"
   ]
  },
  {
   "cell_type": "markdown",
   "id": "a85ebde6",
   "metadata": {},
   "source": [
    "#### Hierarchical Clustering"
   ]
  },
  {
   "cell_type": "code",
   "execution_count": 1491,
   "id": "82abf087",
   "metadata": {},
   "outputs": [],
   "source": [
    "scaled_df = pd.DataFrame(X, columns=df_selected.columns, index=df_selected.index)"
   ]
  },
  {
   "cell_type": "code",
   "execution_count": 1492,
   "id": "6fa4003a",
   "metadata": {},
   "outputs": [
    {
     "name": "stdout",
     "output_type": "stream",
     "text": [
      "<class 'pandas.core.frame.DataFrame'>\n",
      "Int64Index: 155682 entries, 0 to 155681\n",
      "Data columns (total 8 columns):\n",
      " #   Column               Non-Null Count   Dtype  \n",
      "---  ------               --------------   -----  \n",
      " 0   orgyear              155682 non-null  float64\n",
      " 1   ctc                  155682 non-null  float64\n",
      " 2   job_position_new     155682 non-null  float64\n",
      " 3   ctc_updated_year     155682 non-null  float64\n",
      " 4   years_of_experience  155682 non-null  float64\n",
      " 5   designation          155682 non-null  float64\n",
      " 6   class                155682 non-null  float64\n",
      " 7   Tier                 155682 non-null  float64\n",
      "dtypes: float64(8)\n",
      "memory usage: 10.7 MB\n"
     ]
    }
   ],
   "source": [
    "scaled_df.info()"
   ]
  },
  {
   "cell_type": "code",
   "execution_count": 1493,
   "id": "1fc08483",
   "metadata": {},
   "outputs": [],
   "source": [
    "small_df = df.sample(frac=0.04) # Hierarchical clustering (doing on a sample of the dataset as process is taking time)"
   ]
  },
  {
   "cell_type": "code",
   "execution_count": 1499,
   "id": "82542e5d",
   "metadata": {},
   "outputs": [],
   "source": [
    "#df_selected = small_df[[\"orgyear\",\"ctc\",\"job_position_new\",\"ctc_updated_year\",\"years_of_experience\",\"designation\",\"class\",\"Tier\"]]\n",
    "df_selected = small_df[[\"orgyear\",\"ctc\",\"ctc_updated_year\",\"years_of_experience\",\"designation\",\"class\",\"Tier\"]]"
   ]
  },
  {
   "cell_type": "code",
   "execution_count": 1500,
   "id": "ca043c0e",
   "metadata": {},
   "outputs": [
    {
     "data": {
      "text/plain": [
       "(6227, 7)"
      ]
     },
     "execution_count": 1500,
     "metadata": {},
     "output_type": "execute_result"
    }
   ],
   "source": [
    "df_selected.shape"
   ]
  },
  {
   "cell_type": "code",
   "execution_count": 1501,
   "id": "198b39ae",
   "metadata": {},
   "outputs": [
    {
     "data": {
      "text/html": [
       "<div>\n",
       "<style scoped>\n",
       "    .dataframe tbody tr th:only-of-type {\n",
       "        vertical-align: middle;\n",
       "    }\n",
       "\n",
       "    .dataframe tbody tr th {\n",
       "        vertical-align: top;\n",
       "    }\n",
       "\n",
       "    .dataframe thead th {\n",
       "        text-align: right;\n",
       "    }\n",
       "</style>\n",
       "<table border=\"1\" class=\"dataframe\">\n",
       "  <thead>\n",
       "    <tr style=\"text-align: right;\">\n",
       "      <th></th>\n",
       "      <th>orgyear</th>\n",
       "      <th>ctc</th>\n",
       "      <th>ctc_updated_year</th>\n",
       "      <th>years_of_experience</th>\n",
       "      <th>designation</th>\n",
       "      <th>class</th>\n",
       "      <th>Tier</th>\n",
       "    </tr>\n",
       "  </thead>\n",
       "  <tbody>\n",
       "    <tr>\n",
       "      <th>78591</th>\n",
       "      <td>2012</td>\n",
       "      <td>1550000</td>\n",
       "      <td>2017</td>\n",
       "      <td>11</td>\n",
       "      <td>1</td>\n",
       "      <td>2</td>\n",
       "      <td>2</td>\n",
       "    </tr>\n",
       "    <tr>\n",
       "      <th>67910</th>\n",
       "      <td>2016</td>\n",
       "      <td>1200000</td>\n",
       "      <td>2020</td>\n",
       "      <td>7</td>\n",
       "      <td>1</td>\n",
       "      <td>1</td>\n",
       "      <td>1</td>\n",
       "    </tr>\n",
       "    <tr>\n",
       "      <th>153317</th>\n",
       "      <td>2018</td>\n",
       "      <td>1200000</td>\n",
       "      <td>2021</td>\n",
       "      <td>5</td>\n",
       "      <td>1</td>\n",
       "      <td>1</td>\n",
       "      <td>1</td>\n",
       "    </tr>\n",
       "    <tr>\n",
       "      <th>135709</th>\n",
       "      <td>2015</td>\n",
       "      <td>1700000</td>\n",
       "      <td>2021</td>\n",
       "      <td>8</td>\n",
       "      <td>1</td>\n",
       "      <td>2</td>\n",
       "      <td>2</td>\n",
       "    </tr>\n",
       "    <tr>\n",
       "      <th>74595</th>\n",
       "      <td>2019</td>\n",
       "      <td>2400000</td>\n",
       "      <td>2019</td>\n",
       "      <td>4</td>\n",
       "      <td>3</td>\n",
       "      <td>3</td>\n",
       "      <td>3</td>\n",
       "    </tr>\n",
       "  </tbody>\n",
       "</table>\n",
       "</div>"
      ],
      "text/plain": [
       "        orgyear      ctc  ctc_updated_year  years_of_experience  designation  \\\n",
       "78591      2012  1550000              2017                   11            1   \n",
       "67910      2016  1200000              2020                    7            1   \n",
       "153317     2018  1200000              2021                    5            1   \n",
       "135709     2015  1700000              2021                    8            1   \n",
       "74595      2019  2400000              2019                    4            3   \n",
       "\n",
       "        class  Tier  \n",
       "78591       2     2  \n",
       "67910       1     1  \n",
       "153317      1     1  \n",
       "135709      2     2  \n",
       "74595       3     3  "
      ]
     },
     "execution_count": 1501,
     "metadata": {},
     "output_type": "execute_result"
    }
   ],
   "source": [
    "df_selected.head()"
   ]
  },
  {
   "cell_type": "code",
   "execution_count": 1502,
   "id": "893d8e94",
   "metadata": {},
   "outputs": [],
   "source": [
    "# import hierarchical clustering libraries\n",
    "import scipy.cluster.hierarchy as sch\n",
    "# Refer https://docs.scipy.org/doc/scipy/reference/generated/scipy.cluster.hierarchy.linkage.html#scipy.cluster.hierarchy.linkage\n",
    "Z = sch.linkage(df_selected, method='ward') #linkage = ward"
   ]
  },
  {
   "cell_type": "code",
   "execution_count": 1504,
   "id": "9d508b0a",
   "metadata": {},
   "outputs": [
    {
     "data": {
      "text/plain": [
       "Text(0, 0.5, 'distance')"
      ]
     },
     "execution_count": 1504,
     "metadata": {},
     "output_type": "execute_result"
    },
    {
     "data": {
      "image/png": "[encoded data removed]",
      "text/plain": [
       "<Figure size 1440x864 with 1 Axes>"
      ]
     },
     "metadata": {
      "needs_background": "light"
     },
     "output_type": "display_data"
    }
   ],
   "source": [
    "fig, ax = plt.subplots(figsize=(20, 12))\n",
    "sch.dendrogram(Z, labels=df_selected.index, ax=ax, color_threshold=2)\n",
    "plt.xticks(rotation=90)\n",
    "ax.set_ylabel('distance')"
   ]
  },
  {
   "cell_type": "markdown",
   "id": "af250c71",
   "metadata": {},
   "source": [
    "### Actionable Insights from Unsupervised Clustering\n"
   ]
  },
  {
   "cell_type": "markdown",
   "id": "95e9fe1a",
   "metadata": {},
   "source": [
    "- Following **features significantly drives CTC hikes**   \n",
    "    - Specific **Job profiles such as \"Backend Engineer\" , \"FullStack Engineer\" etc.**\n",
    "    - **Experience range from 4-10 years** \n",
    "    - **Specific companies**  \n",
    "        - nvnv wgzohrnvzwj otqcxwto\n",
    "        - vbvkgz                          \n",
    "        - xzegojo\n",
    "        - wgszxkvzn\n",
    "        - gqvwrt\n",
    "- **In year 2021,2019,2020 most CTC updates took place**\n",
    "    - Highest CTC offered (i.e.More than 75th percentile) in year 2021\n",
    "- **Students** of Designation 1 **(i.e. lesser experience range) are being placed more often (~74%)** than that of remaining designations\n",
    "    - Designation level 3 contributes to ~17 % \n",
    "- **62% Students were placed from Class 1 Companies** whilst **15% from class 3** (i.e. wrt Higher companies , job profile and higher CTC range) companies\n",
    "- **56% Students were placed from Tier1 Companies** whilst **20% from Tier3** (i.e. companies with Higher CTC range) companies  "
   ]
  },
  {
   "cell_type": "markdown",
   "id": "803dd604",
   "metadata": {},
   "source": [
    "### Recommendations"
   ]
  },
  {
   "cell_type": "markdown",
   "id": "d5ad1eda",
   "metadata": {},
   "source": [
    "- **Recommendations**\n",
    "Key considerations:\n",
    "Below recommendation will be more effective when more appropriate measures taken care wrt. data cleaning (e.g. company , job profile etc.) and feature engineering are taken care as well\n",
    "- **Actionable items for business**\n",
    "    - **Sales team must target more following category** of students to increase the chances of convertion i.e  admission at Scaler\n",
    "        - **Lesser Experience range**\n",
    "        - Tier 1 companies \n",
    "        - Experience range 4-6 years as well\n",
    "        - **Backend /Full Stack engineers** - As there is great success stories around that \n",
    "        - **Lower Income group of Students** can be targeted **for higher CTC conversion**  \n",
    "    - Scaler can approach more employers from similar organizations where there is high success stories\n",
    "        - **Mass connect at colleage level** - No Advertisement needed for such students, **saving marketing costs**\n",
    "        - **Discount can be offered** for students with **different job profiles which has relatively less success rates**  \n",
    "        - HR of those companies can be approched where is previous scaler professional already working\n",
    "            - Fresh bulk hires would be cost save for the organizations\n",
    "            - Replacement hires can be explored as well \n",
    "    - Scaler can **tie up with more corporate offices for trained professional and provide long-term commitment** "
   ]
  },
  {
   "cell_type": "code",
   "execution_count": null,
   "id": "3e43320d",
   "metadata": {},
   "outputs": [],
   "source": []
  }
 ],
 "metadata": {
  "kernelspec": {
   "display_name": "Python 3 (ipykernel)",
   "language": "python",
   "name": "python3"
  },
  "language_info": {
   "codemirror_mode": {
    "name": "ipython",
    "version": 3
   },
   "file_extension": ".py",
   "mimetype": "text/x-python",
   "name": "python",
   "nbconvert_exporter": "python",
   "pygments_lexer": "ipython3",
   "version": "3.10.1"
  }
 },
 "nbformat": 4,
 "nbformat_minor": 5
}

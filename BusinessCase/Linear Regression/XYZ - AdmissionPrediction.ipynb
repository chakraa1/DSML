{
 "cells": [
  {
   "cell_type": "code",
   "execution_count": 132,
   "id": "4830028e",
   "metadata": {},
   "outputs": [],
   "source": [
    "import numpy as np\n",
    "import pandas as pd\n",
    "import matplotlib.pyplot as plt\n",
    "from scipy import stats\n",
    "import seaborn as sns\n",
    "import warnings\n",
    "warnings.simplefilter(action='ignore', category=FutureWarning)\n",
    "from sklearn.utils import resample\n",
    "from sklearn.metrics import accuracy_score\n",
    "import statsmodels.api as sm"
   ]
  },
  {
   "cell_type": "code",
   "execution_count": 133,
   "id": "8861031a",
   "metadata": {},
   "outputs": [],
   "source": [
    "df = pd.read_csv(\"XYZ_Admission.csv\")"
   ]
  },
  {
   "cell_type": "markdown",
   "id": "415ecb2d",
   "metadata": {},
   "source": [
    "**Background/Problem statement** : "
   ]
  },
  {
   "cell_type": "markdown",
   "id": "355a16ba",
   "metadata": {},
   "source": [
    "- **Primary Goal** \n",
    " - Recognizing **significant features** that will **identify the factors are important in graduate admissions**\n",
    " - Recognizing **factors are interrelated among themselves**\n",
    " - Predict one's **chances of admission in into the IVY league college** for given significant factors\n",
    "         \n",
    "- **Statistical summary**\n",
    " - More **likelihood of admission**\n",
    " - Analysis of Strength vs Areas of Improvements\n",
    " - Recommending target score for admission\n",
    "\n",
    "- **Long term benefits** : Revenue , Student acquisition "
   ]
  },
  {
   "cell_type": "markdown",
   "id": "e42671d5",
   "metadata": {},
   "source": [
    "### Basic Analysis"
   ]
  },
  {
   "cell_type": "markdown",
   "id": "2f958743",
   "metadata": {},
   "source": [
    "- **Analysing metrics** - Basic metrics\n",
    " - Observations on **shape** of data\n",
    " - **Data types** of all the attributes\n",
    " - **Conversion** of categorical attributes to 'category' (If required)\n",
    " - **Structure & characteristics** of the dataset\n",
    " - Statistical summary"
   ]
  },
  {
   "cell_type": "code",
   "execution_count": 134,
   "id": "452d06a9",
   "metadata": {},
   "outputs": [
    {
     "data": {
      "text/plain": [
       "(500, 9)"
      ]
     },
     "execution_count": 134,
     "metadata": {},
     "output_type": "execute_result"
    }
   ],
   "source": [
    "df.shape"
   ]
  },
  {
   "cell_type": "code",
   "execution_count": 135,
   "id": "186dc92d",
   "metadata": {},
   "outputs": [
    {
     "name": "stdout",
     "output_type": "stream",
     "text": [
      "<class 'pandas.core.frame.DataFrame'>\n",
      "RangeIndex: 500 entries, 0 to 499\n",
      "Data columns (total 9 columns):\n",
      " #   Column             Non-Null Count  Dtype  \n",
      "---  ------             --------------  -----  \n",
      " 0   Serial No.         500 non-null    int64  \n",
      " 1   GRE Score          500 non-null    int64  \n",
      " 2   TOEFL Score        500 non-null    int64  \n",
      " 3   University Rating  500 non-null    int64  \n",
      " 4   SOP                500 non-null    float64\n",
      " 5   LOR                500 non-null    float64\n",
      " 6   CGPA               500 non-null    float64\n",
      " 7   Research           500 non-null    int64  \n",
      " 8   Chance of Admit    500 non-null    float64\n",
      "dtypes: float64(4), int64(5)\n",
      "memory usage: 35.3 KB\n"
     ]
    }
   ],
   "source": [
    "df.info()"
   ]
  },
  {
   "cell_type": "code",
   "execution_count": 136,
   "id": "641cfc9e",
   "metadata": {},
   "outputs": [
    {
     "data": {
      "text/html": [
       "<div>\n",
       "<style scoped>\n",
       "    .dataframe tbody tr th:only-of-type {\n",
       "        vertical-align: middle;\n",
       "    }\n",
       "\n",
       "    .dataframe tbody tr th {\n",
       "        vertical-align: top;\n",
       "    }\n",
       "\n",
       "    .dataframe thead th {\n",
       "        text-align: right;\n",
       "    }\n",
       "</style>\n",
       "<table border=\"1\" class=\"dataframe\">\n",
       "  <thead>\n",
       "    <tr style=\"text-align: right;\">\n",
       "      <th></th>\n",
       "      <th>Serial No.</th>\n",
       "      <th>GRE Score</th>\n",
       "      <th>TOEFL Score</th>\n",
       "      <th>University Rating</th>\n",
       "      <th>SOP</th>\n",
       "      <th>LOR</th>\n",
       "      <th>CGPA</th>\n",
       "      <th>Research</th>\n",
       "      <th>Chance of Admit</th>\n",
       "    </tr>\n",
       "  </thead>\n",
       "  <tbody>\n",
       "    <tr>\n",
       "      <th>0</th>\n",
       "      <td>1</td>\n",
       "      <td>337</td>\n",
       "      <td>118</td>\n",
       "      <td>4</td>\n",
       "      <td>4.5</td>\n",
       "      <td>4.5</td>\n",
       "      <td>9.65</td>\n",
       "      <td>1</td>\n",
       "      <td>0.92</td>\n",
       "    </tr>\n",
       "    <tr>\n",
       "      <th>1</th>\n",
       "      <td>2</td>\n",
       "      <td>324</td>\n",
       "      <td>107</td>\n",
       "      <td>4</td>\n",
       "      <td>4.0</td>\n",
       "      <td>4.5</td>\n",
       "      <td>8.87</td>\n",
       "      <td>1</td>\n",
       "      <td>0.76</td>\n",
       "    </tr>\n",
       "    <tr>\n",
       "      <th>2</th>\n",
       "      <td>3</td>\n",
       "      <td>316</td>\n",
       "      <td>104</td>\n",
       "      <td>3</td>\n",
       "      <td>3.0</td>\n",
       "      <td>3.5</td>\n",
       "      <td>8.00</td>\n",
       "      <td>1</td>\n",
       "      <td>0.72</td>\n",
       "    </tr>\n",
       "    <tr>\n",
       "      <th>3</th>\n",
       "      <td>4</td>\n",
       "      <td>322</td>\n",
       "      <td>110</td>\n",
       "      <td>3</td>\n",
       "      <td>3.5</td>\n",
       "      <td>2.5</td>\n",
       "      <td>8.67</td>\n",
       "      <td>1</td>\n",
       "      <td>0.80</td>\n",
       "    </tr>\n",
       "    <tr>\n",
       "      <th>4</th>\n",
       "      <td>5</td>\n",
       "      <td>314</td>\n",
       "      <td>103</td>\n",
       "      <td>2</td>\n",
       "      <td>2.0</td>\n",
       "      <td>3.0</td>\n",
       "      <td>8.21</td>\n",
       "      <td>0</td>\n",
       "      <td>0.65</td>\n",
       "    </tr>\n",
       "  </tbody>\n",
       "</table>\n",
       "</div>"
      ],
      "text/plain": [
       "   Serial No.  GRE Score  TOEFL Score  University Rating  SOP  LOR   CGPA  \\\n",
       "0           1        337          118                  4  4.5   4.5  9.65   \n",
       "1           2        324          107                  4  4.0   4.5  8.87   \n",
       "2           3        316          104                  3  3.0   3.5  8.00   \n",
       "3           4        322          110                  3  3.5   2.5  8.67   \n",
       "4           5        314          103                  2  2.0   3.0  8.21   \n",
       "\n",
       "   Research  Chance of Admit   \n",
       "0         1              0.92  \n",
       "1         1              0.76  \n",
       "2         1              0.72  \n",
       "3         1              0.80  \n",
       "4         0              0.65  "
      ]
     },
     "execution_count": 136,
     "metadata": {},
     "output_type": "execute_result"
    }
   ],
   "source": [
    "df.head()"
   ]
  },
  {
   "cell_type": "markdown",
   "id": "2d81c247",
   "metadata": {},
   "source": [
    "- **Conclusion** \n",
    " - Not a very small size sample\n",
    " - Serial No is unique row Identifier , can be dropped . \n",
    "     - This step is important as we don’t want our model to build some understanding based on row numbers."
   ]
  },
  {
   "cell_type": "markdown",
   "id": "c5bfcec5",
   "metadata": {},
   "source": [
    "### Droping Unique Indentifier feature - Serial No"
   ]
  },
  {
   "cell_type": "code",
   "execution_count": 137,
   "id": "cad6ab8a",
   "metadata": {},
   "outputs": [],
   "source": [
    "df.drop([\"Serial No.\"], axis=1, inplace=True)"
   ]
  },
  {
   "cell_type": "code",
   "execution_count": 138,
   "id": "2623b6e2",
   "metadata": {},
   "outputs": [
    {
     "data": {
      "text/html": [
       "<div>\n",
       "<style scoped>\n",
       "    .dataframe tbody tr th:only-of-type {\n",
       "        vertical-align: middle;\n",
       "    }\n",
       "\n",
       "    .dataframe tbody tr th {\n",
       "        vertical-align: top;\n",
       "    }\n",
       "\n",
       "    .dataframe thead th {\n",
       "        text-align: right;\n",
       "    }\n",
       "</style>\n",
       "<table border=\"1\" class=\"dataframe\">\n",
       "  <thead>\n",
       "    <tr style=\"text-align: right;\">\n",
       "      <th></th>\n",
       "      <th>GRE Score</th>\n",
       "      <th>TOEFL Score</th>\n",
       "      <th>University Rating</th>\n",
       "      <th>SOP</th>\n",
       "      <th>LOR</th>\n",
       "      <th>CGPA</th>\n",
       "      <th>Research</th>\n",
       "      <th>Chance of Admit</th>\n",
       "    </tr>\n",
       "  </thead>\n",
       "  <tbody>\n",
       "    <tr>\n",
       "      <th>count</th>\n",
       "      <td>500.000000</td>\n",
       "      <td>500.000000</td>\n",
       "      <td>500.000000</td>\n",
       "      <td>500.000000</td>\n",
       "      <td>500.00000</td>\n",
       "      <td>500.000000</td>\n",
       "      <td>500.000000</td>\n",
       "      <td>500.00000</td>\n",
       "    </tr>\n",
       "    <tr>\n",
       "      <th>mean</th>\n",
       "      <td>316.472000</td>\n",
       "      <td>107.192000</td>\n",
       "      <td>3.114000</td>\n",
       "      <td>3.374000</td>\n",
       "      <td>3.48400</td>\n",
       "      <td>8.576440</td>\n",
       "      <td>0.560000</td>\n",
       "      <td>0.72174</td>\n",
       "    </tr>\n",
       "    <tr>\n",
       "      <th>std</th>\n",
       "      <td>11.295148</td>\n",
       "      <td>6.081868</td>\n",
       "      <td>1.143512</td>\n",
       "      <td>0.991004</td>\n",
       "      <td>0.92545</td>\n",
       "      <td>0.604813</td>\n",
       "      <td>0.496884</td>\n",
       "      <td>0.14114</td>\n",
       "    </tr>\n",
       "    <tr>\n",
       "      <th>min</th>\n",
       "      <td>290.000000</td>\n",
       "      <td>92.000000</td>\n",
       "      <td>1.000000</td>\n",
       "      <td>1.000000</td>\n",
       "      <td>1.00000</td>\n",
       "      <td>6.800000</td>\n",
       "      <td>0.000000</td>\n",
       "      <td>0.34000</td>\n",
       "    </tr>\n",
       "    <tr>\n",
       "      <th>25%</th>\n",
       "      <td>308.000000</td>\n",
       "      <td>103.000000</td>\n",
       "      <td>2.000000</td>\n",
       "      <td>2.500000</td>\n",
       "      <td>3.00000</td>\n",
       "      <td>8.127500</td>\n",
       "      <td>0.000000</td>\n",
       "      <td>0.63000</td>\n",
       "    </tr>\n",
       "    <tr>\n",
       "      <th>50%</th>\n",
       "      <td>317.000000</td>\n",
       "      <td>107.000000</td>\n",
       "      <td>3.000000</td>\n",
       "      <td>3.500000</td>\n",
       "      <td>3.50000</td>\n",
       "      <td>8.560000</td>\n",
       "      <td>1.000000</td>\n",
       "      <td>0.72000</td>\n",
       "    </tr>\n",
       "    <tr>\n",
       "      <th>75%</th>\n",
       "      <td>325.000000</td>\n",
       "      <td>112.000000</td>\n",
       "      <td>4.000000</td>\n",
       "      <td>4.000000</td>\n",
       "      <td>4.00000</td>\n",
       "      <td>9.040000</td>\n",
       "      <td>1.000000</td>\n",
       "      <td>0.82000</td>\n",
       "    </tr>\n",
       "    <tr>\n",
       "      <th>max</th>\n",
       "      <td>340.000000</td>\n",
       "      <td>120.000000</td>\n",
       "      <td>5.000000</td>\n",
       "      <td>5.000000</td>\n",
       "      <td>5.00000</td>\n",
       "      <td>9.920000</td>\n",
       "      <td>1.000000</td>\n",
       "      <td>0.97000</td>\n",
       "    </tr>\n",
       "  </tbody>\n",
       "</table>\n",
       "</div>"
      ],
      "text/plain": [
       "        GRE Score  TOEFL Score  University Rating         SOP       LOR   \\\n",
       "count  500.000000   500.000000         500.000000  500.000000  500.00000   \n",
       "mean   316.472000   107.192000           3.114000    3.374000    3.48400   \n",
       "std     11.295148     6.081868           1.143512    0.991004    0.92545   \n",
       "min    290.000000    92.000000           1.000000    1.000000    1.00000   \n",
       "25%    308.000000   103.000000           2.000000    2.500000    3.00000   \n",
       "50%    317.000000   107.000000           3.000000    3.500000    3.50000   \n",
       "75%    325.000000   112.000000           4.000000    4.000000    4.00000   \n",
       "max    340.000000   120.000000           5.000000    5.000000    5.00000   \n",
       "\n",
       "             CGPA    Research  Chance of Admit   \n",
       "count  500.000000  500.000000         500.00000  \n",
       "mean     8.576440    0.560000           0.72174  \n",
       "std      0.604813    0.496884           0.14114  \n",
       "min      6.800000    0.000000           0.34000  \n",
       "25%      8.127500    0.000000           0.63000  \n",
       "50%      8.560000    1.000000           0.72000  \n",
       "75%      9.040000    1.000000           0.82000  \n",
       "max      9.920000    1.000000           0.97000  "
      ]
     },
     "metadata": {},
     "output_type": "display_data"
    }
   ],
   "source": [
    "display(df.describe())"
   ]
  },
  {
   "cell_type": "markdown",
   "id": "d6356b4f",
   "metadata": {},
   "source": [
    "- **Observations** \n",
    " - GRE score ranges from 290(min) to 340 (max)\n",
    " - Data points are nearly balalnced wrt. feature \"Research\""
   ]
  },
  {
   "cell_type": "markdown",
   "id": "37b7c7be",
   "metadata": {},
   "source": [
    "### Distribution"
   ]
  },
  {
   "cell_type": "code",
   "execution_count": 139,
   "id": "20cc1251",
   "metadata": {},
   "outputs": [
    {
     "data": {
      "text/plain": [
       "<AxesSubplot:>"
      ]
     },
     "execution_count": 139,
     "metadata": {},
     "output_type": "execute_result"
    },
    {
     "data": {
      "image/png": "[encoded data removed]",
      "text/plain": [
       "<Figure size 432x288 with 1 Axes>"
      ]
     },
     "metadata": {
      "needs_background": "light"
     },
     "output_type": "display_data"
    }
   ],
   "source": [
    "df['Chance of Admit '].hist(bins=50)"
   ]
  },
  {
   "cell_type": "markdown",
   "id": "f858536d",
   "metadata": {},
   "source": [
    "Another useful plot is called the 'density' plot. Which is also similar to histogram, but with a more approximate shape. It tries to fit a suitable distribution over the histogram and hence includes points that might not even be present in data at hand."
   ]
  },
  {
   "cell_type": "code",
   "execution_count": 140,
   "id": "484f7dc6",
   "metadata": {},
   "outputs": [
    {
     "data": {
      "image/png": "[encoded data removed]",
      "text/plain": [
       "<Figure size 432x288 with 1 Axes>"
      ]
     },
     "metadata": {
      "needs_background": "light"
     },
     "output_type": "display_data"
    }
   ],
   "source": [
    "df[\"Chance of Admit \"].plot.density();"
   ]
  },
  {
   "cell_type": "markdown",
   "id": "de9e94ee",
   "metadata": {},
   "source": [
    "## Data Preprocessing - Part 1"
   ]
  },
  {
   "cell_type": "markdown",
   "id": "5d407c55",
   "metadata": {},
   "source": [
    "### Duplicate value check"
   ]
  },
  {
   "cell_type": "code",
   "execution_count": 141,
   "id": "2853028a",
   "metadata": {},
   "outputs": [
    {
     "data": {
      "text/html": [
       "<div>\n",
       "<style scoped>\n",
       "    .dataframe tbody tr th:only-of-type {\n",
       "        vertical-align: middle;\n",
       "    }\n",
       "\n",
       "    .dataframe tbody tr th {\n",
       "        vertical-align: top;\n",
       "    }\n",
       "\n",
       "    .dataframe thead th {\n",
       "        text-align: right;\n",
       "    }\n",
       "</style>\n",
       "<table border=\"1\" class=\"dataframe\">\n",
       "  <thead>\n",
       "    <tr style=\"text-align: right;\">\n",
       "      <th></th>\n",
       "      <th>GRE Score</th>\n",
       "      <th>TOEFL Score</th>\n",
       "      <th>University Rating</th>\n",
       "      <th>SOP</th>\n",
       "      <th>LOR</th>\n",
       "      <th>CGPA</th>\n",
       "      <th>Research</th>\n",
       "      <th>Chance of Admit</th>\n",
       "    </tr>\n",
       "  </thead>\n",
       "  <tbody>\n",
       "  </tbody>\n",
       "</table>\n",
       "</div>"
      ],
      "text/plain": [
       "Empty DataFrame\n",
       "Columns: [GRE Score, TOEFL Score, University Rating, SOP, LOR , CGPA, Research, Chance of Admit ]\n",
       "Index: []"
      ]
     },
     "execution_count": 141,
     "metadata": {},
     "output_type": "execute_result"
    }
   ],
   "source": [
    "duplicate = df[df.duplicated()]\n",
    "duplicate"
   ]
  },
  {
   "cell_type": "markdown",
   "id": "7384683b",
   "metadata": {},
   "source": [
    "**Observation** - **No duplicate values present** "
   ]
  },
  {
   "cell_type": "markdown",
   "id": "54b8a408",
   "metadata": {},
   "source": [
    "### Missing Value Detection"
   ]
  },
  {
   "cell_type": "code",
   "execution_count": 142,
   "id": "e31a4e43",
   "metadata": {},
   "outputs": [
    {
     "data": {
      "text/html": [
       "<div>\n",
       "<style scoped>\n",
       "    .dataframe tbody tr th:only-of-type {\n",
       "        vertical-align: middle;\n",
       "    }\n",
       "\n",
       "    .dataframe tbody tr th {\n",
       "        vertical-align: top;\n",
       "    }\n",
       "\n",
       "    .dataframe thead th {\n",
       "        text-align: right;\n",
       "    }\n",
       "</style>\n",
       "<table border=\"1\" class=\"dataframe\">\n",
       "  <thead>\n",
       "    <tr style=\"text-align: right;\">\n",
       "      <th></th>\n",
       "      <th>column_name</th>\n",
       "      <th>percent_missing</th>\n",
       "    </tr>\n",
       "  </thead>\n",
       "  <tbody>\n",
       "    <tr>\n",
       "      <th>GRE Score</th>\n",
       "      <td>GRE Score</td>\n",
       "      <td>0.0</td>\n",
       "    </tr>\n",
       "    <tr>\n",
       "      <th>TOEFL Score</th>\n",
       "      <td>TOEFL Score</td>\n",
       "      <td>0.0</td>\n",
       "    </tr>\n",
       "    <tr>\n",
       "      <th>University Rating</th>\n",
       "      <td>University Rating</td>\n",
       "      <td>0.0</td>\n",
       "    </tr>\n",
       "    <tr>\n",
       "      <th>SOP</th>\n",
       "      <td>SOP</td>\n",
       "      <td>0.0</td>\n",
       "    </tr>\n",
       "    <tr>\n",
       "      <th>LOR</th>\n",
       "      <td>LOR</td>\n",
       "      <td>0.0</td>\n",
       "    </tr>\n",
       "    <tr>\n",
       "      <th>CGPA</th>\n",
       "      <td>CGPA</td>\n",
       "      <td>0.0</td>\n",
       "    </tr>\n",
       "    <tr>\n",
       "      <th>Research</th>\n",
       "      <td>Research</td>\n",
       "      <td>0.0</td>\n",
       "    </tr>\n",
       "    <tr>\n",
       "      <th>Chance of Admit</th>\n",
       "      <td>Chance of Admit</td>\n",
       "      <td>0.0</td>\n",
       "    </tr>\n",
       "  </tbody>\n",
       "</table>\n",
       "</div>"
      ],
      "text/plain": [
       "                         column_name  percent_missing\n",
       "GRE Score                  GRE Score              0.0\n",
       "TOEFL Score              TOEFL Score              0.0\n",
       "University Rating  University Rating              0.0\n",
       "SOP                              SOP              0.0\n",
       "LOR                             LOR               0.0\n",
       "CGPA                            CGPA              0.0\n",
       "Research                    Research              0.0\n",
       "Chance of Admit     Chance of Admit               0.0"
      ]
     },
     "execution_count": 142,
     "metadata": {},
     "output_type": "execute_result"
    }
   ],
   "source": [
    "percent_missing = df.isnull().sum() * 100 / len(df)\n",
    "missing_value_df = pd.DataFrame({'column_name': df.columns,\n",
    "                                 'percent_missing': percent_missing})\n",
    "missing_value_df.sort_values('percent_missing', ascending=False)"
   ]
  },
  {
   "cell_type": "markdown",
   "id": "625e44de",
   "metadata": {},
   "source": [
    "- **Insights** : \n",
    " - Zero missing values , good quality data\n",
    " - No missing value treatment required "
   ]
  },
  {
   "cell_type": "markdown",
   "id": "e0d152ed",
   "metadata": {},
   "source": [
    "### Outlier Detection &  Treatment Consideration"
   ]
  },
  {
   "cell_type": "markdown",
   "id": "3e75a7e5",
   "metadata": {},
   "source": [
    "- **Checking Outliers using Visual plots**"
   ]
  },
  {
   "cell_type": "code",
   "execution_count": 143,
   "id": "a632acc2",
   "metadata": {},
   "outputs": [
    {
     "data": {
      "image/png": "[encoded data removed]",
      "text/plain": [
       "<Figure size 432x288 with 1 Axes>"
      ]
     },
     "metadata": {
      "needs_background": "light"
     },
     "output_type": "display_data"
    }
   ],
   "source": [
    "df[\"GRE Score\"].hist(bins=50);"
   ]
  },
  {
   "cell_type": "code",
   "execution_count": 144,
   "id": "31cd8231",
   "metadata": {},
   "outputs": [
    {
     "data": {
      "image/png": "[encoded data removed]",
      "text/plain": [
       "<Figure size 432x288 with 1 Axes>"
      ]
     },
     "metadata": {
      "needs_background": "light"
     },
     "output_type": "display_data"
    }
   ],
   "source": [
    "df[\"TOEFL Score\"].hist(bins=50);"
   ]
  },
  {
   "cell_type": "markdown",
   "id": "df6c7c6f",
   "metadata": {},
   "source": [
    "- **Lets check the percntage of outliers**"
   ]
  },
  {
   "cell_type": "code",
   "execution_count": 145,
   "id": "5d1c612d",
   "metadata": {},
   "outputs": [
    {
     "data": {
      "text/plain": [
       "0.0"
      ]
     },
     "execution_count": 145,
     "metadata": {},
     "output_type": "execute_result"
    }
   ],
   "source": [
    "(df.loc[df[\"Chance of Admit \"]> 100].shape[0] / df.shape[0]) * 100"
   ]
  },
  {
   "cell_type": "markdown",
   "id": "712a1807",
   "metadata": {},
   "source": [
    "- **Checking Outliers using statistical methods**"
   ]
  },
  {
   "cell_type": "code",
   "execution_count": 146,
   "id": "1f17d3c2",
   "metadata": {},
   "outputs": [],
   "source": [
    "column_name = \"Chance of Admit \" \n",
    "\n",
    "Q1=df[column_name].quantile(0.25)\n",
    "Q3=df[column_name].quantile(0.75)\n",
    "\n",
    "IQR=Q3-Q1\n",
    "lower = Q1 - 1.5*IQR\n",
    "upper = Q3 + 1.5*IQR\n",
    "\n",
    "lower_outliers = df[(df[column_name]<= lower)]\n",
    "upper_outliers = df[(df[column_name]>= upper)]"
   ]
  },
  {
   "cell_type": "code",
   "execution_count": 147,
   "id": "dff3bbdb",
   "metadata": {},
   "outputs": [
    {
     "data": {
      "text/html": [
       "<div>\n",
       "<style scoped>\n",
       "    .dataframe tbody tr th:only-of-type {\n",
       "        vertical-align: middle;\n",
       "    }\n",
       "\n",
       "    .dataframe tbody tr th {\n",
       "        vertical-align: top;\n",
       "    }\n",
       "\n",
       "    .dataframe thead th {\n",
       "        text-align: right;\n",
       "    }\n",
       "</style>\n",
       "<table border=\"1\" class=\"dataframe\">\n",
       "  <thead>\n",
       "    <tr style=\"text-align: right;\">\n",
       "      <th></th>\n",
       "      <th>GRE Score</th>\n",
       "      <th>TOEFL Score</th>\n",
       "      <th>University Rating</th>\n",
       "      <th>SOP</th>\n",
       "      <th>LOR</th>\n",
       "      <th>CGPA</th>\n",
       "      <th>Research</th>\n",
       "      <th>Chance of Admit</th>\n",
       "    </tr>\n",
       "  </thead>\n",
       "  <tbody>\n",
       "    <tr>\n",
       "      <th>92</th>\n",
       "      <td>298</td>\n",
       "      <td>98</td>\n",
       "      <td>2</td>\n",
       "      <td>4.0</td>\n",
       "      <td>3.0</td>\n",
       "      <td>8.03</td>\n",
       "      <td>0</td>\n",
       "      <td>0.34</td>\n",
       "    </tr>\n",
       "    <tr>\n",
       "      <th>376</th>\n",
       "      <td>297</td>\n",
       "      <td>96</td>\n",
       "      <td>2</td>\n",
       "      <td>2.5</td>\n",
       "      <td>2.0</td>\n",
       "      <td>7.43</td>\n",
       "      <td>0</td>\n",
       "      <td>0.34</td>\n",
       "    </tr>\n",
       "  </tbody>\n",
       "</table>\n",
       "</div>"
      ],
      "text/plain": [
       "     GRE Score  TOEFL Score  University Rating  SOP  LOR   CGPA  Research  \\\n",
       "92         298           98                  2  4.0   3.0  8.03         0   \n",
       "376        297           96                  2  2.5   2.0  7.43         0   \n",
       "\n",
       "     Chance of Admit   \n",
       "92               0.34  \n",
       "376              0.34  "
      ]
     },
     "execution_count": 147,
     "metadata": {},
     "output_type": "execute_result"
    }
   ],
   "source": [
    "lower_outliers"
   ]
  },
  {
   "cell_type": "code",
   "execution_count": 148,
   "id": "658f2227",
   "metadata": {},
   "outputs": [
    {
     "data": {
      "text/html": [
       "<div>\n",
       "<style scoped>\n",
       "    .dataframe tbody tr th:only-of-type {\n",
       "        vertical-align: middle;\n",
       "    }\n",
       "\n",
       "    .dataframe tbody tr th {\n",
       "        vertical-align: top;\n",
       "    }\n",
       "\n",
       "    .dataframe thead th {\n",
       "        text-align: right;\n",
       "    }\n",
       "</style>\n",
       "<table border=\"1\" class=\"dataframe\">\n",
       "  <thead>\n",
       "    <tr style=\"text-align: right;\">\n",
       "      <th></th>\n",
       "      <th>GRE Score</th>\n",
       "      <th>TOEFL Score</th>\n",
       "      <th>University Rating</th>\n",
       "      <th>SOP</th>\n",
       "      <th>LOR</th>\n",
       "      <th>CGPA</th>\n",
       "      <th>Research</th>\n",
       "      <th>Chance of Admit</th>\n",
       "    </tr>\n",
       "  </thead>\n",
       "  <tbody>\n",
       "  </tbody>\n",
       "</table>\n",
       "</div>"
      ],
      "text/plain": [
       "Empty DataFrame\n",
       "Columns: [GRE Score, TOEFL Score, University Rating, SOP, LOR , CGPA, Research, Chance of Admit ]\n",
       "Index: []"
      ]
     },
     "execution_count": 148,
     "metadata": {},
     "output_type": "execute_result"
    }
   ],
   "source": [
    "upper_outliers"
   ]
  },
  {
   "cell_type": "code",
   "execution_count": 149,
   "id": "7c3c900d",
   "metadata": {},
   "outputs": [],
   "source": [
    "df.drop(lower_outliers.index,inplace = True)"
   ]
  },
  {
   "cell_type": "code",
   "execution_count": 150,
   "id": "f06ab66d",
   "metadata": {},
   "outputs": [],
   "source": [
    "lower_outliers = df[(df[column_name]<= lower)]"
   ]
  },
  {
   "cell_type": "markdown",
   "id": "42265ce7",
   "metadata": {},
   "source": [
    "- **Conclusion** \n",
    " - **Outliers impacts mean based statistical methods**\n",
    " - **Going ahead with outlier removal** \n",
    " - Post outlier removal on dependent feature \"Chance of Admit\" , there are no more outliers \n",
    "  - Moreover, few deep learning model can work without outliers , hence skipping outlier removal. Hence we're good to proceed with \n",
    "    Linear regression model "
   ]
  },
  {
   "cell_type": "markdown",
   "id": "04b01f0b",
   "metadata": {},
   "source": [
    "### Correlations"
   ]
  },
  {
   "cell_type": "markdown",
   "id": "2be1a82b",
   "metadata": {},
   "source": [
    "Now lets look at the correlations of numerical features with each other"
   ]
  },
  {
   "cell_type": "markdown",
   "id": "329ce7ad",
   "metadata": {},
   "source": [
    "- **Person correlation**\n",
    " - Pearson's correlation coefficient, r, is very sensitive to outliers\n",
    " - It can have a very large effect on the line of best fit and the Pearson correlation coefficient. \n",
    " - This means — including outliers in your analysis can lead to misleading results."
   ]
  },
  {
   "cell_type": "code",
   "execution_count": 151,
   "id": "d39629cc",
   "metadata": {},
   "outputs": [
    {
     "data": {
      "image/png": "[encoded data removed]",
      "text/plain": [
       "<Figure size 720x576 with 2 Axes>"
      ]
     },
     "metadata": {
      "needs_background": "light"
     },
     "output_type": "display_data"
    }
   ],
   "source": [
    "plt.figure(figsize=(10,8))\n",
    "ax = sns.heatmap(df.corr(method='pearson'), cmap=\"YlGnBu\", annot=True)"
   ]
  },
  {
   "cell_type": "markdown",
   "id": "df947edc",
   "metadata": {},
   "source": [
    "- **Insights** : \n",
    "    - High correlation between following variables\n",
    "        - GRE Score and TOEFL Score (0.83)\n",
    "        - GRE Score and CGPA (0.82)\n",
    "        - GRE Score and Chance of Admit (0.81)\n",
    "        - TOEFL Score and Chance of Admit (0.79)\n",
    "        - SOP and University Rating (0.73)\n",
    "        - SOP and CGPA (0.71)\n",
    "        - CGPA and University Rating (0.7)\n",
    "        - LOR and SOP (0.66)\n",
    "        - LOR and CGPA(0.64)\n",
    "        \n",
    "    - Chance of Admit has high correlation between following variables \n",
    "        - CGPA\n",
    "        - GRE SCore\n",
    "        - TOEFL score\n",
    "        - University Rating \n",
    "        - SOP \n",
    "        - LOR\n",
    "        - Research"
   ]
  },
  {
   "cell_type": "markdown",
   "id": "082035a4",
   "metadata": {},
   "source": [
    "- **Spearman correlation** - Better measure if there are multiple outliers in each groups. But we're good as there are no outliers"
   ]
  },
  {
   "cell_type": "code",
   "execution_count": 152,
   "id": "3d249567",
   "metadata": {},
   "outputs": [
    {
     "data": {
      "image/png": "[encoded data removed]",
      "text/plain": [
       "<Figure size 720x576 with 2 Axes>"
      ]
     },
     "metadata": {
      "needs_background": "light"
     },
     "output_type": "display_data"
    }
   ],
   "source": [
    "plt.figure(figsize=(10,8))\n",
    "ax = sns.heatmap(df.corr(method='spearman'), cmap=\"YlGnBu\", annot=True)"
   ]
  },
  {
   "cell_type": "markdown",
   "id": "1a737b48",
   "metadata": {},
   "source": [
    "### Non Graphical Analysis"
   ]
  },
  {
   "cell_type": "code",
   "execution_count": 153,
   "id": "ca10564d",
   "metadata": {},
   "outputs": [
    {
     "data": {
      "text/plain": [
       "3    32.530120\n",
       "2    24.899598\n",
       "4    21.084337\n",
       "5    14.658635\n",
       "1     6.827309\n",
       "Name: University Rating, dtype: float64"
      ]
     },
     "execution_count": 153,
     "metadata": {},
     "output_type": "execute_result"
    }
   ],
   "source": [
    "df[\"University Rating\"].value_counts(normalize=True)*100"
   ]
  },
  {
   "cell_type": "code",
   "execution_count": 154,
   "id": "9a64f1a6",
   "metadata": {},
   "outputs": [
    {
     "data": {
      "text/plain": [
       "4.0    17.670683\n",
       "3.5    17.670683\n",
       "3.0    16.064257\n",
       "4.5    12.650602\n",
       "2.5    12.650602\n",
       "2.0     8.634538\n",
       "5.0     8.433735\n",
       "1.5     5.020080\n",
       "1.0     1.204819\n",
       "Name: SOP, dtype: float64"
      ]
     },
     "execution_count": 154,
     "metadata": {},
     "output_type": "execute_result"
    }
   ],
   "source": [
    "df[\"SOP\"].value_counts(normalize=True)*100"
   ]
  },
  {
   "cell_type": "code",
   "execution_count": 155,
   "id": "f0934450",
   "metadata": {},
   "outputs": [
    {
     "data": {
      "text/plain": [
       "3.0    19.678715\n",
       "4.0    18.875502\n",
       "3.5    17.269076\n",
       "4.5    12.650602\n",
       "2.5    10.040161\n",
       "5.0    10.040161\n",
       "2.0     9.036145\n",
       "1.5     2.208835\n",
       "1.0     0.200803\n",
       "Name: LOR , dtype: float64"
      ]
     },
     "execution_count": 155,
     "metadata": {},
     "output_type": "execute_result"
    }
   ],
   "source": [
    "df[\"LOR \"].value_counts(normalize=True)*100"
   ]
  },
  {
   "cell_type": "code",
   "execution_count": 156,
   "id": "56954df3",
   "metadata": {},
   "outputs": [
    {
     "data": {
      "text/plain": [
       "1    56.2249\n",
       "0    43.7751\n",
       "Name: Research, dtype: float64"
      ]
     },
     "execution_count": 156,
     "metadata": {},
     "output_type": "execute_result"
    }
   ],
   "source": [
    "df[\"Research\"].value_counts(normalize=True)*100"
   ]
  },
  {
   "cell_type": "markdown",
   "id": "34360d90",
   "metadata": {},
   "source": [
    "#### Multi-feature Analysis (Marginal Probability)"
   ]
  },
  {
   "cell_type": "code",
   "execution_count": 157,
   "id": "72f961fd",
   "metadata": {},
   "outputs": [
    {
     "data": {
      "text/html": [
       "<div>\n",
       "<style scoped>\n",
       "    .dataframe tbody tr th:only-of-type {\n",
       "        vertical-align: middle;\n",
       "    }\n",
       "\n",
       "    .dataframe tbody tr th {\n",
       "        vertical-align: top;\n",
       "    }\n",
       "\n",
       "    .dataframe thead th {\n",
       "        text-align: right;\n",
       "    }\n",
       "</style>\n",
       "<table border=\"1\" class=\"dataframe\">\n",
       "  <thead>\n",
       "    <tr style=\"text-align: right;\">\n",
       "      <th>SOP</th>\n",
       "      <th>1.0</th>\n",
       "      <th>1.5</th>\n",
       "      <th>2.0</th>\n",
       "      <th>2.5</th>\n",
       "      <th>3.0</th>\n",
       "      <th>3.5</th>\n",
       "      <th>4.0</th>\n",
       "      <th>4.5</th>\n",
       "      <th>5.0</th>\n",
       "      <th>All</th>\n",
       "    </tr>\n",
       "    <tr>\n",
       "      <th>Chance of Admit</th>\n",
       "      <th></th>\n",
       "      <th></th>\n",
       "      <th></th>\n",
       "      <th></th>\n",
       "      <th></th>\n",
       "      <th></th>\n",
       "      <th></th>\n",
       "      <th></th>\n",
       "      <th></th>\n",
       "      <th></th>\n",
       "    </tr>\n",
       "  </thead>\n",
       "  <tbody>\n",
       "    <tr>\n",
       "      <th>0.36</th>\n",
       "      <td>0.000000</td>\n",
       "      <td>0.000000</td>\n",
       "      <td>0.200803</td>\n",
       "      <td>0.000000</td>\n",
       "      <td>0.200803</td>\n",
       "      <td>0.000000</td>\n",
       "      <td>0.000000</td>\n",
       "      <td>0.000000</td>\n",
       "      <td>0.000000</td>\n",
       "      <td>0.401606</td>\n",
       "    </tr>\n",
       "    <tr>\n",
       "      <th>0.37</th>\n",
       "      <td>0.000000</td>\n",
       "      <td>0.000000</td>\n",
       "      <td>0.200803</td>\n",
       "      <td>0.000000</td>\n",
       "      <td>0.000000</td>\n",
       "      <td>0.000000</td>\n",
       "      <td>0.000000</td>\n",
       "      <td>0.000000</td>\n",
       "      <td>0.000000</td>\n",
       "      <td>0.200803</td>\n",
       "    </tr>\n",
       "    <tr>\n",
       "      <th>0.38</th>\n",
       "      <td>0.000000</td>\n",
       "      <td>0.000000</td>\n",
       "      <td>0.200803</td>\n",
       "      <td>0.000000</td>\n",
       "      <td>0.000000</td>\n",
       "      <td>0.000000</td>\n",
       "      <td>0.000000</td>\n",
       "      <td>0.000000</td>\n",
       "      <td>0.200803</td>\n",
       "      <td>0.401606</td>\n",
       "    </tr>\n",
       "    <tr>\n",
       "      <th>0.39</th>\n",
       "      <td>0.000000</td>\n",
       "      <td>0.000000</td>\n",
       "      <td>0.200803</td>\n",
       "      <td>0.000000</td>\n",
       "      <td>0.000000</td>\n",
       "      <td>0.000000</td>\n",
       "      <td>0.000000</td>\n",
       "      <td>0.000000</td>\n",
       "      <td>0.000000</td>\n",
       "      <td>0.200803</td>\n",
       "    </tr>\n",
       "    <tr>\n",
       "      <th>0.42</th>\n",
       "      <td>0.200803</td>\n",
       "      <td>0.200803</td>\n",
       "      <td>0.401606</td>\n",
       "      <td>0.000000</td>\n",
       "      <td>0.000000</td>\n",
       "      <td>0.000000</td>\n",
       "      <td>0.000000</td>\n",
       "      <td>0.000000</td>\n",
       "      <td>0.000000</td>\n",
       "      <td>0.803213</td>\n",
       "    </tr>\n",
       "    <tr>\n",
       "      <th>...</th>\n",
       "      <td>...</td>\n",
       "      <td>...</td>\n",
       "      <td>...</td>\n",
       "      <td>...</td>\n",
       "      <td>...</td>\n",
       "      <td>...</td>\n",
       "      <td>...</td>\n",
       "      <td>...</td>\n",
       "      <td>...</td>\n",
       "      <td>...</td>\n",
       "    </tr>\n",
       "    <tr>\n",
       "      <th>0.94</th>\n",
       "      <td>0.000000</td>\n",
       "      <td>0.000000</td>\n",
       "      <td>0.000000</td>\n",
       "      <td>0.000000</td>\n",
       "      <td>0.000000</td>\n",
       "      <td>0.000000</td>\n",
       "      <td>0.200803</td>\n",
       "      <td>1.204819</td>\n",
       "      <td>1.204819</td>\n",
       "      <td>2.610442</td>\n",
       "    </tr>\n",
       "    <tr>\n",
       "      <th>0.95</th>\n",
       "      <td>0.000000</td>\n",
       "      <td>0.000000</td>\n",
       "      <td>0.000000</td>\n",
       "      <td>0.000000</td>\n",
       "      <td>0.000000</td>\n",
       "      <td>0.000000</td>\n",
       "      <td>0.000000</td>\n",
       "      <td>0.200803</td>\n",
       "      <td>0.803213</td>\n",
       "      <td>1.004016</td>\n",
       "    </tr>\n",
       "    <tr>\n",
       "      <th>0.96</th>\n",
       "      <td>0.000000</td>\n",
       "      <td>0.000000</td>\n",
       "      <td>0.000000</td>\n",
       "      <td>0.000000</td>\n",
       "      <td>0.000000</td>\n",
       "      <td>0.000000</td>\n",
       "      <td>0.401606</td>\n",
       "      <td>0.000000</td>\n",
       "      <td>1.204819</td>\n",
       "      <td>1.606426</td>\n",
       "    </tr>\n",
       "    <tr>\n",
       "      <th>0.97</th>\n",
       "      <td>0.000000</td>\n",
       "      <td>0.000000</td>\n",
       "      <td>0.000000</td>\n",
       "      <td>0.000000</td>\n",
       "      <td>0.000000</td>\n",
       "      <td>0.000000</td>\n",
       "      <td>0.401606</td>\n",
       "      <td>0.401606</td>\n",
       "      <td>0.000000</td>\n",
       "      <td>0.803213</td>\n",
       "    </tr>\n",
       "    <tr>\n",
       "      <th>All</th>\n",
       "      <td>1.204819</td>\n",
       "      <td>5.020080</td>\n",
       "      <td>8.634538</td>\n",
       "      <td>12.650602</td>\n",
       "      <td>16.064257</td>\n",
       "      <td>17.670683</td>\n",
       "      <td>17.670683</td>\n",
       "      <td>12.650602</td>\n",
       "      <td>8.433735</td>\n",
       "      <td>100.000000</td>\n",
       "    </tr>\n",
       "  </tbody>\n",
       "</table>\n",
       "<p>61 rows × 10 columns</p>\n",
       "</div>"
      ],
      "text/plain": [
       "SOP                    1.0       1.5       2.0        2.5        3.0  \\\n",
       "Chance of Admit                                                        \n",
       "0.36              0.000000  0.000000  0.200803   0.000000   0.200803   \n",
       "0.37              0.000000  0.000000  0.200803   0.000000   0.000000   \n",
       "0.38              0.000000  0.000000  0.200803   0.000000   0.000000   \n",
       "0.39              0.000000  0.000000  0.200803   0.000000   0.000000   \n",
       "0.42              0.200803  0.200803  0.401606   0.000000   0.000000   \n",
       "...                    ...       ...       ...        ...        ...   \n",
       "0.94              0.000000  0.000000  0.000000   0.000000   0.000000   \n",
       "0.95              0.000000  0.000000  0.000000   0.000000   0.000000   \n",
       "0.96              0.000000  0.000000  0.000000   0.000000   0.000000   \n",
       "0.97              0.000000  0.000000  0.000000   0.000000   0.000000   \n",
       "All               1.204819  5.020080  8.634538  12.650602  16.064257   \n",
       "\n",
       "SOP                     3.5        4.0        4.5       5.0         All  \n",
       "Chance of Admit                                                          \n",
       "0.36               0.000000   0.000000   0.000000  0.000000    0.401606  \n",
       "0.37               0.000000   0.000000   0.000000  0.000000    0.200803  \n",
       "0.38               0.000000   0.000000   0.000000  0.200803    0.401606  \n",
       "0.39               0.000000   0.000000   0.000000  0.000000    0.200803  \n",
       "0.42               0.000000   0.000000   0.000000  0.000000    0.803213  \n",
       "...                     ...        ...        ...       ...         ...  \n",
       "0.94               0.000000   0.200803   1.204819  1.204819    2.610442  \n",
       "0.95               0.000000   0.000000   0.200803  0.803213    1.004016  \n",
       "0.96               0.000000   0.401606   0.000000  1.204819    1.606426  \n",
       "0.97               0.000000   0.401606   0.401606  0.000000    0.803213  \n",
       "All               17.670683  17.670683  12.650602  8.433735  100.000000  \n",
       "\n",
       "[61 rows x 10 columns]"
      ]
     },
     "execution_count": 157,
     "metadata": {},
     "output_type": "execute_result"
    }
   ],
   "source": [
    "pd.crosstab(df['Chance of Admit '], df['SOP'], margins=True,normalize=True)*100"
   ]
  },
  {
   "cell_type": "code",
   "execution_count": 158,
   "id": "e41281a9",
   "metadata": {},
   "outputs": [
    {
     "data": {
      "text/html": [
       "<div>\n",
       "<style scoped>\n",
       "    .dataframe tbody tr th:only-of-type {\n",
       "        vertical-align: middle;\n",
       "    }\n",
       "\n",
       "    .dataframe tbody tr th {\n",
       "        vertical-align: top;\n",
       "    }\n",
       "\n",
       "    .dataframe thead th {\n",
       "        text-align: right;\n",
       "    }\n",
       "</style>\n",
       "<table border=\"1\" class=\"dataframe\">\n",
       "  <thead>\n",
       "    <tr style=\"text-align: right;\">\n",
       "      <th>LOR</th>\n",
       "      <th>1.0</th>\n",
       "      <th>1.5</th>\n",
       "      <th>2.0</th>\n",
       "      <th>2.5</th>\n",
       "      <th>3.0</th>\n",
       "      <th>3.5</th>\n",
       "      <th>4.0</th>\n",
       "      <th>4.5</th>\n",
       "      <th>5.0</th>\n",
       "      <th>All</th>\n",
       "    </tr>\n",
       "    <tr>\n",
       "      <th>Chance of Admit</th>\n",
       "      <th></th>\n",
       "      <th></th>\n",
       "      <th></th>\n",
       "      <th></th>\n",
       "      <th></th>\n",
       "      <th></th>\n",
       "      <th></th>\n",
       "      <th></th>\n",
       "      <th></th>\n",
       "      <th></th>\n",
       "    </tr>\n",
       "  </thead>\n",
       "  <tbody>\n",
       "    <tr>\n",
       "      <th>0.36</th>\n",
       "      <td>0.000000</td>\n",
       "      <td>0.000000</td>\n",
       "      <td>0.200803</td>\n",
       "      <td>0.200803</td>\n",
       "      <td>0.000000</td>\n",
       "      <td>0.000000</td>\n",
       "      <td>0.000000</td>\n",
       "      <td>0.000000</td>\n",
       "      <td>0.000000</td>\n",
       "      <td>0.401606</td>\n",
       "    </tr>\n",
       "    <tr>\n",
       "      <th>0.37</th>\n",
       "      <td>0.000000</td>\n",
       "      <td>0.200803</td>\n",
       "      <td>0.000000</td>\n",
       "      <td>0.000000</td>\n",
       "      <td>0.000000</td>\n",
       "      <td>0.000000</td>\n",
       "      <td>0.000000</td>\n",
       "      <td>0.000000</td>\n",
       "      <td>0.000000</td>\n",
       "      <td>0.200803</td>\n",
       "    </tr>\n",
       "    <tr>\n",
       "      <th>0.38</th>\n",
       "      <td>0.000000</td>\n",
       "      <td>0.000000</td>\n",
       "      <td>0.000000</td>\n",
       "      <td>0.200803</td>\n",
       "      <td>0.000000</td>\n",
       "      <td>0.200803</td>\n",
       "      <td>0.000000</td>\n",
       "      <td>0.000000</td>\n",
       "      <td>0.000000</td>\n",
       "      <td>0.401606</td>\n",
       "    </tr>\n",
       "    <tr>\n",
       "      <th>0.39</th>\n",
       "      <td>0.000000</td>\n",
       "      <td>0.000000</td>\n",
       "      <td>0.000000</td>\n",
       "      <td>0.200803</td>\n",
       "      <td>0.000000</td>\n",
       "      <td>0.000000</td>\n",
       "      <td>0.000000</td>\n",
       "      <td>0.000000</td>\n",
       "      <td>0.000000</td>\n",
       "      <td>0.200803</td>\n",
       "    </tr>\n",
       "    <tr>\n",
       "      <th>0.42</th>\n",
       "      <td>0.200803</td>\n",
       "      <td>0.000000</td>\n",
       "      <td>0.200803</td>\n",
       "      <td>0.200803</td>\n",
       "      <td>0.200803</td>\n",
       "      <td>0.000000</td>\n",
       "      <td>0.000000</td>\n",
       "      <td>0.000000</td>\n",
       "      <td>0.000000</td>\n",
       "      <td>0.803213</td>\n",
       "    </tr>\n",
       "    <tr>\n",
       "      <th>...</th>\n",
       "      <td>...</td>\n",
       "      <td>...</td>\n",
       "      <td>...</td>\n",
       "      <td>...</td>\n",
       "      <td>...</td>\n",
       "      <td>...</td>\n",
       "      <td>...</td>\n",
       "      <td>...</td>\n",
       "      <td>...</td>\n",
       "      <td>...</td>\n",
       "    </tr>\n",
       "    <tr>\n",
       "      <th>0.94</th>\n",
       "      <td>0.000000</td>\n",
       "      <td>0.000000</td>\n",
       "      <td>0.000000</td>\n",
       "      <td>0.000000</td>\n",
       "      <td>0.000000</td>\n",
       "      <td>0.000000</td>\n",
       "      <td>0.000000</td>\n",
       "      <td>0.803213</td>\n",
       "      <td>1.807229</td>\n",
       "      <td>2.610442</td>\n",
       "    </tr>\n",
       "    <tr>\n",
       "      <th>0.95</th>\n",
       "      <td>0.000000</td>\n",
       "      <td>0.000000</td>\n",
       "      <td>0.000000</td>\n",
       "      <td>0.000000</td>\n",
       "      <td>0.000000</td>\n",
       "      <td>0.000000</td>\n",
       "      <td>0.401606</td>\n",
       "      <td>0.401606</td>\n",
       "      <td>0.200803</td>\n",
       "      <td>1.004016</td>\n",
       "    </tr>\n",
       "    <tr>\n",
       "      <th>0.96</th>\n",
       "      <td>0.000000</td>\n",
       "      <td>0.000000</td>\n",
       "      <td>0.000000</td>\n",
       "      <td>0.000000</td>\n",
       "      <td>0.000000</td>\n",
       "      <td>0.200803</td>\n",
       "      <td>0.000000</td>\n",
       "      <td>0.401606</td>\n",
       "      <td>1.004016</td>\n",
       "      <td>1.606426</td>\n",
       "    </tr>\n",
       "    <tr>\n",
       "      <th>0.97</th>\n",
       "      <td>0.000000</td>\n",
       "      <td>0.000000</td>\n",
       "      <td>0.000000</td>\n",
       "      <td>0.000000</td>\n",
       "      <td>0.000000</td>\n",
       "      <td>0.200803</td>\n",
       "      <td>0.200803</td>\n",
       "      <td>0.200803</td>\n",
       "      <td>0.200803</td>\n",
       "      <td>0.803213</td>\n",
       "    </tr>\n",
       "    <tr>\n",
       "      <th>All</th>\n",
       "      <td>0.200803</td>\n",
       "      <td>2.208835</td>\n",
       "      <td>9.036145</td>\n",
       "      <td>10.040161</td>\n",
       "      <td>19.678715</td>\n",
       "      <td>17.269076</td>\n",
       "      <td>18.875502</td>\n",
       "      <td>12.650602</td>\n",
       "      <td>10.040161</td>\n",
       "      <td>100.000000</td>\n",
       "    </tr>\n",
       "  </tbody>\n",
       "</table>\n",
       "<p>61 rows × 10 columns</p>\n",
       "</div>"
      ],
      "text/plain": [
       "LOR                    1.0       1.5       2.0        2.5        3.0  \\\n",
       "Chance of Admit                                                        \n",
       "0.36              0.000000  0.000000  0.200803   0.200803   0.000000   \n",
       "0.37              0.000000  0.200803  0.000000   0.000000   0.000000   \n",
       "0.38              0.000000  0.000000  0.000000   0.200803   0.000000   \n",
       "0.39              0.000000  0.000000  0.000000   0.200803   0.000000   \n",
       "0.42              0.200803  0.000000  0.200803   0.200803   0.200803   \n",
       "...                    ...       ...       ...        ...        ...   \n",
       "0.94              0.000000  0.000000  0.000000   0.000000   0.000000   \n",
       "0.95              0.000000  0.000000  0.000000   0.000000   0.000000   \n",
       "0.96              0.000000  0.000000  0.000000   0.000000   0.000000   \n",
       "0.97              0.000000  0.000000  0.000000   0.000000   0.000000   \n",
       "All               0.200803  2.208835  9.036145  10.040161  19.678715   \n",
       "\n",
       "LOR                     3.5        4.0        4.5        5.0         All  \n",
       "Chance of Admit                                                           \n",
       "0.36               0.000000   0.000000   0.000000   0.000000    0.401606  \n",
       "0.37               0.000000   0.000000   0.000000   0.000000    0.200803  \n",
       "0.38               0.200803   0.000000   0.000000   0.000000    0.401606  \n",
       "0.39               0.000000   0.000000   0.000000   0.000000    0.200803  \n",
       "0.42               0.000000   0.000000   0.000000   0.000000    0.803213  \n",
       "...                     ...        ...        ...        ...         ...  \n",
       "0.94               0.000000   0.000000   0.803213   1.807229    2.610442  \n",
       "0.95               0.000000   0.401606   0.401606   0.200803    1.004016  \n",
       "0.96               0.200803   0.000000   0.401606   1.004016    1.606426  \n",
       "0.97               0.200803   0.200803   0.200803   0.200803    0.803213  \n",
       "All               17.269076  18.875502  12.650602  10.040161  100.000000  \n",
       "\n",
       "[61 rows x 10 columns]"
      ]
     },
     "execution_count": 158,
     "metadata": {},
     "output_type": "execute_result"
    }
   ],
   "source": [
    "pd.crosstab(df['Chance of Admit '], df['LOR '], margins=True,normalize=True)*100"
   ]
  },
  {
   "cell_type": "code",
   "execution_count": 159,
   "id": "786eeada",
   "metadata": {},
   "outputs": [
    {
     "data": {
      "text/html": [
       "<div>\n",
       "<style scoped>\n",
       "    .dataframe tbody tr th:only-of-type {\n",
       "        vertical-align: middle;\n",
       "    }\n",
       "\n",
       "    .dataframe tbody tr th {\n",
       "        vertical-align: top;\n",
       "    }\n",
       "\n",
       "    .dataframe thead th {\n",
       "        text-align: right;\n",
       "    }\n",
       "</style>\n",
       "<table border=\"1\" class=\"dataframe\">\n",
       "  <thead>\n",
       "    <tr style=\"text-align: right;\">\n",
       "      <th>Research</th>\n",
       "      <th>0</th>\n",
       "      <th>1</th>\n",
       "      <th>All</th>\n",
       "    </tr>\n",
       "    <tr>\n",
       "      <th>Chance of Admit</th>\n",
       "      <th></th>\n",
       "      <th></th>\n",
       "      <th></th>\n",
       "    </tr>\n",
       "  </thead>\n",
       "  <tbody>\n",
       "    <tr>\n",
       "      <th>0.36</th>\n",
       "      <td>0.200803</td>\n",
       "      <td>0.200803</td>\n",
       "      <td>0.401606</td>\n",
       "    </tr>\n",
       "    <tr>\n",
       "      <th>0.37</th>\n",
       "      <td>0.200803</td>\n",
       "      <td>0.000000</td>\n",
       "      <td>0.200803</td>\n",
       "    </tr>\n",
       "    <tr>\n",
       "      <th>0.38</th>\n",
       "      <td>0.401606</td>\n",
       "      <td>0.000000</td>\n",
       "      <td>0.401606</td>\n",
       "    </tr>\n",
       "    <tr>\n",
       "      <th>0.39</th>\n",
       "      <td>0.200803</td>\n",
       "      <td>0.000000</td>\n",
       "      <td>0.200803</td>\n",
       "    </tr>\n",
       "    <tr>\n",
       "      <th>0.42</th>\n",
       "      <td>0.803213</td>\n",
       "      <td>0.000000</td>\n",
       "      <td>0.803213</td>\n",
       "    </tr>\n",
       "    <tr>\n",
       "      <th>...</th>\n",
       "      <td>...</td>\n",
       "      <td>...</td>\n",
       "      <td>...</td>\n",
       "    </tr>\n",
       "    <tr>\n",
       "      <th>0.94</th>\n",
       "      <td>0.000000</td>\n",
       "      <td>2.610442</td>\n",
       "      <td>2.610442</td>\n",
       "    </tr>\n",
       "    <tr>\n",
       "      <th>0.95</th>\n",
       "      <td>0.000000</td>\n",
       "      <td>1.004016</td>\n",
       "      <td>1.004016</td>\n",
       "    </tr>\n",
       "    <tr>\n",
       "      <th>0.96</th>\n",
       "      <td>0.000000</td>\n",
       "      <td>1.606426</td>\n",
       "      <td>1.606426</td>\n",
       "    </tr>\n",
       "    <tr>\n",
       "      <th>0.97</th>\n",
       "      <td>0.000000</td>\n",
       "      <td>0.803213</td>\n",
       "      <td>0.803213</td>\n",
       "    </tr>\n",
       "    <tr>\n",
       "      <th>All</th>\n",
       "      <td>43.775100</td>\n",
       "      <td>56.224900</td>\n",
       "      <td>100.000000</td>\n",
       "    </tr>\n",
       "  </tbody>\n",
       "</table>\n",
       "<p>61 rows × 3 columns</p>\n",
       "</div>"
      ],
      "text/plain": [
       "Research                  0          1         All\n",
       "Chance of Admit                                   \n",
       "0.36               0.200803   0.200803    0.401606\n",
       "0.37               0.200803   0.000000    0.200803\n",
       "0.38               0.401606   0.000000    0.401606\n",
       "0.39               0.200803   0.000000    0.200803\n",
       "0.42               0.803213   0.000000    0.803213\n",
       "...                     ...        ...         ...\n",
       "0.94               0.000000   2.610442    2.610442\n",
       "0.95               0.000000   1.004016    1.004016\n",
       "0.96               0.000000   1.606426    1.606426\n",
       "0.97               0.000000   0.803213    0.803213\n",
       "All               43.775100  56.224900  100.000000\n",
       "\n",
       "[61 rows x 3 columns]"
      ]
     },
     "execution_count": 159,
     "metadata": {},
     "output_type": "execute_result"
    }
   ],
   "source": [
    "pd.crosstab(df['Chance of Admit '], df['Research'], margins=True,normalize=True)*100"
   ]
  },
  {
   "cell_type": "markdown",
   "id": "1bec2bb3",
   "metadata": {},
   "source": [
    "### Visual Analysis "
   ]
  },
  {
   "cell_type": "code",
   "execution_count": 160,
   "id": "9efd7c1f",
   "metadata": {},
   "outputs": [
    {
     "data": {
      "image/png": "[encoded data removed]",
      "text/plain": [
       "<Figure size 1440x180 with 9 Axes>"
      ]
     },
     "metadata": {
      "needs_background": "light"
     },
     "output_type": "display_data"
    }
   ],
   "source": [
    "sns.pairplot(df, y_vars=[\"Chance of Admit \"]);"
   ]
  },
  {
   "cell_type": "markdown",
   "id": "a53d0abb",
   "metadata": {},
   "source": [
    "- **Insights** : \n",
    "    - **High correlation** between following variables\n",
    "        - **GRE Score and Chance of Admit**\n",
    "        - **TOEFL Score and Chance of Admit**\n",
    "        - **CGPA and Chance of Admit**\n",
    "    - **Above high correlations** (i.e GRE , TOEFL and CGPA) seem to make a lot of sense , **could contribute as significant features for predicting the Chance of Admit**\n",
    "    - For **rest features such as \"university rating\" , \"SOP\" , \"LOR\" and \"Reasearch\"** let's see different group distributions look similar or not . This is **to verify if those groups have any significance in predicting \"Chance of Admit\"**"
   ]
  },
  {
   "cell_type": "markdown",
   "id": "2daa52cd",
   "metadata": {},
   "source": [
    "### Check distributions across groups (Independent features)"
   ]
  },
  {
   "cell_type": "code",
   "execution_count": 161,
   "id": "5d74045a",
   "metadata": {},
   "outputs": [
    {
     "data": {
      "image/png": "[encoded data removed]",
      "text/plain": [
       "<Figure size 432x288 with 1 Axes>"
      ]
     },
     "metadata": {
      "needs_background": "light"
     },
     "output_type": "display_data"
    }
   ],
   "source": [
    "df.groupby('University Rating')['Chance of Admit '].plot.density();\n",
    "plt.legend();"
   ]
  },
  {
   "cell_type": "code",
   "execution_count": 162,
   "id": "4898ed31",
   "metadata": {},
   "outputs": [
    {
     "data": {
      "image/png": "[encoded data removed]",
      "text/plain": [
       "<Figure size 432x288 with 1 Axes>"
      ]
     },
     "metadata": {
      "needs_background": "light"
     },
     "output_type": "display_data"
    }
   ],
   "source": [
    "df.groupby('SOP')['Chance of Admit '].plot.density();\n",
    "plt.legend();"
   ]
  },
  {
   "cell_type": "code",
   "execution_count": 163,
   "id": "6412bf40",
   "metadata": {},
   "outputs": [
    {
     "data": {
      "image/png": "[encoded data removed]",
      "text/plain": [
       "<Figure size 432x288 with 1 Axes>"
      ]
     },
     "metadata": {
      "needs_background": "light"
     },
     "output_type": "display_data"
    }
   ],
   "source": [
    "df.groupby('Research')['Chance of Admit '].plot.density();\n",
    "plt.legend();"
   ]
  },
  {
   "cell_type": "markdown",
   "id": "3f191de0",
   "metadata": {},
   "source": [
    "- **Insights** : \n",
    "    - **Group Distributions are not similar hence there is some significance of each group**\n",
    "    - **Need to run more statistical methods to affirm level of significance**"
   ]
  },
  {
   "cell_type": "code",
   "execution_count": 164,
   "id": "9219d7cb",
   "metadata": {},
   "outputs": [
    {
     "data": {
      "text/plain": [
       "<AxesSubplot:xlabel='University Rating', ylabel='Chance of Admit '>"
      ]
     },
     "execution_count": 164,
     "metadata": {},
     "output_type": "execute_result"
    },
    {
     "data": {
      "image/png": "[encoded data removed]",
      "text/plain": [
       "<Figure size 432x288 with 1 Axes>"
      ]
     },
     "metadata": {
      "needs_background": "light"
     },
     "output_type": "display_data"
    }
   ],
   "source": [
    "sns.boxplot(x = 'University Rating', y='Chance of Admit ', data=df)"
   ]
  },
  {
   "cell_type": "markdown",
   "id": "03997fba",
   "metadata": {},
   "source": [
    "- **Insights** : \n",
    "    - **University rating beyond 2 has good chance of Admission**\n",
    "    - There are outliers as well(i.e. less chance of admission) , may be based on other combination of features"
   ]
  },
  {
   "cell_type": "code",
   "execution_count": 165,
   "id": "73a9b601",
   "metadata": {},
   "outputs": [
    {
     "data": {
      "text/plain": [
       "<AxesSubplot:xlabel='SOP', ylabel='Chance of Admit '>"
      ]
     },
     "execution_count": 165,
     "metadata": {},
     "output_type": "execute_result"
    },
    {
     "data": {
      "image/png": "[encoded data removed]",
      "text/plain": [
       "<Figure size 432x288 with 1 Axes>"
      ]
     },
     "metadata": {
      "needs_background": "light"
     },
     "output_type": "display_data"
    }
   ],
   "source": [
    "sns.boxplot(x = 'SOP', y='Chance of Admit ', data=df)"
   ]
  },
  {
   "cell_type": "markdown",
   "id": "ee764c48",
   "metadata": {},
   "source": [
    "- **Insights** : \n",
    "    - **SOP score beyond 3 creates a good chance of Admission**\n",
    "    - There are more outliers(i.e.less chance of admission) when SOP score is too high "
   ]
  },
  {
   "cell_type": "code",
   "execution_count": 166,
   "id": "e60a3f42",
   "metadata": {},
   "outputs": [
    {
     "data": {
      "text/plain": [
       "<AxesSubplot:xlabel='LOR ', ylabel='Chance of Admit '>"
      ]
     },
     "execution_count": 166,
     "metadata": {},
     "output_type": "execute_result"
    },
    {
     "data": {
      "image/png": "[encoded data removed]",
      "text/plain": [
       "<Figure size 432x288 with 1 Axes>"
      ]
     },
     "metadata": {
      "needs_background": "light"
     },
     "output_type": "display_data"
    }
   ],
   "source": [
    "sns.boxplot(x = 'LOR ', y='Chance of Admit ', data=df)"
   ]
  },
  {
   "cell_type": "markdown",
   "id": "2643b0ac",
   "metadata": {},
   "source": [
    "- **Insights** : \n",
    "    - **LOR score beyond 3 creates a good chance of Admission**\n",
    "    - There are outliers(i.e. less chance of admission) when LOR scores are between 2.5 and 4.5"
   ]
  },
  {
   "cell_type": "code",
   "execution_count": 167,
   "id": "777f1000",
   "metadata": {},
   "outputs": [
    {
     "data": {
      "text/plain": [
       "<AxesSubplot:xlabel='Research', ylabel='Chance of Admit '>"
      ]
     },
     "execution_count": 167,
     "metadata": {},
     "output_type": "execute_result"
    },
    {
     "data": {
      "image/png": "[encoded data removed]",
      "text/plain": [
       "<Figure size 432x288 with 1 Axes>"
      ]
     },
     "metadata": {
      "needs_background": "light"
     },
     "output_type": "display_data"
    }
   ],
   "source": [
    "sns.boxplot(x = 'Research', y='Chance of Admit ', data=df)"
   ]
  },
  {
   "cell_type": "markdown",
   "id": "f3f6e12a",
   "metadata": {},
   "source": [
    "- **Insights** :\n",
    "    - More chances of admission if there is research experience"
   ]
  },
  {
   "cell_type": "markdown",
   "id": "36dafd1f",
   "metadata": {},
   "source": [
    "## Data Preprocessing - Part 2"
   ]
  },
  {
   "cell_type": "markdown",
   "id": "cddb4a52",
   "metadata": {},
   "source": [
    "### Feature Engineering\n"
   ]
  },
  {
   "cell_type": "markdown",
   "id": "f09831ed",
   "metadata": {},
   "source": [
    "#### Converting GRE score into score categories - Good , Avg , Poor "
   ]
  },
  {
   "cell_type": "code",
   "execution_count": 168,
   "id": "1b4caa76",
   "metadata": {},
   "outputs": [],
   "source": [
    "def GRE_Score_categorization(x):\n",
    "    x = int(x)\n",
    "    if x <= 300:\n",
    "        return \"Poor\"\n",
    "    elif 300 < x < 320:\n",
    "        return \"Average\"\n",
    "    elif x >=320:\n",
    "        return \"Good\""
   ]
  },
  {
   "cell_type": "code",
   "execution_count": 169,
   "id": "05e08d7b",
   "metadata": {},
   "outputs": [],
   "source": [
    "df[\"GRE_score_category\"] = df[\"GRE Score\"].apply(GRE_Score_categorization)"
   ]
  },
  {
   "cell_type": "markdown",
   "id": "ac9885c8",
   "metadata": {},
   "source": [
    "#### Converting TOEFL score into grades "
   ]
  },
  {
   "cell_type": "code",
   "execution_count": 170,
   "id": "aa25c133",
   "metadata": {},
   "outputs": [],
   "source": [
    "def TOEFL_Score_categorization(x):\n",
    "    x = int(x)\n",
    "    if x < 85:\n",
    "        return \"Poor\"\n",
    "    elif 85 <= x <= 95:\n",
    "        return \"Average\"\n",
    "    elif x > 95:\n",
    "        return \"Good\""
   ]
  },
  {
   "cell_type": "code",
   "execution_count": 171,
   "id": "a0aa5c72",
   "metadata": {},
   "outputs": [],
   "source": [
    "df[\"TOEFL_score_category\"] = df[\"TOEFL Score\"].apply(TOEFL_Score_categorization)"
   ]
  },
  {
   "cell_type": "markdown",
   "id": "d274ce02",
   "metadata": {},
   "source": [
    "#### Converting CGPA into basic categories "
   ]
  },
  {
   "cell_type": "code",
   "execution_count": 172,
   "id": "f0f587cb",
   "metadata": {},
   "outputs": [],
   "source": [
    "def CGPA_to_basic_categories(x):\n",
    "    x = int(x)\n",
    "    if x < 6.5:\n",
    "        return \"Poor\"\n",
    "    elif 6.5 <= x < 7.5:\n",
    "        return \"Average\"\n",
    "    elif x >= 7.5:\n",
    "        return \"Good\""
   ]
  },
  {
   "cell_type": "code",
   "execution_count": 173,
   "id": "10545cd0",
   "metadata": {},
   "outputs": [],
   "source": [
    "df[\"CGPA_category\"] = df[\"CGPA\"].apply(CGPA_to_basic_categories)"
   ]
  },
  {
   "cell_type": "markdown",
   "id": "e1ca8da9",
   "metadata": {},
   "source": [
    "#### GRE / TOEFL ratio - GRE test is considered as much harder than TOEFL (can avoid multi-collinearity )"
   ]
  },
  {
   "cell_type": "code",
   "execution_count": 174,
   "id": "901284a9",
   "metadata": {},
   "outputs": [],
   "source": [
    "df[\"GRE_TOEFL_score_ratio\"] = df[\"GRE Score\"] / df[\"TOEFL Score\"]"
   ]
  },
  {
   "cell_type": "markdown",
   "id": "2d5baced",
   "metadata": {},
   "source": [
    "#### Chance of Admit  category - Just for visualization"
   ]
  },
  {
   "cell_type": "code",
   "execution_count": 188,
   "id": "78348d85",
   "metadata": {},
   "outputs": [],
   "source": [
    "def Chance_of_admit_categories(x):\n",
    "    if x < 0.6:\n",
    "        return \"Less\"\n",
    "    elif x > .6:\n",
    "        return \"High\""
   ]
  },
  {
   "cell_type": "code",
   "execution_count": 189,
   "id": "a9c1e41e",
   "metadata": {},
   "outputs": [],
   "source": [
    "df[\"Chance of Admit_category\"] = df[\"Chance of Admit \"].apply(Chance_of_admit_categories)"
   ]
  },
  {
   "cell_type": "code",
   "execution_count": 190,
   "id": "9bc29c4d",
   "metadata": {},
   "outputs": [
    {
     "data": {
      "text/plain": [
       "High    403\n",
       "Less     93\n",
       "Name: Chance of Admit_category, dtype: int64"
      ]
     },
     "execution_count": 190,
     "metadata": {},
     "output_type": "execute_result"
    }
   ],
   "source": [
    "df[\"Chance of Admit_category\"].value_counts()"
   ]
  },
  {
   "cell_type": "code",
   "execution_count": 191,
   "id": "22d2a605",
   "metadata": {},
   "outputs": [
    {
     "data": {
      "text/html": [
       "<div>\n",
       "<style scoped>\n",
       "    .dataframe tbody tr th:only-of-type {\n",
       "        vertical-align: middle;\n",
       "    }\n",
       "\n",
       "    .dataframe tbody tr th {\n",
       "        vertical-align: top;\n",
       "    }\n",
       "\n",
       "    .dataframe thead th {\n",
       "        text-align: right;\n",
       "    }\n",
       "</style>\n",
       "<table border=\"1\" class=\"dataframe\">\n",
       "  <thead>\n",
       "    <tr style=\"text-align: right;\">\n",
       "      <th></th>\n",
       "      <th>GRE Score</th>\n",
       "      <th>TOEFL Score</th>\n",
       "      <th>University Rating</th>\n",
       "      <th>SOP</th>\n",
       "      <th>LOR</th>\n",
       "      <th>CGPA</th>\n",
       "      <th>Research</th>\n",
       "      <th>Chance of Admit</th>\n",
       "      <th>GRE_score_category</th>\n",
       "      <th>TOEFL_score_category</th>\n",
       "      <th>CGPA_category</th>\n",
       "      <th>GRE_TOEFL_score_ratio</th>\n",
       "      <th>Chance of Admit_category</th>\n",
       "    </tr>\n",
       "  </thead>\n",
       "  <tbody>\n",
       "    <tr>\n",
       "      <th>0</th>\n",
       "      <td>337</td>\n",
       "      <td>118</td>\n",
       "      <td>4</td>\n",
       "      <td>4.5</td>\n",
       "      <td>4.5</td>\n",
       "      <td>9.65</td>\n",
       "      <td>1</td>\n",
       "      <td>0.92</td>\n",
       "      <td>Good</td>\n",
       "      <td>Good</td>\n",
       "      <td>Good</td>\n",
       "      <td>2.855932</td>\n",
       "      <td>High</td>\n",
       "    </tr>\n",
       "    <tr>\n",
       "      <th>1</th>\n",
       "      <td>324</td>\n",
       "      <td>107</td>\n",
       "      <td>4</td>\n",
       "      <td>4.0</td>\n",
       "      <td>4.5</td>\n",
       "      <td>8.87</td>\n",
       "      <td>1</td>\n",
       "      <td>0.76</td>\n",
       "      <td>Good</td>\n",
       "      <td>Good</td>\n",
       "      <td>Good</td>\n",
       "      <td>3.028037</td>\n",
       "      <td>High</td>\n",
       "    </tr>\n",
       "    <tr>\n",
       "      <th>2</th>\n",
       "      <td>316</td>\n",
       "      <td>104</td>\n",
       "      <td>3</td>\n",
       "      <td>3.0</td>\n",
       "      <td>3.5</td>\n",
       "      <td>8.00</td>\n",
       "      <td>1</td>\n",
       "      <td>0.72</td>\n",
       "      <td>Average</td>\n",
       "      <td>Good</td>\n",
       "      <td>Good</td>\n",
       "      <td>3.038462</td>\n",
       "      <td>High</td>\n",
       "    </tr>\n",
       "    <tr>\n",
       "      <th>3</th>\n",
       "      <td>322</td>\n",
       "      <td>110</td>\n",
       "      <td>3</td>\n",
       "      <td>3.5</td>\n",
       "      <td>2.5</td>\n",
       "      <td>8.67</td>\n",
       "      <td>1</td>\n",
       "      <td>0.80</td>\n",
       "      <td>Good</td>\n",
       "      <td>Good</td>\n",
       "      <td>Good</td>\n",
       "      <td>2.927273</td>\n",
       "      <td>High</td>\n",
       "    </tr>\n",
       "    <tr>\n",
       "      <th>4</th>\n",
       "      <td>314</td>\n",
       "      <td>103</td>\n",
       "      <td>2</td>\n",
       "      <td>2.0</td>\n",
       "      <td>3.0</td>\n",
       "      <td>8.21</td>\n",
       "      <td>0</td>\n",
       "      <td>0.65</td>\n",
       "      <td>Average</td>\n",
       "      <td>Good</td>\n",
       "      <td>Good</td>\n",
       "      <td>3.048544</td>\n",
       "      <td>High</td>\n",
       "    </tr>\n",
       "  </tbody>\n",
       "</table>\n",
       "</div>"
      ],
      "text/plain": [
       "   GRE Score  TOEFL Score  University Rating  SOP  LOR   CGPA  Research  \\\n",
       "0        337          118                  4  4.5   4.5  9.65         1   \n",
       "1        324          107                  4  4.0   4.5  8.87         1   \n",
       "2        316          104                  3  3.0   3.5  8.00         1   \n",
       "3        322          110                  3  3.5   2.5  8.67         1   \n",
       "4        314          103                  2  2.0   3.0  8.21         0   \n",
       "\n",
       "   Chance of Admit  GRE_score_category TOEFL_score_category CGPA_category  \\\n",
       "0              0.92               Good                 Good          Good   \n",
       "1              0.76               Good                 Good          Good   \n",
       "2              0.72            Average                 Good          Good   \n",
       "3              0.80               Good                 Good          Good   \n",
       "4              0.65            Average                 Good          Good   \n",
       "\n",
       "   GRE_TOEFL_score_ratio Chance of Admit_category  \n",
       "0               2.855932                     High  \n",
       "1               3.028037                     High  \n",
       "2               3.038462                     High  \n",
       "3               2.927273                     High  \n",
       "4               3.048544                     High  "
      ]
     },
     "execution_count": 191,
     "metadata": {},
     "output_type": "execute_result"
    }
   ],
   "source": [
    "df.head()"
   ]
  },
  {
   "cell_type": "markdown",
   "id": "53306fd9",
   "metadata": {},
   "source": [
    "#### Target Encoding"
   ]
  },
  {
   "cell_type": "code",
   "execution_count": 45,
   "id": "21704939",
   "metadata": {},
   "outputs": [],
   "source": [
    "from category_encoders import TargetEncoder\n",
    "# Using Target/Response encording for region features as there are more than two levels \n",
    "te = TargetEncoder()"
   ]
  },
  {
   "cell_type": "code",
   "execution_count": 46,
   "id": "87bfc45f",
   "metadata": {},
   "outputs": [],
   "source": [
    "df['SOP'] = df['SOP'].astype(str)\n",
    "df['LOR '] = df['LOR '].astype(str)\n",
    "df['University Rating'] = df['University Rating'].astype(str)"
   ]
  },
  {
   "cell_type": "code",
   "execution_count": 47,
   "id": "830a18c9",
   "metadata": {},
   "outputs": [],
   "source": [
    "cols=['SOP','LOR ','University Rating','GRE_score_category','TOEFL_score_category','CGPA_category']\n",
    "for feature in cols:\n",
    "    df[feature+'_target_encoded'] = te.fit_transform(df[feature],df['Chance of Admit '])\n",
    "    df[feature+'_target_encoded']"
   ]
  },
  {
   "cell_type": "code",
   "execution_count": 48,
   "id": "f2dc4a45",
   "metadata": {},
   "outputs": [
    {
     "data": {
      "text/html": [
       "<div>\n",
       "<style scoped>\n",
       "    .dataframe tbody tr th:only-of-type {\n",
       "        vertical-align: middle;\n",
       "    }\n",
       "\n",
       "    .dataframe tbody tr th {\n",
       "        vertical-align: top;\n",
       "    }\n",
       "\n",
       "    .dataframe thead th {\n",
       "        text-align: right;\n",
       "    }\n",
       "</style>\n",
       "<table border=\"1\" class=\"dataframe\">\n",
       "  <thead>\n",
       "    <tr style=\"text-align: right;\">\n",
       "      <th></th>\n",
       "      <th>GRE Score</th>\n",
       "      <th>TOEFL Score</th>\n",
       "      <th>University Rating</th>\n",
       "      <th>SOP</th>\n",
       "      <th>LOR</th>\n",
       "      <th>CGPA</th>\n",
       "      <th>Research</th>\n",
       "      <th>Chance of Admit</th>\n",
       "      <th>GRE_score_category</th>\n",
       "      <th>TOEFL_score_category</th>\n",
       "      <th>CGPA_category</th>\n",
       "      <th>GRE_TOEFL_score_ratio</th>\n",
       "      <th>SOP_target_encoded</th>\n",
       "      <th>LOR _target_encoded</th>\n",
       "      <th>University Rating_target_encoded</th>\n",
       "      <th>GRE_score_category_target_encoded</th>\n",
       "      <th>TOEFL_score_category_target_encoded</th>\n",
       "      <th>CGPA_category_target_encoded</th>\n",
       "    </tr>\n",
       "  </thead>\n",
       "  <tbody>\n",
       "    <tr>\n",
       "      <th>0</th>\n",
       "      <td>337</td>\n",
       "      <td>118</td>\n",
       "      <td>4</td>\n",
       "      <td>4.5</td>\n",
       "      <td>4.5</td>\n",
       "      <td>9.65</td>\n",
       "      <td>1</td>\n",
       "      <td>0.92</td>\n",
       "      <td>Good</td>\n",
       "      <td>Good</td>\n",
       "      <td>Good</td>\n",
       "      <td>2.855932</td>\n",
       "      <td>0.850000</td>\n",
       "      <td>0.831905</td>\n",
       "      <td>0.801619</td>\n",
       "      <td>0.838122</td>\n",
       "      <td>0.727</td>\n",
       "      <td>0.759952</td>\n",
       "    </tr>\n",
       "    <tr>\n",
       "      <th>1</th>\n",
       "      <td>324</td>\n",
       "      <td>107</td>\n",
       "      <td>4</td>\n",
       "      <td>4.0</td>\n",
       "      <td>4.5</td>\n",
       "      <td>8.87</td>\n",
       "      <td>1</td>\n",
       "      <td>0.76</td>\n",
       "      <td>Good</td>\n",
       "      <td>Good</td>\n",
       "      <td>Good</td>\n",
       "      <td>3.028037</td>\n",
       "      <td>0.787841</td>\n",
       "      <td>0.831905</td>\n",
       "      <td>0.801619</td>\n",
       "      <td>0.838122</td>\n",
       "      <td>0.727</td>\n",
       "      <td>0.759952</td>\n",
       "    </tr>\n",
       "    <tr>\n",
       "      <th>2</th>\n",
       "      <td>316</td>\n",
       "      <td>104</td>\n",
       "      <td>3</td>\n",
       "      <td>3.0</td>\n",
       "      <td>3.5</td>\n",
       "      <td>8.00</td>\n",
       "      <td>1</td>\n",
       "      <td>0.72</td>\n",
       "      <td>Average</td>\n",
       "      <td>Good</td>\n",
       "      <td>Good</td>\n",
       "      <td>3.038462</td>\n",
       "      <td>0.678500</td>\n",
       "      <td>0.723023</td>\n",
       "      <td>0.702901</td>\n",
       "      <td>0.658504</td>\n",
       "      <td>0.727</td>\n",
       "      <td>0.759952</td>\n",
       "    </tr>\n",
       "    <tr>\n",
       "      <th>3</th>\n",
       "      <td>322</td>\n",
       "      <td>110</td>\n",
       "      <td>3</td>\n",
       "      <td>3.5</td>\n",
       "      <td>2.5</td>\n",
       "      <td>8.67</td>\n",
       "      <td>1</td>\n",
       "      <td>0.80</td>\n",
       "      <td>Good</td>\n",
       "      <td>Good</td>\n",
       "      <td>Good</td>\n",
       "      <td>2.927273</td>\n",
       "      <td>0.712045</td>\n",
       "      <td>0.640600</td>\n",
       "      <td>0.702901</td>\n",
       "      <td>0.838122</td>\n",
       "      <td>0.727</td>\n",
       "      <td>0.759952</td>\n",
       "    </tr>\n",
       "    <tr>\n",
       "      <th>4</th>\n",
       "      <td>314</td>\n",
       "      <td>103</td>\n",
       "      <td>2</td>\n",
       "      <td>2.0</td>\n",
       "      <td>3.0</td>\n",
       "      <td>8.21</td>\n",
       "      <td>0</td>\n",
       "      <td>0.65</td>\n",
       "      <td>Average</td>\n",
       "      <td>Good</td>\n",
       "      <td>Good</td>\n",
       "      <td>3.048544</td>\n",
       "      <td>0.589535</td>\n",
       "      <td>0.671837</td>\n",
       "      <td>0.630726</td>\n",
       "      <td>0.658504</td>\n",
       "      <td>0.727</td>\n",
       "      <td>0.759952</td>\n",
       "    </tr>\n",
       "  </tbody>\n",
       "</table>\n",
       "</div>"
      ],
      "text/plain": [
       "   GRE Score  TOEFL Score University Rating  SOP LOR   CGPA  Research  \\\n",
       "0        337          118                 4  4.5  4.5  9.65         1   \n",
       "1        324          107                 4  4.0  4.5  8.87         1   \n",
       "2        316          104                 3  3.0  3.5  8.00         1   \n",
       "3        322          110                 3  3.5  2.5  8.67         1   \n",
       "4        314          103                 2  2.0  3.0  8.21         0   \n",
       "\n",
       "   Chance of Admit  GRE_score_category TOEFL_score_category CGPA_category  \\\n",
       "0              0.92               Good                 Good          Good   \n",
       "1              0.76               Good                 Good          Good   \n",
       "2              0.72            Average                 Good          Good   \n",
       "3              0.80               Good                 Good          Good   \n",
       "4              0.65            Average                 Good          Good   \n",
       "\n",
       "   GRE_TOEFL_score_ratio  SOP_target_encoded  LOR _target_encoded  \\\n",
       "0               2.855932            0.850000             0.831905   \n",
       "1               3.028037            0.787841             0.831905   \n",
       "2               3.038462            0.678500             0.723023   \n",
       "3               2.927273            0.712045             0.640600   \n",
       "4               3.048544            0.589535             0.671837   \n",
       "\n",
       "   University Rating_target_encoded  GRE_score_category_target_encoded  \\\n",
       "0                          0.801619                           0.838122   \n",
       "1                          0.801619                           0.838122   \n",
       "2                          0.702901                           0.658504   \n",
       "3                          0.702901                           0.838122   \n",
       "4                          0.630726                           0.658504   \n",
       "\n",
       "   TOEFL_score_category_target_encoded  CGPA_category_target_encoded  \n",
       "0                                0.727                      0.759952  \n",
       "1                                0.727                      0.759952  \n",
       "2                                0.727                      0.759952  \n",
       "3                                0.727                      0.759952  \n",
       "4                                0.727                      0.759952  "
      ]
     },
     "execution_count": 48,
     "metadata": {},
     "output_type": "execute_result"
    }
   ],
   "source": [
    "df.head()"
   ]
  },
  {
   "cell_type": "code",
   "execution_count": 192,
   "id": "7e5311d7",
   "metadata": {},
   "outputs": [
    {
     "data": {
      "text/plain": [
       "<AxesSubplot:xlabel='GRE_score_category', ylabel='count'>"
      ]
     },
     "execution_count": 192,
     "metadata": {},
     "output_type": "execute_result"
    },
    {
     "data": {
      "image/png": "[encoded data removed]",
      "text/plain": [
       "<Figure size 432x288 with 1 Axes>"
      ]
     },
     "metadata": {
      "needs_background": "light"
     },
     "output_type": "display_data"
    }
   ],
   "source": [
    "sns.countplot(data=df, x =\"GRE_score_category\",hue='Chance of Admit_category')"
   ]
  },
  {
   "cell_type": "markdown",
   "id": "9d1b330b",
   "metadata": {},
   "source": [
    "- **Insights**\n",
    "    - More chance of Admission when GRE score is Good (i.e 320+) or Average (i.e. between 300 and 320)"
   ]
  },
  {
   "cell_type": "code",
   "execution_count": 193,
   "id": "12d9445a",
   "metadata": {},
   "outputs": [
    {
     "data": {
      "text/plain": [
       "<AxesSubplot:xlabel='TOEFL_score_category', ylabel='count'>"
      ]
     },
     "execution_count": 193,
     "metadata": {},
     "output_type": "execute_result"
    },
    {
     "data": {
      "image/png": "[encoded data removed]",
      "text/plain": [
       "<Figure size 432x288 with 1 Axes>"
      ]
     },
     "metadata": {
      "needs_background": "light"
     },
     "output_type": "display_data"
    }
   ],
   "source": [
    "sns.countplot(data=df, x =\"TOEFL_score_category\",hue='Chance of Admit_category')"
   ]
  },
  {
   "cell_type": "markdown",
   "id": "8d149d5e",
   "metadata": {},
   "source": [
    "- **Insights**\n",
    "    - More chance of Admission when TOEFL score is Good (i.e 95+)"
   ]
  },
  {
   "cell_type": "code",
   "execution_count": 194,
   "id": "91587bd1",
   "metadata": {},
   "outputs": [
    {
     "data": {
      "text/plain": [
       "<AxesSubplot:xlabel='GRE_TOEFL_score_ratio', ylabel='Chance of Admit '>"
      ]
     },
     "execution_count": 194,
     "metadata": {},
     "output_type": "execute_result"
    },
    {
     "data": {
      "image/png": "[encoded data removed]",
      "text/plain": [
       "<Figure size 432x288 with 1 Axes>"
      ]
     },
     "metadata": {
      "needs_background": "light"
     },
     "output_type": "display_data"
    }
   ],
   "source": [
    "sns.scatterplot(data=df, y =\"Chance of Admit \",x='GRE_TOEFL_score_ratio',hue='Chance of Admit_category')"
   ]
  },
  {
   "cell_type": "markdown",
   "id": "e0269073",
   "metadata": {},
   "source": [
    "- **Insights**\n",
    "    - More chance of Admission when GRE to TOEFL score  ratio is more than 0.6"
   ]
  },
  {
   "cell_type": "code",
   "execution_count": 195,
   "id": "79bb26d1",
   "metadata": {},
   "outputs": [
    {
     "data": {
      "text/plain": [
       "<AxesSubplot:xlabel='CGPA_category', ylabel='count'>"
      ]
     },
     "execution_count": 195,
     "metadata": {},
     "output_type": "execute_result"
    },
    {
     "data": {
      "image/png": "[encoded data removed]",
      "text/plain": [
       "<Figure size 432x288 with 1 Axes>"
      ]
     },
     "metadata": {
      "needs_background": "light"
     },
     "output_type": "display_data"
    }
   ],
   "source": [
    "sns.countplot(data=df, x =\"CGPA_category\",hue='Chance of Admit_category')"
   ]
  },
  {
   "cell_type": "markdown",
   "id": "0792dafe",
   "metadata": {},
   "source": [
    "- **Insights**\n",
    "    - More chance of Admission when CGPA category is Good (i.e score more 7.5 +)"
   ]
  },
  {
   "cell_type": "markdown",
   "id": "50688540",
   "metadata": {},
   "source": [
    "### Data preparation for modeling"
   ]
  },
  {
   "cell_type": "code",
   "execution_count": 49,
   "id": "57a14c80",
   "metadata": {},
   "outputs": [],
   "source": [
    "selected_X = ['GRE Score','TOEFL Score','GRE_TOEFL_score_ratio','CGPA','SOP_target_encoded','LOR _target_encoded','University Rating_target_encoded','GRE_score_category_target_encoded','TOEFL_score_category_target_encoded','CGPA_category_target_encoded','Research']\n",
    "#selected_X = ['GRE_TOEFL_score_ratio','CGPA','SOP_target_encoded','LOR _target_encoded','University Rating_target_encoded','GRE_score_category_target_encoded','TOEFL_score_category_target_encoded','CGPA_category_target_encoded','Research']\n",
    "selected_Y = ['Chance of Admit ']"
   ]
  },
  {
   "cell_type": "code",
   "execution_count": 50,
   "id": "db4b4dba",
   "metadata": {},
   "outputs": [],
   "source": [
    "df_X = df[selected_X]\n",
    "df_Y = df[selected_Y]"
   ]
  },
  {
   "cell_type": "code",
   "execution_count": 51,
   "id": "3b08f4df",
   "metadata": {},
   "outputs": [],
   "source": [
    "from sklearn.preprocessing import PolynomialFeatures\n",
    "from sklearn.preprocessing import StandardScaler\n",
    "from sklearn.linear_model import LinearRegression\n",
    "from sklearn.model_selection import train_test_split\n",
    "from sklearn.pipeline import make_pipeline"
   ]
  },
  {
   "cell_type": "markdown",
   "id": "ea7df03e",
   "metadata": {},
   "source": [
    "#### Train Test Split"
   ]
  },
  {
   "cell_type": "code",
   "execution_count": 52,
   "id": "56886bfc",
   "metadata": {},
   "outputs": [],
   "source": [
    "X_train, X_test, y_train, y_test = train_test_split(df_X, df_Y, test_size=0.2, random_state=1)"
   ]
  },
  {
   "cell_type": "code",
   "execution_count": 53,
   "id": "2c329cf7",
   "metadata": {},
   "outputs": [
    {
     "data": {
      "text/html": [
       "<div>\n",
       "<style scoped>\n",
       "    .dataframe tbody tr th:only-of-type {\n",
       "        vertical-align: middle;\n",
       "    }\n",
       "\n",
       "    .dataframe tbody tr th {\n",
       "        vertical-align: top;\n",
       "    }\n",
       "\n",
       "    .dataframe thead th {\n",
       "        text-align: right;\n",
       "    }\n",
       "</style>\n",
       "<table border=\"1\" class=\"dataframe\">\n",
       "  <thead>\n",
       "    <tr style=\"text-align: right;\">\n",
       "      <th></th>\n",
       "      <th>GRE Score</th>\n",
       "      <th>TOEFL Score</th>\n",
       "      <th>GRE_TOEFL_score_ratio</th>\n",
       "      <th>CGPA</th>\n",
       "      <th>SOP_target_encoded</th>\n",
       "      <th>LOR _target_encoded</th>\n",
       "      <th>University Rating_target_encoded</th>\n",
       "      <th>GRE_score_category_target_encoded</th>\n",
       "      <th>TOEFL_score_category_target_encoded</th>\n",
       "      <th>CGPA_category_target_encoded</th>\n",
       "      <th>Research</th>\n",
       "    </tr>\n",
       "  </thead>\n",
       "  <tbody>\n",
       "    <tr>\n",
       "      <th>438</th>\n",
       "      <td>318</td>\n",
       "      <td>110</td>\n",
       "      <td>2.890909</td>\n",
       "      <td>8.54</td>\n",
       "      <td>0.650159</td>\n",
       "      <td>0.723023</td>\n",
       "      <td>0.562059</td>\n",
       "      <td>0.658504</td>\n",
       "      <td>0.727000</td>\n",
       "      <td>0.759952</td>\n",
       "      <td>1</td>\n",
       "    </tr>\n",
       "    <tr>\n",
       "      <th>274</th>\n",
       "      <td>315</td>\n",
       "      <td>100</td>\n",
       "      <td>3.150000</td>\n",
       "      <td>7.95</td>\n",
       "      <td>0.589535</td>\n",
       "      <td>0.640600</td>\n",
       "      <td>0.562059</td>\n",
       "      <td>0.658504</td>\n",
       "      <td>0.727000</td>\n",
       "      <td>0.542073</td>\n",
       "      <td>0</td>\n",
       "    </tr>\n",
       "    <tr>\n",
       "      <th>58</th>\n",
       "      <td>300</td>\n",
       "      <td>99</td>\n",
       "      <td>3.030303</td>\n",
       "      <td>6.80</td>\n",
       "      <td>0.678500</td>\n",
       "      <td>0.573333</td>\n",
       "      <td>0.562059</td>\n",
       "      <td>0.540784</td>\n",
       "      <td>0.727000</td>\n",
       "      <td>0.723273</td>\n",
       "      <td>1</td>\n",
       "    </tr>\n",
       "    <tr>\n",
       "      <th>380</th>\n",
       "      <td>322</td>\n",
       "      <td>104</td>\n",
       "      <td>3.096154</td>\n",
       "      <td>8.84</td>\n",
       "      <td>0.712045</td>\n",
       "      <td>0.764149</td>\n",
       "      <td>0.702901</td>\n",
       "      <td>0.838122</td>\n",
       "      <td>0.727000</td>\n",
       "      <td>0.759952</td>\n",
       "      <td>1</td>\n",
       "    </tr>\n",
       "    <tr>\n",
       "      <th>78</th>\n",
       "      <td>296</td>\n",
       "      <td>95</td>\n",
       "      <td>3.115789</td>\n",
       "      <td>7.54</td>\n",
       "      <td>0.678500</td>\n",
       "      <td>0.573333</td>\n",
       "      <td>0.630726</td>\n",
       "      <td>0.540784</td>\n",
       "      <td>0.495208</td>\n",
       "      <td>0.542073</td>\n",
       "      <td>1</td>\n",
       "    </tr>\n",
       "  </tbody>\n",
       "</table>\n",
       "</div>"
      ],
      "text/plain": [
       "     GRE Score  TOEFL Score  GRE_TOEFL_score_ratio  CGPA  SOP_target_encoded  \\\n",
       "438        318          110               2.890909  8.54            0.650159   \n",
       "274        315          100               3.150000  7.95            0.589535   \n",
       "58         300           99               3.030303  6.80            0.678500   \n",
       "380        322          104               3.096154  8.84            0.712045   \n",
       "78         296           95               3.115789  7.54            0.678500   \n",
       "\n",
       "     LOR _target_encoded  University Rating_target_encoded  \\\n",
       "438             0.723023                          0.562059   \n",
       "274             0.640600                          0.562059   \n",
       "58              0.573333                          0.562059   \n",
       "380             0.764149                          0.702901   \n",
       "78              0.573333                          0.630726   \n",
       "\n",
       "     GRE_score_category_target_encoded  TOEFL_score_category_target_encoded  \\\n",
       "438                           0.658504                             0.727000   \n",
       "274                           0.658504                             0.727000   \n",
       "58                            0.540784                             0.727000   \n",
       "380                           0.838122                             0.727000   \n",
       "78                            0.540784                             0.495208   \n",
       "\n",
       "     CGPA_category_target_encoded  Research  \n",
       "438                      0.759952         1  \n",
       "274                      0.542073         0  \n",
       "58                       0.723273         1  \n",
       "380                      0.759952         1  \n",
       "78                       0.542073         1  "
      ]
     },
     "execution_count": 53,
     "metadata": {},
     "output_type": "execute_result"
    }
   ],
   "source": [
    "X_train.head()"
   ]
  },
  {
   "cell_type": "markdown",
   "id": "9dc155a8",
   "metadata": {},
   "source": [
    "#### Scaling data"
   ]
  },
  {
   "cell_type": "code",
   "execution_count": 54,
   "id": "0f40985d",
   "metadata": {},
   "outputs": [],
   "source": [
    "scaler = StandardScaler()\n",
    "X_train_transformed = scaler.fit_transform(X_train)\n",
    "X_test_transformed = scaler.fit_transform(X_test)"
   ]
  },
  {
   "cell_type": "markdown",
   "id": "21a1524f",
   "metadata": {},
   "source": [
    "## Model building"
   ]
  },
  {
   "cell_type": "markdown",
   "id": "b94b8a86",
   "metadata": {},
   "source": [
    "### Base Model"
   ]
  },
  {
   "cell_type": "code",
   "execution_count": 55,
   "id": "711182ae",
   "metadata": {},
   "outputs": [],
   "source": [
    "basic_model = LinearRegression().fit(X_train_transformed, y_train)"
   ]
  },
  {
   "cell_type": "markdown",
   "id": "ca2be742",
   "metadata": {},
   "source": [
    "### Display model coefficients with column names"
   ]
  },
  {
   "cell_type": "code",
   "execution_count": 56,
   "id": "1149910c",
   "metadata": {},
   "outputs": [
    {
     "name": "stdout",
     "output_type": "stream",
     "text": [
      "coefficients [[ 0.04625695 -0.02631735 -0.02647906  0.0657157   0.00514712  0.01717672\n",
      "   0.00587455  0.003775   -0.00207737  0.00311097  0.0105253 ]]\n",
      "Index(['GRE Score', 'TOEFL Score', 'GRE_TOEFL_score_ratio', 'CGPA',\n",
      "       'SOP_target_encoded', 'LOR _target_encoded',\n",
      "       'University Rating_target_encoded', 'GRE_score_category_target_encoded',\n",
      "       'TOEFL_score_category_target_encoded', 'CGPA_category_target_encoded',\n",
      "       'Research'],\n",
      "      dtype='object')\n"
     ]
    }
   ],
   "source": [
    "print(\"coefficients\",basic_model.coef_)\n",
    "print(X_train.columns)"
   ]
  },
  {
   "cell_type": "code",
   "execution_count": 57,
   "id": "695d5adc",
   "metadata": {},
   "outputs": [
    {
     "name": "stdout",
     "output_type": "stream",
     "text": [
      "0.8261299695469154\n",
      "0.8170808769595135\n"
     ]
    }
   ],
   "source": [
    "print(basic_model.score(X_train_transformed, y_train))\n",
    "print(basic_model.score(X_test_transformed, y_test))"
   ]
  },
  {
   "cell_type": "markdown",
   "id": "7f1d3aef",
   "metadata": {},
   "source": [
    "### Model performance evaluation"
   ]
  },
  {
   "cell_type": "code",
   "execution_count": 58,
   "id": "c817eb62",
   "metadata": {},
   "outputs": [],
   "source": [
    "from sklearn.metrics import mean_absolute_error\n",
    "from sklearn.metrics import mean_squared_error\n",
    "from sklearn.metrics import r2_score\n",
    "from sklearn import linear_model\n",
    "\n",
    "y_pred = basic_model.predict(X_test_transformed)"
   ]
  },
  {
   "cell_type": "markdown",
   "id": "163d3a6b",
   "metadata": {},
   "source": [
    "**Metrics checked - MAE, RMSE, R2, Adj R2**"
   ]
  },
  {
   "cell_type": "markdown",
   "id": "2011516c",
   "metadata": {},
   "source": [
    "#### MAE"
   ]
  },
  {
   "cell_type": "code",
   "execution_count": 59,
   "id": "e88eb72a",
   "metadata": {},
   "outputs": [
    {
     "name": "stdout",
     "output_type": "stream",
     "text": [
      "MAE: 0.04125028687151383\n"
     ]
    }
   ],
   "source": [
    "print(\"MAE: {}\".format(mean_absolute_error(y_true=y_test,y_pred=y_pred)))"
   ]
  },
  {
   "cell_type": "markdown",
   "id": "dfae2b45",
   "metadata": {},
   "source": [
    "#### RMSE"
   ]
  },
  {
   "cell_type": "code",
   "execution_count": 60,
   "id": "157e5ca4",
   "metadata": {},
   "outputs": [
    {
     "name": "stdout",
     "output_type": "stream",
     "text": [
      "RMSE: 0.003434277268025449\n"
     ]
    }
   ],
   "source": [
    "print(\"RMSE: {}\".format(mean_squared_error(y_true=y_test,y_pred=y_pred, squared=True)))"
   ]
  },
  {
   "cell_type": "markdown",
   "id": "f6531aa8",
   "metadata": {},
   "source": [
    "#### R2 score"
   ]
  },
  {
   "cell_type": "code",
   "execution_count": 61,
   "id": "99c04d49",
   "metadata": {},
   "outputs": [
    {
     "name": "stdout",
     "output_type": "stream",
     "text": [
      "R2 score: 0.8170808769595135\n"
     ]
    }
   ],
   "source": [
    "print(\"R2 score: {}\".format(r2_score(y_true=y_test,y_pred=y_pred)))"
   ]
  },
  {
   "cell_type": "markdown",
   "id": "4be1c6c9",
   "metadata": {},
   "source": [
    "#### ADj R squared"
   ]
  },
  {
   "cell_type": "code",
   "execution_count": 62,
   "id": "e150a21c",
   "metadata": {},
   "outputs": [
    {
     "name": "stdout",
     "output_type": "stream",
     "text": [
      "Adjusted R square: 0.003434277268025449\n"
     ]
    }
   ],
   "source": [
    "print(\"Adjusted R square: {}\".format(mean_squared_error(y_true=y_test,y_pred=y_pred, squared=True)))"
   ]
  },
  {
   "cell_type": "markdown",
   "id": "832e4cc5",
   "metadata": {},
   "source": [
    "- **Comments on the performance measures and if there is any need to improve the model or not**\n",
    "    - MSE , RMSE , Adjusted R square values are close to zero for test data \n",
    "    - R2 test score is 0.81 , which can try to improve by creating Polynomial feature "
   ]
  },
  {
   "cell_type": "markdown",
   "id": "b2943052",
   "metadata": {},
   "source": [
    "### Model with Polynomial Features"
   ]
  },
  {
   "cell_type": "code",
   "execution_count": 63,
   "id": "5b878344",
   "metadata": {},
   "outputs": [],
   "source": [
    "# To keep the model simple degree we're keeping it with 5 and it was observed \n",
    "# degree value = 3 the model was showing slight improvement \n",
    "degrees = 3 # optimal based on score\n",
    "train_scores = []\n",
    "test_scores = []\n",
    "\n",
    "for degree in range(1, degrees):\n",
    "    scaler = StandardScaler()\n",
    "    polyreg_scaled = make_pipeline(PolynomialFeatures(degree), StandardScaler(), LinearRegression())\n",
    "    polyreg_scaled.fit(X_train, y_train)\n",
    "    train_score = polyreg_scaled.score(X_train, y_train)\n",
    "    test_score = polyreg_scaled.score(X_test, y_test)\n",
    "    train_scores.append(train_score)\n",
    "    test_scores.append(test_score)"
   ]
  },
  {
   "cell_type": "code",
   "execution_count": 64,
   "id": "20ddabc7",
   "metadata": {},
   "outputs": [
    {
     "data": {
      "text/plain": [
       "[0.8261299695469154, 0.854740374556619]"
      ]
     },
     "execution_count": 64,
     "metadata": {},
     "output_type": "execute_result"
    }
   ],
   "source": [
    "train_scores"
   ]
  },
  {
   "cell_type": "code",
   "execution_count": 65,
   "id": "45999319",
   "metadata": {},
   "outputs": [
    {
     "data": {
      "text/plain": [
       "[0.8151217211170969, -0.10920575769656549]"
      ]
     },
     "execution_count": 65,
     "metadata": {},
     "output_type": "execute_result"
    }
   ],
   "source": [
    "test_scores"
   ]
  },
  {
   "cell_type": "markdown",
   "id": "2237f8de",
   "metadata": {},
   "source": [
    "- **Comment on the model statistics** : \n",
    "    - Polynomial feature didn't show significant improvement in score\n",
    "    - At higher degree (i.e. 3) test score declined as well\n",
    "    - At higher degree (i.e. 5) test score declined significantly \n",
    "    - Simple Base model is more generalized than regression model with polynomial features\n",
    "    "
   ]
  },
  {
   "cell_type": "markdown",
   "id": "c305de77",
   "metadata": {},
   "source": [
    "### Ridge regression"
   ]
  },
  {
   "cell_type": "code",
   "execution_count": 66,
   "id": "dce66fa4",
   "metadata": {},
   "outputs": [
    {
     "data": {
      "text/html": [
       "<style>#sk-container-id-1 {color: black;background-color: white;}#sk-container-id-1 pre{padding: 0;}#sk-container-id-1 div.sk-toggleable {background-color: white;}#sk-container-id-1 label.sk-toggleable__label {cursor: pointer;display: block;width: 100%;margin-bottom: 0;padding: 0.3em;box-sizing: border-box;text-align: center;}#sk-container-id-1 label.sk-toggleable__label-arrow:before {content: \"▸\";float: left;margin-right: 0.25em;color: #696969;}#sk-container-id-1 label.sk-toggleable__label-arrow:hover:before {color: black;}#sk-container-id-1 div.sk-estimator:hover label.sk-toggleable__label-arrow:before {color: black;}#sk-container-id-1 div.sk-toggleable__content {max-height: 0;max-width: 0;overflow: hidden;text-align: left;background-color: #f0f8ff;}#sk-container-id-1 div.sk-toggleable__content pre {margin: 0.2em;color: black;border-radius: 0.25em;background-color: #f0f8ff;}#sk-container-id-1 input.sk-toggleable__control:checked~div.sk-toggleable__content {max-height: 200px;max-width: 100%;overflow: auto;}#sk-container-id-1 input.sk-toggleable__control:checked~label.sk-toggleable__label-arrow:before {content: \"▾\";}#sk-container-id-1 div.sk-estimator input.sk-toggleable__control:checked~label.sk-toggleable__label {background-color: #d4ebff;}#sk-container-id-1 div.sk-label input.sk-toggleable__control:checked~label.sk-toggleable__label {background-color: #d4ebff;}#sk-container-id-1 input.sk-hidden--visually {border: 0;clip: rect(1px 1px 1px 1px);clip: rect(1px, 1px, 1px, 1px);height: 1px;margin: -1px;overflow: hidden;padding: 0;position: absolute;width: 1px;}#sk-container-id-1 div.sk-estimator {font-family: monospace;background-color: #f0f8ff;border: 1px dotted black;border-radius: 0.25em;box-sizing: border-box;margin-bottom: 0.5em;}#sk-container-id-1 div.sk-estimator:hover {background-color: #d4ebff;}#sk-container-id-1 div.sk-parallel-item::after {content: \"\";width: 100%;border-bottom: 1px solid gray;flex-grow: 1;}#sk-container-id-1 div.sk-label:hover label.sk-toggleable__label {background-color: #d4ebff;}#sk-container-id-1 div.sk-serial::before {content: \"\";position: absolute;border-left: 1px solid gray;box-sizing: border-box;top: 0;bottom: 0;left: 50%;z-index: 0;}#sk-container-id-1 div.sk-serial {display: flex;flex-direction: column;align-items: center;background-color: white;padding-right: 0.2em;padding-left: 0.2em;position: relative;}#sk-container-id-1 div.sk-item {position: relative;z-index: 1;}#sk-container-id-1 div.sk-parallel {display: flex;align-items: stretch;justify-content: center;background-color: white;position: relative;}#sk-container-id-1 div.sk-item::before, #sk-container-id-1 div.sk-parallel-item::before {content: \"\";position: absolute;border-left: 1px solid gray;box-sizing: border-box;top: 0;bottom: 0;left: 50%;z-index: -1;}#sk-container-id-1 div.sk-parallel-item {display: flex;flex-direction: column;z-index: 1;position: relative;background-color: white;}#sk-container-id-1 div.sk-parallel-item:first-child::after {align-self: flex-end;width: 50%;}#sk-container-id-1 div.sk-parallel-item:last-child::after {align-self: flex-start;width: 50%;}#sk-container-id-1 div.sk-parallel-item:only-child::after {width: 0;}#sk-container-id-1 div.sk-dashed-wrapped {border: 1px dashed gray;margin: 0 0.4em 0.5em 0.4em;box-sizing: border-box;padding-bottom: 0.4em;background-color: white;}#sk-container-id-1 div.sk-label label {font-family: monospace;font-weight: bold;display: inline-block;line-height: 1.2em;}#sk-container-id-1 div.sk-label-container {text-align: center;}#sk-container-id-1 div.sk-container {/* jupyter's `normalize.less` sets `[hidden] { display: none; }` but bootstrap.min.css set `[hidden] { display: none !important; }` so we also need the `!important` here to be able to override the default hidden behavior on the sphinx rendered scikit-learn.org. See: https://github.com/scikit-learn/scikit-learn/issues/21755 */display: inline-block !important;position: relative;}#sk-container-id-1 div.sk-text-repr-fallback {display: none;}</style><div id=\"sk-container-id-1\" class=\"sk-top-container\"><div class=\"sk-text-repr-fallback\"><pre>Ridge(alpha=0.5)</pre><b>In a Jupyter environment, please rerun this cell to show the HTML representation or trust the notebook. <br />On GitHub, the HTML representation is unable to render, please try loading this page with nbviewer.org.</b></div><div class=\"sk-container\" hidden><div class=\"sk-item\"><div class=\"sk-estimator sk-toggleable\"><input class=\"sk-toggleable__control sk-hidden--visually\" id=\"sk-estimator-id-1\" type=\"checkbox\" checked><label for=\"sk-estimator-id-1\" class=\"sk-toggleable__label sk-toggleable__label-arrow\">Ridge</label><div class=\"sk-toggleable__content\"><pre>Ridge(alpha=0.5)</pre></div></div></div></div></div>"
      ],
      "text/plain": [
       "Ridge(alpha=0.5)"
      ]
     },
     "execution_count": 66,
     "metadata": {},
     "output_type": "execute_result"
    }
   ],
   "source": [
    "from sklearn import linear_model\n",
    "ridge_model = linear_model.Ridge(alpha=.5)\n",
    "ridge_model.fit(X_train_transformed, y_train)"
   ]
  },
  {
   "cell_type": "code",
   "execution_count": 67,
   "id": "e8c77eb1",
   "metadata": {},
   "outputs": [
    {
     "name": "stdout",
     "output_type": "stream",
     "text": [
      "coefficients [[ 0.02835305  0.00167341 -0.00968033  0.06516247  0.00521152  0.01706535\n",
      "   0.00602524  0.00402911 -0.00154734  0.00346462  0.0105879 ]]\n",
      "Index(['GRE Score', 'TOEFL Score', 'GRE_TOEFL_score_ratio', 'CGPA',\n",
      "       'SOP_target_encoded', 'LOR _target_encoded',\n",
      "       'University Rating_target_encoded', 'GRE_score_category_target_encoded',\n",
      "       'TOEFL_score_category_target_encoded', 'CGPA_category_target_encoded',\n",
      "       'Research'],\n",
      "      dtype='object')\n"
     ]
    }
   ],
   "source": [
    "print(\"coefficients\",ridge_model.coef_)\n",
    "print(X_train.columns)"
   ]
  },
  {
   "cell_type": "code",
   "execution_count": 68,
   "id": "fed47700",
   "metadata": {},
   "outputs": [
    {
     "name": "stdout",
     "output_type": "stream",
     "text": [
      "0.8260876242385449\n",
      "0.8173283236034036\n"
     ]
    }
   ],
   "source": [
    "print(ridge_model.score(X_train_transformed, y_train))\n",
    "print(ridge_model.score(X_test_transformed, y_test))"
   ]
  },
  {
   "cell_type": "markdown",
   "id": "5cbad7a2",
   "metadata": {},
   "source": [
    "#### Tunning Ridge model - Best performance "
   ]
  },
  {
   "cell_type": "code",
   "execution_count": 69,
   "id": "3d45c801",
   "metadata": {},
   "outputs": [],
   "source": [
    "lambda_values = np.arange(0.01, 10000, 100)\n",
    "ridge_train_scores = [] \n",
    "ridge_test_scores = []\n",
    "\n",
    "\n",
    "for lam in lambda_values:\n",
    "    ridge_model = linear_model.Ridge(alpha=lam)\n",
    "    ridge_model.fit(X_train_transformed, y_train)\n",
    "    \n",
    "    tr_score = ridge_model.score(X_train_transformed, y_train)\n",
    "    te_score = ridge_model.score(X_test_transformed, y_test)\n",
    "    \n",
    "    ridge_train_scores.append(tr_score)\n",
    "    ridge_test_scores.append(te_score)"
   ]
  },
  {
   "cell_type": "code",
   "execution_count": 70,
   "id": "44810a95",
   "metadata": {},
   "outputs": [
    {
     "data": {
      "text/plain": [
       "<matplotlib.legend.Legend at 0x2330c9757e0>"
      ]
     },
     "execution_count": 70,
     "metadata": {},
     "output_type": "execute_result"
    },
    {
     "data": {
      "image/png": "[encoded data removed]",
      "text/plain": [
       "<Figure size 432x288 with 1 Axes>"
      ]
     },
     "metadata": {
      "needs_background": "light"
     },
     "output_type": "display_data"
    }
   ],
   "source": [
    "plt.plot(ridge_train_scores, label=\"test score\")\n",
    "plt.plot(ridge_test_scores, label =\"train score\")\n",
    "plt.legend()"
   ]
  },
  {
   "cell_type": "code",
   "execution_count": 71,
   "id": "7cfb820f",
   "metadata": {},
   "outputs": [
    {
     "name": "stdout",
     "output_type": "stream",
     "text": [
      "0.8261298170495287\n",
      "Best lambda value (Ridge): 0\n"
     ]
    }
   ],
   "source": [
    "print(np.max(ridge_train_scores))\n",
    "print(\"Best lambda value (Ridge):\",np.argmax(ridge_test_scores))"
   ]
  },
  {
   "cell_type": "code",
   "execution_count": 72,
   "id": "c6aa421f",
   "metadata": {},
   "outputs": [
    {
     "name": "stdout",
     "output_type": "stream",
     "text": [
      "0.817100469300843\n",
      "Best lambda value (Ridge): 0\n"
     ]
    }
   ],
   "source": [
    "print(np.max(ridge_test_scores))\n",
    "print(\"Best lambda value (Ridge):\",np.argmax(ridge_test_scores))"
   ]
  },
  {
   "cell_type": "markdown",
   "id": "a079b7ee",
   "metadata": {},
   "source": [
    "### Lasso regression"
   ]
  },
  {
   "cell_type": "code",
   "execution_count": 73,
   "id": "56674471",
   "metadata": {},
   "outputs": [
    {
     "data": {
      "text/html": [
       "<style>#sk-container-id-2 {color: black;background-color: white;}#sk-container-id-2 pre{padding: 0;}#sk-container-id-2 div.sk-toggleable {background-color: white;}#sk-container-id-2 label.sk-toggleable__label {cursor: pointer;display: block;width: 100%;margin-bottom: 0;padding: 0.3em;box-sizing: border-box;text-align: center;}#sk-container-id-2 label.sk-toggleable__label-arrow:before {content: \"▸\";float: left;margin-right: 0.25em;color: #696969;}#sk-container-id-2 label.sk-toggleable__label-arrow:hover:before {color: black;}#sk-container-id-2 div.sk-estimator:hover label.sk-toggleable__label-arrow:before {color: black;}#sk-container-id-2 div.sk-toggleable__content {max-height: 0;max-width: 0;overflow: hidden;text-align: left;background-color: #f0f8ff;}#sk-container-id-2 div.sk-toggleable__content pre {margin: 0.2em;color: black;border-radius: 0.25em;background-color: #f0f8ff;}#sk-container-id-2 input.sk-toggleable__control:checked~div.sk-toggleable__content {max-height: 200px;max-width: 100%;overflow: auto;}#sk-container-id-2 input.sk-toggleable__control:checked~label.sk-toggleable__label-arrow:before {content: \"▾\";}#sk-container-id-2 div.sk-estimator input.sk-toggleable__control:checked~label.sk-toggleable__label {background-color: #d4ebff;}#sk-container-id-2 div.sk-label input.sk-toggleable__control:checked~label.sk-toggleable__label {background-color: #d4ebff;}#sk-container-id-2 input.sk-hidden--visually {border: 0;clip: rect(1px 1px 1px 1px);clip: rect(1px, 1px, 1px, 1px);height: 1px;margin: -1px;overflow: hidden;padding: 0;position: absolute;width: 1px;}#sk-container-id-2 div.sk-estimator {font-family: monospace;background-color: #f0f8ff;border: 1px dotted black;border-radius: 0.25em;box-sizing: border-box;margin-bottom: 0.5em;}#sk-container-id-2 div.sk-estimator:hover {background-color: #d4ebff;}#sk-container-id-2 div.sk-parallel-item::after {content: \"\";width: 100%;border-bottom: 1px solid gray;flex-grow: 1;}#sk-container-id-2 div.sk-label:hover label.sk-toggleable__label {background-color: #d4ebff;}#sk-container-id-2 div.sk-serial::before {content: \"\";position: absolute;border-left: 1px solid gray;box-sizing: border-box;top: 0;bottom: 0;left: 50%;z-index: 0;}#sk-container-id-2 div.sk-serial {display: flex;flex-direction: column;align-items: center;background-color: white;padding-right: 0.2em;padding-left: 0.2em;position: relative;}#sk-container-id-2 div.sk-item {position: relative;z-index: 1;}#sk-container-id-2 div.sk-parallel {display: flex;align-items: stretch;justify-content: center;background-color: white;position: relative;}#sk-container-id-2 div.sk-item::before, #sk-container-id-2 div.sk-parallel-item::before {content: \"\";position: absolute;border-left: 1px solid gray;box-sizing: border-box;top: 0;bottom: 0;left: 50%;z-index: -1;}#sk-container-id-2 div.sk-parallel-item {display: flex;flex-direction: column;z-index: 1;position: relative;background-color: white;}#sk-container-id-2 div.sk-parallel-item:first-child::after {align-self: flex-end;width: 50%;}#sk-container-id-2 div.sk-parallel-item:last-child::after {align-self: flex-start;width: 50%;}#sk-container-id-2 div.sk-parallel-item:only-child::after {width: 0;}#sk-container-id-2 div.sk-dashed-wrapped {border: 1px dashed gray;margin: 0 0.4em 0.5em 0.4em;box-sizing: border-box;padding-bottom: 0.4em;background-color: white;}#sk-container-id-2 div.sk-label label {font-family: monospace;font-weight: bold;display: inline-block;line-height: 1.2em;}#sk-container-id-2 div.sk-label-container {text-align: center;}#sk-container-id-2 div.sk-container {/* jupyter's `normalize.less` sets `[hidden] { display: none; }` but bootstrap.min.css set `[hidden] { display: none !important; }` so we also need the `!important` here to be able to override the default hidden behavior on the sphinx rendered scikit-learn.org. See: https://github.com/scikit-learn/scikit-learn/issues/21755 */display: inline-block !important;position: relative;}#sk-container-id-2 div.sk-text-repr-fallback {display: none;}</style><div id=\"sk-container-id-2\" class=\"sk-top-container\"><div class=\"sk-text-repr-fallback\"><pre>Lasso(alpha=0.5)</pre><b>In a Jupyter environment, please rerun this cell to show the HTML representation or trust the notebook. <br />On GitHub, the HTML representation is unable to render, please try loading this page with nbviewer.org.</b></div><div class=\"sk-container\" hidden><div class=\"sk-item\"><div class=\"sk-estimator sk-toggleable\"><input class=\"sk-toggleable__control sk-hidden--visually\" id=\"sk-estimator-id-2\" type=\"checkbox\" checked><label for=\"sk-estimator-id-2\" class=\"sk-toggleable__label sk-toggleable__label-arrow\">Lasso</label><div class=\"sk-toggleable__content\"><pre>Lasso(alpha=0.5)</pre></div></div></div></div></div>"
      ],
      "text/plain": [
       "Lasso(alpha=0.5)"
      ]
     },
     "execution_count": 73,
     "metadata": {},
     "output_type": "execute_result"
    }
   ],
   "source": [
    "lasso_model = linear_model.Lasso(alpha=.5)\n",
    "lasso_model.fit(X_train_transformed, y_train)"
   ]
  },
  {
   "cell_type": "code",
   "execution_count": 74,
   "id": "bcc5538d",
   "metadata": {},
   "outputs": [
    {
     "name": "stdout",
     "output_type": "stream",
     "text": [
      "coefficients [ 0.  0. -0.  0.  0.  0.  0.  0.  0.  0.  0.]\n",
      "Index(['GRE Score', 'TOEFL Score', 'GRE_TOEFL_score_ratio', 'CGPA',\n",
      "       'SOP_target_encoded', 'LOR _target_encoded',\n",
      "       'University Rating_target_encoded', 'GRE_score_category_target_encoded',\n",
      "       'TOEFL_score_category_target_encoded', 'CGPA_category_target_encoded',\n",
      "       'Research'],\n",
      "      dtype='object')\n"
     ]
    }
   ],
   "source": [
    "print(\"coefficients\",lasso_model.coef_)\n",
    "print(X_train.columns)"
   ]
  },
  {
   "cell_type": "code",
   "execution_count": 75,
   "id": "6e1dd70e",
   "metadata": {},
   "outputs": [
    {
     "name": "stdout",
     "output_type": "stream",
     "text": [
      "0.0\n",
      "-0.0003772363685015101\n"
     ]
    }
   ],
   "source": [
    "print(lasso_model.score(X_train_transformed, y_train))\n",
    "print(lasso_model.score(X_test_transformed, y_test))"
   ]
  },
  {
   "cell_type": "code",
   "execution_count": 76,
   "id": "51285faf",
   "metadata": {},
   "outputs": [],
   "source": [
    "lambda_values = np.arange(0.01, 10000, 100)\n",
    "lasso_train_scores = [] \n",
    "lasso_test_scores = []\n",
    "\n",
    "\n",
    "for lam in lambda_values:\n",
    "    lasso_model = linear_model.Lasso(alpha=lam)\n",
    "    lasso_model.fit(X_train_transformed, y_train)\n",
    "    \n",
    "    tr_score = lasso_model.score(X_train_transformed, y_train)\n",
    "    te_score = lasso_model.score(X_test_transformed, y_test)\n",
    "    \n",
    "    lasso_train_scores.append(tr_score)\n",
    "    lasso_test_scores.append(te_score)"
   ]
  },
  {
   "cell_type": "code",
   "execution_count": 77,
   "id": "ba3b0457",
   "metadata": {},
   "outputs": [
    {
     "data": {
      "text/plain": [
       "<matplotlib.legend.Legend at 0x2330c7d94e0>"
      ]
     },
     "execution_count": 77,
     "metadata": {},
     "output_type": "execute_result"
    },
    {
     "data": {
      "image/png": "[encoded data removed]",
      "text/plain": [
       "<Figure size 432x288 with 1 Axes>"
      ]
     },
     "metadata": {
      "needs_background": "light"
     },
     "output_type": "display_data"
    }
   ],
   "source": [
    "plt.plot(lasso_train_scores, label=\"test score\")\n",
    "plt.plot(lasso_test_scores, label =\"train score\")\n",
    "plt.legend()"
   ]
  },
  {
   "cell_type": "code",
   "execution_count": 78,
   "id": "f81b1c6c",
   "metadata": {},
   "outputs": [
    {
     "name": "stdout",
     "output_type": "stream",
     "text": [
      "0.8174319642742843\n",
      "Best lambda value (Lasso): 0\n"
     ]
    }
   ],
   "source": [
    "print(np.max(lasso_test_scores))\n",
    "print(\"Best lambda value (Lasso):\",np.argmax(lasso_test_scores))"
   ]
  },
  {
   "cell_type": "markdown",
   "id": "c08530c0",
   "metadata": {},
   "source": [
    "- **Problem with correlation features**\n",
    "    - As we've have lot of highly correlated features\n",
    "    - Lasso (L1) regularization will make one feature as non zero\n",
    "    - result all other features will become zero.\n",
    "    - Which is correct in some cases but\n",
    "    - Can mess up things when you are using weights for feature importance\n",
    "    - To overcome this dis-advantage we'll use ElasticNet Regularization"
   ]
  },
  {
   "cell_type": "markdown",
   "id": "7716a8ca",
   "metadata": {},
   "source": [
    "### ElasticNet regression\n"
   ]
  },
  {
   "cell_type": "code",
   "execution_count": 79,
   "id": "128add2b",
   "metadata": {},
   "outputs": [
    {
     "data": {
      "text/html": [
       "<style>#sk-container-id-3 {color: black;background-color: white;}#sk-container-id-3 pre{padding: 0;}#sk-container-id-3 div.sk-toggleable {background-color: white;}#sk-container-id-3 label.sk-toggleable__label {cursor: pointer;display: block;width: 100%;margin-bottom: 0;padding: 0.3em;box-sizing: border-box;text-align: center;}#sk-container-id-3 label.sk-toggleable__label-arrow:before {content: \"▸\";float: left;margin-right: 0.25em;color: #696969;}#sk-container-id-3 label.sk-toggleable__label-arrow:hover:before {color: black;}#sk-container-id-3 div.sk-estimator:hover label.sk-toggleable__label-arrow:before {color: black;}#sk-container-id-3 div.sk-toggleable__content {max-height: 0;max-width: 0;overflow: hidden;text-align: left;background-color: #f0f8ff;}#sk-container-id-3 div.sk-toggleable__content pre {margin: 0.2em;color: black;border-radius: 0.25em;background-color: #f0f8ff;}#sk-container-id-3 input.sk-toggleable__control:checked~div.sk-toggleable__content {max-height: 200px;max-width: 100%;overflow: auto;}#sk-container-id-3 input.sk-toggleable__control:checked~label.sk-toggleable__label-arrow:before {content: \"▾\";}#sk-container-id-3 div.sk-estimator input.sk-toggleable__control:checked~label.sk-toggleable__label {background-color: #d4ebff;}#sk-container-id-3 div.sk-label input.sk-toggleable__control:checked~label.sk-toggleable__label {background-color: #d4ebff;}#sk-container-id-3 input.sk-hidden--visually {border: 0;clip: rect(1px 1px 1px 1px);clip: rect(1px, 1px, 1px, 1px);height: 1px;margin: -1px;overflow: hidden;padding: 0;position: absolute;width: 1px;}#sk-container-id-3 div.sk-estimator {font-family: monospace;background-color: #f0f8ff;border: 1px dotted black;border-radius: 0.25em;box-sizing: border-box;margin-bottom: 0.5em;}#sk-container-id-3 div.sk-estimator:hover {background-color: #d4ebff;}#sk-container-id-3 div.sk-parallel-item::after {content: \"\";width: 100%;border-bottom: 1px solid gray;flex-grow: 1;}#sk-container-id-3 div.sk-label:hover label.sk-toggleable__label {background-color: #d4ebff;}#sk-container-id-3 div.sk-serial::before {content: \"\";position: absolute;border-left: 1px solid gray;box-sizing: border-box;top: 0;bottom: 0;left: 50%;z-index: 0;}#sk-container-id-3 div.sk-serial {display: flex;flex-direction: column;align-items: center;background-color: white;padding-right: 0.2em;padding-left: 0.2em;position: relative;}#sk-container-id-3 div.sk-item {position: relative;z-index: 1;}#sk-container-id-3 div.sk-parallel {display: flex;align-items: stretch;justify-content: center;background-color: white;position: relative;}#sk-container-id-3 div.sk-item::before, #sk-container-id-3 div.sk-parallel-item::before {content: \"\";position: absolute;border-left: 1px solid gray;box-sizing: border-box;top: 0;bottom: 0;left: 50%;z-index: -1;}#sk-container-id-3 div.sk-parallel-item {display: flex;flex-direction: column;z-index: 1;position: relative;background-color: white;}#sk-container-id-3 div.sk-parallel-item:first-child::after {align-self: flex-end;width: 50%;}#sk-container-id-3 div.sk-parallel-item:last-child::after {align-self: flex-start;width: 50%;}#sk-container-id-3 div.sk-parallel-item:only-child::after {width: 0;}#sk-container-id-3 div.sk-dashed-wrapped {border: 1px dashed gray;margin: 0 0.4em 0.5em 0.4em;box-sizing: border-box;padding-bottom: 0.4em;background-color: white;}#sk-container-id-3 div.sk-label label {font-family: monospace;font-weight: bold;display: inline-block;line-height: 1.2em;}#sk-container-id-3 div.sk-label-container {text-align: center;}#sk-container-id-3 div.sk-container {/* jupyter's `normalize.less` sets `[hidden] { display: none; }` but bootstrap.min.css set `[hidden] { display: none !important; }` so we also need the `!important` here to be able to override the default hidden behavior on the sphinx rendered scikit-learn.org. See: https://github.com/scikit-learn/scikit-learn/issues/21755 */display: inline-block !important;position: relative;}#sk-container-id-3 div.sk-text-repr-fallback {display: none;}</style><div id=\"sk-container-id-3\" class=\"sk-top-container\"><div class=\"sk-text-repr-fallback\"><pre>ElasticNet(alpha=0.7)</pre><b>In a Jupyter environment, please rerun this cell to show the HTML representation or trust the notebook. <br />On GitHub, the HTML representation is unable to render, please try loading this page with nbviewer.org.</b></div><div class=\"sk-container\" hidden><div class=\"sk-item\"><div class=\"sk-estimator sk-toggleable\"><input class=\"sk-toggleable__control sk-hidden--visually\" id=\"sk-estimator-id-3\" type=\"checkbox\" checked><label for=\"sk-estimator-id-3\" class=\"sk-toggleable__label sk-toggleable__label-arrow\">ElasticNet</label><div class=\"sk-toggleable__content\"><pre>ElasticNet(alpha=0.7)</pre></div></div></div></div></div>"
      ],
      "text/plain": [
       "ElasticNet(alpha=0.7)"
      ]
     },
     "execution_count": 79,
     "metadata": {},
     "output_type": "execute_result"
    }
   ],
   "source": [
    "from sklearn.linear_model import ElasticNet\n",
    "\n",
    "elasticnet_model = linear_model.ElasticNet(alpha=.7)\n",
    "elasticnet_model.fit(X_train_transformed, y_train)"
   ]
  },
  {
   "cell_type": "markdown",
   "id": "d1d658a7",
   "metadata": {},
   "source": [
    "#### Tunning ElasticNet model - Best performace "
   ]
  },
  {
   "cell_type": "code",
   "execution_count": 80,
   "id": "be0d7cbd",
   "metadata": {},
   "outputs": [],
   "source": [
    "lambda_values = np.arange(0.01, 10000, 100)\n",
    "train_scores = [] \n",
    "test_scores = []\n",
    "\n",
    "\n",
    "for lam in lambda_values:\n",
    "    elasticnet_model = linear_model.ElasticNet(alpha=lam)\n",
    "    elasticnet_model.fit(X_train_transformed, y_train)\n",
    "    \n",
    "    tr_score = elasticnet_model.score(X_train_transformed, y_train)\n",
    "    te_score = elasticnet_model.score(X_test_transformed, y_test)\n",
    "    \n",
    "    train_scores.append(tr_score)\n",
    "    test_scores.append(te_score)"
   ]
  },
  {
   "cell_type": "code",
   "execution_count": 81,
   "id": "3275ab4e",
   "metadata": {},
   "outputs": [
    {
     "data": {
      "text/plain": [
       "<matplotlib.legend.Legend at 0x2330c243ee0>"
      ]
     },
     "execution_count": 81,
     "metadata": {},
     "output_type": "execute_result"
    },
    {
     "data": {
      "image/png": "[encoded data removed]",
      "text/plain": [
       "<Figure size 432x288 with 1 Axes>"
      ]
     },
     "metadata": {
      "needs_background": "light"
     },
     "output_type": "display_data"
    }
   ],
   "source": [
    "plt.plot(test_scores, label=\"test score\")\n",
    "plt.plot(train_scores, label =\"train score\")\n",
    "plt.legend()"
   ]
  },
  {
   "cell_type": "code",
   "execution_count": 82,
   "id": "bc0256d4",
   "metadata": {},
   "outputs": [
    {
     "name": "stdout",
     "output_type": "stream",
     "text": [
      "0.8193654826350258\n",
      "0\n"
     ]
    }
   ],
   "source": [
    "print(np.max(test_scores))\n",
    "print(np.argmax(test_scores))"
   ]
  },
  {
   "cell_type": "markdown",
   "id": "11a786ee",
   "metadata": {},
   "source": [
    "- **Conclusion**\n",
    "    - It's a **Generalised model, which performs well with test data**\n",
    "        - It's **perfectly fit(neither underfit nor overfit)** model which performs equally with train and test data\n",
    "        - Cross validations needs to be performed to check the consistency of the model with random unseen data\n",
    "        - Completely unseen test data can also be used to check consistency of the model\n",
    "    - Hyperparameter Tuning has not improved the performance of the model significantly\n",
    "    - **Occam's razor** says, pick the simplest model that fits/explains the data well.\n",
    "        - We can fall back Basic model considering simplicity and explainability"
   ]
  },
  {
   "cell_type": "markdown",
   "id": "1df5c071",
   "metadata": {},
   "source": [
    "## Testing the assumptions of the Linear regression model "
   ]
  },
  {
   "cell_type": "markdown",
   "id": "16a17422",
   "metadata": {},
   "source": [
    "### Check Assumption # 1 - No Multicollinearity should exist [Section A]"
   ]
  },
  {
   "cell_type": "code",
   "execution_count": 83,
   "id": "737e6a58",
   "metadata": {},
   "outputs": [],
   "source": [
    "import statsmodels.api as sm\n",
    "X_sm = sm.add_constant(X_train)  #Statmodels default is without intercept, to add intercept we need to add constant \n",
    "\n",
    "sm_model = sm.OLS(y_train, X_sm).fit()"
   ]
  },
  {
   "cell_type": "code",
   "execution_count": 84,
   "id": "384808bf",
   "metadata": {},
   "outputs": [
    {
     "name": "stdout",
     "output_type": "stream",
     "text": [
      "                            OLS Regression Results                            \n",
      "==============================================================================\n",
      "Dep. Variable:       Chance of Admit    R-squared:                       0.826\n",
      "Model:                            OLS   Adj. R-squared:                  0.821\n",
      "Method:                 Least Squares   F-statistic:                     166.7\n",
      "Date:                Sat, 29 Oct 2022   Prob (F-statistic):          3.85e-139\n",
      "Time:                        16:52:32   Log-Likelihood:                 566.71\n",
      "No. Observations:                 398   AIC:                            -1109.\n",
      "Df Residuals:                     386   BIC:                            -1062.\n",
      "Df Model:                          11                                         \n",
      "Covariance Type:            nonrobust                                         \n",
      "=======================================================================================================\n",
      "                                          coef    std err          t      P>|t|      [0.025      0.975]\n",
      "-------------------------------------------------------------------------------------------------------\n",
      "const                                  -0.5300      1.657     -0.320      0.749      -3.787       2.727\n",
      "GRE Score                               0.0041      0.005      0.774      0.439      -0.006       0.015\n",
      "TOEFL Score                            -0.0044      0.015     -0.284      0.777      -0.035       0.026\n",
      "GRE_TOEFL_score_ratio                  -0.2628      0.554     -0.474      0.635      -1.352       0.826\n",
      "CGPA                                    0.1105      0.012      9.271      0.000       0.087       0.134\n",
      "SOP_target_encoded                      0.0528      0.051      1.037      0.300      -0.047       0.153\n",
      "LOR _target_encoded                     0.1906      0.047      4.037      0.000       0.098       0.283\n",
      "University Rating_target_encoded        0.0607      0.050      1.218      0.224      -0.037       0.159\n",
      "GRE_score_category_target_encoded       0.0361      0.064      0.568      0.571      -0.089       0.161\n",
      "TOEFL_score_category_target_encoded    -0.0682      0.120     -0.566      0.572      -0.305       0.169\n",
      "CGPA_category_target_encoded            0.0389      0.051      0.764      0.445      -0.061       0.139\n",
      "Research                                0.0212      0.008      2.822      0.005       0.006       0.036\n",
      "==============================================================================\n",
      "Omnibus:                       87.546   Durbin-Watson:                   1.855\n",
      "Prob(Omnibus):                  0.000   Jarque-Bera (JB):              196.898\n",
      "Skew:                          -1.119   Prob(JB):                     1.75e-43\n",
      "Kurtosis:                       5.620   Cond. No.                     1.97e+05\n",
      "==============================================================================\n",
      "\n",
      "Notes:\n",
      "[1] Standard Errors assume that the covariance matrix of the errors is correctly specified.\n",
      "[2] The condition number is large, 1.97e+05. This might indicate that there are\n",
      "strong multicollinearity or other numerical problems.\n"
     ]
    }
   ],
   "source": [
    "print(sm_model.summary())"
   ]
  },
  {
   "cell_type": "markdown",
   "id": "88951e8d",
   "metadata": {},
   "source": [
    "- **Conclusion**\n",
    "    - **Except \"SOP_target_encoded\" and \"University Rating_target_encoded\", TOEFL_score_category_target_encoded , CGPA_category_target_encoded , rest of the features are significant** as p-value is less than 0.05\n",
    "    - Adjusted R-square is not poor "
   ]
  },
  {
   "cell_type": "markdown",
   "id": "abd6af9c",
   "metadata": {},
   "source": [
    "## VIF"
   ]
  },
  {
   "cell_type": "code",
   "execution_count": 85,
   "id": "34383489",
   "metadata": {},
   "outputs": [],
   "source": [
    "from statsmodels.stats.outliers_influence import variance_inflation_factor"
   ]
  },
  {
   "cell_type": "code",
   "execution_count": 86,
   "id": "500f0e56",
   "metadata": {},
   "outputs": [
    {
     "data": {
      "text/html": [
       "<div>\n",
       "<style scoped>\n",
       "    .dataframe tbody tr th:only-of-type {\n",
       "        vertical-align: middle;\n",
       "    }\n",
       "\n",
       "    .dataframe tbody tr th {\n",
       "        vertical-align: top;\n",
       "    }\n",
       "\n",
       "    .dataframe thead th {\n",
       "        text-align: right;\n",
       "    }\n",
       "</style>\n",
       "<table border=\"1\" class=\"dataframe\">\n",
       "  <thead>\n",
       "    <tr style=\"text-align: right;\">\n",
       "      <th></th>\n",
       "      <th>Features</th>\n",
       "      <th>VIF</th>\n",
       "    </tr>\n",
       "  </thead>\n",
       "  <tbody>\n",
       "    <tr>\n",
       "      <th>0</th>\n",
       "      <td>GRE Score</td>\n",
       "      <td>15426.05</td>\n",
       "    </tr>\n",
       "    <tr>\n",
       "      <th>1</th>\n",
       "      <td>TOEFL Score</td>\n",
       "      <td>4567.43</td>\n",
       "    </tr>\n",
       "    <tr>\n",
       "      <th>2</th>\n",
       "      <td>GRE_TOEFL_score_ratio</td>\n",
       "      <td>2918.64</td>\n",
       "    </tr>\n",
       "    <tr>\n",
       "      <th>3</th>\n",
       "      <td>CGPA</td>\n",
       "      <td>1185.43</td>\n",
       "    </tr>\n",
       "    <tr>\n",
       "      <th>8</th>\n",
       "      <td>TOEFL_score_category_target_encoded</td>\n",
       "      <td>625.71</td>\n",
       "    </tr>\n",
       "    <tr>\n",
       "      <th>7</th>\n",
       "      <td>GRE_score_category_target_encoded</td>\n",
       "      <td>245.34</td>\n",
       "    </tr>\n",
       "    <tr>\n",
       "      <th>4</th>\n",
       "      <td>SOP_target_encoded</td>\n",
       "      <td>156.70</td>\n",
       "    </tr>\n",
       "    <tr>\n",
       "      <th>9</th>\n",
       "      <td>CGPA_category_target_encoded</td>\n",
       "      <td>150.25</td>\n",
       "    </tr>\n",
       "    <tr>\n",
       "      <th>6</th>\n",
       "      <td>University Rating_target_encoded</td>\n",
       "      <td>149.57</td>\n",
       "    </tr>\n",
       "    <tr>\n",
       "      <th>5</th>\n",
       "      <td>LOR _target_encoded</td>\n",
       "      <td>133.11</td>\n",
       "    </tr>\n",
       "    <tr>\n",
       "      <th>10</th>\n",
       "      <td>Research</td>\n",
       "      <td>3.64</td>\n",
       "    </tr>\n",
       "  </tbody>\n",
       "</table>\n",
       "</div>"
      ],
      "text/plain": [
       "                               Features       VIF\n",
       "0                             GRE Score  15426.05\n",
       "1                           TOEFL Score   4567.43\n",
       "2                 GRE_TOEFL_score_ratio   2918.64\n",
       "3                                  CGPA   1185.43\n",
       "8   TOEFL_score_category_target_encoded    625.71\n",
       "7     GRE_score_category_target_encoded    245.34\n",
       "4                    SOP_target_encoded    156.70\n",
       "9          CGPA_category_target_encoded    150.25\n",
       "6      University Rating_target_encoded    149.57\n",
       "5                   LOR _target_encoded    133.11\n",
       "10                             Research      3.64"
      ]
     },
     "execution_count": 86,
     "metadata": {},
     "output_type": "execute_result"
    }
   ],
   "source": [
    "vif = pd.DataFrame()\n",
    "X_t = X_train\n",
    "vif['Features'] = X_t.columns\n",
    "vif['VIF'] = [variance_inflation_factor(X_t.values, i) for i in range(X_t.shape[1])]\n",
    "vif['VIF'] = round(vif['VIF'], 2)\n",
    "vif = vif.sort_values(by = \"VIF\", ascending = False)\n",
    "vif"
   ]
  },
  {
   "cell_type": "markdown",
   "id": "4676e5a7",
   "metadata": {},
   "source": [
    "**Note : Vif values tends to be high/infinity when there is a perfect correlation between the variables**\n",
    "- Any variable with a VIF of 5 or above is considered  correlated with other variables.\n",
    "- Notice how there are 6 features which have multicollinearity in them,\n",
    "\n",
    "#### But should we only consider those features which has VIF<5 ?\n",
    "- No, We should step-by-step drop the features with the highest VIF and see how the model performs for each case.\n",
    "- Since dropping all of those features will cause loss of high valued information necessary for prediction \n",
    "\n",
    "Lets Take our case for better understanding this:\n",
    "- We see feature ```TOEFL Score```, ```GRE Score``` has $VIF = very high $, and we know when checking 'Chance of Admission' both TOEFL and GRE has the same meaning\n",
    "- Hence dropping both of them will cause a critical information loss \n",
    "- Therefore we drop only one of the feature"
   ]
  },
  {
   "cell_type": "code",
   "execution_count": 87,
   "id": "687bb149",
   "metadata": {},
   "outputs": [],
   "source": [
    "# build model without all those correlated columns\n",
    "X_train_new = X_train.drop(columns=['TOEFL Score'])\n",
    "X_test_new = X_test.drop(columns=['TOEFL Score'])"
   ]
  },
  {
   "cell_type": "code",
   "execution_count": 88,
   "id": "f7789e31",
   "metadata": {},
   "outputs": [],
   "source": [
    "X2_sm = sm.add_constant(X_train_new)  #Statmodels default is without intercept, to add intercept we need to add constant \n",
    "sm_model = sm.OLS(y_train, X2_sm).fit()"
   ]
  },
  {
   "cell_type": "code",
   "execution_count": 89,
   "id": "5e4e467c",
   "metadata": {},
   "outputs": [
    {
     "name": "stdout",
     "output_type": "stream",
     "text": [
      "                            OLS Regression Results                            \n",
      "==============================================================================\n",
      "Dep. Variable:       Chance of Admit    R-squared:                       0.826\n",
      "Model:                            OLS   Adj. R-squared:                  0.822\n",
      "Method:                 Least Squares   F-statistic:                     183.8\n",
      "Date:                Sat, 29 Oct 2022   Prob (F-statistic):          2.88e-140\n",
      "Time:                        16:52:33   Log-Likelihood:                 566.67\n",
      "No. Observations:                 398   AIC:                            -1111.\n",
      "Df Residuals:                     387   BIC:                            -1067.\n",
      "Df Model:                          10                                         \n",
      "Covariance Type:            nonrobust                                         \n",
      "=======================================================================================================\n",
      "                                          coef    std err          t      P>|t|      [0.025      0.975]\n",
      "-------------------------------------------------------------------------------------------------------\n",
      "const                                  -0.9969      0.201     -4.972      0.000      -1.391      -0.603\n",
      "GRE Score                               0.0026      0.001      3.921      0.000       0.001       0.004\n",
      "GRE_TOEFL_score_ratio                  -0.1058      0.036     -2.960      0.003      -0.176      -0.036\n",
      "CGPA                                    0.1102      0.012      9.303      0.000       0.087       0.133\n",
      "SOP_target_encoded                      0.0528      0.051      1.039      0.299      -0.047       0.153\n",
      "LOR _target_encoded                     0.1892      0.047      4.033      0.000       0.097       0.281\n",
      "University Rating_target_encoded        0.0616      0.050      1.242      0.215      -0.036       0.159\n",
      "GRE_score_category_target_encoded       0.0374      0.063      0.590      0.556      -0.087       0.162\n",
      "TOEFL_score_category_target_encoded    -0.0516      0.105     -0.490      0.624      -0.259       0.155\n",
      "CGPA_category_target_encoded            0.0419      0.050      0.842      0.400      -0.056       0.140\n",
      "Research                                0.0213      0.008      2.843      0.005       0.007       0.036\n",
      "==============================================================================\n",
      "Omnibus:                       86.945   Durbin-Watson:                   1.852\n",
      "Prob(Omnibus):                  0.000   Jarque-Bera (JB):              194.632\n",
      "Skew:                          -1.114   Prob(JB):                     5.45e-43\n",
      "Kurtosis:                       5.603   Cond. No.                     2.24e+04\n",
      "==============================================================================\n",
      "\n",
      "Notes:\n",
      "[1] Standard Errors assume that the covariance matrix of the errors is correctly specified.\n",
      "[2] The condition number is large, 2.24e+04. This might indicate that there are\n",
      "strong multicollinearity or other numerical problems.\n"
     ]
    }
   ],
   "source": [
    "print(sm_model.summary())"
   ]
  },
  {
   "cell_type": "code",
   "execution_count": 90,
   "id": "ec66601d",
   "metadata": {},
   "outputs": [
    {
     "data": {
      "text/html": [
       "<div>\n",
       "<style scoped>\n",
       "    .dataframe tbody tr th:only-of-type {\n",
       "        vertical-align: middle;\n",
       "    }\n",
       "\n",
       "    .dataframe tbody tr th {\n",
       "        vertical-align: top;\n",
       "    }\n",
       "\n",
       "    .dataframe thead th {\n",
       "        text-align: right;\n",
       "    }\n",
       "</style>\n",
       "<table border=\"1\" class=\"dataframe\">\n",
       "  <thead>\n",
       "    <tr style=\"text-align: right;\">\n",
       "      <th></th>\n",
       "      <th>Features</th>\n",
       "      <th>VIF</th>\n",
       "    </tr>\n",
       "  </thead>\n",
       "  <tbody>\n",
       "    <tr>\n",
       "      <th>0</th>\n",
       "      <td>GRE Score</td>\n",
       "      <td>3528.42</td>\n",
       "    </tr>\n",
       "    <tr>\n",
       "      <th>2</th>\n",
       "      <td>CGPA</td>\n",
       "      <td>1179.24</td>\n",
       "    </tr>\n",
       "    <tr>\n",
       "      <th>1</th>\n",
       "      <td>GRE_TOEFL_score_ratio</td>\n",
       "      <td>825.43</td>\n",
       "    </tr>\n",
       "    <tr>\n",
       "      <th>7</th>\n",
       "      <td>TOEFL_score_category_target_encoded</td>\n",
       "      <td>541.19</td>\n",
       "    </tr>\n",
       "    <tr>\n",
       "      <th>6</th>\n",
       "      <td>GRE_score_category_target_encoded</td>\n",
       "      <td>194.55</td>\n",
       "    </tr>\n",
       "    <tr>\n",
       "      <th>3</th>\n",
       "      <td>SOP_target_encoded</td>\n",
       "      <td>155.88</td>\n",
       "    </tr>\n",
       "    <tr>\n",
       "      <th>8</th>\n",
       "      <td>CGPA_category_target_encoded</td>\n",
       "      <td>149.60</td>\n",
       "    </tr>\n",
       "    <tr>\n",
       "      <th>5</th>\n",
       "      <td>University Rating_target_encoded</td>\n",
       "      <td>149.54</td>\n",
       "    </tr>\n",
       "    <tr>\n",
       "      <th>4</th>\n",
       "      <td>LOR _target_encoded</td>\n",
       "      <td>133.10</td>\n",
       "    </tr>\n",
       "    <tr>\n",
       "      <th>9</th>\n",
       "      <td>Research</td>\n",
       "      <td>3.52</td>\n",
       "    </tr>\n",
       "  </tbody>\n",
       "</table>\n",
       "</div>"
      ],
      "text/plain": [
       "                              Features      VIF\n",
       "0                            GRE Score  3528.42\n",
       "2                                 CGPA  1179.24\n",
       "1                GRE_TOEFL_score_ratio   825.43\n",
       "7  TOEFL_score_category_target_encoded   541.19\n",
       "6    GRE_score_category_target_encoded   194.55\n",
       "3                   SOP_target_encoded   155.88\n",
       "8         CGPA_category_target_encoded   149.60\n",
       "5     University Rating_target_encoded   149.54\n",
       "4                  LOR _target_encoded   133.10\n",
       "9                             Research     3.52"
      ]
     },
     "execution_count": 90,
     "metadata": {},
     "output_type": "execute_result"
    }
   ],
   "source": [
    "vif = pd.DataFrame()\n",
    "X_t = X_train_new\n",
    "vif['Features'] = X_t.columns\n",
    "vif['VIF'] = [variance_inflation_factor(X_t.values, i) for i in range(X_t.shape[1])]\n",
    "vif['VIF'] = round(vif['VIF'], 2)\n",
    "vif = vif.sort_values(by = \"VIF\", ascending = False)\n",
    "vif"
   ]
  },
  {
   "cell_type": "code",
   "execution_count": 91,
   "id": "9254b0ce",
   "metadata": {},
   "outputs": [],
   "source": [
    "# build model without all those correlated columns\n",
    "X_train_new = X_train_new.drop(columns=['CGPA'])\n",
    "X_test_new = X_test_new.drop(columns=['CGPA'])"
   ]
  },
  {
   "cell_type": "code",
   "execution_count": 92,
   "id": "53f6d910",
   "metadata": {},
   "outputs": [
    {
     "name": "stdout",
     "output_type": "stream",
     "text": [
      "                            OLS Regression Results                            \n",
      "==============================================================================\n",
      "Dep. Variable:       Chance of Admit    R-squared:                       0.787\n",
      "Model:                            OLS   Adj. R-squared:                  0.782\n",
      "Method:                 Least Squares   F-statistic:                     159.5\n",
      "Date:                Sat, 29 Oct 2022   Prob (F-statistic):          1.67e-124\n",
      "Time:                        16:52:33   Log-Likelihood:                 526.51\n",
      "No. Observations:                 398   AIC:                            -1033.\n",
      "Df Residuals:                     388   BIC:                            -993.1\n",
      "Df Model:                           9                                         \n",
      "Covariance Type:            nonrobust                                         \n",
      "=======================================================================================================\n",
      "                                          coef    std err          t      P>|t|      [0.025      0.975]\n",
      "-------------------------------------------------------------------------------------------------------\n",
      "const                                  -0.8849      0.221     -4.002      0.000      -1.320      -0.450\n",
      "GRE Score                               0.0053      0.001      7.866      0.000       0.004       0.007\n",
      "GRE_TOEFL_score_ratio                  -0.1882      0.038     -4.916      0.000      -0.263      -0.113\n",
      "SOP_target_encoded                      0.1241      0.055      2.237      0.026       0.015       0.233\n",
      "LOR _target_encoded                     0.2854      0.051      5.646      0.000       0.186       0.385\n",
      "University Rating_target_encoded        0.1474      0.054      2.736      0.007       0.041       0.253\n",
      "GRE_score_category_target_encoded       0.0220      0.070      0.314      0.754      -0.116       0.160\n",
      "TOEFL_score_category_target_encoded    -0.1775      0.115     -1.538      0.125      -0.404       0.049\n",
      "CGPA_category_target_encoded            0.2527      0.049      5.169      0.000       0.157       0.349\n",
      "Research                                0.0249      0.008      3.012      0.003       0.009       0.041\n",
      "==============================================================================\n",
      "Omnibus:                       82.949   Durbin-Watson:                   1.909\n",
      "Prob(Omnibus):                  0.000   Jarque-Bera (JB):              167.436\n",
      "Skew:                          -1.111   Prob(JB):                     4.38e-37\n",
      "Kurtosis:                       5.272   Cond. No.                     2.24e+04\n",
      "==============================================================================\n",
      "\n",
      "Notes:\n",
      "[1] Standard Errors assume that the covariance matrix of the errors is correctly specified.\n",
      "[2] The condition number is large, 2.24e+04. This might indicate that there are\n",
      "strong multicollinearity or other numerical problems.\n"
     ]
    }
   ],
   "source": [
    "X2_sm = sm.add_constant(X_train_new)  #Statmodels default is without intercept, to add intercept we need to add constant \n",
    "sm_model = sm.OLS(y_train, X2_sm).fit()\n",
    "print(sm_model.summary())"
   ]
  },
  {
   "cell_type": "code",
   "execution_count": 93,
   "id": "9688299d",
   "metadata": {},
   "outputs": [
    {
     "data": {
      "text/html": [
       "<div>\n",
       "<style scoped>\n",
       "    .dataframe tbody tr th:only-of-type {\n",
       "        vertical-align: middle;\n",
       "    }\n",
       "\n",
       "    .dataframe tbody tr th {\n",
       "        vertical-align: top;\n",
       "    }\n",
       "\n",
       "    .dataframe thead th {\n",
       "        text-align: right;\n",
       "    }\n",
       "</style>\n",
       "<table border=\"1\" class=\"dataframe\">\n",
       "  <thead>\n",
       "    <tr style=\"text-align: right;\">\n",
       "      <th></th>\n",
       "      <th>Features</th>\n",
       "      <th>VIF</th>\n",
       "    </tr>\n",
       "  </thead>\n",
       "  <tbody>\n",
       "    <tr>\n",
       "      <th>0</th>\n",
       "      <td>GRE Score</td>\n",
       "      <td>2436.74</td>\n",
       "    </tr>\n",
       "    <tr>\n",
       "      <th>1</th>\n",
       "      <td>GRE_TOEFL_score_ratio</td>\n",
       "      <td>768.04</td>\n",
       "    </tr>\n",
       "    <tr>\n",
       "      <th>6</th>\n",
       "      <td>TOEFL_score_category_target_encoded</td>\n",
       "      <td>534.17</td>\n",
       "    </tr>\n",
       "    <tr>\n",
       "      <th>5</th>\n",
       "      <td>GRE_score_category_target_encoded</td>\n",
       "      <td>193.85</td>\n",
       "    </tr>\n",
       "    <tr>\n",
       "      <th>2</th>\n",
       "      <td>SOP_target_encoded</td>\n",
       "      <td>152.08</td>\n",
       "    </tr>\n",
       "    <tr>\n",
       "      <th>4</th>\n",
       "      <td>University Rating_target_encoded</td>\n",
       "      <td>144.38</td>\n",
       "    </tr>\n",
       "    <tr>\n",
       "      <th>3</th>\n",
       "      <td>LOR _target_encoded</td>\n",
       "      <td>126.68</td>\n",
       "    </tr>\n",
       "    <tr>\n",
       "      <th>7</th>\n",
       "      <td>CGPA_category_target_encoded</td>\n",
       "      <td>118.68</td>\n",
       "    </tr>\n",
       "    <tr>\n",
       "      <th>8</th>\n",
       "      <td>Research</td>\n",
       "      <td>3.51</td>\n",
       "    </tr>\n",
       "  </tbody>\n",
       "</table>\n",
       "</div>"
      ],
      "text/plain": [
       "                              Features      VIF\n",
       "0                            GRE Score  2436.74\n",
       "1                GRE_TOEFL_score_ratio   768.04\n",
       "6  TOEFL_score_category_target_encoded   534.17\n",
       "5    GRE_score_category_target_encoded   193.85\n",
       "2                   SOP_target_encoded   152.08\n",
       "4     University Rating_target_encoded   144.38\n",
       "3                  LOR _target_encoded   126.68\n",
       "7         CGPA_category_target_encoded   118.68\n",
       "8                             Research     3.51"
      ]
     },
     "execution_count": 93,
     "metadata": {},
     "output_type": "execute_result"
    }
   ],
   "source": [
    "vif = pd.DataFrame()\n",
    "X_t = X_train_new\n",
    "vif['Features'] = X_t.columns\n",
    "vif['VIF'] = [variance_inflation_factor(X_t.values, i) for i in range(X_t.shape[1])]\n",
    "vif['VIF'] = round(vif['VIF'], 2)\n",
    "vif = vif.sort_values(by = \"VIF\", ascending = False)\n",
    "vif"
   ]
  },
  {
   "cell_type": "code",
   "execution_count": 94,
   "id": "06b40792",
   "metadata": {},
   "outputs": [],
   "source": [
    "# build model without all those correlated columns\n",
    "X_train_new = X_train_new.drop(columns=['SOP_target_encoded'])\n",
    "X_test_new = X_test_new.drop(columns=['SOP_target_encoded'])"
   ]
  },
  {
   "cell_type": "code",
   "execution_count": 95,
   "id": "e7461d74",
   "metadata": {},
   "outputs": [
    {
     "name": "stdout",
     "output_type": "stream",
     "text": [
      "                            OLS Regression Results                            \n",
      "==============================================================================\n",
      "Dep. Variable:       Chance of Admit    R-squared:                       0.784\n",
      "Model:                            OLS   Adj. R-squared:                  0.780\n",
      "Method:                 Least Squares   F-statistic:                     177.0\n",
      "Date:                Sat, 29 Oct 2022   Prob (F-statistic):          1.44e-124\n",
      "Time:                        16:52:33   Log-Likelihood:                 523.96\n",
      "No. Observations:                 398   AIC:                            -1030.\n",
      "Df Residuals:                     389   BIC:                            -994.0\n",
      "Df Model:                           8                                         \n",
      "Covariance Type:            nonrobust                                         \n",
      "=======================================================================================================\n",
      "                                          coef    std err          t      P>|t|      [0.025      0.975]\n",
      "-------------------------------------------------------------------------------------------------------\n",
      "const                                  -0.8437      0.221     -3.810      0.000      -1.279      -0.408\n",
      "GRE Score                               0.0055      0.001      8.144      0.000       0.004       0.007\n",
      "GRE_TOEFL_score_ratio                  -0.2067      0.038     -5.503      0.000      -0.281      -0.133\n",
      "LOR _target_encoded                     0.3203      0.048      6.627      0.000       0.225       0.415\n",
      "University Rating_target_encoded        0.1993      0.049      4.077      0.000       0.103       0.295\n",
      "GRE_score_category_target_encoded       0.0161      0.070      0.229      0.819      -0.122       0.154\n",
      "TOEFL_score_category_target_encoded    -0.2063      0.115     -1.789      0.074      -0.433       0.020\n",
      "CGPA_category_target_encoded            0.2658      0.049      5.447      0.000       0.170       0.362\n",
      "Research                                0.0252      0.008      3.032      0.003       0.009       0.042\n",
      "==============================================================================\n",
      "Omnibus:                       79.598   Durbin-Watson:                   1.908\n",
      "Prob(Omnibus):                  0.000   Jarque-Bera (JB):              157.442\n",
      "Skew:                          -1.077   Prob(JB):                     6.48e-35\n",
      "Kurtosis:                       5.203   Cond. No.                     2.23e+04\n",
      "==============================================================================\n",
      "\n",
      "Notes:\n",
      "[1] Standard Errors assume that the covariance matrix of the errors is correctly specified.\n",
      "[2] The condition number is large, 2.23e+04. This might indicate that there are\n",
      "strong multicollinearity or other numerical problems.\n"
     ]
    }
   ],
   "source": [
    "X2_sm = sm.add_constant(X_train_new)  #Statmodels default is without intercept, to add intercept we need to add constant \n",
    "sm_model = sm.OLS(y_train, X2_sm).fit()\n",
    "print(sm_model.summary())"
   ]
  },
  {
   "cell_type": "code",
   "execution_count": 96,
   "id": "5adb980f",
   "metadata": {},
   "outputs": [
    {
     "data": {
      "text/html": [
       "<div>\n",
       "<style scoped>\n",
       "    .dataframe tbody tr th:only-of-type {\n",
       "        vertical-align: middle;\n",
       "    }\n",
       "\n",
       "    .dataframe tbody tr th {\n",
       "        vertical-align: top;\n",
       "    }\n",
       "\n",
       "    .dataframe thead th {\n",
       "        text-align: right;\n",
       "    }\n",
       "</style>\n",
       "<table border=\"1\" class=\"dataframe\">\n",
       "  <thead>\n",
       "    <tr style=\"text-align: right;\">\n",
       "      <th></th>\n",
       "      <th>Features</th>\n",
       "      <th>VIF</th>\n",
       "    </tr>\n",
       "  </thead>\n",
       "  <tbody>\n",
       "    <tr>\n",
       "      <th>0</th>\n",
       "      <td>GRE Score</td>\n",
       "      <td>2310.56</td>\n",
       "    </tr>\n",
       "    <tr>\n",
       "      <th>1</th>\n",
       "      <td>GRE_TOEFL_score_ratio</td>\n",
       "      <td>734.59</td>\n",
       "    </tr>\n",
       "    <tr>\n",
       "      <th>5</th>\n",
       "      <td>TOEFL_score_category_target_encoded</td>\n",
       "      <td>530.37</td>\n",
       "    </tr>\n",
       "    <tr>\n",
       "      <th>4</th>\n",
       "      <td>GRE_score_category_target_encoded</td>\n",
       "      <td>192.46</td>\n",
       "    </tr>\n",
       "    <tr>\n",
       "      <th>3</th>\n",
       "      <td>University Rating_target_encoded</td>\n",
       "      <td>117.37</td>\n",
       "    </tr>\n",
       "    <tr>\n",
       "      <th>6</th>\n",
       "      <td>CGPA_category_target_encoded</td>\n",
       "      <td>117.02</td>\n",
       "    </tr>\n",
       "    <tr>\n",
       "      <th>2</th>\n",
       "      <td>LOR _target_encoded</td>\n",
       "      <td>114.58</td>\n",
       "    </tr>\n",
       "    <tr>\n",
       "      <th>7</th>\n",
       "      <td>Research</td>\n",
       "      <td>3.51</td>\n",
       "    </tr>\n",
       "  </tbody>\n",
       "</table>\n",
       "</div>"
      ],
      "text/plain": [
       "                              Features      VIF\n",
       "0                            GRE Score  2310.56\n",
       "1                GRE_TOEFL_score_ratio   734.59\n",
       "5  TOEFL_score_category_target_encoded   530.37\n",
       "4    GRE_score_category_target_encoded   192.46\n",
       "3     University Rating_target_encoded   117.37\n",
       "6         CGPA_category_target_encoded   117.02\n",
       "2                  LOR _target_encoded   114.58\n",
       "7                             Research     3.51"
      ]
     },
     "execution_count": 96,
     "metadata": {},
     "output_type": "execute_result"
    }
   ],
   "source": [
    "vif = pd.DataFrame()\n",
    "X_t = X_train_new\n",
    "vif['Features'] = X_t.columns\n",
    "vif['VIF'] = [variance_inflation_factor(X_t.values, i) for i in range(X_t.shape[1])]\n",
    "vif['VIF'] = round(vif['VIF'], 2)\n",
    "vif = vif.sort_values(by = \"VIF\", ascending = False)\n",
    "vif"
   ]
  },
  {
   "cell_type": "code",
   "execution_count": 97,
   "id": "5682d7b4",
   "metadata": {},
   "outputs": [],
   "source": [
    "# build model without all those correlated columns\n",
    "X_train_new = X_train_new.drop(columns=['GRE Score'])\n",
    "X_test_new = X_test_new.drop(columns=['GRE Score'])"
   ]
  },
  {
   "cell_type": "code",
   "execution_count": 98,
   "id": "c0778dad",
   "metadata": {},
   "outputs": [
    {
     "name": "stdout",
     "output_type": "stream",
     "text": [
      "                            OLS Regression Results                            \n",
      "==============================================================================\n",
      "Dep. Variable:       Chance of Admit    R-squared:                       0.748\n",
      "Model:                            OLS   Adj. R-squared:                  0.743\n",
      "Method:                 Least Squares   F-statistic:                     165.1\n",
      "Date:                Sat, 29 Oct 2022   Prob (F-statistic):          1.86e-112\n",
      "Time:                        16:52:33   Log-Likelihood:                 492.63\n",
      "No. Observations:                 398   AIC:                            -969.3\n",
      "Df Residuals:                     390   BIC:                            -937.4\n",
      "Df Model:                           7                                         \n",
      "Covariance Type:            nonrobust                                         \n",
      "=======================================================================================================\n",
      "                                          coef    std err          t      P>|t|      [0.025      0.975]\n",
      "-------------------------------------------------------------------------------------------------------\n",
      "const                                   0.3638      0.178      2.046      0.041       0.014       0.713\n",
      "GRE_TOEFL_score_ratio                  -0.1837      0.040     -4.539      0.000      -0.263      -0.104\n",
      "LOR _target_encoded                     0.3538      0.052      6.799      0.000       0.251       0.456\n",
      "University Rating_target_encoded        0.2483      0.052      4.737      0.000       0.145       0.351\n",
      "GRE_score_category_target_encoded       0.4442      0.050      8.800      0.000       0.345       0.544\n",
      "TOEFL_score_category_target_encoded    -0.1653      0.124     -1.328      0.185      -0.410       0.079\n",
      "CGPA_category_target_encoded            0.3381      0.052      6.522      0.000       0.236       0.440\n",
      "Research                                0.0352      0.009      3.955      0.000       0.018       0.053\n",
      "==============================================================================\n",
      "Omnibus:                       61.013   Durbin-Watson:                   1.900\n",
      "Prob(Omnibus):                  0.000   Jarque-Bera (JB):               99.002\n",
      "Skew:                          -0.930   Prob(JB):                     3.18e-22\n",
      "Kurtosis:                       4.585   Cond. No.                         201.\n",
      "==============================================================================\n",
      "\n",
      "Notes:\n",
      "[1] Standard Errors assume that the covariance matrix of the errors is correctly specified.\n"
     ]
    }
   ],
   "source": [
    "X2_sm = sm.add_constant(X_train_new)  #Statmodels default is without intercept, to add intercept we need to add constant \n",
    "sm_model = sm.OLS(y_train, X2_sm).fit()\n",
    "print(sm_model.summary())"
   ]
  },
  {
   "cell_type": "code",
   "execution_count": 99,
   "id": "55341dc3",
   "metadata": {},
   "outputs": [
    {
     "data": {
      "text/html": [
       "<div>\n",
       "<style scoped>\n",
       "    .dataframe tbody tr th:only-of-type {\n",
       "        vertical-align: middle;\n",
       "    }\n",
       "\n",
       "    .dataframe tbody tr th {\n",
       "        vertical-align: top;\n",
       "    }\n",
       "\n",
       "    .dataframe thead th {\n",
       "        text-align: right;\n",
       "    }\n",
       "</style>\n",
       "<table border=\"1\" class=\"dataframe\">\n",
       "  <thead>\n",
       "    <tr style=\"text-align: right;\">\n",
       "      <th></th>\n",
       "      <th>Features</th>\n",
       "      <th>VIF</th>\n",
       "    </tr>\n",
       "  </thead>\n",
       "  <tbody>\n",
       "    <tr>\n",
       "      <th>4</th>\n",
       "      <td>TOEFL_score_category_target_encoded</td>\n",
       "      <td>408.06</td>\n",
       "    </tr>\n",
       "    <tr>\n",
       "      <th>0</th>\n",
       "      <td>GRE_TOEFL_score_ratio</td>\n",
       "      <td>269.49</td>\n",
       "    </tr>\n",
       "    <tr>\n",
       "      <th>1</th>\n",
       "      <td>LOR _target_encoded</td>\n",
       "      <td>112.62</td>\n",
       "    </tr>\n",
       "    <tr>\n",
       "      <th>2</th>\n",
       "      <td>University Rating_target_encoded</td>\n",
       "      <td>112.36</td>\n",
       "    </tr>\n",
       "    <tr>\n",
       "      <th>5</th>\n",
       "      <td>CGPA_category_target_encoded</td>\n",
       "      <td>110.24</td>\n",
       "    </tr>\n",
       "    <tr>\n",
       "      <th>3</th>\n",
       "      <td>GRE_score_category_target_encoded</td>\n",
       "      <td>106.77</td>\n",
       "    </tr>\n",
       "    <tr>\n",
       "      <th>6</th>\n",
       "      <td>Research</td>\n",
       "      <td>3.51</td>\n",
       "    </tr>\n",
       "  </tbody>\n",
       "</table>\n",
       "</div>"
      ],
      "text/plain": [
       "                              Features     VIF\n",
       "4  TOEFL_score_category_target_encoded  408.06\n",
       "0                GRE_TOEFL_score_ratio  269.49\n",
       "1                  LOR _target_encoded  112.62\n",
       "2     University Rating_target_encoded  112.36\n",
       "5         CGPA_category_target_encoded  110.24\n",
       "3    GRE_score_category_target_encoded  106.77\n",
       "6                             Research    3.51"
      ]
     },
     "execution_count": 99,
     "metadata": {},
     "output_type": "execute_result"
    }
   ],
   "source": [
    "vif = pd.DataFrame()\n",
    "X_t = X_train_new\n",
    "vif['Features'] = X_t.columns\n",
    "vif['VIF'] = [variance_inflation_factor(X_t.values, i) for i in range(X_t.shape[1])]\n",
    "vif['VIF'] = round(vif['VIF'], 2)\n",
    "vif = vif.sort_values(by = \"VIF\", ascending = False)\n",
    "vif"
   ]
  },
  {
   "cell_type": "code",
   "execution_count": 100,
   "id": "ad3441b6",
   "metadata": {},
   "outputs": [],
   "source": [
    "# build model without all those correlated columns\n",
    "X_train_new = X_train_new.drop(columns=['University Rating_target_encoded'])\n",
    "X_test_new = X_test_new.drop(columns=['University Rating_target_encoded'])"
   ]
  },
  {
   "cell_type": "code",
   "execution_count": 101,
   "id": "5a83deab",
   "metadata": {},
   "outputs": [
    {
     "name": "stdout",
     "output_type": "stream",
     "text": [
      "                            OLS Regression Results                            \n",
      "==============================================================================\n",
      "Dep. Variable:       Chance of Admit    R-squared:                       0.733\n",
      "Model:                            OLS   Adj. R-squared:                  0.729\n",
      "Method:                 Least Squares   F-statistic:                     179.1\n",
      "Date:                Sat, 29 Oct 2022   Prob (F-statistic):          6.96e-109\n",
      "Time:                        16:52:33   Log-Likelihood:                 481.49\n",
      "No. Observations:                 398   AIC:                            -949.0\n",
      "Df Residuals:                     391   BIC:                            -921.1\n",
      "Df Model:                           6                                         \n",
      "Covariance Type:            nonrobust                                         \n",
      "=======================================================================================================\n",
      "                                          coef    std err          t      P>|t|      [0.025      0.975]\n",
      "-------------------------------------------------------------------------------------------------------\n",
      "const                                   0.5096      0.180      2.834      0.005       0.156       0.863\n",
      "GRE_TOEFL_score_ratio                  -0.2122      0.041     -5.162      0.000      -0.293      -0.131\n",
      "LOR _target_encoded                     0.4523      0.049      9.233      0.000       0.356       0.549\n",
      "GRE_score_category_target_encoded       0.5234      0.049     10.698      0.000       0.427       0.620\n",
      "TOEFL_score_category_target_encoded    -0.1798      0.128     -1.408      0.160      -0.431       0.071\n",
      "CGPA_category_target_encoded            0.3348      0.053      6.289      0.000       0.230       0.439\n",
      "Research                                0.0395      0.009      4.348      0.000       0.022       0.057\n",
      "==============================================================================\n",
      "Omnibus:                       57.584   Durbin-Watson:                   1.890\n",
      "Prob(Omnibus):                  0.000   Jarque-Bera (JB):               88.696\n",
      "Skew:                          -0.910   Prob(JB):                     5.50e-20\n",
      "Kurtosis:                       4.426   Cond. No.                         195.\n",
      "==============================================================================\n",
      "\n",
      "Notes:\n",
      "[1] Standard Errors assume that the covariance matrix of the errors is correctly specified.\n"
     ]
    }
   ],
   "source": [
    "X2_sm = sm.add_constant(X_train_new)  #Statmodels default is without intercept, to add intercept we need to add constant \n",
    "sm_model = sm.OLS(y_train, X2_sm).fit()\n",
    "print(sm_model.summary())"
   ]
  },
  {
   "cell_type": "code",
   "execution_count": 102,
   "id": "bc5cae93",
   "metadata": {},
   "outputs": [
    {
     "data": {
      "text/html": [
       "<div>\n",
       "<style scoped>\n",
       "    .dataframe tbody tr th:only-of-type {\n",
       "        vertical-align: middle;\n",
       "    }\n",
       "\n",
       "    .dataframe tbody tr th {\n",
       "        vertical-align: top;\n",
       "    }\n",
       "\n",
       "    .dataframe thead th {\n",
       "        text-align: right;\n",
       "    }\n",
       "</style>\n",
       "<table border=\"1\" class=\"dataframe\">\n",
       "  <thead>\n",
       "    <tr style=\"text-align: right;\">\n",
       "      <th></th>\n",
       "      <th>Features</th>\n",
       "      <th>VIF</th>\n",
       "    </tr>\n",
       "  </thead>\n",
       "  <tbody>\n",
       "    <tr>\n",
       "      <th>3</th>\n",
       "      <td>TOEFL_score_category_target_encoded</td>\n",
       "      <td>403.85</td>\n",
       "    </tr>\n",
       "    <tr>\n",
       "      <th>0</th>\n",
       "      <td>GRE_TOEFL_score_ratio</td>\n",
       "      <td>269.48</td>\n",
       "    </tr>\n",
       "    <tr>\n",
       "      <th>4</th>\n",
       "      <td>CGPA_category_target_encoded</td>\n",
       "      <td>110.21</td>\n",
       "    </tr>\n",
       "    <tr>\n",
       "      <th>2</th>\n",
       "      <td>GRE_score_category_target_encoded</td>\n",
       "      <td>93.52</td>\n",
       "    </tr>\n",
       "    <tr>\n",
       "      <th>1</th>\n",
       "      <td>LOR _target_encoded</td>\n",
       "      <td>92.20</td>\n",
       "    </tr>\n",
       "    <tr>\n",
       "      <th>5</th>\n",
       "      <td>Research</td>\n",
       "      <td>3.48</td>\n",
       "    </tr>\n",
       "  </tbody>\n",
       "</table>\n",
       "</div>"
      ],
      "text/plain": [
       "                              Features     VIF\n",
       "3  TOEFL_score_category_target_encoded  403.85\n",
       "0                GRE_TOEFL_score_ratio  269.48\n",
       "4         CGPA_category_target_encoded  110.21\n",
       "2    GRE_score_category_target_encoded   93.52\n",
       "1                  LOR _target_encoded   92.20\n",
       "5                             Research    3.48"
      ]
     },
     "execution_count": 102,
     "metadata": {},
     "output_type": "execute_result"
    }
   ],
   "source": [
    "vif = pd.DataFrame()\n",
    "X_t = X_train_new\n",
    "vif['Features'] = X_t.columns\n",
    "vif['VIF'] = [variance_inflation_factor(X_t.values, i) for i in range(X_t.shape[1])]\n",
    "vif['VIF'] = round(vif['VIF'], 2)\n",
    "vif = vif.sort_values(by = \"VIF\", ascending = False)\n",
    "vif"
   ]
  },
  {
   "cell_type": "markdown",
   "id": "dfdbb1ec",
   "metadata": {},
   "source": [
    "- **Conclusion**:\n",
    "    - While removing Multi-collinearity we **lost almost all singnifant features such as \"GRE Score\", \"TOEFL Score\" etc**. Which **is not good**\n",
    "    - We can **try selecting features which has low correlation among independent variables** . e.g. using cut off in pierson correlation coeffient \n",
    "        - e.g. can select either \"GRE Score\" or \"TOEFL Score\" .But **domain experts needs to be consulted**\n",
    "    - If focus is **only prediction and no explainability** then model with high VIFs can still be considered \n",
    "    - Principle component analysis to combine features but considering  limited features available and Explainability of the model would be impacted\n",
    "        - Again **domain experts should be consulted**"
   ]
  },
  {
   "cell_type": "markdown",
   "id": "f0161074",
   "metadata": {},
   "source": [
    "**NOTE: multicollinearity may not be a problem every time.**\n",
    "\n",
    "The need to fix multicollinearity depends primarily on the below reasons:\n",
    "\n",
    "- **Removing multicollinearity may be a good option**, When we **care more about how much each individual feature rather than a group of features affects the target variable**"
   ]
  },
  {
   "cell_type": "markdown",
   "id": "5b54733a",
   "metadata": {},
   "source": [
    "### Check Assumption # 2 - The mean of residuals is nearly zero"
   ]
  },
  {
   "cell_type": "code",
   "execution_count": 103,
   "id": "e913601a",
   "metadata": {},
   "outputs": [
    {
     "name": "stdout",
     "output_type": "stream",
     "text": [
      "Mean of Residuals 0.0026613065326636454\n"
     ]
    }
   ],
   "source": [
    "residuals = y_test.values-y_pred\n",
    "mean_residuals = np.mean(residuals)\n",
    "print(\"Mean of Residuals {}\".format(mean_residuals))"
   ]
  },
  {
   "cell_type": "markdown",
   "id": "44ec20bb",
   "metadata": {},
   "source": [
    "- **Conclusion**:\n",
    "    Mean of residuals are almost zero , satisfies Assumption # 2"
   ]
  },
  {
   "cell_type": "markdown",
   "id": "c7d884e1",
   "metadata": {},
   "source": [
    "### Check Assumption # 3 - Linearity"
   ]
  },
  {
   "cell_type": "code",
   "execution_count": 104,
   "id": "f26bb4d8",
   "metadata": {},
   "outputs": [
    {
     "data": {
      "image/png": "[encoded data removed]",
      "text/plain": [
       "<Figure size 1980x180 with 11 Axes>"
      ]
     },
     "metadata": {
      "needs_background": "light"
     },
     "output_type": "display_data"
    }
   ],
   "source": [
    "sns.pairplot(df, x_vars=['GRE Score','TOEFL Score','GRE_TOEFL_score_ratio','CGPA','Research','SOP_target_encoded','LOR _target_encoded','University Rating_target_encoded','GRE_score_category_target_encoded','TOEFL_score_category_target_encoded','CGPA_category_target_encoded'],y_vars=[\"Chance of Admit \"]);"
   ]
  },
  {
   "cell_type": "markdown",
   "id": "0628cc70",
   "metadata": {},
   "source": [
    "- **Conclusion**:\n",
    "    - Only 'GRE Score','TOEFL Score','CGPA' shows linear relationship .\n",
    "    - Rest of the features doesn't show linear relationship "
   ]
  },
  {
   "cell_type": "markdown",
   "id": "d5281170",
   "metadata": {},
   "source": [
    "### Check Assumption # 4 - Heteroskedasticity should not exist"
   ]
  },
  {
   "cell_type": "code",
   "execution_count": 105,
   "id": "f5b185cd",
   "metadata": {},
   "outputs": [
    {
     "data": {
      "text/plain": [
       "array([[ 0.04625695, -0.02631735, -0.02647906,  0.0657157 ,  0.00514712,\n",
       "         0.01717672,  0.00587455,  0.003775  , -0.00207737,  0.00311097,\n",
       "         0.0105253 ]])"
      ]
     },
     "execution_count": 105,
     "metadata": {},
     "output_type": "execute_result"
    }
   ],
   "source": [
    "weights = basic_model.coef_\n",
    "weights"
   ]
  },
  {
   "cell_type": "code",
   "execution_count": 106,
   "id": "7b4d344c",
   "metadata": {},
   "outputs": [],
   "source": [
    "def predict(X, W):\n",
    "  '''\n",
    "  X : (n,d) it'a input matrix\n",
    "  W : (d, 1) all the weights\n",
    "  '''\n",
    "  return np.dot(X,W.T)"
   ]
  },
  {
   "cell_type": "code",
   "execution_count": 107,
   "id": "1a34c27d",
   "metadata": {},
   "outputs": [],
   "source": [
    "Y_hat = predict(X_test_transformed,weights)\n",
    "residuals = Y_hat - y_test"
   ]
  },
  {
   "cell_type": "code",
   "execution_count": 108,
   "id": "471d9781",
   "metadata": {},
   "outputs": [],
   "source": [
    "Y_hat = np.reshape(Y_hat, -1)\n",
    "residuals = residuals.to_numpy()\n",
    "residuals = np.reshape(residuals, -1)"
   ]
  },
  {
   "cell_type": "code",
   "execution_count": 109,
   "id": "180e0e32",
   "metadata": {},
   "outputs": [
    {
     "data": {
      "text/plain": [
       "Text(0.5, 1.0, 'Predicted values vs Residuals')"
      ]
     },
     "execution_count": 109,
     "metadata": {},
     "output_type": "execute_result"
    },
    {
     "data": {
      "image/png": "[encoded data removed]",
      "text/plain": [
       "<Figure size 432x288 with 1 Axes>"
      ]
     },
     "metadata": {
      "needs_background": "light"
     },
     "output_type": "display_data"
    }
   ],
   "source": [
    "sns.scatterplot(Y_hat,residuals)\n",
    "plt.xlabel(\"predicted Selling price\")\n",
    "plt.ylabel(\"Residuals\")\n",
    "plt.title(\"Predicted values vs Residuals\")"
   ]
  },
  {
   "cell_type": "markdown",
   "id": "6563884f",
   "metadata": {},
   "source": [
    "- **Conclusion**:\n",
    "    - **Heteroskedasticity exists**\n",
    "    - There is **outliers present in the dataset**"
   ]
  },
  {
   "cell_type": "markdown",
   "id": "a5492519",
   "metadata": {},
   "source": [
    "### Check Assumption # 5 - Residuals should be normally distributed"
   ]
  },
  {
   "cell_type": "code",
   "execution_count": 110,
   "id": "89c064d1",
   "metadata": {},
   "outputs": [
    {
     "data": {
      "text/plain": [
       "Text(0.5, 1.0, 'Histogram of residuals')"
      ]
     },
     "execution_count": 110,
     "metadata": {},
     "output_type": "execute_result"
    },
    {
     "data": {
      "image/png": "[encoded data removed]",
      "text/plain": [
       "<Figure size 432x288 with 1 Axes>"
      ]
     },
     "metadata": {
      "needs_background": "light"
     },
     "output_type": "display_data"
    }
   ],
   "source": [
    "sns.histplot(residuals)\n",
    "plt.xlabel(\" Residuals\")\n",
    "plt.title(\"Histogram of residuals\")"
   ]
  },
  {
   "cell_type": "markdown",
   "id": "5e3c84d9",
   "metadata": {},
   "source": [
    "#### QQplot "
   ]
  },
  {
   "cell_type": "code",
   "execution_count": 111,
   "id": "94ced482",
   "metadata": {},
   "outputs": [
    {
     "data": {
      "image/png": "[encoded data removed]",
      "text/plain": [
       "<Figure size 432x288 with 1 Axes>"
      ]
     },
     "metadata": {
      "needs_background": "light"
     },
     "output_type": "display_data"
    }
   ],
   "source": [
    "sm.qqplot(residuals, line ='45', fit=True)\n",
    "plt.grid()"
   ]
  },
  {
   "cell_type": "markdown",
   "id": "68478931",
   "metadata": {},
   "source": [
    "- **Conclusion**:\n",
    "    - The error **distribution is not normal**, it means there are **outliers present in data**.\n",
    "        - It means there are some observations where the error is very large. i.e. likelyhood of outliers is more.\n",
    "        - As there is an outlier present, the line of best fit or regression line will get pulled towards it.\n",
    "        - Error is difference between actual and predicted value.\n",
    "        - The closer the regression line is to outlier, less the error. The goal is to get minimum squared error.\n",
    "    - The assumption of **error being normally distributed is not being sastified**"
   ]
  },
  {
   "cell_type": "markdown",
   "id": "cb9869b3",
   "metadata": {},
   "source": [
    "### Check Assumption # 6 - No Auto-correlation should exists(time series)"
   ]
  },
  {
   "cell_type": "markdown",
   "id": "cfa8c13d",
   "metadata": {},
   "source": [
    "- **Conclusion**:\n",
    "    - Autocorrelation only plays role when there is somthing related to time.\n",
    "    - As there is no time series data available we can't validate Auto-correlation assumption  "
   ]
  },
  {
   "cell_type": "markdown",
   "id": "97904ba7",
   "metadata": {},
   "source": [
    "- **Conclusion on violation of assumptions**: \n",
    "    - In practice, we can build a linear regression if few assumptions are not met, but we've to be careful and look out for way model can break and fix it. \n",
    "    - In the end, what matters for us is model working in production / test data."
   ]
  },
  {
   "cell_type": "markdown",
   "id": "ac977c2f",
   "metadata": {},
   "source": [
    "### Actionable Insights & Recommendations"
   ]
  },
  {
   "cell_type": "markdown",
   "id": "9751d0bc",
   "metadata": {},
   "source": [
    "#### Comments on significance of predictor variables"
   ]
  },
  {
   "cell_type": "markdown",
   "id": "b80f7728",
   "metadata": {},
   "source": [
    "- **Significant variables that are important in predicting chance of admit (mentioned below in order of significance)**\n",
    "    - LOR (1)\n",
    "    - CGPA (2)\n",
    "    - Research (3)\n",
    "- **Strength of relationship** based on co-efficients of stats model at [SECTION A] \n",
    "    - LOR (1)\n",
    "    - CGPA (2)\n",
    "    - Research (3)\n",
    "- **Type of relationship** the variables have\n",
    "    - Linear relationship "
   ]
  },
  {
   "cell_type": "markdown",
   "id": "22cf3b16",
   "metadata": {},
   "source": [
    "#### Comments on additional data sources for model improvement, model implementation in real world, potential business benefits from improving the model (These are key to differentiating a good and an excellent solution)"
   ]
  },
  {
   "cell_type": "markdown",
   "id": "2d3564aa",
   "metadata": {},
   "source": [
    "- Following Additional data needs to Analyzed for model improvements \n",
    "    - **More data points when there would be high chance of admission**\n",
    "    - **Origin Country of applicant** (It would be useful to check significance of TOEFL score)\n",
    "    - Work experience\n",
    "- Model performance should be improved to 90 - 95 % as existing model has approx 20 % of error"
   ]
  },
  {
   "cell_type": "code",
   "execution_count": null,
   "id": "d7c8ce0b",
   "metadata": {},
   "outputs": [],
   "source": []
  }
 ],
 "metadata": {
  "kernelspec": {
   "display_name": "Python 3 (ipykernel)",
   "language": "python",
   "name": "python3"
  },
  "language_info": {
   "codemirror_mode": {
    "name": "ipython",
    "version": 3
   },
   "file_extension": ".py",
   "mimetype": "text/x-python",
   "name": "python",
   "nbconvert_exporter": "python",
   "pygments_lexer": "ipython3",
   "version": "3.10.1"
  }
 },
 "nbformat": 4,
 "nbformat_minor": 5
}

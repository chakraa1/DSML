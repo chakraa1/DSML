{
  "nbformat": 4,
  "nbformat_minor": 0,
  "metadata": {
    "colab": {
      "provenance": [],
      "toc_visible": true
    },
    "kernelspec": {
      "name": "python3",
      "display_name": "Python 3"
    },
    "language_info": {
      "name": "python"
    },
    "widgets": {
      "application/vnd.jupyter.widget-state+json": {
        "f7a58837a605485191691a3a3d49378c": {
          "model_module": "@jupyter-widgets/controls",
          "model_name": "HBoxModel",
          "model_module_version": "1.5.0",
          "state": {
            "_dom_classes": [],
            "_model_module": "@jupyter-widgets/controls",
            "_model_module_version": "1.5.0",
            "_model_name": "HBoxModel",
            "_view_count": null,
            "_view_module": "@jupyter-widgets/controls",
            "_view_module_version": "1.5.0",
            "_view_name": "HBoxView",
            "box_style": "",
            "children": [
              "IPY_MODEL_ab842c9549ac4d8ea662627954769052",
              "IPY_MODEL_0d1be2bcd66c42dbbe0b134e7c8d39a3",
              "IPY_MODEL_4bc411f8051349b3a399d77c82edaea2"
            ],
            "layout": "IPY_MODEL_f749d375487b41ee9181774457342937"
          }
        },
        "ab842c9549ac4d8ea662627954769052": {
          "model_module": "@jupyter-widgets/controls",
          "model_name": "HTMLModel",
          "model_module_version": "1.5.0",
          "state": {
            "_dom_classes": [],
            "_model_module": "@jupyter-widgets/controls",
            "_model_module_version": "1.5.0",
            "_model_name": "HTMLModel",
            "_view_count": null,
            "_view_module": "@jupyter-widgets/controls",
            "_view_module_version": "1.5.0",
            "_view_name": "HTMLView",
            "description": "",
            "description_tooltip": null,
            "layout": "IPY_MODEL_e6f7f457fed0423b95a862f2a832b342",
            "placeholder": "​",
            "style": "IPY_MODEL_818c89fdb75c4d16b84b9d297eb0e3f2",
            "value": "100%"
          }
        },
        "0d1be2bcd66c42dbbe0b134e7c8d39a3": {
          "model_module": "@jupyter-widgets/controls",
          "model_name": "FloatProgressModel",
          "model_module_version": "1.5.0",
          "state": {
            "_dom_classes": [],
            "_model_module": "@jupyter-widgets/controls",
            "_model_module_version": "1.5.0",
            "_model_name": "FloatProgressModel",
            "_view_count": null,
            "_view_module": "@jupyter-widgets/controls",
            "_view_module_version": "1.5.0",
            "_view_name": "ProgressView",
            "bar_style": "success",
            "description": "",
            "description_tooltip": null,
            "layout": "IPY_MODEL_92d726f1c21644ba8be862516423daf1",
            "max": 2225,
            "min": 0,
            "orientation": "horizontal",
            "style": "IPY_MODEL_f0803d49fe464df09a60accb9cb3f060",
            "value": 2225
          }
        },
        "4bc411f8051349b3a399d77c82edaea2": {
          "model_module": "@jupyter-widgets/controls",
          "model_name": "HTMLModel",
          "model_module_version": "1.5.0",
          "state": {
            "_dom_classes": [],
            "_model_module": "@jupyter-widgets/controls",
            "_model_module_version": "1.5.0",
            "_model_name": "HTMLModel",
            "_view_count": null,
            "_view_module": "@jupyter-widgets/controls",
            "_view_module_version": "1.5.0",
            "_view_name": "HTMLView",
            "description": "",
            "description_tooltip": null,
            "layout": "IPY_MODEL_3bbafc26c7a14571925212ee6cff4cb0",
            "placeholder": "​",
            "style": "IPY_MODEL_3decf279a9424207b5919220104350c7",
            "value": " 2225/2225 [03:27&lt;00:00, 13.15it/s]"
          }
        },
        "f749d375487b41ee9181774457342937": {
          "model_module": "@jupyter-widgets/base",
          "model_name": "LayoutModel",
          "model_module_version": "1.2.0",
          "state": {
            "_model_module": "@jupyter-widgets/base",
            "_model_module_version": "1.2.0",
            "_model_name": "LayoutModel",
            "_view_count": null,
            "_view_module": "@jupyter-widgets/base",
            "_view_module_version": "1.2.0",
            "_view_name": "LayoutView",
            "align_content": null,
            "align_items": null,
            "align_self": null,
            "border": null,
            "bottom": null,
            "display": null,
            "flex": null,
            "flex_flow": null,
            "grid_area": null,
            "grid_auto_columns": null,
            "grid_auto_flow": null,
            "grid_auto_rows": null,
            "grid_column": null,
            "grid_gap": null,
            "grid_row": null,
            "grid_template_areas": null,
            "grid_template_columns": null,
            "grid_template_rows": null,
            "height": null,
            "justify_content": null,
            "justify_items": null,
            "left": null,
            "margin": null,
            "max_height": null,
            "max_width": null,
            "min_height": null,
            "min_width": null,
            "object_fit": null,
            "object_position": null,
            "order": null,
            "overflow": null,
            "overflow_x": null,
            "overflow_y": null,
            "padding": null,
            "right": null,
            "top": null,
            "visibility": null,
            "width": null
          }
        },
        "e6f7f457fed0423b95a862f2a832b342": {
          "model_module": "@jupyter-widgets/base",
          "model_name": "LayoutModel",
          "model_module_version": "1.2.0",
          "state": {
            "_model_module": "@jupyter-widgets/base",
            "_model_module_version": "1.2.0",
            "_model_name": "LayoutModel",
            "_view_count": null,
            "_view_module": "@jupyter-widgets/base",
            "_view_module_version": "1.2.0",
            "_view_name": "LayoutView",
            "align_content": null,
            "align_items": null,
            "align_self": null,
            "border": null,
            "bottom": null,
            "display": null,
            "flex": null,
            "flex_flow": null,
            "grid_area": null,
            "grid_auto_columns": null,
            "grid_auto_flow": null,
            "grid_auto_rows": null,
            "grid_column": null,
            "grid_gap": null,
            "grid_row": null,
            "grid_template_areas": null,
            "grid_template_columns": null,
            "grid_template_rows": null,
            "height": null,
            "justify_content": null,
            "justify_items": null,
            "left": null,
            "margin": null,
            "max_height": null,
            "max_width": null,
            "min_height": null,
            "min_width": null,
            "object_fit": null,
            "object_position": null,
            "order": null,
            "overflow": null,
            "overflow_x": null,
            "overflow_y": null,
            "padding": null,
            "right": null,
            "top": null,
            "visibility": null,
            "width": null
          }
        },
        "818c89fdb75c4d16b84b9d297eb0e3f2": {
          "model_module": "@jupyter-widgets/controls",
          "model_name": "DescriptionStyleModel",
          "model_module_version": "1.5.0",
          "state": {
            "_model_module": "@jupyter-widgets/controls",
            "_model_module_version": "1.5.0",
            "_model_name": "DescriptionStyleModel",
            "_view_count": null,
            "_view_module": "@jupyter-widgets/base",
            "_view_module_version": "1.2.0",
            "_view_name": "StyleView",
            "description_width": ""
          }
        },
        "92d726f1c21644ba8be862516423daf1": {
          "model_module": "@jupyter-widgets/base",
          "model_name": "LayoutModel",
          "model_module_version": "1.2.0",
          "state": {
            "_model_module": "@jupyter-widgets/base",
            "_model_module_version": "1.2.0",
            "_model_name": "LayoutModel",
            "_view_count": null,
            "_view_module": "@jupyter-widgets/base",
            "_view_module_version": "1.2.0",
            "_view_name": "LayoutView",
            "align_content": null,
            "align_items": null,
            "align_self": null,
            "border": null,
            "bottom": null,
            "display": null,
            "flex": null,
            "flex_flow": null,
            "grid_area": null,
            "grid_auto_columns": null,
            "grid_auto_flow": null,
            "grid_auto_rows": null,
            "grid_column": null,
            "grid_gap": null,
            "grid_row": null,
            "grid_template_areas": null,
            "grid_template_columns": null,
            "grid_template_rows": null,
            "height": null,
            "justify_content": null,
            "justify_items": null,
            "left": null,
            "margin": null,
            "max_height": null,
            "max_width": null,
            "min_height": null,
            "min_width": null,
            "object_fit": null,
            "object_position": null,
            "order": null,
            "overflow": null,
            "overflow_x": null,
            "overflow_y": null,
            "padding": null,
            "right": null,
            "top": null,
            "visibility": null,
            "width": null
          }
        },
        "f0803d49fe464df09a60accb9cb3f060": {
          "model_module": "@jupyter-widgets/controls",
          "model_name": "ProgressStyleModel",
          "model_module_version": "1.5.0",
          "state": {
            "_model_module": "@jupyter-widgets/controls",
            "_model_module_version": "1.5.0",
            "_model_name": "ProgressStyleModel",
            "_view_count": null,
            "_view_module": "@jupyter-widgets/base",
            "_view_module_version": "1.2.0",
            "_view_name": "StyleView",
            "bar_color": null,
            "description_width": ""
          }
        },
        "3bbafc26c7a14571925212ee6cff4cb0": {
          "model_module": "@jupyter-widgets/base",
          "model_name": "LayoutModel",
          "model_module_version": "1.2.0",
          "state": {
            "_model_module": "@jupyter-widgets/base",
            "_model_module_version": "1.2.0",
            "_model_name": "LayoutModel",
            "_view_count": null,
            "_view_module": "@jupyter-widgets/base",
            "_view_module_version": "1.2.0",
            "_view_name": "LayoutView",
            "align_content": null,
            "align_items": null,
            "align_self": null,
            "border": null,
            "bottom": null,
            "display": null,
            "flex": null,
            "flex_flow": null,
            "grid_area": null,
            "grid_auto_columns": null,
            "grid_auto_flow": null,
            "grid_auto_rows": null,
            "grid_column": null,
            "grid_gap": null,
            "grid_row": null,
            "grid_template_areas": null,
            "grid_template_columns": null,
            "grid_template_rows": null,
            "height": null,
            "justify_content": null,
            "justify_items": null,
            "left": null,
            "margin": null,
            "max_height": null,
            "max_width": null,
            "min_height": null,
            "min_width": null,
            "object_fit": null,
            "object_position": null,
            "order": null,
            "overflow": null,
            "overflow_x": null,
            "overflow_y": null,
            "padding": null,
            "right": null,
            "top": null,
            "visibility": null,
            "width": null
          }
        },
        "3decf279a9424207b5919220104350c7": {
          "model_module": "@jupyter-widgets/controls",
          "model_name": "DescriptionStyleModel",
          "model_module_version": "1.5.0",
          "state": {
            "_model_module": "@jupyter-widgets/controls",
            "_model_module_version": "1.5.0",
            "_model_name": "DescriptionStyleModel",
            "_view_count": null,
            "_view_module": "@jupyter-widgets/base",
            "_view_module_version": "1.2.0",
            "_view_name": "StyleView",
            "description_width": ""
          }
        }
      }
    }
  },
  "cells": [
    {
      "cell_type": "markdown",
      "source": [
        "# 1. Import Statements"
      ],
      "metadata": {
        "id": "yjb42uiWxpGo"
      }
    },
    {
      "cell_type": "markdown",
      "source": [
        "### 1.1 Installing Required Libraries"
      ],
      "metadata": {
        "id": "ToXCeC6NEI_n"
      }
    },
    {
      "cell_type": "code",
      "source": [
        "!pip install contractions"
      ],
      "metadata": {
        "colab": {
          "base_uri": "https://localhost:8080/"
        },
        "id": "XHwrsPKz_HTL",
        "outputId": "920568a5-4ed7-4d07-8dfe-ef5728665136"
      },
      "execution_count": null,
      "outputs": [
        {
          "output_type": "stream",
          "name": "stdout",
          "text": [
            "Looking in indexes: https://pypi.org/simple, https://us-python.pkg.dev/colab-wheels/public/simple/\n",
            "Collecting contractions\n",
            "  Downloading contractions-0.1.73-py2.py3-none-any.whl (8.7 kB)\n",
            "Collecting textsearch>=0.0.21\n",
            "  Downloading textsearch-0.0.24-py2.py3-none-any.whl (7.6 kB)\n",
            "Collecting anyascii\n",
            "  Downloading anyascii-0.3.2-py3-none-any.whl (289 kB)\n",
            "\u001b[2K     \u001b[90m━━━━━━━━━━━━━━━━━━━━━━━━━━━━━━━━━━━━━━\u001b[0m \u001b[32m289.9/289.9 kB\u001b[0m \u001b[31m16.3 MB/s\u001b[0m eta \u001b[36m0:00:00\u001b[0m\n",
            "\u001b[?25hCollecting pyahocorasick\n",
            "  Downloading pyahocorasick-2.0.0-cp310-cp310-manylinux_2_5_x86_64.manylinux1_x86_64.manylinux_2_12_x86_64.manylinux2010_x86_64.whl (110 kB)\n",
            "\u001b[2K     \u001b[90m━━━━━━━━━━━━━━━━━━━━━━━━━━━━━━━━━━━━━━\u001b[0m \u001b[32m110.8/110.8 kB\u001b[0m \u001b[31m12.6 MB/s\u001b[0m eta \u001b[36m0:00:00\u001b[0m\n",
            "\u001b[?25hInstalling collected packages: pyahocorasick, anyascii, textsearch, contractions\n",
            "Successfully installed anyascii-0.3.2 contractions-0.1.73 pyahocorasick-2.0.0 textsearch-0.0.24\n"
          ]
        }
      ]
    },
    {
      "cell_type": "code",
      "source": [
        "!pip install --user -U nltk"
      ],
      "metadata": {
        "colab": {
          "base_uri": "https://localhost:8080/"
        },
        "id": "0im9TTHA_Mvy",
        "outputId": "3b937d8a-7fef-45ca-9703-1fe8c2c6614c"
      },
      "execution_count": null,
      "outputs": [
        {
          "output_type": "stream",
          "name": "stdout",
          "text": [
            "Looking in indexes: https://pypi.org/simple, https://us-python.pkg.dev/colab-wheels/public/simple/\n",
            "Requirement already satisfied: nltk in /usr/local/lib/python3.10/dist-packages (3.8.1)\n",
            "Requirement already satisfied: joblib in /usr/local/lib/python3.10/dist-packages (from nltk) (1.2.0)\n",
            "Requirement already satisfied: tqdm in /usr/local/lib/python3.10/dist-packages (from nltk) (4.65.0)\n",
            "Requirement already satisfied: regex>=2021.8.3 in /usr/local/lib/python3.10/dist-packages (from nltk) (2022.10.31)\n",
            "Requirement already satisfied: click in /usr/local/lib/python3.10/dist-packages (from nltk) (8.1.3)\n"
          ]
        }
      ]
    },
    {
      "cell_type": "markdown",
      "source": [
        "### 1.2 Importing Required Libraries"
      ],
      "metadata": {
        "id": "AGeyUKUHEUxv"
      }
    },
    {
      "cell_type": "code",
      "source": [
        "import os\n",
        "import re \n",
        "import random\n",
        "import string      # for string operations    \n",
        "import pandas as pd\n",
        "import numpy as np     \n",
        "import matplotlib.pyplot as plt \n",
        "from sklearn.model_selection import train_test_split\n",
        "from sklearn.linear_model import LogisticRegression\n",
        "import plotly.express as px\n",
        "# SetUp NLTK\n",
        "import nltk                                # Python library for NLP\n",
        "#nltk.download('punkt')\n",
        "\n",
        "#from nltk.corpus import twitter_samples    # sample Twitter dataset from NLTK\n",
        "#from nltk.corpus import stopwords          # module for stop words that come with NLTK\n",
        "#from nltk.stem import PorterStemmer        # module for stemming\n",
        "#from nltk.stem import WordNetLemmatizer    # module for Lemmatization\n",
        "\n",
        "#from nltk.tokenize import TweetTokenizer\n",
        "#nltk.download('wordnet')\n",
        "#nltk.download('omw-1.4')\n",
        "#nltk.download(\"stopwords\")\n",
        "\n",
        "from pprint import pprint\n",
        "\n",
        "# Spacy specific libraries \n",
        "import spacy\n",
        "import contractions\n",
        "\n",
        "# Import label encoder\n",
        "from sklearn import preprocessing\n",
        "# Bag of words\n",
        "from sklearn.feature_extraction.text import CountVectorizer\n",
        "# TF-IDF\n",
        "from sklearn.feature_extraction.text import TfidfVectorizer\n",
        "# Naive bayes classifier\n",
        "from sklearn.naive_bayes import MultinomialNB\n",
        "from sklearn.pipeline import Pipeline\n",
        "from sklearn.feature_extraction.text import TfidfTransformer\n",
        "\n",
        "# Random Forest classifier\n",
        "from sklearn.ensemble import RandomForestClassifier\n",
        "\n",
        "# KNN classifier\n",
        "from sklearn.neighbors import KNeighborsClassifier\n",
        "\n",
        "# Decision Tree classifier\n",
        "from sklearn.tree import DecisionTreeClassifier\n",
        "\n",
        "# Evaluation matrices\n",
        "from sklearn.metrics import accuracy_score, confusion_matrix\n",
        "from sklearn.metrics import classification_report"
      ],
      "metadata": {
        "id": "ctXzfJ1gxuEo"
      },
      "execution_count": null,
      "outputs": []
    },
    {
      "cell_type": "markdown",
      "source": [
        "# 2. Download the Data"
      ],
      "metadata": {
        "id": "NppATjNuyPix"
      }
    },
    {
      "cell_type": "code",
      "source": [
        "from google.colab import drive\n",
        "drive.mount('/content/drive/')"
      ],
      "metadata": {
        "colab": {
          "base_uri": "https://localhost:8080/"
        },
        "id": "ChPmXzE0yR99",
        "outputId": "51993e44-cfa3-477a-a966-32d7ec4b399c"
      },
      "execution_count": null,
      "outputs": [
        {
          "output_type": "stream",
          "name": "stdout",
          "text": [
            "Mounted at /content/drive/\n"
          ]
        }
      ]
    },
    {
      "cell_type": "code",
      "source": [
        "!gdown 1I3-pQFzbSufhpMrUKAROBLGULXcWiB9u"
      ],
      "metadata": {
        "colab": {
          "base_uri": "https://localhost:8080/"
        },
        "id": "S4Q6WjTqyj2r",
        "outputId": "ad955192-2529-423a-b6e8-c002f54a6b82"
      },
      "execution_count": null,
      "outputs": [
        {
          "output_type": "stream",
          "name": "stdout",
          "text": [
            "Downloading...\n",
            "From: https://drive.google.com/uc?id=1I3-pQFzbSufhpMrUKAROBLGULXcWiB9u\n",
            "To: /content/flipitnews-data.csv\n",
            "100% 5.06M/5.06M [00:00<00:00, 17.2MB/s]\n"
          ]
        }
      ]
    },
    {
      "cell_type": "markdown",
      "source": [
        "# 3. Problem Statement\n",
        "- **Categorize News Articles** into several categories such as **politics, technology, sports, business and entertainment** based on content\n",
        "- **Create & compare** at different models\n"
      ],
      "metadata": {
        "id": "Vx4JHYIa0Cyt"
      }
    },
    {
      "cell_type": "markdown",
      "source": [
        "# 4. Read & Explore Data"
      ],
      "metadata": {
        "id": "6uRFQsZJyzVV"
      }
    },
    {
      "cell_type": "markdown",
      "source": [
        "## 4.1 Read News Data"
      ],
      "metadata": {
        "id": "NeTHY0z21jcB"
      }
    },
    {
      "cell_type": "code",
      "source": [
        "dataframe = pd.read_csv(\"./flipitnews-data.csv\")\n",
        "dataframe.head()"
      ],
      "metadata": {
        "colab": {
          "base_uri": "https://localhost:8080/",
          "height": 206
        },
        "id": "_Jiofq_ey8Ut",
        "outputId": "4b2c85f8-a2de-4e27-edff-a447e5183141"
      },
      "execution_count": null,
      "outputs": [
        {
          "output_type": "execute_result",
          "data": {
            "text/plain": [
              "        Category                                            Article\n",
              "0     Technology  tv future in the hands of viewers with home th...\n",
              "1       Business  worldcom boss  left books alone  former worldc...\n",
              "2         Sports  tigers wary of farrell  gamble  leicester say ...\n",
              "3         Sports  yeading face newcastle in fa cup premiership s...\n",
              "4  Entertainment  ocean s twelve raids box office ocean s twelve..."
            ],
            "text/html": [
              "\n",
              "  <div id=\"df-bad4be53-499a-45e4-af21-a0dc19f608e7\">\n",
              "    <div class=\"colab-df-container\">\n",
              "      <div>\n",
              "<style scoped>\n",
              "    .dataframe tbody tr th:only-of-type {\n",
              "        vertical-align: middle;\n",
              "    }\n",
              "\n",
              "    .dataframe tbody tr th {\n",
              "        vertical-align: top;\n",
              "    }\n",
              "\n",
              "    .dataframe thead th {\n",
              "        text-align: right;\n",
              "    }\n",
              "</style>\n",
              "<table border=\"1\" class=\"dataframe\">\n",
              "  <thead>\n",
              "    <tr style=\"text-align: right;\">\n",
              "      <th></th>\n",
              "      <th>Category</th>\n",
              "      <th>Article</th>\n",
              "    </tr>\n",
              "  </thead>\n",
              "  <tbody>\n",
              "    <tr>\n",
              "      <th>0</th>\n",
              "      <td>Technology</td>\n",
              "      <td>tv future in the hands of viewers with home th...</td>\n",
              "    </tr>\n",
              "    <tr>\n",
              "      <th>1</th>\n",
              "      <td>Business</td>\n",
              "      <td>worldcom boss  left books alone  former worldc...</td>\n",
              "    </tr>\n",
              "    <tr>\n",
              "      <th>2</th>\n",
              "      <td>Sports</td>\n",
              "      <td>tigers wary of farrell  gamble  leicester say ...</td>\n",
              "    </tr>\n",
              "    <tr>\n",
              "      <th>3</th>\n",
              "      <td>Sports</td>\n",
              "      <td>yeading face newcastle in fa cup premiership s...</td>\n",
              "    </tr>\n",
              "    <tr>\n",
              "      <th>4</th>\n",
              "      <td>Entertainment</td>\n",
              "      <td>ocean s twelve raids box office ocean s twelve...</td>\n",
              "    </tr>\n",
              "  </tbody>\n",
              "</table>\n",
              "</div>\n",
              "      <button class=\"colab-df-convert\" onclick=\"convertToInteractive('df-bad4be53-499a-45e4-af21-a0dc19f608e7')\"\n",
              "              title=\"Convert this dataframe to an interactive table.\"\n",
              "              style=\"display:none;\">\n",
              "        \n",
              "  <svg xmlns=\"http://www.w3.org/2000/svg\" height=\"24px\"viewBox=\"0 0 24 24\"\n",
              "       width=\"24px\">\n",
              "    <path d=\"M0 0h24v24H0V0z\" fill=\"none\"/>\n",
              "    <path d=\"M18.56 5.44l.94 2.06.94-2.06 2.06-.94-2.06-.94-.94-2.06-.94 2.06-2.06.94zm-11 1L8.5 8.5l.94-2.06 2.06-.94-2.06-.94L8.5 2.5l-.94 2.06-2.06.94zm10 10l.94 2.06.94-2.06 2.06-.94-2.06-.94-.94-2.06-.94 2.06-2.06.94z\"/><path d=\"M17.41 7.96l-1.37-1.37c-.4-.4-.92-.59-1.43-.59-.52 0-1.04.2-1.43.59L10.3 9.45l-7.72 7.72c-.78.78-.78 2.05 0 2.83L4 21.41c.39.39.9.59 1.41.59.51 0 1.02-.2 1.41-.59l7.78-7.78 2.81-2.81c.8-.78.8-2.07 0-2.86zM5.41 20L4 18.59l7.72-7.72 1.47 1.35L5.41 20z\"/>\n",
              "  </svg>\n",
              "      </button>\n",
              "      \n",
              "  <style>\n",
              "    .colab-df-container {\n",
              "      display:flex;\n",
              "      flex-wrap:wrap;\n",
              "      gap: 12px;\n",
              "    }\n",
              "\n",
              "    .colab-df-convert {\n",
              "      background-color: #E8F0FE;\n",
              "      border: none;\n",
              "      border-radius: 50%;\n",
              "      cursor: pointer;\n",
              "      display: none;\n",
              "      fill: #1967D2;\n",
              "      height: 32px;\n",
              "      padding: 0 0 0 0;\n",
              "      width: 32px;\n",
              "    }\n",
              "\n",
              "    .colab-df-convert:hover {\n",
              "      background-color: #E2EBFA;\n",
              "      box-shadow: 0px 1px 2px rgba(60, 64, 67, 0.3), 0px 1px 3px 1px rgba(60, 64, 67, 0.15);\n",
              "      fill: #174EA6;\n",
              "    }\n",
              "\n",
              "    [theme=dark] .colab-df-convert {\n",
              "      background-color: #3B4455;\n",
              "      fill: #D2E3FC;\n",
              "    }\n",
              "\n",
              "    [theme=dark] .colab-df-convert:hover {\n",
              "      background-color: #434B5C;\n",
              "      box-shadow: 0px 1px 3px 1px rgba(0, 0, 0, 0.15);\n",
              "      filter: drop-shadow(0px 1px 2px rgba(0, 0, 0, 0.3));\n",
              "      fill: #FFFFFF;\n",
              "    }\n",
              "  </style>\n",
              "\n",
              "      <script>\n",
              "        const buttonEl =\n",
              "          document.querySelector('#df-bad4be53-499a-45e4-af21-a0dc19f608e7 button.colab-df-convert');\n",
              "        buttonEl.style.display =\n",
              "          google.colab.kernel.accessAllowed ? 'block' : 'none';\n",
              "\n",
              "        async function convertToInteractive(key) {\n",
              "          const element = document.querySelector('#df-bad4be53-499a-45e4-af21-a0dc19f608e7');\n",
              "          const dataTable =\n",
              "            await google.colab.kernel.invokeFunction('convertToInteractive',\n",
              "                                                     [key], {});\n",
              "          if (!dataTable) return;\n",
              "\n",
              "          const docLinkHtml = 'Like what you see? Visit the ' +\n",
              "            '<a target=\"_blank\" href=https://colab.research.google.com/notebooks/data_table.ipynb>data table notebook</a>'\n",
              "            + ' to learn more about interactive tables.';\n",
              "          element.innerHTML = '';\n",
              "          dataTable['output_type'] = 'display_data';\n",
              "          await google.colab.output.renderOutput(dataTable, element);\n",
              "          const docLink = document.createElement('div');\n",
              "          docLink.innerHTML = docLinkHtml;\n",
              "          element.appendChild(docLink);\n",
              "        }\n",
              "      </script>\n",
              "    </div>\n",
              "  </div>\n",
              "  "
            ]
          },
          "metadata": {},
          "execution_count": 6
        }
      ]
    },
    {
      "cell_type": "markdown",
      "source": [
        " ### 4.1.1 Data Shape"
      ],
      "metadata": {
        "id": "BV03JQ9o1Z3L"
      }
    },
    {
      "cell_type": "code",
      "source": [
        "dataframe.shape"
      ],
      "metadata": {
        "colab": {
          "base_uri": "https://localhost:8080/"
        },
        "id": "sjJ5VQ8q1o4X",
        "outputId": "27d0762b-7b90-4d06-bbc6-b60a8007a32b"
      },
      "execution_count": null,
      "outputs": [
        {
          "output_type": "execute_result",
          "data": {
            "text/plain": [
              "(2225, 2)"
            ]
          },
          "metadata": {},
          "execution_count": 7
        }
      ]
    },
    {
      "cell_type": "markdown",
      "source": [
        "### 4.1.2 Data Types"
      ],
      "metadata": {
        "id": "h25rGb6G11t4"
      }
    },
    {
      "cell_type": "code",
      "source": [
        "dataframe.info()"
      ],
      "metadata": {
        "colab": {
          "base_uri": "https://localhost:8080/"
        },
        "id": "gb54_PZe16P6",
        "outputId": "ef381ba3-a813-4026-d013-4efe4003451c"
      },
      "execution_count": null,
      "outputs": [
        {
          "output_type": "stream",
          "name": "stdout",
          "text": [
            "<class 'pandas.core.frame.DataFrame'>\n",
            "RangeIndex: 2225 entries, 0 to 2224\n",
            "Data columns (total 2 columns):\n",
            " #   Column    Non-Null Count  Dtype \n",
            "---  ------    --------------  ----- \n",
            " 0   Category  2225 non-null   object\n",
            " 1   Article   2225 non-null   object\n",
            "dtypes: object(2)\n",
            "memory usage: 34.9+ KB\n"
          ]
        }
      ]
    },
    {
      "cell_type": "markdown",
      "source": [
        "## 4.2 Explore News Data"
      ],
      "metadata": {
        "id": "eUjSWbgB2rts"
      }
    },
    {
      "cell_type": "markdown",
      "source": [
        " ### 4.2.1 Exploring News Categories"
      ],
      "metadata": {
        "id": "-6nYMy6O20hT"
      }
    },
    {
      "cell_type": "code",
      "source": [
        "fig = px.pie(dataframe, names='Category',hole=0.3, title='News Category Pie Chart')\n",
        "fig.show()"
      ],
      "metadata": {
        "colab": {
          "base_uri": "https://localhost:8080/",
          "height": 542
        },
        "id": "nz0c6n1Lc7ce",
        "outputId": "1b2ddf5a-3ac4-4be4-9c2b-23ea334ee266"
      },
      "execution_count": null,
      "outputs": [
        {
          "output_type": "display_data",
          "data": {
            "text/html": [
              "<html>\n",
              "<head><meta charset=\"utf-8\" /></head>\n",
              "<body>\n",
              "    <div>            <script src=\"https://cdnjs.cloudflare.com/ajax/libs/mathjax/2.7.5/MathJax.js?config=TeX-AMS-MML_SVG\"></script><script type=\"text/javascript\">if (window.MathJax && window.MathJax.Hub && window.MathJax.Hub.Config) {window.MathJax.Hub.Config({SVG: {font: \"STIX-Web\"}});}</script>                <script type=\"text/javascript\">window.PlotlyConfig = {MathJaxConfig: 'local'};</script>\n",
              "        <script src=\"https://cdn.plot.ly/plotly-2.18.2.min.js\"></script>                <div id=\"056c4e91-c8fe-48bc-8209-ff2c9f6b50f8\" class=\"plotly-graph-div\" style=\"height:525px; width:100%;\"></div>            <script type=\"text/javascript\">                                    window.PLOTLYENV=window.PLOTLYENV || {};                                    if (document.getElementById(\"056c4e91-c8fe-48bc-8209-ff2c9f6b50f8\")) {                    Plotly.newPlot(                        \"056c4e91-c8fe-48bc-8209-ff2c9f6b50f8\",                        [{\"domain\":{\"x\":[0.0,1.0],\"y\":[0.0,1.0]},\"hole\":0.3,\"hovertemplate\":\"Category=%{label}<extra></extra>\",\"labels\":[\"Technology\",\"Business\",\"Sports\",\"Sports\",\"Entertainment\",\"Politics\",\"Politics\",\"Sports\",\"Sports\",\"Entertainment\",\"Entertainment\",\"Business\",\"Business\",\"Politics\",\"Sports\",\"Business\",\"Politics\",\"Sports\",\"Business\",\"Technology\",\"Technology\",\"Technology\",\"Sports\",\"Sports\",\"Technology\",\"Sports\",\"Entertainment\",\"Technology\",\"Politics\",\"Entertainment\",\"Politics\",\"Technology\",\"Entertainment\",\"Entertainment\",\"Business\",\"Politics\",\"Technology\",\"Entertainment\",\"Politics\",\"Business\",\"Politics\",\"Sports\",\"Business\",\"Sports\",\"Technology\",\"Entertainment\",\"Politics\",\"Politics\",\"Politics\",\"Business\",\"Sports\",\"Politics\",\"Business\",\"Business\",\"Sports\",\"Politics\",\"Business\",\"Sports\",\"Sports\",\"Business\",\"Business\",\"Sports\",\"Business\",\"Sports\",\"Business\",\"Technology\",\"Business\",\"Entertainment\",\"Technology\",\"Business\",\"Politics\",\"Business\",\"Politics\",\"Sports\",\"Business\",\"Technology\",\"Business\",\"Sports\",\"Sports\",\"Business\",\"Business\",\"Sports\",\"Politics\",\"Business\",\"Entertainment\",\"Politics\",\"Politics\",\"Business\",\"Entertainment\",\"Business\",\"Sports\",\"Sports\",\"Politics\",\"Sports\",\"Politics\",\"Sports\",\"Business\",\"Sports\",\"Business\",\"Entertainment\",\"Entertainment\",\"Sports\",\"Business\",\"Politics\",\"Politics\",\"Technology\",\"Sports\",\"Entertainment\",\"Sports\",\"Technology\",\"Business\",\"Entertainment\",\"Sports\",\"Entertainment\",\"Sports\",\"Entertainment\",\"Entertainment\",\"Politics\",\"Sports\",\"Sports\",\"Entertainment\",\"Politics\",\"Business\",\"Technology\",\"Business\",\"Business\",\"Technology\",\"Sports\",\"Politics\",\"Sports\",\"Technology\",\"Entertainment\",\"Sports\",\"Business\",\"Business\",\"Technology\",\"Entertainment\",\"Technology\",\"Sports\",\"Business\",\"Business\",\"Business\",\"Technology\",\"Sports\",\"Technology\",\"Business\",\"Sports\",\"Entertainment\",\"Sports\",\"Technology\",\"Sports\",\"Technology\",\"Politics\",\"Business\",\"Technology\",\"Entertainment\",\"Sports\",\"Business\",\"Politics\",\"Business\",\"Entertainment\",\"Politics\",\"Politics\",\"Entertainment\",\"Politics\",\"Business\",\"Entertainment\",\"Politics\",\"Politics\",\"Entertainment\",\"Politics\",\"Sports\",\"Business\",\"Politics\",\"Politics\",\"Business\",\"Entertainment\",\"Sports\",\"Business\",\"Business\",\"Sports\",\"Technology\",\"Sports\",\"Technology\",\"Technology\",\"Sports\",\"Business\",\"Sports\",\"Politics\",\"Entertainment\",\"Politics\",\"Business\",\"Politics\",\"Business\",\"Technology\",\"Politics\",\"Entertainment\",\"Politics\",\"Technology\",\"Business\",\"Sports\",\"Business\",\"Sports\",\"Technology\",\"Entertainment\",\"Business\",\"Politics\",\"Politics\",\"Entertainment\",\"Sports\",\"Entertainment\",\"Politics\",\"Sports\",\"Entertainment\",\"Sports\",\"Sports\",\"Entertainment\",\"Sports\",\"Politics\",\"Politics\",\"Entertainment\",\"Technology\",\"Sports\",\"Politics\",\"Business\",\"Entertainment\",\"Technology\",\"Sports\",\"Technology\",\"Sports\",\"Entertainment\",\"Politics\",\"Sports\",\"Entertainment\",\"Technology\",\"Business\",\"Technology\",\"Business\",\"Business\",\"Technology\",\"Business\",\"Sports\",\"Business\",\"Sports\",\"Business\",\"Sports\",\"Entertainment\",\"Business\",\"Business\",\"Entertainment\",\"Sports\",\"Sports\",\"Politics\",\"Technology\",\"Politics\",\"Politics\",\"Politics\",\"Technology\",\"Sports\",\"Technology\",\"Politics\",\"Business\",\"Technology\",\"Entertainment\",\"Technology\",\"Sports\",\"Sports\",\"Business\",\"Business\",\"Politics\",\"Business\",\"Technology\",\"Sports\",\"Entertainment\",\"Sports\",\"Politics\",\"Technology\",\"Entertainment\",\"Business\",\"Sports\",\"Entertainment\",\"Sports\",\"Technology\",\"Politics\",\"Technology\",\"Business\",\"Business\",\"Politics\",\"Politics\",\"Sports\",\"Business\",\"Technology\",\"Entertainment\",\"Politics\",\"Technology\",\"Business\",\"Entertainment\",\"Sports\",\"Entertainment\",\"Sports\",\"Entertainment\",\"Politics\",\"Business\",\"Sports\",\"Business\",\"Sports\",\"Sports\",\"Entertainment\",\"Sports\",\"Politics\",\"Politics\",\"Business\",\"Entertainment\",\"Technology\",\"Business\",\"Sports\",\"Business\",\"Entertainment\",\"Business\",\"Business\",\"Business\",\"Politics\",\"Business\",\"Politics\",\"Entertainment\",\"Entertainment\",\"Business\",\"Sports\",\"Business\",\"Politics\",\"Business\",\"Technology\",\"Entertainment\",\"Business\",\"Sports\",\"Sports\",\"Entertainment\",\"Business\",\"Business\",\"Politics\",\"Technology\",\"Entertainment\",\"Technology\",\"Politics\",\"Business\",\"Sports\",\"Politics\",\"Business\",\"Entertainment\",\"Technology\",\"Entertainment\",\"Technology\",\"Politics\",\"Sports\",\"Entertainment\",\"Business\",\"Politics\",\"Business\",\"Business\",\"Politics\",\"Sports\",\"Technology\",\"Business\",\"Business\",\"Entertainment\",\"Entertainment\",\"Technology\",\"Sports\",\"Business\",\"Entertainment\",\"Technology\",\"Technology\",\"Entertainment\",\"Entertainment\",\"Entertainment\",\"Politics\",\"Sports\",\"Politics\",\"Technology\",\"Business\",\"Entertainment\",\"Politics\",\"Business\",\"Entertainment\",\"Politics\",\"Politics\",\"Sports\",\"Sports\",\"Business\",\"Politics\",\"Entertainment\",\"Business\",\"Sports\",\"Business\",\"Business\",\"Sports\",\"Business\",\"Politics\",\"Politics\",\"Politics\",\"Sports\",\"Technology\",\"Technology\",\"Business\",\"Technology\",\"Sports\",\"Entertainment\",\"Business\",\"Politics\",\"Business\",\"Entertainment\",\"Business\",\"Politics\",\"Entertainment\",\"Politics\",\"Business\",\"Technology\",\"Business\",\"Sports\",\"Sports\",\"Business\",\"Sports\",\"Sports\",\"Entertainment\",\"Sports\",\"Sports\",\"Sports\",\"Technology\",\"Business\",\"Business\",\"Business\",\"Politics\",\"Sports\",\"Sports\",\"Business\",\"Technology\",\"Business\",\"Politics\",\"Sports\",\"Politics\",\"Technology\",\"Business\",\"Sports\",\"Entertainment\",\"Business\",\"Politics\",\"Technology\",\"Business\",\"Sports\",\"Business\",\"Politics\",\"Business\",\"Business\",\"Sports\",\"Entertainment\",\"Technology\",\"Politics\",\"Technology\",\"Business\",\"Sports\",\"Business\",\"Entertainment\",\"Technology\",\"Technology\",\"Business\",\"Sports\",\"Sports\",\"Entertainment\",\"Politics\",\"Politics\",\"Politics\",\"Sports\",\"Politics\",\"Technology\",\"Technology\",\"Entertainment\",\"Politics\",\"Technology\",\"Entertainment\",\"Business\",\"Sports\",\"Sports\",\"Technology\",\"Business\",\"Sports\",\"Sports\",\"Politics\",\"Sports\",\"Sports\",\"Business\",\"Sports\",\"Entertainment\",\"Technology\",\"Politics\",\"Sports\",\"Politics\",\"Technology\",\"Business\",\"Business\",\"Business\",\"Technology\",\"Business\",\"Business\",\"Sports\",\"Sports\",\"Sports\",\"Sports\",\"Business\",\"Technology\",\"Entertainment\",\"Sports\",\"Sports\",\"Technology\",\"Business\",\"Technology\",\"Entertainment\",\"Politics\",\"Sports\",\"Business\",\"Politics\",\"Business\",\"Technology\",\"Technology\",\"Politics\",\"Technology\",\"Business\",\"Sports\",\"Business\",\"Entertainment\",\"Sports\",\"Politics\",\"Entertainment\",\"Sports\",\"Sports\",\"Politics\",\"Technology\",\"Entertainment\",\"Technology\",\"Sports\",\"Politics\",\"Business\",\"Entertainment\",\"Politics\",\"Business\",\"Entertainment\",\"Sports\",\"Sports\",\"Technology\",\"Politics\",\"Entertainment\",\"Politics\",\"Entertainment\",\"Politics\",\"Technology\",\"Politics\",\"Entertainment\",\"Sports\",\"Business\",\"Sports\",\"Entertainment\",\"Sports\",\"Entertainment\",\"Technology\",\"Business\",\"Sports\",\"Politics\",\"Entertainment\",\"Politics\",\"Entertainment\",\"Entertainment\",\"Entertainment\",\"Politics\",\"Entertainment\",\"Technology\",\"Politics\",\"Technology\",\"Technology\",\"Sports\",\"Sports\",\"Technology\",\"Technology\",\"Sports\",\"Entertainment\",\"Entertainment\",\"Sports\",\"Technology\",\"Entertainment\",\"Sports\",\"Sports\",\"Technology\",\"Business\",\"Politics\",\"Technology\",\"Business\",\"Sports\",\"Entertainment\",\"Sports\",\"Entertainment\",\"Politics\",\"Technology\",\"Entertainment\",\"Entertainment\",\"Business\",\"Entertainment\",\"Entertainment\",\"Sports\",\"Technology\",\"Technology\",\"Politics\",\"Sports\",\"Technology\",\"Sports\",\"Politics\",\"Politics\",\"Entertainment\",\"Technology\",\"Business\",\"Technology\",\"Technology\",\"Technology\",\"Business\",\"Politics\",\"Politics\",\"Sports\",\"Technology\",\"Business\",\"Business\",\"Entertainment\",\"Entertainment\",\"Sports\",\"Technology\",\"Business\",\"Technology\",\"Entertainment\",\"Sports\",\"Technology\",\"Politics\",\"Technology\",\"Politics\",\"Business\",\"Politics\",\"Politics\",\"Business\",\"Sports\",\"Technology\",\"Sports\",\"Technology\",\"Politics\",\"Entertainment\",\"Technology\",\"Sports\",\"Entertainment\",\"Technology\",\"Sports\",\"Politics\",\"Entertainment\",\"Sports\",\"Technology\",\"Sports\",\"Sports\",\"Politics\",\"Entertainment\",\"Business\",\"Politics\",\"Entertainment\",\"Business\",\"Business\",\"Technology\",\"Business\",\"Entertainment\",\"Technology\",\"Sports\",\"Technology\",\"Politics\",\"Technology\",\"Politics\",\"Business\",\"Politics\",\"Entertainment\",\"Sports\",\"Business\",\"Business\",\"Business\",\"Entertainment\",\"Sports\",\"Business\",\"Entertainment\",\"Entertainment\",\"Sports\",\"Entertainment\",\"Politics\",\"Politics\",\"Politics\",\"Sports\",\"Sports\",\"Sports\",\"Technology\",\"Politics\",\"Sports\",\"Politics\",\"Politics\",\"Technology\",\"Politics\",\"Sports\",\"Business\",\"Entertainment\",\"Sports\",\"Business\",\"Business\",\"Technology\",\"Business\",\"Entertainment\",\"Entertainment\",\"Entertainment\",\"Business\",\"Entertainment\",\"Entertainment\",\"Politics\",\"Technology\",\"Business\",\"Sports\",\"Technology\",\"Sports\",\"Sports\",\"Politics\",\"Business\",\"Sports\",\"Technology\",\"Business\",\"Sports\",\"Technology\",\"Sports\",\"Sports\",\"Entertainment\",\"Sports\",\"Business\",\"Sports\",\"Business\",\"Technology\",\"Politics\",\"Technology\",\"Business\",\"Sports\",\"Sports\",\"Business\",\"Business\",\"Business\",\"Business\",\"Politics\",\"Sports\",\"Business\",\"Technology\",\"Business\",\"Sports\",\"Politics\",\"Business\",\"Technology\",\"Business\",\"Sports\",\"Business\",\"Politics\",\"Entertainment\",\"Sports\",\"Business\",\"Politics\",\"Business\",\"Entertainment\",\"Business\",\"Business\",\"Business\",\"Sports\",\"Politics\",\"Entertainment\",\"Sports\",\"Politics\",\"Sports\",\"Politics\",\"Politics\",\"Business\",\"Business\",\"Sports\",\"Technology\",\"Entertainment\",\"Sports\",\"Entertainment\",\"Business\",\"Business\",\"Business\",\"Technology\",\"Sports\",\"Technology\",\"Politics\",\"Technology\",\"Technology\",\"Technology\",\"Sports\",\"Technology\",\"Technology\",\"Entertainment\",\"Entertainment\",\"Technology\",\"Sports\",\"Entertainment\",\"Technology\",\"Sports\",\"Sports\",\"Business\",\"Entertainment\",\"Technology\",\"Business\",\"Sports\",\"Business\",\"Politics\",\"Business\",\"Entertainment\",\"Technology\",\"Business\",\"Politics\",\"Business\",\"Technology\",\"Sports\",\"Business\",\"Entertainment\",\"Business\",\"Politics\",\"Sports\",\"Entertainment\",\"Politics\",\"Sports\",\"Business\",\"Sports\",\"Politics\",\"Politics\",\"Sports\",\"Entertainment\",\"Entertainment\",\"Business\",\"Business\",\"Sports\",\"Technology\",\"Technology\",\"Sports\",\"Entertainment\",\"Technology\",\"Technology\",\"Business\",\"Sports\",\"Entertainment\",\"Technology\",\"Sports\",\"Sports\",\"Business\",\"Entertainment\",\"Business\",\"Business\",\"Business\",\"Entertainment\",\"Sports\",\"Entertainment\",\"Technology\",\"Technology\",\"Technology\",\"Politics\",\"Technology\",\"Technology\",\"Entertainment\",\"Entertainment\",\"Sports\",\"Sports\",\"Politics\",\"Business\",\"Entertainment\",\"Sports\",\"Politics\",\"Entertainment\",\"Technology\",\"Politics\",\"Technology\",\"Technology\",\"Business\",\"Entertainment\",\"Politics\",\"Technology\",\"Politics\",\"Politics\",\"Sports\",\"Politics\",\"Politics\",\"Entertainment\",\"Technology\",\"Sports\",\"Politics\",\"Sports\",\"Entertainment\",\"Politics\",\"Business\",\"Business\",\"Politics\",\"Sports\",\"Sports\",\"Sports\",\"Entertainment\",\"Technology\",\"Technology\",\"Business\",\"Entertainment\",\"Sports\",\"Politics\",\"Technology\",\"Politics\",\"Entertainment\",\"Technology\",\"Technology\",\"Business\",\"Business\",\"Sports\",\"Business\",\"Business\",\"Technology\",\"Politics\",\"Entertainment\",\"Business\",\"Business\",\"Business\",\"Business\",\"Business\",\"Technology\",\"Sports\",\"Politics\",\"Technology\",\"Technology\",\"Business\",\"Business\",\"Entertainment\",\"Politics\",\"Entertainment\",\"Sports\",\"Technology\",\"Sports\",\"Entertainment\",\"Sports\",\"Technology\",\"Sports\",\"Business\",\"Sports\",\"Politics\",\"Politics\",\"Entertainment\",\"Business\",\"Sports\",\"Politics\",\"Politics\",\"Sports\",\"Entertainment\",\"Politics\",\"Business\",\"Technology\",\"Sports\",\"Business\",\"Business\",\"Business\",\"Entertainment\",\"Entertainment\",\"Technology\",\"Technology\",\"Business\",\"Business\",\"Entertainment\",\"Sports\",\"Business\",\"Entertainment\",\"Technology\",\"Technology\",\"Business\",\"Business\",\"Sports\",\"Sports\",\"Sports\",\"Politics\",\"Politics\",\"Sports\",\"Politics\",\"Sports\",\"Business\",\"Entertainment\",\"Sports\",\"Technology\",\"Entertainment\",\"Sports\",\"Sports\",\"Business\",\"Business\",\"Technology\",\"Technology\",\"Sports\",\"Entertainment\",\"Sports\",\"Entertainment\",\"Sports\",\"Entertainment\",\"Politics\",\"Entertainment\",\"Entertainment\",\"Technology\",\"Entertainment\",\"Business\",\"Business\",\"Politics\",\"Sports\",\"Politics\",\"Technology\",\"Business\",\"Politics\",\"Sports\",\"Politics\",\"Sports\",\"Entertainment\",\"Sports\",\"Politics\",\"Sports\",\"Sports\",\"Technology\",\"Entertainment\",\"Sports\",\"Politics\",\"Sports\",\"Sports\",\"Business\",\"Technology\",\"Entertainment\",\"Politics\",\"Technology\",\"Entertainment\",\"Politics\",\"Entertainment\",\"Politics\",\"Entertainment\",\"Entertainment\",\"Technology\",\"Entertainment\",\"Politics\",\"Entertainment\",\"Entertainment\",\"Technology\",\"Technology\",\"Sports\",\"Sports\",\"Entertainment\",\"Entertainment\",\"Technology\",\"Entertainment\",\"Politics\",\"Technology\",\"Entertainment\",\"Business\",\"Technology\",\"Sports\",\"Business\",\"Entertainment\",\"Entertainment\",\"Technology\",\"Entertainment\",\"Technology\",\"Business\",\"Entertainment\",\"Sports\",\"Entertainment\",\"Business\",\"Sports\",\"Business\",\"Sports\",\"Politics\",\"Technology\",\"Entertainment\",\"Politics\",\"Business\",\"Entertainment\",\"Entertainment\",\"Politics\",\"Business\",\"Entertainment\",\"Sports\",\"Politics\",\"Sports\",\"Business\",\"Business\",\"Business\",\"Business\",\"Business\",\"Entertainment\",\"Technology\",\"Sports\",\"Entertainment\",\"Entertainment\",\"Business\",\"Sports\",\"Technology\",\"Technology\",\"Entertainment\",\"Sports\",\"Business\",\"Politics\",\"Business\",\"Politics\",\"Business\",\"Business\",\"Entertainment\",\"Politics\",\"Business\",\"Business\",\"Technology\",\"Politics\",\"Sports\",\"Technology\",\"Entertainment\",\"Politics\",\"Business\",\"Business\",\"Sports\",\"Entertainment\",\"Politics\",\"Technology\",\"Business\",\"Business\",\"Politics\",\"Business\",\"Sports\",\"Entertainment\",\"Sports\",\"Entertainment\",\"Technology\",\"Politics\",\"Business\",\"Business\",\"Technology\",\"Business\",\"Business\",\"Sports\",\"Business\",\"Technology\",\"Entertainment\",\"Politics\",\"Business\",\"Politics\",\"Business\",\"Sports\",\"Technology\",\"Business\",\"Politics\",\"Entertainment\",\"Technology\",\"Business\",\"Entertainment\",\"Sports\",\"Politics\",\"Politics\",\"Sports\",\"Politics\",\"Business\",\"Technology\",\"Entertainment\",\"Sports\",\"Sports\",\"Technology\",\"Business\",\"Sports\",\"Entertainment\",\"Technology\",\"Sports\",\"Politics\",\"Sports\",\"Business\",\"Business\",\"Business\",\"Politics\",\"Entertainment\",\"Sports\",\"Politics\",\"Technology\",\"Business\",\"Business\",\"Technology\",\"Entertainment\",\"Entertainment\",\"Technology\",\"Technology\",\"Sports\",\"Sports\",\"Entertainment\",\"Technology\",\"Entertainment\",\"Sports\",\"Politics\",\"Technology\",\"Business\",\"Sports\",\"Entertainment\",\"Business\",\"Business\",\"Entertainment\",\"Sports\",\"Business\",\"Sports\",\"Technology\",\"Politics\",\"Politics\",\"Technology\",\"Entertainment\",\"Politics\",\"Entertainment\",\"Business\",\"Business\",\"Politics\",\"Sports\",\"Technology\",\"Sports\",\"Sports\",\"Sports\",\"Politics\",\"Business\",\"Sports\",\"Business\",\"Technology\",\"Sports\",\"Business\",\"Business\",\"Sports\",\"Politics\",\"Technology\",\"Sports\",\"Business\",\"Technology\",\"Sports\",\"Sports\",\"Business\",\"Business\",\"Business\",\"Business\",\"Politics\",\"Entertainment\",\"Technology\",\"Business\",\"Business\",\"Sports\",\"Business\",\"Entertainment\",\"Business\",\"Entertainment\",\"Sports\",\"Politics\",\"Business\",\"Business\",\"Technology\",\"Entertainment\",\"Business\",\"Business\",\"Business\",\"Politics\",\"Business\",\"Politics\",\"Technology\",\"Entertainment\",\"Politics\",\"Entertainment\",\"Sports\",\"Technology\",\"Politics\",\"Business\",\"Technology\",\"Sports\",\"Business\",\"Business\",\"Entertainment\",\"Technology\",\"Business\",\"Business\",\"Sports\",\"Sports\",\"Entertainment\",\"Sports\",\"Politics\",\"Sports\",\"Business\",\"Sports\",\"Business\",\"Politics\",\"Politics\",\"Business\",\"Politics\",\"Technology\",\"Entertainment\",\"Sports\",\"Business\",\"Entertainment\",\"Sports\",\"Politics\",\"Politics\",\"Technology\",\"Entertainment\",\"Business\",\"Politics\",\"Politics\",\"Sports\",\"Technology\",\"Business\",\"Sports\",\"Entertainment\",\"Sports\",\"Entertainment\",\"Sports\",\"Business\",\"Sports\",\"Politics\",\"Entertainment\",\"Technology\",\"Business\",\"Sports\",\"Politics\",\"Technology\",\"Sports\",\"Entertainment\",\"Business\",\"Sports\",\"Entertainment\",\"Sports\",\"Technology\",\"Sports\",\"Technology\",\"Politics\",\"Sports\",\"Business\",\"Entertainment\",\"Technology\",\"Technology\",\"Politics\",\"Technology\",\"Entertainment\",\"Technology\",\"Sports\",\"Business\",\"Technology\",\"Business\",\"Entertainment\",\"Sports\",\"Technology\",\"Politics\",\"Politics\",\"Politics\",\"Politics\",\"Entertainment\",\"Entertainment\",\"Entertainment\",\"Business\",\"Politics\",\"Politics\",\"Sports\",\"Sports\",\"Technology\",\"Sports\",\"Politics\",\"Business\",\"Business\",\"Technology\",\"Sports\",\"Technology\",\"Business\",\"Technology\",\"Politics\",\"Politics\",\"Sports\",\"Business\",\"Politics\",\"Sports\",\"Business\",\"Technology\",\"Business\",\"Business\",\"Entertainment\",\"Entertainment\",\"Sports\",\"Business\",\"Technology\",\"Technology\",\"Politics\",\"Business\",\"Politics\",\"Sports\",\"Entertainment\",\"Entertainment\",\"Politics\",\"Politics\",\"Business\",\"Business\",\"Technology\",\"Technology\",\"Sports\",\"Sports\",\"Politics\",\"Technology\",\"Sports\",\"Technology\",\"Business\",\"Sports\",\"Business\",\"Politics\",\"Sports\",\"Entertainment\",\"Business\",\"Technology\",\"Politics\",\"Entertainment\",\"Technology\",\"Business\",\"Sports\",\"Entertainment\",\"Technology\",\"Technology\",\"Entertainment\",\"Politics\",\"Technology\",\"Entertainment\",\"Sports\",\"Entertainment\",\"Sports\",\"Sports\",\"Sports\",\"Politics\",\"Technology\",\"Sports\",\"Business\",\"Sports\",\"Sports\",\"Business\",\"Technology\",\"Sports\",\"Business\",\"Entertainment\",\"Politics\",\"Technology\",\"Sports\",\"Politics\",\"Technology\",\"Entertainment\",\"Politics\",\"Sports\",\"Politics\",\"Technology\",\"Business\",\"Entertainment\",\"Sports\",\"Politics\",\"Business\",\"Technology\",\"Technology\",\"Technology\",\"Politics\",\"Business\",\"Sports\",\"Politics\",\"Entertainment\",\"Technology\",\"Entertainment\",\"Sports\",\"Technology\",\"Business\",\"Politics\",\"Entertainment\",\"Technology\",\"Politics\",\"Sports\",\"Sports\",\"Business\",\"Entertainment\",\"Business\",\"Business\",\"Politics\",\"Business\",\"Business\",\"Politics\",\"Technology\",\"Entertainment\",\"Politics\",\"Entertainment\",\"Entertainment\",\"Business\",\"Politics\",\"Sports\",\"Politics\",\"Entertainment\",\"Sports\",\"Entertainment\",\"Politics\",\"Entertainment\",\"Entertainment\",\"Entertainment\",\"Business\",\"Sports\",\"Politics\",\"Sports\",\"Entertainment\",\"Technology\",\"Technology\",\"Business\",\"Politics\",\"Entertainment\",\"Business\",\"Sports\",\"Business\",\"Politics\",\"Politics\",\"Business\",\"Sports\",\"Technology\",\"Technology\",\"Technology\",\"Business\",\"Politics\",\"Politics\",\"Business\",\"Sports\",\"Sports\",\"Entertainment\",\"Business\",\"Sports\",\"Sports\",\"Politics\",\"Politics\",\"Politics\",\"Entertainment\",\"Politics\",\"Business\",\"Technology\",\"Business\",\"Politics\",\"Entertainment\",\"Entertainment\",\"Business\",\"Sports\",\"Politics\",\"Entertainment\",\"Sports\",\"Entertainment\",\"Politics\",\"Politics\",\"Business\",\"Politics\",\"Sports\",\"Entertainment\",\"Entertainment\",\"Technology\",\"Technology\",\"Technology\",\"Technology\",\"Politics\",\"Technology\",\"Business\",\"Technology\",\"Sports\",\"Sports\",\"Entertainment\",\"Business\",\"Technology\",\"Entertainment\",\"Business\",\"Technology\",\"Sports\",\"Technology\",\"Entertainment\",\"Entertainment\",\"Politics\",\"Politics\",\"Sports\",\"Business\",\"Business\",\"Technology\",\"Entertainment\",\"Sports\",\"Politics\",\"Business\",\"Technology\",\"Entertainment\",\"Politics\",\"Sports\",\"Entertainment\",\"Politics\",\"Politics\",\"Technology\",\"Sports\",\"Politics\",\"Business\",\"Politics\",\"Entertainment\",\"Technology\",\"Sports\",\"Politics\",\"Entertainment\",\"Entertainment\",\"Business\",\"Sports\",\"Technology\",\"Technology\",\"Sports\",\"Entertainment\",\"Technology\",\"Politics\",\"Technology\",\"Sports\",\"Politics\",\"Politics\",\"Sports\",\"Entertainment\",\"Sports\",\"Politics\",\"Sports\",\"Technology\",\"Entertainment\",\"Sports\",\"Entertainment\",\"Business\",\"Business\",\"Entertainment\",\"Entertainment\",\"Entertainment\",\"Technology\",\"Sports\",\"Business\",\"Business\",\"Politics\",\"Politics\",\"Business\",\"Politics\",\"Entertainment\",\"Sports\",\"Sports\",\"Technology\",\"Politics\",\"Sports\",\"Business\",\"Sports\",\"Business\",\"Technology\",\"Sports\",\"Sports\",\"Business\",\"Entertainment\",\"Sports\",\"Sports\",\"Technology\",\"Sports\",\"Business\",\"Politics\",\"Business\",\"Entertainment\",\"Technology\",\"Entertainment\",\"Politics\",\"Business\",\"Entertainment\",\"Politics\",\"Entertainment\",\"Politics\",\"Politics\",\"Business\",\"Sports\",\"Sports\",\"Sports\",\"Technology\",\"Technology\",\"Sports\",\"Politics\",\"Entertainment\",\"Technology\",\"Sports\",\"Entertainment\",\"Business\",\"Entertainment\",\"Politics\",\"Business\",\"Sports\",\"Technology\",\"Business\",\"Sports\",\"Politics\",\"Business\",\"Entertainment\",\"Entertainment\",\"Entertainment\",\"Politics\",\"Entertainment\",\"Politics\",\"Entertainment\",\"Sports\",\"Entertainment\",\"Sports\",\"Politics\",\"Politics\",\"Business\",\"Politics\",\"Technology\",\"Sports\",\"Technology\",\"Sports\",\"Business\",\"Politics\",\"Technology\",\"Entertainment\",\"Entertainment\",\"Politics\",\"Entertainment\",\"Politics\",\"Sports\",\"Sports\",\"Politics\",\"Business\",\"Technology\",\"Sports\",\"Politics\",\"Politics\",\"Entertainment\",\"Sports\",\"Politics\",\"Politics\",\"Business\",\"Technology\",\"Technology\",\"Business\",\"Technology\",\"Sports\",\"Sports\",\"Business\",\"Politics\",\"Business\",\"Technology\",\"Sports\",\"Technology\",\"Politics\",\"Entertainment\",\"Sports\",\"Business\",\"Sports\",\"Entertainment\",\"Technology\",\"Technology\",\"Sports\",\"Politics\",\"Sports\",\"Business\",\"Sports\",\"Business\",\"Sports\",\"Sports\",\"Entertainment\",\"Entertainment\",\"Business\",\"Technology\",\"Technology\",\"Business\",\"Technology\",\"Business\",\"Business\",\"Sports\",\"Sports\",\"Politics\",\"Sports\",\"Technology\",\"Sports\",\"Technology\",\"Sports\",\"Sports\",\"Business\",\"Business\",\"Technology\",\"Sports\",\"Business\",\"Technology\",\"Technology\",\"Politics\",\"Sports\",\"Business\",\"Entertainment\",\"Entertainment\",\"Technology\",\"Politics\",\"Sports\",\"Sports\",\"Technology\",\"Business\",\"Technology\",\"Entertainment\",\"Entertainment\",\"Politics\",\"Politics\",\"Business\",\"Entertainment\",\"Sports\",\"Entertainment\",\"Entertainment\",\"Business\",\"Sports\",\"Politics\",\"Technology\",\"Business\",\"Sports\",\"Entertainment\",\"Technology\",\"Politics\",\"Politics\",\"Sports\",\"Sports\",\"Business\",\"Business\",\"Business\",\"Business\",\"Business\",\"Entertainment\",\"Business\",\"Politics\",\"Politics\",\"Technology\",\"Technology\",\"Entertainment\",\"Politics\",\"Entertainment\",\"Business\",\"Politics\",\"Sports\",\"Sports\",\"Business\",\"Technology\",\"Business\",\"Technology\",\"Sports\",\"Business\",\"Business\",\"Politics\",\"Sports\",\"Sports\",\"Politics\",\"Politics\",\"Entertainment\",\"Entertainment\",\"Politics\",\"Business\",\"Politics\",\"Politics\",\"Business\",\"Technology\",\"Politics\",\"Politics\",\"Politics\",\"Politics\",\"Politics\",\"Entertainment\",\"Entertainment\",\"Technology\",\"Politics\",\"Sports\",\"Politics\",\"Sports\",\"Technology\",\"Sports\",\"Sports\",\"Sports\",\"Entertainment\",\"Technology\",\"Entertainment\",\"Technology\",\"Sports\",\"Technology\",\"Sports\",\"Sports\",\"Entertainment\",\"Entertainment\",\"Business\",\"Entertainment\",\"Entertainment\",\"Politics\",\"Business\",\"Sports\",\"Technology\",\"Technology\",\"Politics\",\"Business\",\"Sports\",\"Business\",\"Entertainment\",\"Sports\",\"Politics\",\"Entertainment\",\"Sports\",\"Sports\",\"Business\",\"Politics\",\"Technology\",\"Technology\",\"Business\",\"Business\",\"Sports\",\"Politics\",\"Entertainment\",\"Sports\",\"Sports\",\"Politics\",\"Entertainment\",\"Technology\",\"Sports\",\"Entertainment\",\"Business\",\"Politics\",\"Sports\",\"Politics\",\"Technology\",\"Entertainment\",\"Sports\",\"Politics\",\"Business\",\"Entertainment\",\"Politics\",\"Entertainment\",\"Politics\",\"Sports\",\"Politics\",\"Business\",\"Business\",\"Politics\",\"Business\",\"Technology\",\"Sports\",\"Business\",\"Entertainment\",\"Business\",\"Sports\",\"Sports\",\"Entertainment\",\"Technology\",\"Politics\",\"Technology\",\"Politics\",\"Politics\",\"Sports\",\"Sports\",\"Sports\",\"Business\",\"Technology\",\"Entertainment\",\"Business\",\"Sports\",\"Business\",\"Sports\",\"Business\",\"Technology\",\"Business\",\"Business\",\"Business\",\"Business\",\"Sports\",\"Sports\",\"Sports\",\"Business\",\"Business\",\"Entertainment\",\"Business\",\"Business\",\"Business\",\"Sports\",\"Sports\",\"Sports\",\"Technology\",\"Business\",\"Sports\",\"Sports\",\"Sports\",\"Business\",\"Entertainment\",\"Technology\",\"Technology\",\"Technology\",\"Politics\",\"Business\",\"Business\",\"Technology\",\"Business\",\"Technology\",\"Sports\",\"Sports\",\"Politics\",\"Politics\",\"Politics\",\"Sports\",\"Sports\",\"Politics\",\"Politics\",\"Technology\",\"Business\",\"Sports\",\"Sports\",\"Sports\",\"Sports\",\"Business\",\"Sports\",\"Business\",\"Business\",\"Business\",\"Business\",\"Sports\",\"Politics\",\"Sports\",\"Technology\",\"Technology\",\"Sports\",\"Technology\",\"Business\",\"Entertainment\",\"Business\",\"Sports\",\"Business\",\"Technology\",\"Technology\",\"Politics\",\"Entertainment\",\"Business\",\"Entertainment\",\"Business\",\"Technology\",\"Politics\",\"Entertainment\",\"Politics\",\"Entertainment\",\"Entertainment\",\"Technology\",\"Business\",\"Technology\",\"Technology\",\"Business\",\"Politics\",\"Sports\",\"Entertainment\",\"Business\",\"Politics\",\"Entertainment\",\"Business\",\"Technology\",\"Sports\",\"Technology\",\"Politics\",\"Sports\",\"Politics\",\"Business\",\"Politics\",\"Politics\",\"Business\",\"Business\",\"Business\",\"Technology\",\"Politics\",\"Business\",\"Politics\",\"Business\",\"Entertainment\",\"Politics\",\"Sports\",\"Politics\",\"Politics\",\"Sports\",\"Entertainment\",\"Technology\",\"Technology\",\"Business\",\"Technology\",\"Sports\",\"Business\",\"Business\",\"Politics\",\"Sports\",\"Technology\",\"Technology\",\"Technology\",\"Sports\",\"Entertainment\",\"Sports\",\"Politics\",\"Business\",\"Politics\",\"Politics\",\"Entertainment\",\"Technology\",\"Business\",\"Technology\",\"Sports\",\"Entertainment\",\"Entertainment\",\"Sports\",\"Business\",\"Entertainment\",\"Technology\",\"Technology\",\"Sports\",\"Entertainment\",\"Business\",\"Politics\",\"Politics\",\"Politics\",\"Technology\",\"Technology\",\"Business\",\"Politics\",\"Business\",\"Politics\",\"Politics\",\"Entertainment\",\"Sports\",\"Technology\",\"Business\",\"Technology\",\"Entertainment\",\"Technology\",\"Technology\",\"Sports\",\"Politics\",\"Sports\",\"Sports\",\"Politics\",\"Entertainment\",\"Entertainment\",\"Business\",\"Politics\",\"Politics\",\"Sports\",\"Business\",\"Business\",\"Technology\",\"Business\",\"Technology\",\"Technology\",\"Sports\",\"Business\",\"Politics\",\"Sports\",\"Business\",\"Business\",\"Sports\",\"Technology\",\"Sports\",\"Technology\",\"Entertainment\",\"Sports\",\"Sports\",\"Entertainment\",\"Business\",\"Technology\",\"Sports\",\"Sports\",\"Politics\",\"Technology\",\"Business\",\"Politics\",\"Sports\",\"Sports\",\"Politics\",\"Entertainment\",\"Technology\",\"Technology\",\"Technology\",\"Business\",\"Sports\",\"Entertainment\",\"Entertainment\",\"Technology\",\"Business\",\"Politics\",\"Technology\",\"Sports\",\"Sports\",\"Technology\",\"Technology\",\"Politics\",\"Business\",\"Sports\",\"Entertainment\",\"Entertainment\",\"Sports\",\"Entertainment\",\"Technology\",\"Technology\",\"Business\",\"Business\",\"Business\",\"Sports\",\"Sports\",\"Technology\",\"Sports\",\"Business\",\"Technology\",\"Business\",\"Business\",\"Sports\",\"Business\",\"Politics\",\"Business\",\"Business\",\"Technology\",\"Business\",\"Technology\",\"Politics\",\"Technology\",\"Entertainment\",\"Politics\",\"Technology\",\"Entertainment\",\"Sports\",\"Politics\",\"Entertainment\",\"Business\",\"Technology\",\"Business\",\"Technology\",\"Entertainment\",\"Technology\",\"Sports\",\"Business\",\"Business\",\"Politics\",\"Entertainment\",\"Politics\",\"Sports\"],\"legendgroup\":\"\",\"name\":\"\",\"showlegend\":true,\"type\":\"pie\"}],                        {\"template\":{\"data\":{\"histogram2dcontour\":[{\"type\":\"histogram2dcontour\",\"colorbar\":{\"outlinewidth\":0,\"ticks\":\"\"},\"colorscale\":[[0.0,\"#0d0887\"],[0.1111111111111111,\"#46039f\"],[0.2222222222222222,\"#7201a8\"],[0.3333333333333333,\"#9c179e\"],[0.4444444444444444,\"#bd3786\"],[0.5555555555555556,\"#d8576b\"],[0.6666666666666666,\"#ed7953\"],[0.7777777777777778,\"#fb9f3a\"],[0.8888888888888888,\"#fdca26\"],[1.0,\"#f0f921\"]]}],\"choropleth\":[{\"type\":\"choropleth\",\"colorbar\":{\"outlinewidth\":0,\"ticks\":\"\"}}],\"histogram2d\":[{\"type\":\"histogram2d\",\"colorbar\":{\"outlinewidth\":0,\"ticks\":\"\"},\"colorscale\":[[0.0,\"#0d0887\"],[0.1111111111111111,\"#46039f\"],[0.2222222222222222,\"#7201a8\"],[0.3333333333333333,\"#9c179e\"],[0.4444444444444444,\"#bd3786\"],[0.5555555555555556,\"#d8576b\"],[0.6666666666666666,\"#ed7953\"],[0.7777777777777778,\"#fb9f3a\"],[0.8888888888888888,\"#fdca26\"],[1.0,\"#f0f921\"]]}],\"heatmap\":[{\"type\":\"heatmap\",\"colorbar\":{\"outlinewidth\":0,\"ticks\":\"\"},\"colorscale\":[[0.0,\"#0d0887\"],[0.1111111111111111,\"#46039f\"],[0.2222222222222222,\"#7201a8\"],[0.3333333333333333,\"#9c179e\"],[0.4444444444444444,\"#bd3786\"],[0.5555555555555556,\"#d8576b\"],[0.6666666666666666,\"#ed7953\"],[0.7777777777777778,\"#fb9f3a\"],[0.8888888888888888,\"#fdca26\"],[1.0,\"#f0f921\"]]}],\"heatmapgl\":[{\"type\":\"heatmapgl\",\"colorbar\":{\"outlinewidth\":0,\"ticks\":\"\"},\"colorscale\":[[0.0,\"#0d0887\"],[0.1111111111111111,\"#46039f\"],[0.2222222222222222,\"#7201a8\"],[0.3333333333333333,\"#9c179e\"],[0.4444444444444444,\"#bd3786\"],[0.5555555555555556,\"#d8576b\"],[0.6666666666666666,\"#ed7953\"],[0.7777777777777778,\"#fb9f3a\"],[0.8888888888888888,\"#fdca26\"],[1.0,\"#f0f921\"]]}],\"contourcarpet\":[{\"type\":\"contourcarpet\",\"colorbar\":{\"outlinewidth\":0,\"ticks\":\"\"}}],\"contour\":[{\"type\":\"contour\",\"colorbar\":{\"outlinewidth\":0,\"ticks\":\"\"},\"colorscale\":[[0.0,\"#0d0887\"],[0.1111111111111111,\"#46039f\"],[0.2222222222222222,\"#7201a8\"],[0.3333333333333333,\"#9c179e\"],[0.4444444444444444,\"#bd3786\"],[0.5555555555555556,\"#d8576b\"],[0.6666666666666666,\"#ed7953\"],[0.7777777777777778,\"#fb9f3a\"],[0.8888888888888888,\"#fdca26\"],[1.0,\"#f0f921\"]]}],\"surface\":[{\"type\":\"surface\",\"colorbar\":{\"outlinewidth\":0,\"ticks\":\"\"},\"colorscale\":[[0.0,\"#0d0887\"],[0.1111111111111111,\"#46039f\"],[0.2222222222222222,\"#7201a8\"],[0.3333333333333333,\"#9c179e\"],[0.4444444444444444,\"#bd3786\"],[0.5555555555555556,\"#d8576b\"],[0.6666666666666666,\"#ed7953\"],[0.7777777777777778,\"#fb9f3a\"],[0.8888888888888888,\"#fdca26\"],[1.0,\"#f0f921\"]]}],\"mesh3d\":[{\"type\":\"mesh3d\",\"colorbar\":{\"outlinewidth\":0,\"ticks\":\"\"}}],\"scatter\":[{\"fillpattern\":{\"fillmode\":\"overlay\",\"size\":10,\"solidity\":0.2},\"type\":\"scatter\"}],\"parcoords\":[{\"type\":\"parcoords\",\"line\":{\"colorbar\":{\"outlinewidth\":0,\"ticks\":\"\"}}}],\"scatterpolargl\":[{\"type\":\"scatterpolargl\",\"marker\":{\"colorbar\":{\"outlinewidth\":0,\"ticks\":\"\"}}}],\"bar\":[{\"error_x\":{\"color\":\"#2a3f5f\"},\"error_y\":{\"color\":\"#2a3f5f\"},\"marker\":{\"line\":{\"color\":\"#E5ECF6\",\"width\":0.5},\"pattern\":{\"fillmode\":\"overlay\",\"size\":10,\"solidity\":0.2}},\"type\":\"bar\"}],\"scattergeo\":[{\"type\":\"scattergeo\",\"marker\":{\"colorbar\":{\"outlinewidth\":0,\"ticks\":\"\"}}}],\"scatterpolar\":[{\"type\":\"scatterpolar\",\"marker\":{\"colorbar\":{\"outlinewidth\":0,\"ticks\":\"\"}}}],\"histogram\":[{\"marker\":{\"pattern\":{\"fillmode\":\"overlay\",\"size\":10,\"solidity\":0.2}},\"type\":\"histogram\"}],\"scattergl\":[{\"type\":\"scattergl\",\"marker\":{\"colorbar\":{\"outlinewidth\":0,\"ticks\":\"\"}}}],\"scatter3d\":[{\"type\":\"scatter3d\",\"line\":{\"colorbar\":{\"outlinewidth\":0,\"ticks\":\"\"}},\"marker\":{\"colorbar\":{\"outlinewidth\":0,\"ticks\":\"\"}}}],\"scattermapbox\":[{\"type\":\"scattermapbox\",\"marker\":{\"colorbar\":{\"outlinewidth\":0,\"ticks\":\"\"}}}],\"scatterternary\":[{\"type\":\"scatterternary\",\"marker\":{\"colorbar\":{\"outlinewidth\":0,\"ticks\":\"\"}}}],\"scattercarpet\":[{\"type\":\"scattercarpet\",\"marker\":{\"colorbar\":{\"outlinewidth\":0,\"ticks\":\"\"}}}],\"carpet\":[{\"aaxis\":{\"endlinecolor\":\"#2a3f5f\",\"gridcolor\":\"white\",\"linecolor\":\"white\",\"minorgridcolor\":\"white\",\"startlinecolor\":\"#2a3f5f\"},\"baxis\":{\"endlinecolor\":\"#2a3f5f\",\"gridcolor\":\"white\",\"linecolor\":\"white\",\"minorgridcolor\":\"white\",\"startlinecolor\":\"#2a3f5f\"},\"type\":\"carpet\"}],\"table\":[{\"cells\":{\"fill\":{\"color\":\"#EBF0F8\"},\"line\":{\"color\":\"white\"}},\"header\":{\"fill\":{\"color\":\"#C8D4E3\"},\"line\":{\"color\":\"white\"}},\"type\":\"table\"}],\"barpolar\":[{\"marker\":{\"line\":{\"color\":\"#E5ECF6\",\"width\":0.5},\"pattern\":{\"fillmode\":\"overlay\",\"size\":10,\"solidity\":0.2}},\"type\":\"barpolar\"}],\"pie\":[{\"automargin\":true,\"type\":\"pie\"}]},\"layout\":{\"autotypenumbers\":\"strict\",\"colorway\":[\"#636efa\",\"#EF553B\",\"#00cc96\",\"#ab63fa\",\"#FFA15A\",\"#19d3f3\",\"#FF6692\",\"#B6E880\",\"#FF97FF\",\"#FECB52\"],\"font\":{\"color\":\"#2a3f5f\"},\"hovermode\":\"closest\",\"hoverlabel\":{\"align\":\"left\"},\"paper_bgcolor\":\"white\",\"plot_bgcolor\":\"#E5ECF6\",\"polar\":{\"bgcolor\":\"#E5ECF6\",\"angularaxis\":{\"gridcolor\":\"white\",\"linecolor\":\"white\",\"ticks\":\"\"},\"radialaxis\":{\"gridcolor\":\"white\",\"linecolor\":\"white\",\"ticks\":\"\"}},\"ternary\":{\"bgcolor\":\"#E5ECF6\",\"aaxis\":{\"gridcolor\":\"white\",\"linecolor\":\"white\",\"ticks\":\"\"},\"baxis\":{\"gridcolor\":\"white\",\"linecolor\":\"white\",\"ticks\":\"\"},\"caxis\":{\"gridcolor\":\"white\",\"linecolor\":\"white\",\"ticks\":\"\"}},\"coloraxis\":{\"colorbar\":{\"outlinewidth\":0,\"ticks\":\"\"}},\"colorscale\":{\"sequential\":[[0.0,\"#0d0887\"],[0.1111111111111111,\"#46039f\"],[0.2222222222222222,\"#7201a8\"],[0.3333333333333333,\"#9c179e\"],[0.4444444444444444,\"#bd3786\"],[0.5555555555555556,\"#d8576b\"],[0.6666666666666666,\"#ed7953\"],[0.7777777777777778,\"#fb9f3a\"],[0.8888888888888888,\"#fdca26\"],[1.0,\"#f0f921\"]],\"sequentialminus\":[[0.0,\"#0d0887\"],[0.1111111111111111,\"#46039f\"],[0.2222222222222222,\"#7201a8\"],[0.3333333333333333,\"#9c179e\"],[0.4444444444444444,\"#bd3786\"],[0.5555555555555556,\"#d8576b\"],[0.6666666666666666,\"#ed7953\"],[0.7777777777777778,\"#fb9f3a\"],[0.8888888888888888,\"#fdca26\"],[1.0,\"#f0f921\"]],\"diverging\":[[0,\"#8e0152\"],[0.1,\"#c51b7d\"],[0.2,\"#de77ae\"],[0.3,\"#f1b6da\"],[0.4,\"#fde0ef\"],[0.5,\"#f7f7f7\"],[0.6,\"#e6f5d0\"],[0.7,\"#b8e186\"],[0.8,\"#7fbc41\"],[0.9,\"#4d9221\"],[1,\"#276419\"]]},\"xaxis\":{\"gridcolor\":\"white\",\"linecolor\":\"white\",\"ticks\":\"\",\"title\":{\"standoff\":15},\"zerolinecolor\":\"white\",\"automargin\":true,\"zerolinewidth\":2},\"yaxis\":{\"gridcolor\":\"white\",\"linecolor\":\"white\",\"ticks\":\"\",\"title\":{\"standoff\":15},\"zerolinecolor\":\"white\",\"automargin\":true,\"zerolinewidth\":2},\"scene\":{\"xaxis\":{\"backgroundcolor\":\"#E5ECF6\",\"gridcolor\":\"white\",\"linecolor\":\"white\",\"showbackground\":true,\"ticks\":\"\",\"zerolinecolor\":\"white\",\"gridwidth\":2},\"yaxis\":{\"backgroundcolor\":\"#E5ECF6\",\"gridcolor\":\"white\",\"linecolor\":\"white\",\"showbackground\":true,\"ticks\":\"\",\"zerolinecolor\":\"white\",\"gridwidth\":2},\"zaxis\":{\"backgroundcolor\":\"#E5ECF6\",\"gridcolor\":\"white\",\"linecolor\":\"white\",\"showbackground\":true,\"ticks\":\"\",\"zerolinecolor\":\"white\",\"gridwidth\":2}},\"shapedefaults\":{\"line\":{\"color\":\"#2a3f5f\"}},\"annotationdefaults\":{\"arrowcolor\":\"#2a3f5f\",\"arrowhead\":0,\"arrowwidth\":1},\"geo\":{\"bgcolor\":\"white\",\"landcolor\":\"#E5ECF6\",\"subunitcolor\":\"white\",\"showland\":true,\"showlakes\":true,\"lakecolor\":\"white\"},\"title\":{\"x\":0.05},\"mapbox\":{\"style\":\"light\"}}},\"legend\":{\"tracegroupgap\":0},\"title\":{\"text\":\"News Category Pie Chart\"}},                        {\"responsive\": true}                    ).then(function(){\n",
              "                            \n",
              "var gd = document.getElementById('056c4e91-c8fe-48bc-8209-ff2c9f6b50f8');\n",
              "var x = new MutationObserver(function (mutations, observer) {{\n",
              "        var display = window.getComputedStyle(gd).display;\n",
              "        if (!display || display === 'none') {{\n",
              "            console.log([gd, 'removed!']);\n",
              "            Plotly.purge(gd);\n",
              "            observer.disconnect();\n",
              "        }}\n",
              "}});\n",
              "\n",
              "// Listen for the removal of the full notebook cells\n",
              "var notebookContainer = gd.closest('#notebook-container');\n",
              "if (notebookContainer) {{\n",
              "    x.observe(notebookContainer, {childList: true});\n",
              "}}\n",
              "\n",
              "// Listen for the clearing of the current output cell\n",
              "var outputEl = gd.closest('.output');\n",
              "if (outputEl) {{\n",
              "    x.observe(outputEl, {childList: true});\n",
              "}}\n",
              "\n",
              "                        })                };                            </script>        </div>\n",
              "</body>\n",
              "</html>"
            ]
          },
          "metadata": {}
        }
      ]
    },
    {
      "cell_type": "code",
      "source": [
        "dataframe.Category.value_counts()     "
      ],
      "metadata": {
        "colab": {
          "base_uri": "https://localhost:8080/"
        },
        "id": "owHVvhaGdirK",
        "outputId": "e7f2fd22-4239-4403-a65c-c3c84a123d0c"
      },
      "execution_count": null,
      "outputs": [
        {
          "output_type": "execute_result",
          "data": {
            "text/plain": [
              "Sports           511\n",
              "Business         510\n",
              "Politics         417\n",
              "Technology       401\n",
              "Entertainment    386\n",
              "Name: Category, dtype: int64"
            ]
          },
          "metadata": {},
          "execution_count": 10
        }
      ]
    },
    {
      "cell_type": "markdown",
      "source": [
        "# 5. Processing the Textual Data"
      ],
      "metadata": {
        "id": "fBH1_c1D2GCI"
      }
    },
    {
      "cell_type": "markdown",
      "source": [
        "## 5.1 Pre-processing Articles\n",
        "- Converting to Lower case \n",
        "- Expanding Contractions\n",
        "- Lemmatization\n",
        "- Remove stopwords and punctuation (i.e. non-letters)"
      ],
      "metadata": {
        "id": "o_PX8VvBF1md"
      }
    },
    {
      "cell_type": "code",
      "source": [
        "def process_sentence(sentence, nlp_object):\n",
        "    # Convert to lowercase\n",
        "    sentence = sentence.lower()\n",
        "    \n",
        "    # Exapnding contractions\n",
        "    sentence = contractions.fix(sentence)\n",
        "    \n",
        "    # Lemmatization and removing stopwords\n",
        "    doc = nlp_object(sentence)\n",
        "    sentence = \" \".join([token.lemma_ for token in doc if not token.is_stop])\n",
        "    \n",
        "    # Remove punctuation\n",
        "    for p in string.punctuation:\n",
        "        sentence = sentence.replace(p, \" \")\n",
        "    sentence = re.sub(r\"\\s+\", \" \", sentence) # Replace all whitespace characters with space\n",
        "    \n",
        "    return sentence"
      ],
      "metadata": {
        "id": "02RiwjQu2LsD"
      },
      "execution_count": null,
      "outputs": []
    },
    {
      "cell_type": "code",
      "source": [
        "from tqdm.notebook import tqdm\n",
        "# tqdm to see real time progress\n",
        "tqdm.pandas()\n",
        "\n",
        "nlp = spacy.load('en_core_web_sm') # English pipeline optimized for CPU"
      ],
      "metadata": {
        "id": "TG5soNTdAGsO"
      },
      "execution_count": null,
      "outputs": []
    },
    {
      "cell_type": "code",
      "source": [
        "dataframe[\"processed_Article\"] = dataframe[\"Article\"].progress_apply(lambda x : process_sentence(x, nlp))"
      ],
      "metadata": {
        "colab": {
          "base_uri": "https://localhost:8080/",
          "height": 49,
          "referenced_widgets": [
            "f7a58837a605485191691a3a3d49378c",
            "ab842c9549ac4d8ea662627954769052",
            "0d1be2bcd66c42dbbe0b134e7c8d39a3",
            "4bc411f8051349b3a399d77c82edaea2",
            "f749d375487b41ee9181774457342937",
            "e6f7f457fed0423b95a862f2a832b342",
            "818c89fdb75c4d16b84b9d297eb0e3f2",
            "92d726f1c21644ba8be862516423daf1",
            "f0803d49fe464df09a60accb9cb3f060",
            "3bbafc26c7a14571925212ee6cff4cb0",
            "3decf279a9424207b5919220104350c7"
          ]
        },
        "id": "rwxkofsWAU9P",
        "outputId": "db1f2031-4226-4788-d3c3-cdea0950d18b"
      },
      "execution_count": null,
      "outputs": [
        {
          "output_type": "display_data",
          "data": {
            "text/plain": [
              "  0%|          | 0/2225 [00:00<?, ?it/s]"
            ],
            "application/vnd.jupyter.widget-view+json": {
              "version_major": 2,
              "version_minor": 0,
              "model_id": "f7a58837a605485191691a3a3d49378c"
            }
          },
          "metadata": {}
        }
      ]
    },
    {
      "cell_type": "markdown",
      "source": [
        "#### 5.1.1 Display Articles - Pre and Post processing"
      ],
      "metadata": {
        "id": "2-MbEbAuFclM"
      }
    },
    {
      "cell_type": "code",
      "source": [
        "dataframe[[\"Article\",\"processed_Article\"]].head()"
      ],
      "metadata": {
        "colab": {
          "base_uri": "https://localhost:8080/",
          "height": 206
        },
        "id": "joid27NPCS1k",
        "outputId": "dc16fffc-41e0-4324-9811-1765a9d92c80"
      },
      "execution_count": null,
      "outputs": [
        {
          "output_type": "execute_result",
          "data": {
            "text/plain": [
              "                                             Article  \\\n",
              "0  tv future in the hands of viewers with home th...   \n",
              "1  worldcom boss  left books alone  former worldc...   \n",
              "2  tigers wary of farrell  gamble  leicester say ...   \n",
              "3  yeading face newcastle in fa cup premiership s...   \n",
              "4  ocean s twelve raids box office ocean s twelve...   \n",
              "\n",
              "                                   processed_Article  \n",
              "0  tv future hand viewer home theatre system plas...  \n",
              "1  worldcom boss leave book worldcom boss bernie ...  \n",
              "2  tiger wary farrell gamble leicester rush make ...  \n",
              "3  yeade face newcastle fa cup premiership newcas...  \n",
              "4  ocean s raid box office ocean s crime caper se...  "
            ],
            "text/html": [
              "\n",
              "  <div id=\"df-0d25d1f3-0e73-4c12-900e-be170e321913\">\n",
              "    <div class=\"colab-df-container\">\n",
              "      <div>\n",
              "<style scoped>\n",
              "    .dataframe tbody tr th:only-of-type {\n",
              "        vertical-align: middle;\n",
              "    }\n",
              "\n",
              "    .dataframe tbody tr th {\n",
              "        vertical-align: top;\n",
              "    }\n",
              "\n",
              "    .dataframe thead th {\n",
              "        text-align: right;\n",
              "    }\n",
              "</style>\n",
              "<table border=\"1\" class=\"dataframe\">\n",
              "  <thead>\n",
              "    <tr style=\"text-align: right;\">\n",
              "      <th></th>\n",
              "      <th>Article</th>\n",
              "      <th>processed_Article</th>\n",
              "    </tr>\n",
              "  </thead>\n",
              "  <tbody>\n",
              "    <tr>\n",
              "      <th>0</th>\n",
              "      <td>tv future in the hands of viewers with home th...</td>\n",
              "      <td>tv future hand viewer home theatre system plas...</td>\n",
              "    </tr>\n",
              "    <tr>\n",
              "      <th>1</th>\n",
              "      <td>worldcom boss  left books alone  former worldc...</td>\n",
              "      <td>worldcom boss leave book worldcom boss bernie ...</td>\n",
              "    </tr>\n",
              "    <tr>\n",
              "      <th>2</th>\n",
              "      <td>tigers wary of farrell  gamble  leicester say ...</td>\n",
              "      <td>tiger wary farrell gamble leicester rush make ...</td>\n",
              "    </tr>\n",
              "    <tr>\n",
              "      <th>3</th>\n",
              "      <td>yeading face newcastle in fa cup premiership s...</td>\n",
              "      <td>yeade face newcastle fa cup premiership newcas...</td>\n",
              "    </tr>\n",
              "    <tr>\n",
              "      <th>4</th>\n",
              "      <td>ocean s twelve raids box office ocean s twelve...</td>\n",
              "      <td>ocean s raid box office ocean s crime caper se...</td>\n",
              "    </tr>\n",
              "  </tbody>\n",
              "</table>\n",
              "</div>\n",
              "      <button class=\"colab-df-convert\" onclick=\"convertToInteractive('df-0d25d1f3-0e73-4c12-900e-be170e321913')\"\n",
              "              title=\"Convert this dataframe to an interactive table.\"\n",
              "              style=\"display:none;\">\n",
              "        \n",
              "  <svg xmlns=\"http://www.w3.org/2000/svg\" height=\"24px\"viewBox=\"0 0 24 24\"\n",
              "       width=\"24px\">\n",
              "    <path d=\"M0 0h24v24H0V0z\" fill=\"none\"/>\n",
              "    <path d=\"M18.56 5.44l.94 2.06.94-2.06 2.06-.94-2.06-.94-.94-2.06-.94 2.06-2.06.94zm-11 1L8.5 8.5l.94-2.06 2.06-.94-2.06-.94L8.5 2.5l-.94 2.06-2.06.94zm10 10l.94 2.06.94-2.06 2.06-.94-2.06-.94-.94-2.06-.94 2.06-2.06.94z\"/><path d=\"M17.41 7.96l-1.37-1.37c-.4-.4-.92-.59-1.43-.59-.52 0-1.04.2-1.43.59L10.3 9.45l-7.72 7.72c-.78.78-.78 2.05 0 2.83L4 21.41c.39.39.9.59 1.41.59.51 0 1.02-.2 1.41-.59l7.78-7.78 2.81-2.81c.8-.78.8-2.07 0-2.86zM5.41 20L4 18.59l7.72-7.72 1.47 1.35L5.41 20z\"/>\n",
              "  </svg>\n",
              "      </button>\n",
              "      \n",
              "  <style>\n",
              "    .colab-df-container {\n",
              "      display:flex;\n",
              "      flex-wrap:wrap;\n",
              "      gap: 12px;\n",
              "    }\n",
              "\n",
              "    .colab-df-convert {\n",
              "      background-color: #E8F0FE;\n",
              "      border: none;\n",
              "      border-radius: 50%;\n",
              "      cursor: pointer;\n",
              "      display: none;\n",
              "      fill: #1967D2;\n",
              "      height: 32px;\n",
              "      padding: 0 0 0 0;\n",
              "      width: 32px;\n",
              "    }\n",
              "\n",
              "    .colab-df-convert:hover {\n",
              "      background-color: #E2EBFA;\n",
              "      box-shadow: 0px 1px 2px rgba(60, 64, 67, 0.3), 0px 1px 3px 1px rgba(60, 64, 67, 0.15);\n",
              "      fill: #174EA6;\n",
              "    }\n",
              "\n",
              "    [theme=dark] .colab-df-convert {\n",
              "      background-color: #3B4455;\n",
              "      fill: #D2E3FC;\n",
              "    }\n",
              "\n",
              "    [theme=dark] .colab-df-convert:hover {\n",
              "      background-color: #434B5C;\n",
              "      box-shadow: 0px 1px 3px 1px rgba(0, 0, 0, 0.15);\n",
              "      filter: drop-shadow(0px 1px 2px rgba(0, 0, 0, 0.3));\n",
              "      fill: #FFFFFF;\n",
              "    }\n",
              "  </style>\n",
              "\n",
              "      <script>\n",
              "        const buttonEl =\n",
              "          document.querySelector('#df-0d25d1f3-0e73-4c12-900e-be170e321913 button.colab-df-convert');\n",
              "        buttonEl.style.display =\n",
              "          google.colab.kernel.accessAllowed ? 'block' : 'none';\n",
              "\n",
              "        async function convertToInteractive(key) {\n",
              "          const element = document.querySelector('#df-0d25d1f3-0e73-4c12-900e-be170e321913');\n",
              "          const dataTable =\n",
              "            await google.colab.kernel.invokeFunction('convertToInteractive',\n",
              "                                                     [key], {});\n",
              "          if (!dataTable) return;\n",
              "\n",
              "          const docLinkHtml = 'Like what you see? Visit the ' +\n",
              "            '<a target=\"_blank\" href=https://colab.research.google.com/notebooks/data_table.ipynb>data table notebook</a>'\n",
              "            + ' to learn more about interactive tables.';\n",
              "          element.innerHTML = '';\n",
              "          dataTable['output_type'] = 'display_data';\n",
              "          await google.colab.output.renderOutput(dataTable, element);\n",
              "          const docLink = document.createElement('div');\n",
              "          docLink.innerHTML = docLinkHtml;\n",
              "          element.appendChild(docLink);\n",
              "        }\n",
              "      </script>\n",
              "    </div>\n",
              "  </div>\n",
              "  "
            ]
          },
          "metadata": {},
          "execution_count": 14
        }
      ]
    },
    {
      "cell_type": "markdown",
      "source": [
        "## 5.2 Encoding and Transforming the data\n",
        "- Encoding the target variable\n",
        "- Bag of Words\n",
        "- TF-IDF\n",
        "- Train-Test Split\n"
      ],
      "metadata": {
        "id": "-zBtCduaH4q8"
      }
    },
    {
      "cell_type": "markdown",
      "source": [
        "### 5.2.1 Encoding the target variable"
      ],
      "metadata": {
        "id": "BZMMI7R5QHKb"
      }
    },
    {
      "cell_type": "code",
      "source": [
        "# label_encoder object knows \n",
        "# how to understand word labels.\n",
        "label_encoder = preprocessing.LabelEncoder()\n",
        "  \n",
        "# Encode labels in column 'species'.\n",
        "dataframe['Target_category']= label_encoder.fit_transform(dataframe['Category'])"
      ],
      "metadata": {
        "id": "hLQVkMepH-77"
      },
      "execution_count": null,
      "outputs": []
    },
    {
      "cell_type": "code",
      "source": [
        "dataframe['Target_category'].value_counts()"
      ],
      "metadata": {
        "colab": {
          "base_uri": "https://localhost:8080/"
        },
        "id": "cme0GqOOJKfC",
        "outputId": "50b970e6-11d1-4090-c7e0-f9a2873838f6"
      },
      "execution_count": null,
      "outputs": [
        {
          "output_type": "execute_result",
          "data": {
            "text/plain": [
              "3    511\n",
              "0    510\n",
              "2    417\n",
              "4    401\n",
              "1    386\n",
              "Name: Target_category, dtype: int64"
            ]
          },
          "metadata": {},
          "execution_count": 16
        }
      ]
    },
    {
      "cell_type": "code",
      "source": [
        "dataframe['Category'].value_counts()"
      ],
      "metadata": {
        "colab": {
          "base_uri": "https://localhost:8080/"
        },
        "id": "mx9A6H-8JQrl",
        "outputId": "371126fb-e6f9-493c-9f29-a0dd64c58edb"
      },
      "execution_count": null,
      "outputs": [
        {
          "output_type": "execute_result",
          "data": {
            "text/plain": [
              "Sports           511\n",
              "Business         510\n",
              "Politics         417\n",
              "Technology       401\n",
              "Entertainment    386\n",
              "Name: Category, dtype: int64"
            ]
          },
          "metadata": {},
          "execution_count": 17
        }
      ]
    },
    {
      "cell_type": "markdown",
      "source": [
        "### 5.2.2 Bag of Words\n",
        "- It converts the corpus of multiple sentences into a matrix of words & fills it with the frequency of each word in a sentence.\n",
        "- Limitation of BOW approach :\n",
        "  - This method **ignores the location information of the word**. It is **not possible to grasp the meaning of a word** from this representation.\n",
        "  - The **intuition** that **high-frequency words are more important** or give more information about the sentence **fails when it comes to stop-words like “is, the, an, I” & when the corpus is context-specific**.\n",
        "For example, in a corpus about covid-19, the word coronavirus may not add a lot of value.\n"
      ],
      "metadata": {
        "id": "x6yuXD5PJmKF"
      }
    },
    {
      "cell_type": "code",
      "source": [
        "# Using CountVectorizer for removing stop-words directly from the corpus.\n",
        "cv = CountVectorizer(stop_words=\"english\")\n",
        "bow_rep = cv.fit_transform(dataframe['processed_Article']).todense()\n",
        "df = pd.DataFrame(bow_rep)\n",
        "df.columns = cv.get_feature_names_out()\n",
        "df.index = dataframe['processed_Article']\n",
        "df"
      ],
      "metadata": {
        "id": "xiXQjZ2BJj9O",
        "colab": {
          "base_uri": "https://localhost:8080/",
          "height": 1000
        },
        "outputId": "396b5f52-2b11-46bf-b111-318916e7e02b"
      },
      "execution_count": null,
      "outputs": [
        {
          "output_type": "execute_result",
          "data": {
            "text/plain": [
              "                                                    00  000  0001  000bn  \\\n",
              "processed_Article                                                          \n",
              "tv future hand viewer home theatre system plasm...   0    1     0      0   \n",
              "worldcom boss leave book worldcom boss bernie e...   0    1     0      0   \n",
              "tiger wary farrell gamble leicester rush make b...   0    0     0      0   \n",
              "yeade face newcastle fa cup premiership newcast...   0    0     0      0   \n",
              "ocean s raid box office ocean s crime caper seq...   0    0     0      0   \n",
              "...                                                 ..  ...   ...    ...   \n",
              "car pull retail figure retail sale fall 0 3 jan...   0    0     0      0   \n",
              "kilroy unveils immigration policy ex chatshow h...   0    2     0      0   \n",
              "rem announce new glasgow concert band rem annou...   0    1     0      0   \n",
              "political squabble snowball s commonplace argue...   0    1     0      0   \n",
              "souness delight euro progress boss graeme soune...   0    0     0      0   \n",
              "\n",
              "                                                    000th  001  001and  001st  \\\n",
              "processed_Article                                                               \n",
              "tv future hand viewer home theatre system plasm...      0    0       0      0   \n",
              "worldcom boss leave book worldcom boss bernie e...      0    0       0      0   \n",
              "tiger wary farrell gamble leicester rush make b...      0    0       0      0   \n",
              "yeade face newcastle fa cup premiership newcast...      0    0       0      0   \n",
              "ocean s raid box office ocean s crime caper seq...      0    0       0      0   \n",
              "...                                                   ...  ...     ...    ...   \n",
              "car pull retail figure retail sale fall 0 3 jan...      0    0       0      0   \n",
              "kilroy unveils immigration policy ex chatshow h...      0    0       0      0   \n",
              "rem announce new glasgow concert band rem annou...      0    0       0      0   \n",
              "political squabble snowball s commonplace argue...      0    0       0      0   \n",
              "souness delight euro progress boss graeme soune...      0    0       0      0   \n",
              "\n",
              "                                                    004  0051  ...  zoom  \\\n",
              "processed_Article                                              ...         \n",
              "tv future hand viewer home theatre system plasm...    0     0  ...     0   \n",
              "worldcom boss leave book worldcom boss bernie e...    0     0  ...     0   \n",
              "tiger wary farrell gamble leicester rush make b...    0     0  ...     0   \n",
              "yeade face newcastle fa cup premiership newcast...    0     0  ...     0   \n",
              "ocean s raid box office ocean s crime caper seq...    0     0  ...     0   \n",
              "...                                                 ...   ...  ...   ...   \n",
              "car pull retail figure retail sale fall 0 3 jan...    0     0  ...     0   \n",
              "kilroy unveils immigration policy ex chatshow h...    0     0  ...     0   \n",
              "rem announce new glasgow concert band rem annou...    0     0  ...     0   \n",
              "political squabble snowball s commonplace argue...    0     0  ...     0   \n",
              "souness delight euro progress boss graeme soune...    0     0  ...     0   \n",
              "\n",
              "                                                    zooropa  zornotza  zorro  \\\n",
              "processed_Article                                                              \n",
              "tv future hand viewer home theatre system plasm...        0         0      0   \n",
              "worldcom boss leave book worldcom boss bernie e...        0         0      0   \n",
              "tiger wary farrell gamble leicester rush make b...        0         0      0   \n",
              "yeade face newcastle fa cup premiership newcast...        0         0      0   \n",
              "ocean s raid box office ocean s crime caper seq...        0         0      0   \n",
              "...                                                     ...       ...    ...   \n",
              "car pull retail figure retail sale fall 0 3 jan...        0         0      0   \n",
              "kilroy unveils immigration policy ex chatshow h...        0         0      0   \n",
              "rem announce new glasgow concert band rem annou...        0         0      0   \n",
              "political squabble snowball s commonplace argue...        0         0      0   \n",
              "souness delight euro progress boss graeme soune...        0         0      0   \n",
              "\n",
              "                                                    zubair  zuluaga  zurich  \\\n",
              "processed_Article                                                             \n",
              "tv future hand viewer home theatre system plasm...       0        0       0   \n",
              "worldcom boss leave book worldcom boss bernie e...       0        0       0   \n",
              "tiger wary farrell gamble leicester rush make b...       0        0       0   \n",
              "yeade face newcastle fa cup premiership newcast...       0        0       0   \n",
              "ocean s raid box office ocean s crime caper seq...       0        0       0   \n",
              "...                                                    ...      ...     ...   \n",
              "car pull retail figure retail sale fall 0 3 jan...       0        0       0   \n",
              "kilroy unveils immigration policy ex chatshow h...       0        0       0   \n",
              "rem announce new glasgow concert band rem annou...       0        0       0   \n",
              "political squabble snowball s commonplace argue...       0        0       0   \n",
              "souness delight euro progress boss graeme soune...       0        0       0   \n",
              "\n",
              "                                                    zuton  zvonareva  \\\n",
              "processed_Article                                                      \n",
              "tv future hand viewer home theatre system plasm...      0          0   \n",
              "worldcom boss leave book worldcom boss bernie e...      0          0   \n",
              "tiger wary farrell gamble leicester rush make b...      0          0   \n",
              "yeade face newcastle fa cup premiership newcast...      0          0   \n",
              "ocean s raid box office ocean s crime caper seq...      0          0   \n",
              "...                                                   ...        ...   \n",
              "car pull retail figure retail sale fall 0 3 jan...      0          0   \n",
              "kilroy unveils immigration policy ex chatshow h...      0          0   \n",
              "rem announce new glasgow concert band rem annou...      0          0   \n",
              "political squabble snowball s commonplace argue...      0          0   \n",
              "souness delight euro progress boss graeme soune...      0          0   \n",
              "\n",
              "                                                    zvyagintsev  \n",
              "processed_Article                                                \n",
              "tv future hand viewer home theatre system plasm...            0  \n",
              "worldcom boss leave book worldcom boss bernie e...            0  \n",
              "tiger wary farrell gamble leicester rush make b...            0  \n",
              "yeade face newcastle fa cup premiership newcast...            0  \n",
              "ocean s raid box office ocean s crime caper seq...            0  \n",
              "...                                                         ...  \n",
              "car pull retail figure retail sale fall 0 3 jan...            0  \n",
              "kilroy unveils immigration policy ex chatshow h...            0  \n",
              "rem announce new glasgow concert band rem annou...            0  \n",
              "political squabble snowball s commonplace argue...            0  \n",
              "souness delight euro progress boss graeme soune...            0  \n",
              "\n",
              "[2225 rows x 23194 columns]"
            ],
            "text/html": [
              "\n",
              "  <div id=\"df-b0d50f70-fa3c-4fdc-ade8-dcbf5cc1683e\">\n",
              "    <div class=\"colab-df-container\">\n",
              "      <div>\n",
              "<style scoped>\n",
              "    .dataframe tbody tr th:only-of-type {\n",
              "        vertical-align: middle;\n",
              "    }\n",
              "\n",
              "    .dataframe tbody tr th {\n",
              "        vertical-align: top;\n",
              "    }\n",
              "\n",
              "    .dataframe thead th {\n",
              "        text-align: right;\n",
              "    }\n",
              "</style>\n",
              "<table border=\"1\" class=\"dataframe\">\n",
              "  <thead>\n",
              "    <tr style=\"text-align: right;\">\n",
              "      <th></th>\n",
              "      <th>00</th>\n",
              "      <th>000</th>\n",
              "      <th>0001</th>\n",
              "      <th>000bn</th>\n",
              "      <th>000th</th>\n",
              "      <th>001</th>\n",
              "      <th>001and</th>\n",
              "      <th>001st</th>\n",
              "      <th>004</th>\n",
              "      <th>0051</th>\n",
              "      <th>...</th>\n",
              "      <th>zoom</th>\n",
              "      <th>zooropa</th>\n",
              "      <th>zornotza</th>\n",
              "      <th>zorro</th>\n",
              "      <th>zubair</th>\n",
              "      <th>zuluaga</th>\n",
              "      <th>zurich</th>\n",
              "      <th>zuton</th>\n",
              "      <th>zvonareva</th>\n",
              "      <th>zvyagintsev</th>\n",
              "    </tr>\n",
              "    <tr>\n",
              "      <th>processed_Article</th>\n",
              "      <th></th>\n",
              "      <th></th>\n",
              "      <th></th>\n",
              "      <th></th>\n",
              "      <th></th>\n",
              "      <th></th>\n",
              "      <th></th>\n",
              "      <th></th>\n",
              "      <th></th>\n",
              "      <th></th>\n",
              "      <th></th>\n",
              "      <th></th>\n",
              "      <th></th>\n",
              "      <th></th>\n",
              "      <th></th>\n",
              "      <th></th>\n",
              "      <th></th>\n",
              "      <th></th>\n",
              "      <th></th>\n",
              "      <th></th>\n",
              "      <th></th>\n",
              "    </tr>\n",
              "  </thead>\n",
              "  <tbody>\n",
              "    <tr>\n",
              "      <th>tv future hand viewer home theatre system plasma high definition tv digital video recorder move living room way people watch tv radically different year time accord expert panel gather annual consumer electronic las vegas discuss new technology impact favourite pastime lead trend programme content deliver viewer home network cable satellite telecom company broadband service provider room portable device talk technology ce digital personal video recorder dvr pvr set box like s tivo uk s sky system allow people record store play pause forward wind tv programme want essentially technology allow personalised tv build high definition tv set big business japan slow europe lack high definition programming people forward wind advert forget abide network channel schedule put la carte entertainment network cable satellite company worried mean term advertising revenue brand identity view loyalty channel lead technology moment concern raise europe particularly grow uptake service like sky happen today month year time uk adam hume bbc broadcast s futurologist tell bbc news website like bbc issue lose advertising revenue pressing issue moment commercial uk broadcaster brand loyalty important talk content brand network brand say tim hanlon brand communication firm starcom mediavest reality broadband connection anybody producer content add challenge hard promote programme choice mean say stacey jolna senior vice president tv guide tv group way people find content want watch simplify tv viewer mean network term channel leaf google s book search engine future instead scheduler help people find want watch kind channel model work young ipod generation take control gadget play suit panel recognise old generation comfortable familiar schedule channel brand know get want choice hand mr hanlon suggest end kid diaper push button possible available say mr hanlon ultimately consumer tell market want 50 000 new gadget technology showcase ce enhance tv watch experience high definition tv set new model lcd liquid crystal display tv launch dvr capability build instead external box example launch humax s 26 inch lcd tv 80 hour tivo dvr dvd recorder s big satellite tv company directtv launch brand dvr 100 hour recording capability instant replay search function set pause rewind tv 90 hour microsoft chief bill gate announce pre keynote speech partnership tivo call tivotogo mean people play record programme windows pc mobile device reflect increase trend free multimedia people watch want want</th>\n",
              "      <td>0</td>\n",
              "      <td>1</td>\n",
              "      <td>0</td>\n",
              "      <td>0</td>\n",
              "      <td>0</td>\n",
              "      <td>0</td>\n",
              "      <td>0</td>\n",
              "      <td>0</td>\n",
              "      <td>0</td>\n",
              "      <td>0</td>\n",
              "      <td>...</td>\n",
              "      <td>0</td>\n",
              "      <td>0</td>\n",
              "      <td>0</td>\n",
              "      <td>0</td>\n",
              "      <td>0</td>\n",
              "      <td>0</td>\n",
              "      <td>0</td>\n",
              "      <td>0</td>\n",
              "      <td>0</td>\n",
              "      <td>0</td>\n",
              "    </tr>\n",
              "    <tr>\n",
              "      <th>worldcom boss leave book worldcom boss bernie ebbers accuse oversee 11bn £ 5 8bn fraud accounting decision witness tell juror david myers comment question defence lawyer argue mr ebber responsible worldcom s problem phone company collapse 2002 prosecutor claim loss hide protect firm s share mr myers plead guilty fraud assist prosecutor monday defence lawyer reid weingarten try distance client allegation cross examination ask mr myers know mr ebber accounting decision aware mr myers reply know mr ebber accounting entry worldcom book mr weingarten press reply witness mr myers admit order false accounting entry request worldcom chief financial officer scott sullivan defence lawyer try paint mr sullivan admit fraud testify later trial mastermind worldcom s accounting house card mr ebber team look portray affable boss admission pe graduate economist ability mr ebber transform worldcom relative unknown 160bn telecom giant investor darling late 1990 worldcom s problem mount competition increase telecom boom petere firm finally collapse shareholder lose 180bn 20 000 worker lose job mr ebber trial expect month find guilty ceo face substantial jail sentence firmly declare innocence</th>\n",
              "      <td>0</td>\n",
              "      <td>1</td>\n",
              "      <td>0</td>\n",
              "      <td>0</td>\n",
              "      <td>0</td>\n",
              "      <td>0</td>\n",
              "      <td>0</td>\n",
              "      <td>0</td>\n",
              "      <td>0</td>\n",
              "      <td>0</td>\n",
              "      <td>...</td>\n",
              "      <td>0</td>\n",
              "      <td>0</td>\n",
              "      <td>0</td>\n",
              "      <td>0</td>\n",
              "      <td>0</td>\n",
              "      <td>0</td>\n",
              "      <td>0</td>\n",
              "      <td>0</td>\n",
              "      <td>0</td>\n",
              "      <td>0</td>\n",
              "    </tr>\n",
              "    <tr>\n",
              "      <th>tiger wary farrell gamble leicester rush make bid andy farrell great britain rugby league captain decide switch code anybody involve process way away go stage tiger boss john wells tell bbc radio leicester moment lot unknown andy farrell medical situation go big big gamble farrell persistent knee problem operation knee week ago expect month leicester saracen believe head list rugby union club interest sign farrell decide 15 man game union well believe better play back initially m sure step league union involve centre say well think england prefer progress position row use rugby league skill forward jury cross divide club balance strike cost gamble option bring ready replacement</th>\n",
              "      <td>0</td>\n",
              "      <td>0</td>\n",
              "      <td>0</td>\n",
              "      <td>0</td>\n",
              "      <td>0</td>\n",
              "      <td>0</td>\n",
              "      <td>0</td>\n",
              "      <td>0</td>\n",
              "      <td>0</td>\n",
              "      <td>0</td>\n",
              "      <td>...</td>\n",
              "      <td>0</td>\n",
              "      <td>0</td>\n",
              "      <td>0</td>\n",
              "      <td>0</td>\n",
              "      <td>0</td>\n",
              "      <td>0</td>\n",
              "      <td>0</td>\n",
              "      <td>0</td>\n",
              "      <td>0</td>\n",
              "      <td>0</td>\n",
              "    </tr>\n",
              "    <tr>\n",
              "      <th>yeade face newcastle fa cup premiership newcastle united face trip ryman premier league leader yeade fa cup round game arguably highlight draw potential money spinner non league yeading beat slough second round conference exeter city knock doncaster saturday travel old trafford meet holder manchester united january arsenal draw home stoke chelsea play host scunthorpe non league draw hinckley united hold brentford goalless draw sunday meet league leader luton win replay martin allen s team griffin park number premiership team face difficult away game championship side weekend 8 9 january place everton visit plymouth liverpool travel burnley crystal palace sunderland fulham face carle cup semi finalists watford bolton meet ipswich aston villa draw sheffield united premiership struggler norwich blackburn west brom away west ham cardiff preston north end respectively southampton visit northampton having beat league carling cup early season middlesbrough draw away swindon notts county spur entertain brighton white hart lane arsenal v stoke swindon notts co v middlesbrough man utd v exeter plymouth v everton leicester v blackpool derby v wigan sunderland v crystal palace wolve v millwall yeade v newcastle hull v colchester tottenham v brighton read v stockport swansea birmingham v leed hartlepool v boston milton keynes don v peterborough oldham v man city chelsea v scunthorpe cardiff v blackburn charlton v rochdale west ham v norwich sheff utd v aston villa preston v west brom rotherham v yeovil burnley v liverpool bournemouth v chester coventry v crewe watford v fulham ipswich v bolton portsmouth v gillingham northampton v southampton qpr v nottm forest luton v hinckley brentford match play weekend 8 9 january</th>\n",
              "      <td>0</td>\n",
              "      <td>0</td>\n",
              "      <td>0</td>\n",
              "      <td>0</td>\n",
              "      <td>0</td>\n",
              "      <td>0</td>\n",
              "      <td>0</td>\n",
              "      <td>0</td>\n",
              "      <td>0</td>\n",
              "      <td>0</td>\n",
              "      <td>...</td>\n",
              "      <td>0</td>\n",
              "      <td>0</td>\n",
              "      <td>0</td>\n",
              "      <td>0</td>\n",
              "      <td>0</td>\n",
              "      <td>0</td>\n",
              "      <td>0</td>\n",
              "      <td>0</td>\n",
              "      <td>0</td>\n",
              "      <td>0</td>\n",
              "    </tr>\n",
              "    <tr>\n",
              "      <th>ocean s raid box office ocean s crime caper sequel star george clooney brad pitt julia roberts go straight number box office chart take 40 8 m £ 21 m weekend ticket sale accord studio estimate sequel follow master criminal try pull major heist europe knock week s number national treasure place wesley snipe blade trinity second take 16 1 m £ 8 4 m round animate fable polar express star tom hank festive comedy christmas krank ocean s box office triumph mark fourth big opening december release film lord ring trilogy sequel narrowly beat 2001 predecessor ocean s take 38 1 m £ 19 8 m opening weekend 184 m £ 95 8 m total remake 1960s film star frank sinatra rat pack ocean s direct oscar win director steven soderbergh soderbergh return direct hit sequel reunite clooney pitt roberts matt damon andy garcia elliott gould catherine zeta jones join star cast s fun good holiday movie say dan fellman president distribution warner bros critic complimentary 110 m £ 57 2 m project los angeles time label dispirit vanity project milder review new york times dub sequel unabashedly trivial</th>\n",
              "      <td>0</td>\n",
              "      <td>0</td>\n",
              "      <td>0</td>\n",
              "      <td>0</td>\n",
              "      <td>0</td>\n",
              "      <td>0</td>\n",
              "      <td>0</td>\n",
              "      <td>0</td>\n",
              "      <td>0</td>\n",
              "      <td>0</td>\n",
              "      <td>...</td>\n",
              "      <td>0</td>\n",
              "      <td>0</td>\n",
              "      <td>0</td>\n",
              "      <td>0</td>\n",
              "      <td>0</td>\n",
              "      <td>0</td>\n",
              "      <td>0</td>\n",
              "      <td>0</td>\n",
              "      <td>0</td>\n",
              "      <td>0</td>\n",
              "    </tr>\n",
              "    <tr>\n",
              "      <th>...</th>\n",
              "      <td>...</td>\n",
              "      <td>...</td>\n",
              "      <td>...</td>\n",
              "      <td>...</td>\n",
              "      <td>...</td>\n",
              "      <td>...</td>\n",
              "      <td>...</td>\n",
              "      <td>...</td>\n",
              "      <td>...</td>\n",
              "      <td>...</td>\n",
              "      <td>...</td>\n",
              "      <td>...</td>\n",
              "      <td>...</td>\n",
              "      <td>...</td>\n",
              "      <td>...</td>\n",
              "      <td>...</td>\n",
              "      <td>...</td>\n",
              "      <td>...</td>\n",
              "      <td>...</td>\n",
              "      <td>...</td>\n",
              "      <td>...</td>\n",
              "    </tr>\n",
              "    <tr>\n",
              "      <th>car pull retail figure retail sale fall 0 3 january big monthly decline august drive heavy fall car sale 3 3 fall car sale expect come december s 4 rise car sale fuel generous pre christmas special offer exclude car sector retail sale 0 6 january twice analyst expect retail spending expect rise 2005 quickly 2004 steve gallagher chief economist sg corporate investment banking say january s figure decent number see number see second half 2004 pretty healthy add sale appliance electronic store 0 6 january sale hardware store drop 0 3 furniture store sale dip 0 1 sale clothing clothing accessory store jump 1 8 sale general merchandise store category include department store rise 0 9 strong gain consumer spend gift voucher give christmas sale restaurant bar coffee house rise 0 3 grocery store sale 0 5 december overall retail sale rise 1 1 exclude car sector sale rise 0 3 parul jain deputy chief economist nomura securities international say consumer spending continue rise 2005 slow rate growth 2004 consumer continue retain strength quarter say van rourke bond strategist popular security agree late retail sale figure slightly strong expect</th>\n",
              "      <td>0</td>\n",
              "      <td>0</td>\n",
              "      <td>0</td>\n",
              "      <td>0</td>\n",
              "      <td>0</td>\n",
              "      <td>0</td>\n",
              "      <td>0</td>\n",
              "      <td>0</td>\n",
              "      <td>0</td>\n",
              "      <td>0</td>\n",
              "      <td>...</td>\n",
              "      <td>0</td>\n",
              "      <td>0</td>\n",
              "      <td>0</td>\n",
              "      <td>0</td>\n",
              "      <td>0</td>\n",
              "      <td>0</td>\n",
              "      <td>0</td>\n",
              "      <td>0</td>\n",
              "      <td>0</td>\n",
              "      <td>0</td>\n",
              "    </tr>\n",
              "    <tr>\n",
              "      <th>kilroy unveils immigration policy ex chatshow host robert kilroy silk attack uk policy immigration say britain s open door approach hit low wage indigenous worker verita leader say people benefit immigrant place like poland employer landlord member metropolitan elite mep say party admit foreigner require specific skill offer argue asylum cost £ 2bn year 14 000 successful applicant mr kilroy silk say work £ 143 000 successful asylum seeker say verita want grant amnesty britain claim asylum child deport britain fair share asylum seeker united nations convention human right argue mr kilroy silk say want spend extra £ 500 m year help provide refugee abroad</th>\n",
              "      <td>0</td>\n",
              "      <td>2</td>\n",
              "      <td>0</td>\n",
              "      <td>0</td>\n",
              "      <td>0</td>\n",
              "      <td>0</td>\n",
              "      <td>0</td>\n",
              "      <td>0</td>\n",
              "      <td>0</td>\n",
              "      <td>0</td>\n",
              "      <td>...</td>\n",
              "      <td>0</td>\n",
              "      <td>0</td>\n",
              "      <td>0</td>\n",
              "      <td>0</td>\n",
              "      <td>0</td>\n",
              "      <td>0</td>\n",
              "      <td>0</td>\n",
              "      <td>0</td>\n",
              "      <td>0</td>\n",
              "      <td>0</td>\n",
              "    </tr>\n",
              "    <tr>\n",
              "      <th>rem announce new glasgow concert band rem announce plan perform 10 000 scottish fan rescheduled gig band play dub europe s big tent glasgow green tuesday 14 june force pull concert secc glasgow month bassist mike mills contract flu fan buy ticket original 22 february attend rescheduled concert june gig act warm rem s open air concert balloch castle country park bank loch lomond day later promoter regular music book glasgow green secc available suitable date mark mackie director regular music say fantastic news show rem s commitment scottish fan come glasgow truly unique gig rem gig kick start promise memorable summer scottish music lover grammy award winner u2 play hampden 21 june oasis perform national stadium glasgow 29 june coldplay announce concert bellahouston park glasgow 1 july t park hold balado near kinross 9 10 july ticketweb secc box office write customer buy ticket february gig ask want attend new buy ticket person urge return point purchase concert give refund cut date swap ticket 1 april remain sale public</th>\n",
              "      <td>0</td>\n",
              "      <td>1</td>\n",
              "      <td>0</td>\n",
              "      <td>0</td>\n",
              "      <td>0</td>\n",
              "      <td>0</td>\n",
              "      <td>0</td>\n",
              "      <td>0</td>\n",
              "      <td>0</td>\n",
              "      <td>0</td>\n",
              "      <td>...</td>\n",
              "      <td>0</td>\n",
              "      <td>0</td>\n",
              "      <td>0</td>\n",
              "      <td>0</td>\n",
              "      <td>0</td>\n",
              "      <td>0</td>\n",
              "      <td>0</td>\n",
              "      <td>0</td>\n",
              "      <td>0</td>\n",
              "      <td>0</td>\n",
              "    </tr>\n",
              "    <tr>\n",
              "      <th>political squabble snowball s commonplace argue blair brown like squabbling school kid supporter need grow stop bicker analysis fact get wrong s child fight adult solid reason trivial argument mature protagonist hard stop got go key feature endless feud agree d well end want word participant genuinely want row stop think worth prolong argument tiny bit ensure view hear successive attempt end argument word ensure argument go case mr blair mr brown successive book publish ensure issue die isn t participant stupid s actually individual behave entirely rationally give incentive face s piece economic theory explain obscure post neo classical endogenous growth theory chancellor quote ubiquitous piece game theory respectable policy wonk familiar s refer prisoner s dilemma base parable tell economics degree course sheriff prisoner story go prisoner jointly charge heinous crime lock separate cell sheriff desperately need confession provide evidence convict crime confession prisoner minimal sentence trump charge clearly prisoner good strategy mouth shut short sentence clever sheriff idea induce talk tell prisoner separately confess confess ll let crime tell don t confess confess ll life prisoner confront choice good bet confess partner doesn t confess ll completely partner confess d well confess ensure don t life result course prisoner confess sheriff let prisoner individual logic behave way well agree shut don t worry don t entirely follow look google 283 000 entry prisoner dilemma ramification truly capture economist couple decade parable describe situation obvious sensible choice take collectively rational choice individually behave selfishly cold war arm race example classic case russia america well arm lot arm long want arm arm race ensue result individually logical decision buy arm result arm level high economic tell prisoner dilemma repeat experience time s hard escape perverse logic s good exhort people stop buy arm stop argue incentive encourage carry incentive change case labour party believe rift blair brown camp bad report suggest solomon s wisdom need deploy solve problem parent know ingenious solution argument solution affect incentive participant example famous rule divide choose way allocate piece cake slice greedy child case apparently endless argument want come end ensure person word lose win row cost prolong row briefing book matter exceed benefit have word get point rest party enforce ll protagonist retreat pretty quickly</th>\n",
              "      <td>0</td>\n",
              "      <td>1</td>\n",
              "      <td>0</td>\n",
              "      <td>0</td>\n",
              "      <td>0</td>\n",
              "      <td>0</td>\n",
              "      <td>0</td>\n",
              "      <td>0</td>\n",
              "      <td>0</td>\n",
              "      <td>0</td>\n",
              "      <td>...</td>\n",
              "      <td>0</td>\n",
              "      <td>0</td>\n",
              "      <td>0</td>\n",
              "      <td>0</td>\n",
              "      <td>0</td>\n",
              "      <td>0</td>\n",
              "      <td>0</td>\n",
              "      <td>0</td>\n",
              "      <td>0</td>\n",
              "      <td>0</td>\n",
              "    </tr>\n",
              "    <tr>\n",
              "      <th>souness delight euro progress boss graeme souness feel newcastle danger go uefa cup heerenveen early goal follow alan shearer strike earn 2 1 win place uefa cup 16 obviously win leg give great advantage say 4 2 aggregate victory get goal early mind player job get goal bit nervous shearer s goal move 12 jackie milburn s club scoring record 200 magpie souness say think beat record bearing decision retire end season think get year want stay year add strike ball think power pace beat goalkeeper souness pay tribute laurent robert heart united s attack play half want wide player future say</th>\n",
              "      <td>0</td>\n",
              "      <td>0</td>\n",
              "      <td>0</td>\n",
              "      <td>0</td>\n",
              "      <td>0</td>\n",
              "      <td>0</td>\n",
              "      <td>0</td>\n",
              "      <td>0</td>\n",
              "      <td>0</td>\n",
              "      <td>0</td>\n",
              "      <td>...</td>\n",
              "      <td>0</td>\n",
              "      <td>0</td>\n",
              "      <td>0</td>\n",
              "      <td>0</td>\n",
              "      <td>0</td>\n",
              "      <td>0</td>\n",
              "      <td>0</td>\n",
              "      <td>0</td>\n",
              "      <td>0</td>\n",
              "      <td>0</td>\n",
              "    </tr>\n",
              "  </tbody>\n",
              "</table>\n",
              "<p>2225 rows × 23194 columns</p>\n",
              "</div>\n",
              "      <button class=\"colab-df-convert\" onclick=\"convertToInteractive('df-b0d50f70-fa3c-4fdc-ade8-dcbf5cc1683e')\"\n",
              "              title=\"Convert this dataframe to an interactive table.\"\n",
              "              style=\"display:none;\">\n",
              "        \n",
              "  <svg xmlns=\"http://www.w3.org/2000/svg\" height=\"24px\"viewBox=\"0 0 24 24\"\n",
              "       width=\"24px\">\n",
              "    <path d=\"M0 0h24v24H0V0z\" fill=\"none\"/>\n",
              "    <path d=\"M18.56 5.44l.94 2.06.94-2.06 2.06-.94-2.06-.94-.94-2.06-.94 2.06-2.06.94zm-11 1L8.5 8.5l.94-2.06 2.06-.94-2.06-.94L8.5 2.5l-.94 2.06-2.06.94zm10 10l.94 2.06.94-2.06 2.06-.94-2.06-.94-.94-2.06-.94 2.06-2.06.94z\"/><path d=\"M17.41 7.96l-1.37-1.37c-.4-.4-.92-.59-1.43-.59-.52 0-1.04.2-1.43.59L10.3 9.45l-7.72 7.72c-.78.78-.78 2.05 0 2.83L4 21.41c.39.39.9.59 1.41.59.51 0 1.02-.2 1.41-.59l7.78-7.78 2.81-2.81c.8-.78.8-2.07 0-2.86zM5.41 20L4 18.59l7.72-7.72 1.47 1.35L5.41 20z\"/>\n",
              "  </svg>\n",
              "      </button>\n",
              "      \n",
              "  <style>\n",
              "    .colab-df-container {\n",
              "      display:flex;\n",
              "      flex-wrap:wrap;\n",
              "      gap: 12px;\n",
              "    }\n",
              "\n",
              "    .colab-df-convert {\n",
              "      background-color: #E8F0FE;\n",
              "      border: none;\n",
              "      border-radius: 50%;\n",
              "      cursor: pointer;\n",
              "      display: none;\n",
              "      fill: #1967D2;\n",
              "      height: 32px;\n",
              "      padding: 0 0 0 0;\n",
              "      width: 32px;\n",
              "    }\n",
              "\n",
              "    .colab-df-convert:hover {\n",
              "      background-color: #E2EBFA;\n",
              "      box-shadow: 0px 1px 2px rgba(60, 64, 67, 0.3), 0px 1px 3px 1px rgba(60, 64, 67, 0.15);\n",
              "      fill: #174EA6;\n",
              "    }\n",
              "\n",
              "    [theme=dark] .colab-df-convert {\n",
              "      background-color: #3B4455;\n",
              "      fill: #D2E3FC;\n",
              "    }\n",
              "\n",
              "    [theme=dark] .colab-df-convert:hover {\n",
              "      background-color: #434B5C;\n",
              "      box-shadow: 0px 1px 3px 1px rgba(0, 0, 0, 0.15);\n",
              "      filter: drop-shadow(0px 1px 2px rgba(0, 0, 0, 0.3));\n",
              "      fill: #FFFFFF;\n",
              "    }\n",
              "  </style>\n",
              "\n",
              "      <script>\n",
              "        const buttonEl =\n",
              "          document.querySelector('#df-b0d50f70-fa3c-4fdc-ade8-dcbf5cc1683e button.colab-df-convert');\n",
              "        buttonEl.style.display =\n",
              "          google.colab.kernel.accessAllowed ? 'block' : 'none';\n",
              "\n",
              "        async function convertToInteractive(key) {\n",
              "          const element = document.querySelector('#df-b0d50f70-fa3c-4fdc-ade8-dcbf5cc1683e');\n",
              "          const dataTable =\n",
              "            await google.colab.kernel.invokeFunction('convertToInteractive',\n",
              "                                                     [key], {});\n",
              "          if (!dataTable) return;\n",
              "\n",
              "          const docLinkHtml = 'Like what you see? Visit the ' +\n",
              "            '<a target=\"_blank\" href=https://colab.research.google.com/notebooks/data_table.ipynb>data table notebook</a>'\n",
              "            + ' to learn more about interactive tables.';\n",
              "          element.innerHTML = '';\n",
              "          dataTable['output_type'] = 'display_data';\n",
              "          await google.colab.output.renderOutput(dataTable, element);\n",
              "          const docLink = document.createElement('div');\n",
              "          docLink.innerHTML = docLinkHtml;\n",
              "          element.appendChild(docLink);\n",
              "        }\n",
              "      </script>\n",
              "    </div>\n",
              "  </div>\n",
              "  "
            ]
          },
          "metadata": {},
          "execution_count": 18
        }
      ]
    },
    {
      "cell_type": "code",
      "source": [
        "dataframe['Article'].iloc[0]"
      ],
      "metadata": {
        "colab": {
          "base_uri": "https://localhost:8080/",
          "height": 140
        },
        "id": "V9wE8nH50ex6",
        "outputId": "6b4dc896-72ea-415c-8578-2f83ebe8d294"
      },
      "execution_count": null,
      "outputs": [
        {
          "output_type": "execute_result",
          "data": {
            "text/plain": [
              "'tv future in the hands of viewers with home theatre systems  plasma high-definition tvs  and digital video recorders moving into the living room  the way people watch tv will be radically different in five years  time.  that is according to an expert panel which gathered at the annual consumer electronics show in las vegas to discuss how these new technologies will impact one of our favourite pastimes. with the us leading the trend  programmes and other content will be delivered to viewers via home networks  through cable  satellite  telecoms companies  and broadband service providers to front rooms and portable devices.  one of the most talked-about technologies of ces has been digital and personal video recorders (dvr and pvr). these set-top boxes  like the us s tivo and the uk s sky+ system  allow people to record  store  play  pause and forward wind tv programmes when they want.  essentially  the technology allows for much more personalised tv. they are also being built-in to high-definition tv sets  which are big business in japan and the us  but slower to take off in europe because of the lack of high-definition programming. not only can people forward wind through adverts  they can also forget about abiding by network and channel schedules  putting together their own a-la-carte entertainment. but some us networks and cable and satellite companies are worried about what it means for them in terms of advertising revenues as well as  brand identity  and viewer loyalty to channels. although the us leads in this technology at the moment  it is also a concern that is being raised in europe  particularly with the growing uptake of services like sky+.  what happens here today  we will see in nine months to a years  time in the uk   adam hume  the bbc broadcast s futurologist told the bbc news website. for the likes of the bbc  there are no issues of lost advertising revenue yet. it is a more pressing issue at the moment for commercial uk broadcasters  but brand loyalty is important for everyone.  we will be talking more about content brands rather than network brands   said tim hanlon  from brand communications firm starcom mediavest.  the reality is that with broadband connections  anybody can be the producer of content.  he added:  the challenge now is that it is hard to promote a programme with so much choice.   what this means  said stacey jolna  senior vice president of tv guide tv group  is that the way people find the content they want to watch has to be simplified for tv viewers. it means that networks  in us terms  or channels could take a leaf out of google s book and be the search engine of the future  instead of the scheduler to help people find what they want to watch. this kind of channel model might work for the younger ipod generation which is used to taking control of their gadgets and what they play on them. but it might not suit everyone  the panel recognised. older generations are more comfortable with familiar schedules and channel brands because they know what they are getting. they perhaps do not want so much of the choice put into their hands  mr hanlon suggested.  on the other end  you have the kids just out of diapers who are pushing buttons already - everything is possible and available to them   said mr hanlon.  ultimately  the consumer will tell the market they want.   of the 50 000 new gadgets and technologies being showcased at ces  many of them are about enhancing the tv-watching experience. high-definition tv sets are everywhere and many new models of lcd (liquid crystal display) tvs have been launched with dvr capability built into them  instead of being external boxes. one such example launched at the show is humax s 26-inch lcd tv with an 80-hour tivo dvr and dvd recorder. one of the us s biggest satellite tv companies  directtv  has even launched its own branded dvr at the show with 100-hours of recording capability  instant replay  and a search function. the set can pause and rewind tv for up to 90 hours. and microsoft chief bill gates announced in his pre-show keynote speech a partnership with tivo  called tivotogo  which means people can play recorded programmes on windows pcs and mobile devices. all these reflect the increasing trend of freeing up multimedia so that people can watch what they want  when they want.'"
            ],
            "application/vnd.google.colaboratory.intrinsic+json": {
              "type": "string"
            }
          },
          "metadata": {},
          "execution_count": 30
        }
      ]
    },
    {
      "cell_type": "code",
      "source": [
        "dataframe['processed_Article'].iloc[0]"
      ],
      "metadata": {
        "colab": {
          "base_uri": "https://localhost:8080/",
          "height": 140
        },
        "id": "E7wcm5tU0kR5",
        "outputId": "7ae51e7f-143d-46d1-d200-1ba8b516c544"
      },
      "execution_count": null,
      "outputs": [
        {
          "output_type": "execute_result",
          "data": {
            "text/plain": [
              "'tv future hand viewer home theatre system plasma high definition tv digital video recorder move living room way people watch tv radically different year time accord expert panel gather annual consumer electronic las vegas discuss new technology impact favourite pastime lead trend programme content deliver viewer home network cable satellite telecom company broadband service provider room portable device talk technology ce digital personal video recorder dvr pvr set box like s tivo uk s sky system allow people record store play pause forward wind tv programme want essentially technology allow personalised tv build high definition tv set big business japan slow europe lack high definition programming people forward wind advert forget abide network channel schedule put la carte entertainment network cable satellite company worried mean term advertising revenue brand identity view loyalty channel lead technology moment concern raise europe particularly grow uptake service like sky happen today month year time uk adam hume bbc broadcast s futurologist tell bbc news website like bbc issue lose advertising revenue pressing issue moment commercial uk broadcaster brand loyalty important talk content brand network brand say tim hanlon brand communication firm starcom mediavest reality broadband connection anybody producer content add challenge hard promote programme choice mean say stacey jolna senior vice president tv guide tv group way people find content want watch simplify tv viewer mean network term channel leaf google s book search engine future instead scheduler help people find want watch kind channel model work young ipod generation take control gadget play suit panel recognise old generation comfortable familiar schedule channel brand know get want choice hand mr hanlon suggest end kid diaper push button possible available say mr hanlon ultimately consumer tell market want 50 000 new gadget technology showcase ce enhance tv watch experience high definition tv set new model lcd liquid crystal display tv launch dvr capability build instead external box example launch humax s 26 inch lcd tv 80 hour tivo dvr dvd recorder s big satellite tv company directtv launch brand dvr 100 hour recording capability instant replay search function set pause rewind tv 90 hour microsoft chief bill gate announce pre keynote speech partnership tivo call tivotogo mean people play record programme windows pc mobile device reflect increase trend free multimedia people watch want want '"
            ],
            "application/vnd.google.colaboratory.intrinsic+json": {
              "type": "string"
            }
          },
          "metadata": {},
          "execution_count": 31
        }
      ]
    },
    {
      "cell_type": "markdown",
      "source": [
        "### 5.2.3 TF-IDF for vectorizing the data\n",
        "- Term Frequency is the measure of how common a word (or token) is in the document.\n",
        "\n",
        "  - More common words (or tokens) of a document would have a higher term frequency.This is calculated for every word in a document.\n",
        "\n",
        "  - There are various ways to determine the term frequency. One of the most common formulation of TF is -\n",
        "𝑇𝐹(𝑡,𝑑)=𝑓𝑡,𝑑∑𝑡′∈𝑑𝑓𝑡′,𝑑"
      ],
      "metadata": {
        "id": "KQioYwUlQZTt"
      }
    },
    {
      "cell_type": "code",
      "source": [
        "tf_idf_vectorizer = TfidfVectorizer()\n",
        "tf_idf_rep = tf_idf_vectorizer.fit_transform(dataframe['processed_Article']).todense()\n",
        "df = pd.DataFrame(tf_idf_rep)\n",
        "df.columns = tf_idf_vectorizer.get_feature_names_out()\n",
        "df.index = dataframe['processed_Article']\n",
        "display(df)"
      ],
      "metadata": {
        "id": "0yR6CuzQQgWP",
        "colab": {
          "base_uri": "https://localhost:8080/",
          "height": 1000
        },
        "outputId": "7dec77e6-30b6-479a-c7f7-e9e617ef3ae7"
      },
      "execution_count": null,
      "outputs": [
        {
          "output_type": "display_data",
          "data": {
            "text/plain": [
              "                                                     00       000  0001  \\\n",
              "processed_Article                                                         \n",
              "tv future hand viewer home theatre system plasm...  0.0  0.019421   0.0   \n",
              "worldcom boss leave book worldcom boss bernie e...  0.0  0.024302   0.0   \n",
              "tiger wary farrell gamble leicester rush make b...  0.0  0.000000   0.0   \n",
              "yeade face newcastle fa cup premiership newcast...  0.0  0.000000   0.0   \n",
              "ocean s raid box office ocean s crime caper seq...  0.0  0.000000   0.0   \n",
              "...                                                 ...       ...   ...   \n",
              "car pull retail figure retail sale fall 0 3 jan...  0.0  0.000000   0.0   \n",
              "kilroy unveils immigration policy ex chatshow h...  0.0  0.084371   0.0   \n",
              "rem announce new glasgow concert band rem annou...  0.0  0.026081   0.0   \n",
              "political squabble snowball s commonplace argue...  0.0  0.016557   0.0   \n",
              "souness delight euro progress boss graeme soune...  0.0  0.000000   0.0   \n",
              "\n",
              "                                                    000bn  000th  001  001and  \\\n",
              "processed_Article                                                               \n",
              "tv future hand viewer home theatre system plasm...    0.0    0.0  0.0     0.0   \n",
              "worldcom boss leave book worldcom boss bernie e...    0.0    0.0  0.0     0.0   \n",
              "tiger wary farrell gamble leicester rush make b...    0.0    0.0  0.0     0.0   \n",
              "yeade face newcastle fa cup premiership newcast...    0.0    0.0  0.0     0.0   \n",
              "ocean s raid box office ocean s crime caper seq...    0.0    0.0  0.0     0.0   \n",
              "...                                                   ...    ...  ...     ...   \n",
              "car pull retail figure retail sale fall 0 3 jan...    0.0    0.0  0.0     0.0   \n",
              "kilroy unveils immigration policy ex chatshow h...    0.0    0.0  0.0     0.0   \n",
              "rem announce new glasgow concert band rem annou...    0.0    0.0  0.0     0.0   \n",
              "political squabble snowball s commonplace argue...    0.0    0.0  0.0     0.0   \n",
              "souness delight euro progress boss graeme soune...    0.0    0.0  0.0     0.0   \n",
              "\n",
              "                                                    001st  004  0051  ...  \\\n",
              "processed_Article                                                     ...   \n",
              "tv future hand viewer home theatre system plasm...    0.0  0.0   0.0  ...   \n",
              "worldcom boss leave book worldcom boss bernie e...    0.0  0.0   0.0  ...   \n",
              "tiger wary farrell gamble leicester rush make b...    0.0  0.0   0.0  ...   \n",
              "yeade face newcastle fa cup premiership newcast...    0.0  0.0   0.0  ...   \n",
              "ocean s raid box office ocean s crime caper seq...    0.0  0.0   0.0  ...   \n",
              "...                                                   ...  ...   ...  ...   \n",
              "car pull retail figure retail sale fall 0 3 jan...    0.0  0.0   0.0  ...   \n",
              "kilroy unveils immigration policy ex chatshow h...    0.0  0.0   0.0  ...   \n",
              "rem announce new glasgow concert band rem annou...    0.0  0.0   0.0  ...   \n",
              "political squabble snowball s commonplace argue...    0.0  0.0   0.0  ...   \n",
              "souness delight euro progress boss graeme soune...    0.0  0.0   0.0  ...   \n",
              "\n",
              "                                                    zoom  zooropa  zornotza  \\\n",
              "processed_Article                                                             \n",
              "tv future hand viewer home theatre system plasm...   0.0      0.0       0.0   \n",
              "worldcom boss leave book worldcom boss bernie e...   0.0      0.0       0.0   \n",
              "tiger wary farrell gamble leicester rush make b...   0.0      0.0       0.0   \n",
              "yeade face newcastle fa cup premiership newcast...   0.0      0.0       0.0   \n",
              "ocean s raid box office ocean s crime caper seq...   0.0      0.0       0.0   \n",
              "...                                                  ...      ...       ...   \n",
              "car pull retail figure retail sale fall 0 3 jan...   0.0      0.0       0.0   \n",
              "kilroy unveils immigration policy ex chatshow h...   0.0      0.0       0.0   \n",
              "rem announce new glasgow concert band rem annou...   0.0      0.0       0.0   \n",
              "political squabble snowball s commonplace argue...   0.0      0.0       0.0   \n",
              "souness delight euro progress boss graeme soune...   0.0      0.0       0.0   \n",
              "\n",
              "                                                    zorro  zubair  zuluaga  \\\n",
              "processed_Article                                                            \n",
              "tv future hand viewer home theatre system plasm...    0.0     0.0      0.0   \n",
              "worldcom boss leave book worldcom boss bernie e...    0.0     0.0      0.0   \n",
              "tiger wary farrell gamble leicester rush make b...    0.0     0.0      0.0   \n",
              "yeade face newcastle fa cup premiership newcast...    0.0     0.0      0.0   \n",
              "ocean s raid box office ocean s crime caper seq...    0.0     0.0      0.0   \n",
              "...                                                   ...     ...      ...   \n",
              "car pull retail figure retail sale fall 0 3 jan...    0.0     0.0      0.0   \n",
              "kilroy unveils immigration policy ex chatshow h...    0.0     0.0      0.0   \n",
              "rem announce new glasgow concert band rem annou...    0.0     0.0      0.0   \n",
              "political squabble snowball s commonplace argue...    0.0     0.0      0.0   \n",
              "souness delight euro progress boss graeme soune...    0.0     0.0      0.0   \n",
              "\n",
              "                                                    zurich  zuton  zvonareva  \\\n",
              "processed_Article                                                              \n",
              "tv future hand viewer home theatre system plasm...     0.0    0.0        0.0   \n",
              "worldcom boss leave book worldcom boss bernie e...     0.0    0.0        0.0   \n",
              "tiger wary farrell gamble leicester rush make b...     0.0    0.0        0.0   \n",
              "yeade face newcastle fa cup premiership newcast...     0.0    0.0        0.0   \n",
              "ocean s raid box office ocean s crime caper seq...     0.0    0.0        0.0   \n",
              "...                                                    ...    ...        ...   \n",
              "car pull retail figure retail sale fall 0 3 jan...     0.0    0.0        0.0   \n",
              "kilroy unveils immigration policy ex chatshow h...     0.0    0.0        0.0   \n",
              "rem announce new glasgow concert band rem annou...     0.0    0.0        0.0   \n",
              "political squabble snowball s commonplace argue...     0.0    0.0        0.0   \n",
              "souness delight euro progress boss graeme soune...     0.0    0.0        0.0   \n",
              "\n",
              "                                                    zvyagintsev  \n",
              "processed_Article                                                \n",
              "tv future hand viewer home theatre system plasm...          0.0  \n",
              "worldcom boss leave book worldcom boss bernie e...          0.0  \n",
              "tiger wary farrell gamble leicester rush make b...          0.0  \n",
              "yeade face newcastle fa cup premiership newcast...          0.0  \n",
              "ocean s raid box office ocean s crime caper seq...          0.0  \n",
              "...                                                         ...  \n",
              "car pull retail figure retail sale fall 0 3 jan...          0.0  \n",
              "kilroy unveils immigration policy ex chatshow h...          0.0  \n",
              "rem announce new glasgow concert band rem annou...          0.0  \n",
              "political squabble snowball s commonplace argue...          0.0  \n",
              "souness delight euro progress boss graeme soune...          0.0  \n",
              "\n",
              "[2225 rows x 23283 columns]"
            ],
            "text/html": [
              "\n",
              "  <div id=\"df-f9735b06-b0cb-4638-9c6a-f1d3e32bb5d7\">\n",
              "    <div class=\"colab-df-container\">\n",
              "      <div>\n",
              "<style scoped>\n",
              "    .dataframe tbody tr th:only-of-type {\n",
              "        vertical-align: middle;\n",
              "    }\n",
              "\n",
              "    .dataframe tbody tr th {\n",
              "        vertical-align: top;\n",
              "    }\n",
              "\n",
              "    .dataframe thead th {\n",
              "        text-align: right;\n",
              "    }\n",
              "</style>\n",
              "<table border=\"1\" class=\"dataframe\">\n",
              "  <thead>\n",
              "    <tr style=\"text-align: right;\">\n",
              "      <th></th>\n",
              "      <th>00</th>\n",
              "      <th>000</th>\n",
              "      <th>0001</th>\n",
              "      <th>000bn</th>\n",
              "      <th>000th</th>\n",
              "      <th>001</th>\n",
              "      <th>001and</th>\n",
              "      <th>001st</th>\n",
              "      <th>004</th>\n",
              "      <th>0051</th>\n",
              "      <th>...</th>\n",
              "      <th>zoom</th>\n",
              "      <th>zooropa</th>\n",
              "      <th>zornotza</th>\n",
              "      <th>zorro</th>\n",
              "      <th>zubair</th>\n",
              "      <th>zuluaga</th>\n",
              "      <th>zurich</th>\n",
              "      <th>zuton</th>\n",
              "      <th>zvonareva</th>\n",
              "      <th>zvyagintsev</th>\n",
              "    </tr>\n",
              "    <tr>\n",
              "      <th>processed_Article</th>\n",
              "      <th></th>\n",
              "      <th></th>\n",
              "      <th></th>\n",
              "      <th></th>\n",
              "      <th></th>\n",
              "      <th></th>\n",
              "      <th></th>\n",
              "      <th></th>\n",
              "      <th></th>\n",
              "      <th></th>\n",
              "      <th></th>\n",
              "      <th></th>\n",
              "      <th></th>\n",
              "      <th></th>\n",
              "      <th></th>\n",
              "      <th></th>\n",
              "      <th></th>\n",
              "      <th></th>\n",
              "      <th></th>\n",
              "      <th></th>\n",
              "      <th></th>\n",
              "    </tr>\n",
              "  </thead>\n",
              "  <tbody>\n",
              "    <tr>\n",
              "      <th>tv future hand viewer home theatre system plasma high definition tv digital video recorder move living room way people watch tv radically different year time accord expert panel gather annual consumer electronic las vegas discuss new technology impact favourite pastime lead trend programme content deliver viewer home network cable satellite telecom company broadband service provider room portable device talk technology ce digital personal video recorder dvr pvr set box like s tivo uk s sky system allow people record store play pause forward wind tv programme want essentially technology allow personalised tv build high definition tv set big business japan slow europe lack high definition programming people forward wind advert forget abide network channel schedule put la carte entertainment network cable satellite company worried mean term advertising revenue brand identity view loyalty channel lead technology moment concern raise europe particularly grow uptake service like sky happen today month year time uk adam hume bbc broadcast s futurologist tell bbc news website like bbc issue lose advertising revenue pressing issue moment commercial uk broadcaster brand loyalty important talk content brand network brand say tim hanlon brand communication firm starcom mediavest reality broadband connection anybody producer content add challenge hard promote programme choice mean say stacey jolna senior vice president tv guide tv group way people find content want watch simplify tv viewer mean network term channel leaf google s book search engine future instead scheduler help people find want watch kind channel model work young ipod generation take control gadget play suit panel recognise old generation comfortable familiar schedule channel brand know get want choice hand mr hanlon suggest end kid diaper push button possible available say mr hanlon ultimately consumer tell market want 50 000 new gadget technology showcase ce enhance tv watch experience high definition tv set new model lcd liquid crystal display tv launch dvr capability build instead external box example launch humax s 26 inch lcd tv 80 hour tivo dvr dvd recorder s big satellite tv company directtv launch brand dvr 100 hour recording capability instant replay search function set pause rewind tv 90 hour microsoft chief bill gate announce pre keynote speech partnership tivo call tivotogo mean people play record programme windows pc mobile device reflect increase trend free multimedia people watch want want</th>\n",
              "      <td>0.0</td>\n",
              "      <td>0.019421</td>\n",
              "      <td>0.0</td>\n",
              "      <td>0.0</td>\n",
              "      <td>0.0</td>\n",
              "      <td>0.0</td>\n",
              "      <td>0.0</td>\n",
              "      <td>0.0</td>\n",
              "      <td>0.0</td>\n",
              "      <td>0.0</td>\n",
              "      <td>...</td>\n",
              "      <td>0.0</td>\n",
              "      <td>0.0</td>\n",
              "      <td>0.0</td>\n",
              "      <td>0.0</td>\n",
              "      <td>0.0</td>\n",
              "      <td>0.0</td>\n",
              "      <td>0.0</td>\n",
              "      <td>0.0</td>\n",
              "      <td>0.0</td>\n",
              "      <td>0.0</td>\n",
              "    </tr>\n",
              "    <tr>\n",
              "      <th>worldcom boss leave book worldcom boss bernie ebbers accuse oversee 11bn £ 5 8bn fraud accounting decision witness tell juror david myers comment question defence lawyer argue mr ebber responsible worldcom s problem phone company collapse 2002 prosecutor claim loss hide protect firm s share mr myers plead guilty fraud assist prosecutor monday defence lawyer reid weingarten try distance client allegation cross examination ask mr myers know mr ebber accounting decision aware mr myers reply know mr ebber accounting entry worldcom book mr weingarten press reply witness mr myers admit order false accounting entry request worldcom chief financial officer scott sullivan defence lawyer try paint mr sullivan admit fraud testify later trial mastermind worldcom s accounting house card mr ebber team look portray affable boss admission pe graduate economist ability mr ebber transform worldcom relative unknown 160bn telecom giant investor darling late 1990 worldcom s problem mount competition increase telecom boom petere firm finally collapse shareholder lose 180bn 20 000 worker lose job mr ebber trial expect month find guilty ceo face substantial jail sentence firmly declare innocence</th>\n",
              "      <td>0.0</td>\n",
              "      <td>0.024302</td>\n",
              "      <td>0.0</td>\n",
              "      <td>0.0</td>\n",
              "      <td>0.0</td>\n",
              "      <td>0.0</td>\n",
              "      <td>0.0</td>\n",
              "      <td>0.0</td>\n",
              "      <td>0.0</td>\n",
              "      <td>0.0</td>\n",
              "      <td>...</td>\n",
              "      <td>0.0</td>\n",
              "      <td>0.0</td>\n",
              "      <td>0.0</td>\n",
              "      <td>0.0</td>\n",
              "      <td>0.0</td>\n",
              "      <td>0.0</td>\n",
              "      <td>0.0</td>\n",
              "      <td>0.0</td>\n",
              "      <td>0.0</td>\n",
              "      <td>0.0</td>\n",
              "    </tr>\n",
              "    <tr>\n",
              "      <th>tiger wary farrell gamble leicester rush make bid andy farrell great britain rugby league captain decide switch code anybody involve process way away go stage tiger boss john wells tell bbc radio leicester moment lot unknown andy farrell medical situation go big big gamble farrell persistent knee problem operation knee week ago expect month leicester saracen believe head list rugby union club interest sign farrell decide 15 man game union well believe better play back initially m sure step league union involve centre say well think england prefer progress position row use rugby league skill forward jury cross divide club balance strike cost gamble option bring ready replacement</th>\n",
              "      <td>0.0</td>\n",
              "      <td>0.000000</td>\n",
              "      <td>0.0</td>\n",
              "      <td>0.0</td>\n",
              "      <td>0.0</td>\n",
              "      <td>0.0</td>\n",
              "      <td>0.0</td>\n",
              "      <td>0.0</td>\n",
              "      <td>0.0</td>\n",
              "      <td>0.0</td>\n",
              "      <td>...</td>\n",
              "      <td>0.0</td>\n",
              "      <td>0.0</td>\n",
              "      <td>0.0</td>\n",
              "      <td>0.0</td>\n",
              "      <td>0.0</td>\n",
              "      <td>0.0</td>\n",
              "      <td>0.0</td>\n",
              "      <td>0.0</td>\n",
              "      <td>0.0</td>\n",
              "      <td>0.0</td>\n",
              "    </tr>\n",
              "    <tr>\n",
              "      <th>yeade face newcastle fa cup premiership newcastle united face trip ryman premier league leader yeade fa cup round game arguably highlight draw potential money spinner non league yeading beat slough second round conference exeter city knock doncaster saturday travel old trafford meet holder manchester united january arsenal draw home stoke chelsea play host scunthorpe non league draw hinckley united hold brentford goalless draw sunday meet league leader luton win replay martin allen s team griffin park number premiership team face difficult away game championship side weekend 8 9 january place everton visit plymouth liverpool travel burnley crystal palace sunderland fulham face carle cup semi finalists watford bolton meet ipswich aston villa draw sheffield united premiership struggler norwich blackburn west brom away west ham cardiff preston north end respectively southampton visit northampton having beat league carling cup early season middlesbrough draw away swindon notts county spur entertain brighton white hart lane arsenal v stoke swindon notts co v middlesbrough man utd v exeter plymouth v everton leicester v blackpool derby v wigan sunderland v crystal palace wolve v millwall yeade v newcastle hull v colchester tottenham v brighton read v stockport swansea birmingham v leed hartlepool v boston milton keynes don v peterborough oldham v man city chelsea v scunthorpe cardiff v blackburn charlton v rochdale west ham v norwich sheff utd v aston villa preston v west brom rotherham v yeovil burnley v liverpool bournemouth v chester coventry v crewe watford v fulham ipswich v bolton portsmouth v gillingham northampton v southampton qpr v nottm forest luton v hinckley brentford match play weekend 8 9 january</th>\n",
              "      <td>0.0</td>\n",
              "      <td>0.000000</td>\n",
              "      <td>0.0</td>\n",
              "      <td>0.0</td>\n",
              "      <td>0.0</td>\n",
              "      <td>0.0</td>\n",
              "      <td>0.0</td>\n",
              "      <td>0.0</td>\n",
              "      <td>0.0</td>\n",
              "      <td>0.0</td>\n",
              "      <td>...</td>\n",
              "      <td>0.0</td>\n",
              "      <td>0.0</td>\n",
              "      <td>0.0</td>\n",
              "      <td>0.0</td>\n",
              "      <td>0.0</td>\n",
              "      <td>0.0</td>\n",
              "      <td>0.0</td>\n",
              "      <td>0.0</td>\n",
              "      <td>0.0</td>\n",
              "      <td>0.0</td>\n",
              "    </tr>\n",
              "    <tr>\n",
              "      <th>ocean s raid box office ocean s crime caper sequel star george clooney brad pitt julia roberts go straight number box office chart take 40 8 m £ 21 m weekend ticket sale accord studio estimate sequel follow master criminal try pull major heist europe knock week s number national treasure place wesley snipe blade trinity second take 16 1 m £ 8 4 m round animate fable polar express star tom hank festive comedy christmas krank ocean s box office triumph mark fourth big opening december release film lord ring trilogy sequel narrowly beat 2001 predecessor ocean s take 38 1 m £ 19 8 m opening weekend 184 m £ 95 8 m total remake 1960s film star frank sinatra rat pack ocean s direct oscar win director steven soderbergh soderbergh return direct hit sequel reunite clooney pitt roberts matt damon andy garcia elliott gould catherine zeta jones join star cast s fun good holiday movie say dan fellman president distribution warner bros critic complimentary 110 m £ 57 2 m project los angeles time label dispirit vanity project milder review new york times dub sequel unabashedly trivial</th>\n",
              "      <td>0.0</td>\n",
              "      <td>0.000000</td>\n",
              "      <td>0.0</td>\n",
              "      <td>0.0</td>\n",
              "      <td>0.0</td>\n",
              "      <td>0.0</td>\n",
              "      <td>0.0</td>\n",
              "      <td>0.0</td>\n",
              "      <td>0.0</td>\n",
              "      <td>0.0</td>\n",
              "      <td>...</td>\n",
              "      <td>0.0</td>\n",
              "      <td>0.0</td>\n",
              "      <td>0.0</td>\n",
              "      <td>0.0</td>\n",
              "      <td>0.0</td>\n",
              "      <td>0.0</td>\n",
              "      <td>0.0</td>\n",
              "      <td>0.0</td>\n",
              "      <td>0.0</td>\n",
              "      <td>0.0</td>\n",
              "    </tr>\n",
              "    <tr>\n",
              "      <th>...</th>\n",
              "      <td>...</td>\n",
              "      <td>...</td>\n",
              "      <td>...</td>\n",
              "      <td>...</td>\n",
              "      <td>...</td>\n",
              "      <td>...</td>\n",
              "      <td>...</td>\n",
              "      <td>...</td>\n",
              "      <td>...</td>\n",
              "      <td>...</td>\n",
              "      <td>...</td>\n",
              "      <td>...</td>\n",
              "      <td>...</td>\n",
              "      <td>...</td>\n",
              "      <td>...</td>\n",
              "      <td>...</td>\n",
              "      <td>...</td>\n",
              "      <td>...</td>\n",
              "      <td>...</td>\n",
              "      <td>...</td>\n",
              "      <td>...</td>\n",
              "    </tr>\n",
              "    <tr>\n",
              "      <th>car pull retail figure retail sale fall 0 3 january big monthly decline august drive heavy fall car sale 3 3 fall car sale expect come december s 4 rise car sale fuel generous pre christmas special offer exclude car sector retail sale 0 6 january twice analyst expect retail spending expect rise 2005 quickly 2004 steve gallagher chief economist sg corporate investment banking say january s figure decent number see number see second half 2004 pretty healthy add sale appliance electronic store 0 6 january sale hardware store drop 0 3 furniture store sale dip 0 1 sale clothing clothing accessory store jump 1 8 sale general merchandise store category include department store rise 0 9 strong gain consumer spend gift voucher give christmas sale restaurant bar coffee house rise 0 3 grocery store sale 0 5 december overall retail sale rise 1 1 exclude car sector sale rise 0 3 parul jain deputy chief economist nomura securities international say consumer spending continue rise 2005 slow rate growth 2004 consumer continue retain strength quarter say van rourke bond strategist popular security agree late retail sale figure slightly strong expect</th>\n",
              "      <td>0.0</td>\n",
              "      <td>0.000000</td>\n",
              "      <td>0.0</td>\n",
              "      <td>0.0</td>\n",
              "      <td>0.0</td>\n",
              "      <td>0.0</td>\n",
              "      <td>0.0</td>\n",
              "      <td>0.0</td>\n",
              "      <td>0.0</td>\n",
              "      <td>0.0</td>\n",
              "      <td>...</td>\n",
              "      <td>0.0</td>\n",
              "      <td>0.0</td>\n",
              "      <td>0.0</td>\n",
              "      <td>0.0</td>\n",
              "      <td>0.0</td>\n",
              "      <td>0.0</td>\n",
              "      <td>0.0</td>\n",
              "      <td>0.0</td>\n",
              "      <td>0.0</td>\n",
              "      <td>0.0</td>\n",
              "    </tr>\n",
              "    <tr>\n",
              "      <th>kilroy unveils immigration policy ex chatshow host robert kilroy silk attack uk policy immigration say britain s open door approach hit low wage indigenous worker verita leader say people benefit immigrant place like poland employer landlord member metropolitan elite mep say party admit foreigner require specific skill offer argue asylum cost £ 2bn year 14 000 successful applicant mr kilroy silk say work £ 143 000 successful asylum seeker say verita want grant amnesty britain claim asylum child deport britain fair share asylum seeker united nations convention human right argue mr kilroy silk say want spend extra £ 500 m year help provide refugee abroad</th>\n",
              "      <td>0.0</td>\n",
              "      <td>0.084371</td>\n",
              "      <td>0.0</td>\n",
              "      <td>0.0</td>\n",
              "      <td>0.0</td>\n",
              "      <td>0.0</td>\n",
              "      <td>0.0</td>\n",
              "      <td>0.0</td>\n",
              "      <td>0.0</td>\n",
              "      <td>0.0</td>\n",
              "      <td>...</td>\n",
              "      <td>0.0</td>\n",
              "      <td>0.0</td>\n",
              "      <td>0.0</td>\n",
              "      <td>0.0</td>\n",
              "      <td>0.0</td>\n",
              "      <td>0.0</td>\n",
              "      <td>0.0</td>\n",
              "      <td>0.0</td>\n",
              "      <td>0.0</td>\n",
              "      <td>0.0</td>\n",
              "    </tr>\n",
              "    <tr>\n",
              "      <th>rem announce new glasgow concert band rem announce plan perform 10 000 scottish fan rescheduled gig band play dub europe s big tent glasgow green tuesday 14 june force pull concert secc glasgow month bassist mike mills contract flu fan buy ticket original 22 february attend rescheduled concert june gig act warm rem s open air concert balloch castle country park bank loch lomond day later promoter regular music book glasgow green secc available suitable date mark mackie director regular music say fantastic news show rem s commitment scottish fan come glasgow truly unique gig rem gig kick start promise memorable summer scottish music lover grammy award winner u2 play hampden 21 june oasis perform national stadium glasgow 29 june coldplay announce concert bellahouston park glasgow 1 july t park hold balado near kinross 9 10 july ticketweb secc box office write customer buy ticket february gig ask want attend new buy ticket person urge return point purchase concert give refund cut date swap ticket 1 april remain sale public</th>\n",
              "      <td>0.0</td>\n",
              "      <td>0.026081</td>\n",
              "      <td>0.0</td>\n",
              "      <td>0.0</td>\n",
              "      <td>0.0</td>\n",
              "      <td>0.0</td>\n",
              "      <td>0.0</td>\n",
              "      <td>0.0</td>\n",
              "      <td>0.0</td>\n",
              "      <td>0.0</td>\n",
              "      <td>...</td>\n",
              "      <td>0.0</td>\n",
              "      <td>0.0</td>\n",
              "      <td>0.0</td>\n",
              "      <td>0.0</td>\n",
              "      <td>0.0</td>\n",
              "      <td>0.0</td>\n",
              "      <td>0.0</td>\n",
              "      <td>0.0</td>\n",
              "      <td>0.0</td>\n",
              "      <td>0.0</td>\n",
              "    </tr>\n",
              "    <tr>\n",
              "      <th>political squabble snowball s commonplace argue blair brown like squabbling school kid supporter need grow stop bicker analysis fact get wrong s child fight adult solid reason trivial argument mature protagonist hard stop got go key feature endless feud agree d well end want word participant genuinely want row stop think worth prolong argument tiny bit ensure view hear successive attempt end argument word ensure argument go case mr blair mr brown successive book publish ensure issue die isn t participant stupid s actually individual behave entirely rationally give incentive face s piece economic theory explain obscure post neo classical endogenous growth theory chancellor quote ubiquitous piece game theory respectable policy wonk familiar s refer prisoner s dilemma base parable tell economics degree course sheriff prisoner story go prisoner jointly charge heinous crime lock separate cell sheriff desperately need confession provide evidence convict crime confession prisoner minimal sentence trump charge clearly prisoner good strategy mouth shut short sentence clever sheriff idea induce talk tell prisoner separately confess confess ll let crime tell don t confess confess ll life prisoner confront choice good bet confess partner doesn t confess ll completely partner confess d well confess ensure don t life result course prisoner confess sheriff let prisoner individual logic behave way well agree shut don t worry don t entirely follow look google 283 000 entry prisoner dilemma ramification truly capture economist couple decade parable describe situation obvious sensible choice take collectively rational choice individually behave selfishly cold war arm race example classic case russia america well arm lot arm long want arm arm race ensue result individually logical decision buy arm result arm level high economic tell prisoner dilemma repeat experience time s hard escape perverse logic s good exhort people stop buy arm stop argue incentive encourage carry incentive change case labour party believe rift blair brown camp bad report suggest solomon s wisdom need deploy solve problem parent know ingenious solution argument solution affect incentive participant example famous rule divide choose way allocate piece cake slice greedy child case apparently endless argument want come end ensure person word lose win row cost prolong row briefing book matter exceed benefit have word get point rest party enforce ll protagonist retreat pretty quickly</th>\n",
              "      <td>0.0</td>\n",
              "      <td>0.016557</td>\n",
              "      <td>0.0</td>\n",
              "      <td>0.0</td>\n",
              "      <td>0.0</td>\n",
              "      <td>0.0</td>\n",
              "      <td>0.0</td>\n",
              "      <td>0.0</td>\n",
              "      <td>0.0</td>\n",
              "      <td>0.0</td>\n",
              "      <td>...</td>\n",
              "      <td>0.0</td>\n",
              "      <td>0.0</td>\n",
              "      <td>0.0</td>\n",
              "      <td>0.0</td>\n",
              "      <td>0.0</td>\n",
              "      <td>0.0</td>\n",
              "      <td>0.0</td>\n",
              "      <td>0.0</td>\n",
              "      <td>0.0</td>\n",
              "      <td>0.0</td>\n",
              "    </tr>\n",
              "    <tr>\n",
              "      <th>souness delight euro progress boss graeme souness feel newcastle danger go uefa cup heerenveen early goal follow alan shearer strike earn 2 1 win place uefa cup 16 obviously win leg give great advantage say 4 2 aggregate victory get goal early mind player job get goal bit nervous shearer s goal move 12 jackie milburn s club scoring record 200 magpie souness say think beat record bearing decision retire end season think get year want stay year add strike ball think power pace beat goalkeeper souness pay tribute laurent robert heart united s attack play half want wide player future say</th>\n",
              "      <td>0.0</td>\n",
              "      <td>0.000000</td>\n",
              "      <td>0.0</td>\n",
              "      <td>0.0</td>\n",
              "      <td>0.0</td>\n",
              "      <td>0.0</td>\n",
              "      <td>0.0</td>\n",
              "      <td>0.0</td>\n",
              "      <td>0.0</td>\n",
              "      <td>0.0</td>\n",
              "      <td>...</td>\n",
              "      <td>0.0</td>\n",
              "      <td>0.0</td>\n",
              "      <td>0.0</td>\n",
              "      <td>0.0</td>\n",
              "      <td>0.0</td>\n",
              "      <td>0.0</td>\n",
              "      <td>0.0</td>\n",
              "      <td>0.0</td>\n",
              "      <td>0.0</td>\n",
              "      <td>0.0</td>\n",
              "    </tr>\n",
              "  </tbody>\n",
              "</table>\n",
              "<p>2225 rows × 23283 columns</p>\n",
              "</div>\n",
              "      <button class=\"colab-df-convert\" onclick=\"convertToInteractive('df-f9735b06-b0cb-4638-9c6a-f1d3e32bb5d7')\"\n",
              "              title=\"Convert this dataframe to an interactive table.\"\n",
              "              style=\"display:none;\">\n",
              "        \n",
              "  <svg xmlns=\"http://www.w3.org/2000/svg\" height=\"24px\"viewBox=\"0 0 24 24\"\n",
              "       width=\"24px\">\n",
              "    <path d=\"M0 0h24v24H0V0z\" fill=\"none\"/>\n",
              "    <path d=\"M18.56 5.44l.94 2.06.94-2.06 2.06-.94-2.06-.94-.94-2.06-.94 2.06-2.06.94zm-11 1L8.5 8.5l.94-2.06 2.06-.94-2.06-.94L8.5 2.5l-.94 2.06-2.06.94zm10 10l.94 2.06.94-2.06 2.06-.94-2.06-.94-.94-2.06-.94 2.06-2.06.94z\"/><path d=\"M17.41 7.96l-1.37-1.37c-.4-.4-.92-.59-1.43-.59-.52 0-1.04.2-1.43.59L10.3 9.45l-7.72 7.72c-.78.78-.78 2.05 0 2.83L4 21.41c.39.39.9.59 1.41.59.51 0 1.02-.2 1.41-.59l7.78-7.78 2.81-2.81c.8-.78.8-2.07 0-2.86zM5.41 20L4 18.59l7.72-7.72 1.47 1.35L5.41 20z\"/>\n",
              "  </svg>\n",
              "      </button>\n",
              "      \n",
              "  <style>\n",
              "    .colab-df-container {\n",
              "      display:flex;\n",
              "      flex-wrap:wrap;\n",
              "      gap: 12px;\n",
              "    }\n",
              "\n",
              "    .colab-df-convert {\n",
              "      background-color: #E8F0FE;\n",
              "      border: none;\n",
              "      border-radius: 50%;\n",
              "      cursor: pointer;\n",
              "      display: none;\n",
              "      fill: #1967D2;\n",
              "      height: 32px;\n",
              "      padding: 0 0 0 0;\n",
              "      width: 32px;\n",
              "    }\n",
              "\n",
              "    .colab-df-convert:hover {\n",
              "      background-color: #E2EBFA;\n",
              "      box-shadow: 0px 1px 2px rgba(60, 64, 67, 0.3), 0px 1px 3px 1px rgba(60, 64, 67, 0.15);\n",
              "      fill: #174EA6;\n",
              "    }\n",
              "\n",
              "    [theme=dark] .colab-df-convert {\n",
              "      background-color: #3B4455;\n",
              "      fill: #D2E3FC;\n",
              "    }\n",
              "\n",
              "    [theme=dark] .colab-df-convert:hover {\n",
              "      background-color: #434B5C;\n",
              "      box-shadow: 0px 1px 3px 1px rgba(0, 0, 0, 0.15);\n",
              "      filter: drop-shadow(0px 1px 2px rgba(0, 0, 0, 0.3));\n",
              "      fill: #FFFFFF;\n",
              "    }\n",
              "  </style>\n",
              "\n",
              "      <script>\n",
              "        const buttonEl =\n",
              "          document.querySelector('#df-f9735b06-b0cb-4638-9c6a-f1d3e32bb5d7 button.colab-df-convert');\n",
              "        buttonEl.style.display =\n",
              "          google.colab.kernel.accessAllowed ? 'block' : 'none';\n",
              "\n",
              "        async function convertToInteractive(key) {\n",
              "          const element = document.querySelector('#df-f9735b06-b0cb-4638-9c6a-f1d3e32bb5d7');\n",
              "          const dataTable =\n",
              "            await google.colab.kernel.invokeFunction('convertToInteractive',\n",
              "                                                     [key], {});\n",
              "          if (!dataTable) return;\n",
              "\n",
              "          const docLinkHtml = 'Like what you see? Visit the ' +\n",
              "            '<a target=\"_blank\" href=https://colab.research.google.com/notebooks/data_table.ipynb>data table notebook</a>'\n",
              "            + ' to learn more about interactive tables.';\n",
              "          element.innerHTML = '';\n",
              "          dataTable['output_type'] = 'display_data';\n",
              "          await google.colab.output.renderOutput(dataTable, element);\n",
              "          const docLink = document.createElement('div');\n",
              "          docLink.innerHTML = docLinkHtml;\n",
              "          element.appendChild(docLink);\n",
              "        }\n",
              "      </script>\n",
              "    </div>\n",
              "  </div>\n",
              "  "
            ]
          },
          "metadata": {}
        }
      ]
    },
    {
      "cell_type": "code",
      "source": [
        "dataframe['Article'].iloc[20]"
      ],
      "metadata": {
        "colab": {
          "base_uri": "https://localhost:8080/",
          "height": 140
        },
        "id": "PmjFU6ZM1NoO",
        "outputId": "21d080aa-1621-469d-f545-c8d2b8d68e8b"
      },
      "execution_count": null,
      "outputs": [
        {
          "output_type": "execute_result",
          "data": {
            "text/plain": [
              "'security warning over  fbi virus  the us federal bureau of investigation is warning that a computer virus is being spread via e-mails that purport to be from the fbi.  the e-mails show that they have come from an fbi.gov address and tell recipients that they have accessed illegal websites. the messages warn that their internet use has been monitored by the fbi s internet fraud complaint center. an attachment in the e-mail contains the virus  the fbi said. the message asks recipients to click on the attachment and answer some questions about their internet use. but rather than being a questionnaire  the attachment contains a virus that infects the recipient s computer  according to the agency. it is not clear what the virus does once it has infected a computer. users are warned never to open attachment from unsolicited e-mails or from people they do not know.   recipients of this or similar solicitations should know that the fbi does not engage in the practice of sending unsolicited e-mails to the public in this manner   the fbi said in a statement. the bureau is investigating the phoney e-mails. the agency earlier this month shut down fbi.gov accounts  used to communicate with the public  because of a security breach. a spokeswoman said the two incidents appear to be unrelated.'"
            ],
            "application/vnd.google.colaboratory.intrinsic+json": {
              "type": "string"
            }
          },
          "metadata": {},
          "execution_count": 33
        }
      ]
    },
    {
      "cell_type": "code",
      "source": [
        "dataframe['processed_Article'].iloc[20]"
      ],
      "metadata": {
        "colab": {
          "base_uri": "https://localhost:8080/",
          "height": 122
        },
        "id": "E0zDZ4Ao1Klf",
        "outputId": "80823e3b-b2b6-4ad7-9664-17af55552fb5"
      },
      "execution_count": null,
      "outputs": [
        {
          "output_type": "execute_result",
          "data": {
            "text/plain": [
              "'security warn fbi virus federal bureau investigation warn computer virus spread e mail purport fbi e mail come fbi gov address tell recipient access illegal website message warn internet use monitor fbi s internet fraud complaint center attachment e mail contain virus fbi say message ask recipient click attachment answer question internet use questionnaire attachment contain virus infect recipient s computer accord agency clear virus infect computer user warn open attachment unsolicited e mail people know recipient similar solicitation know fbi engage practice send unsolicited e mail public manner fbi say statement bureau investigate phoney e mail agency early month shut fbi gov account communicate public security breach spokeswoman say incident appear unrelated '"
            ],
            "application/vnd.google.colaboratory.intrinsic+json": {
              "type": "string"
            }
          },
          "metadata": {},
          "execution_count": 32
        }
      ]
    },
    {
      "cell_type": "markdown",
      "source": [
        "### 5.2.4 Train-test split\n"
      ],
      "metadata": {
        "id": "DC-H7qgNJuos"
      }
    },
    {
      "cell_type": "code",
      "source": [
        "df = dataframe[[\"processed_Article\",\"Target_category\"]]\n",
        "X = df.processed_Article\n",
        "y = df.Target_category\n",
        "X_train, X_test, y_train, y_test = train_test_split(X, y, test_size=0.25, random_state = 42)"
      ],
      "metadata": {
        "id": "HsHuslMdJ8aq"
      },
      "execution_count": null,
      "outputs": []
    },
    {
      "cell_type": "code",
      "source": [
        "X_train.shape"
      ],
      "metadata": {
        "colab": {
          "base_uri": "https://localhost:8080/"
        },
        "id": "Lfp8SgFSUh7o",
        "outputId": "ef2fc36a-42b0-43de-ed12-d3aa6589857a"
      },
      "execution_count": null,
      "outputs": [
        {
          "output_type": "execute_result",
          "data": {
            "text/plain": [
              "(1668,)"
            ]
          },
          "metadata": {},
          "execution_count": 21
        }
      ]
    },
    {
      "cell_type": "code",
      "source": [
        "X_test.shape"
      ],
      "metadata": {
        "colab": {
          "base_uri": "https://localhost:8080/"
        },
        "id": "I-FfTvnbUlmR",
        "outputId": "a945a862-c007-4081-9c49-75437ba8d313"
      },
      "execution_count": null,
      "outputs": [
        {
          "output_type": "execute_result",
          "data": {
            "text/plain": [
              "(557,)"
            ]
          },
          "metadata": {},
          "execution_count": 22
        }
      ]
    },
    {
      "cell_type": "markdown",
      "source": [
        "# 6. Model Training & Evaluation\n"
      ],
      "metadata": {
        "id": "QB7EJY0uKINc"
      }
    },
    {
      "cell_type": "markdown",
      "source": [
        "## 6.1. Simple Approach"
      ],
      "metadata": {
        "id": "HHz5kwO5OGMq"
      }
    },
    {
      "cell_type": "markdown",
      "source": [
        "### 6.1.1 Naive Bayes Model"
      ],
      "metadata": {
        "id": "8CoWnbofKXRr"
      }
    },
    {
      "cell_type": "code",
      "source": [
        "nb = Pipeline([('vect', CountVectorizer()),\n",
        "               ('tfidf', TfidfTransformer()),\n",
        "               ('clf', MultinomialNB()),\n",
        "              ])\n",
        "nb.fit(X_train, y_train)"
      ],
      "metadata": {
        "id": "f9uaN2JHOKOH",
        "colab": {
          "base_uri": "https://localhost:8080/",
          "height": 159
        },
        "outputId": "af564afe-892e-4f73-d4aa-04192534b9e0"
      },
      "execution_count": null,
      "outputs": [
        {
          "output_type": "execute_result",
          "data": {
            "text/plain": [
              "Pipeline(steps=[('vect', CountVectorizer()), ('tfidf', TfidfTransformer()),\n",
              "                ('clf', MultinomialNB())])"
            ],
            "text/html": [
              "<style>#sk-container-id-1 {color: black;background-color: white;}#sk-container-id-1 pre{padding: 0;}#sk-container-id-1 div.sk-toggleable {background-color: white;}#sk-container-id-1 label.sk-toggleable__label {cursor: pointer;display: block;width: 100%;margin-bottom: 0;padding: 0.3em;box-sizing: border-box;text-align: center;}#sk-container-id-1 label.sk-toggleable__label-arrow:before {content: \"▸\";float: left;margin-right: 0.25em;color: #696969;}#sk-container-id-1 label.sk-toggleable__label-arrow:hover:before {color: black;}#sk-container-id-1 div.sk-estimator:hover label.sk-toggleable__label-arrow:before {color: black;}#sk-container-id-1 div.sk-toggleable__content {max-height: 0;max-width: 0;overflow: hidden;text-align: left;background-color: #f0f8ff;}#sk-container-id-1 div.sk-toggleable__content pre {margin: 0.2em;color: black;border-radius: 0.25em;background-color: #f0f8ff;}#sk-container-id-1 input.sk-toggleable__control:checked~div.sk-toggleable__content {max-height: 200px;max-width: 100%;overflow: auto;}#sk-container-id-1 input.sk-toggleable__control:checked~label.sk-toggleable__label-arrow:before {content: \"▾\";}#sk-container-id-1 div.sk-estimator input.sk-toggleable__control:checked~label.sk-toggleable__label {background-color: #d4ebff;}#sk-container-id-1 div.sk-label input.sk-toggleable__control:checked~label.sk-toggleable__label {background-color: #d4ebff;}#sk-container-id-1 input.sk-hidden--visually {border: 0;clip: rect(1px 1px 1px 1px);clip: rect(1px, 1px, 1px, 1px);height: 1px;margin: -1px;overflow: hidden;padding: 0;position: absolute;width: 1px;}#sk-container-id-1 div.sk-estimator {font-family: monospace;background-color: #f0f8ff;border: 1px dotted black;border-radius: 0.25em;box-sizing: border-box;margin-bottom: 0.5em;}#sk-container-id-1 div.sk-estimator:hover {background-color: #d4ebff;}#sk-container-id-1 div.sk-parallel-item::after {content: \"\";width: 100%;border-bottom: 1px solid gray;flex-grow: 1;}#sk-container-id-1 div.sk-label:hover label.sk-toggleable__label {background-color: #d4ebff;}#sk-container-id-1 div.sk-serial::before {content: \"\";position: absolute;border-left: 1px solid gray;box-sizing: border-box;top: 0;bottom: 0;left: 50%;z-index: 0;}#sk-container-id-1 div.sk-serial {display: flex;flex-direction: column;align-items: center;background-color: white;padding-right: 0.2em;padding-left: 0.2em;position: relative;}#sk-container-id-1 div.sk-item {position: relative;z-index: 1;}#sk-container-id-1 div.sk-parallel {display: flex;align-items: stretch;justify-content: center;background-color: white;position: relative;}#sk-container-id-1 div.sk-item::before, #sk-container-id-1 div.sk-parallel-item::before {content: \"\";position: absolute;border-left: 1px solid gray;box-sizing: border-box;top: 0;bottom: 0;left: 50%;z-index: -1;}#sk-container-id-1 div.sk-parallel-item {display: flex;flex-direction: column;z-index: 1;position: relative;background-color: white;}#sk-container-id-1 div.sk-parallel-item:first-child::after {align-self: flex-end;width: 50%;}#sk-container-id-1 div.sk-parallel-item:last-child::after {align-self: flex-start;width: 50%;}#sk-container-id-1 div.sk-parallel-item:only-child::after {width: 0;}#sk-container-id-1 div.sk-dashed-wrapped {border: 1px dashed gray;margin: 0 0.4em 0.5em 0.4em;box-sizing: border-box;padding-bottom: 0.4em;background-color: white;}#sk-container-id-1 div.sk-label label {font-family: monospace;font-weight: bold;display: inline-block;line-height: 1.2em;}#sk-container-id-1 div.sk-label-container {text-align: center;}#sk-container-id-1 div.sk-container {/* jupyter's `normalize.less` sets `[hidden] { display: none; }` but bootstrap.min.css set `[hidden] { display: none !important; }` so we also need the `!important` here to be able to override the default hidden behavior on the sphinx rendered scikit-learn.org. See: https://github.com/scikit-learn/scikit-learn/issues/21755 */display: inline-block !important;position: relative;}#sk-container-id-1 div.sk-text-repr-fallback {display: none;}</style><div id=\"sk-container-id-1\" class=\"sk-top-container\"><div class=\"sk-text-repr-fallback\"><pre>Pipeline(steps=[(&#x27;vect&#x27;, CountVectorizer()), (&#x27;tfidf&#x27;, TfidfTransformer()),\n",
              "                (&#x27;clf&#x27;, MultinomialNB())])</pre><b>In a Jupyter environment, please rerun this cell to show the HTML representation or trust the notebook. <br />On GitHub, the HTML representation is unable to render, please try loading this page with nbviewer.org.</b></div><div class=\"sk-container\" hidden><div class=\"sk-item sk-dashed-wrapped\"><div class=\"sk-label-container\"><div class=\"sk-label sk-toggleable\"><input class=\"sk-toggleable__control sk-hidden--visually\" id=\"sk-estimator-id-1\" type=\"checkbox\" ><label for=\"sk-estimator-id-1\" class=\"sk-toggleable__label sk-toggleable__label-arrow\">Pipeline</label><div class=\"sk-toggleable__content\"><pre>Pipeline(steps=[(&#x27;vect&#x27;, CountVectorizer()), (&#x27;tfidf&#x27;, TfidfTransformer()),\n",
              "                (&#x27;clf&#x27;, MultinomialNB())])</pre></div></div></div><div class=\"sk-serial\"><div class=\"sk-item\"><div class=\"sk-estimator sk-toggleable\"><input class=\"sk-toggleable__control sk-hidden--visually\" id=\"sk-estimator-id-2\" type=\"checkbox\" ><label for=\"sk-estimator-id-2\" class=\"sk-toggleable__label sk-toggleable__label-arrow\">CountVectorizer</label><div class=\"sk-toggleable__content\"><pre>CountVectorizer()</pre></div></div></div><div class=\"sk-item\"><div class=\"sk-estimator sk-toggleable\"><input class=\"sk-toggleable__control sk-hidden--visually\" id=\"sk-estimator-id-3\" type=\"checkbox\" ><label for=\"sk-estimator-id-3\" class=\"sk-toggleable__label sk-toggleable__label-arrow\">TfidfTransformer</label><div class=\"sk-toggleable__content\"><pre>TfidfTransformer()</pre></div></div></div><div class=\"sk-item\"><div class=\"sk-estimator sk-toggleable\"><input class=\"sk-toggleable__control sk-hidden--visually\" id=\"sk-estimator-id-4\" type=\"checkbox\" ><label for=\"sk-estimator-id-4\" class=\"sk-toggleable__label sk-toggleable__label-arrow\">MultinomialNB</label><div class=\"sk-toggleable__content\"><pre>MultinomialNB()</pre></div></div></div></div></div></div></div>"
            ]
          },
          "metadata": {},
          "execution_count": 23
        }
      ]
    },
    {
      "cell_type": "markdown",
      "source": [
        "### 6.1.2 Evaluate Model"
      ],
      "metadata": {
        "id": "04q2zMVfMMn6"
      }
    },
    {
      "cell_type": "code",
      "source": [
        "y_pred = nb.predict(X_test)\n",
        "\n",
        "print('accuracy %s' % accuracy_score(y_pred, y_test))\n",
        "print(classification_report(y_test, y_pred))"
      ],
      "metadata": {
        "id": "trDZIyMZOgJh",
        "colab": {
          "base_uri": "https://localhost:8080/"
        },
        "outputId": "19b3f2d7-1c7f-4581-931e-162a0723c1a4"
      },
      "execution_count": null,
      "outputs": [
        {
          "output_type": "stream",
          "name": "stdout",
          "text": [
            "accuracy 0.9676840215439856\n",
            "              precision    recall  f1-score   support\n",
            "\n",
            "           0       0.97      0.96      0.96       136\n",
            "           1       1.00      0.92      0.96        96\n",
            "           2       0.92      0.99      0.96        98\n",
            "           3       0.98      1.00      0.99       124\n",
            "           4       0.96      0.97      0.97       103\n",
            "\n",
            "    accuracy                           0.97       557\n",
            "   macro avg       0.97      0.97      0.97       557\n",
            "weighted avg       0.97      0.97      0.97       557\n",
            "\n"
          ]
        }
      ]
    },
    {
      "cell_type": "markdown",
      "source": [
        "## 6.2 Functionalized Code"
      ],
      "metadata": {
        "id": "OXKSUzsYOLbY"
      }
    },
    {
      "cell_type": "code",
      "source": [
        "def text_classification_model(classifier_model):\n",
        "  model = Pipeline([('vect', CountVectorizer()),\n",
        "               ('tfidf', TfidfTransformer()),\n",
        "               ('clf', classifier_model),\n",
        "              ])\n",
        "  model.fit(X_train, y_train)\n",
        "  y_pred = model.predict(X_test)\n",
        "  print(classification_report(y_test, y_pred))"
      ],
      "metadata": {
        "id": "iMTfdyUOKlZX"
      },
      "execution_count": null,
      "outputs": []
    },
    {
      "cell_type": "markdown",
      "source": [
        "### 6.2.1 Decision Tree"
      ],
      "metadata": {
        "id": "nJa3iF2eKkgM"
      }
    },
    {
      "cell_type": "code",
      "source": [
        "dt_model = DecisionTreeClassifier(random_state=42)\n",
        "text_classification_model(dt_model)"
      ],
      "metadata": {
        "id": "ZCF2Bs59LJpf",
        "colab": {
          "base_uri": "https://localhost:8080/"
        },
        "outputId": "23e1ca7d-4319-43a0-c17e-c29f3fa1bb60"
      },
      "execution_count": null,
      "outputs": [
        {
          "output_type": "stream",
          "name": "stdout",
          "text": [
            "              precision    recall  f1-score   support\n",
            "\n",
            "           0       0.82      0.76      0.79       136\n",
            "           1       0.64      0.72      0.68        96\n",
            "           2       0.72      0.81      0.76        98\n",
            "           3       0.93      0.90      0.91       124\n",
            "           4       0.81      0.75      0.78       103\n",
            "\n",
            "    accuracy                           0.79       557\n",
            "   macro avg       0.79      0.79      0.79       557\n",
            "weighted avg       0.80      0.79      0.79       557\n",
            "\n"
          ]
        }
      ]
    },
    {
      "cell_type": "markdown",
      "source": [
        "### 6.2.2 Nearest Neighbors"
      ],
      "metadata": {
        "id": "8vatkK6EKzWL"
      }
    },
    {
      "cell_type": "code",
      "source": [
        "knn_model = KNeighborsClassifier(n_neighbors=7)\n",
        "text_classification_model(knn_model)"
      ],
      "metadata": {
        "id": "8Tt7iDyTLKhD",
        "colab": {
          "base_uri": "https://localhost:8080/"
        },
        "outputId": "0a18d57a-618a-4b65-aa9f-41fc35826964"
      },
      "execution_count": null,
      "outputs": [
        {
          "output_type": "stream",
          "name": "stdout",
          "text": [
            "              precision    recall  f1-score   support\n",
            "\n",
            "           0       0.95      0.89      0.92       136\n",
            "           1       0.97      0.90      0.93        96\n",
            "           2       0.86      0.92      0.89        98\n",
            "           3       0.96      1.00      0.98       124\n",
            "           4       0.94      0.97      0.96       103\n",
            "\n",
            "    accuracy                           0.94       557\n",
            "   macro avg       0.93      0.93      0.93       557\n",
            "weighted avg       0.94      0.94      0.94       557\n",
            "\n"
          ]
        }
      ]
    },
    {
      "cell_type": "markdown",
      "source": [
        "### 6.2.3 Random Forest"
      ],
      "metadata": {
        "id": "Q_2n1HUXKzpu"
      }
    },
    {
      "cell_type": "code",
      "source": [
        "rf_model = RandomForestClassifier(random_state=42)\n",
        "text_classification_model(rf_model)"
      ],
      "metadata": {
        "id": "O-ARhA_FLLmy",
        "colab": {
          "base_uri": "https://localhost:8080/"
        },
        "outputId": "e4bd3c71-4ba8-4388-de2b-8109bfa77b32"
      },
      "execution_count": null,
      "outputs": [
        {
          "output_type": "stream",
          "name": "stdout",
          "text": [
            "              precision    recall  f1-score   support\n",
            "\n",
            "           0       0.90      0.96      0.93       136\n",
            "           1       0.96      0.94      0.95        96\n",
            "           2       0.94      0.93      0.93        98\n",
            "           3       0.97      0.99      0.98       124\n",
            "           4       0.99      0.89      0.94       103\n",
            "\n",
            "    accuracy                           0.95       557\n",
            "   macro avg       0.95      0.94      0.95       557\n",
            "weighted avg       0.95      0.95      0.95       557\n",
            "\n"
          ]
        }
      ]
    },
    {
      "cell_type": "markdown",
      "source": [
        "# 7. Observe and comment on the performances of all the models used"
      ],
      "metadata": {
        "id": "rDHw3cFhMkO0"
      }
    },
    {
      "cell_type": "markdown",
      "source": [
        "# 8. Question & Answers\n",
        "Questionnaire:\n",
        "- How many news articles are present in the dataset that we have?\n",
        "  - 2225\n",
        "- Most of the news articles are from _____ category.\n",
        "  - Sports category (511 articles)\n",
        "- Only ___ no. of articles belong to the ‘Technology’ category.\n",
        "  - 401\n",
        "- What are Stop Words and why should they be removed from the text data?\n",
        "  - Stop words are a set of commonly used words in any language, not just English.\n",
        "  - By removing stop words, we **remove the low-level information** from our text in order to **give more focus to the important information**\n",
        "- Explain the difference between Stemming and Lemmatization.\n",
        "  - **Stemming** is a process that **stems or removes last few characters from a word**, often **leading to incorrect meanings and spelling**. \n",
        "  - **Lemmatization considers the context and converts the word to its meaningful base**\n",
        "  - **Lemmatization has higher accuracy than stemming**. \n",
        "  - **Lemmatization is preferred for context analysis**, whereas stemming is recommended when the context is not important\n",
        "  - Stemming is faster than Lemmatization\n",
        "- Which of the techniques Bag of Words or TF-IDF is considered to be more efficient than the other?\n",
        "  - TF-IDF is more effecient as TF-IDF makes rare words more prominent and effectively ignores common words\n",
        "    - TF-IDF\n",
        "      - It computes the feature importances of a word in a document of a corpus\n",
        "      - It can detect and nullify the effect of stopwords on feature vector of a sentence\n",
        "    - Bag Of Words\n",
        "      - It computes the frequencies (or) presence of a word in a document of a corpus\n",
        "      - It assigns equal priority to every word. It cannot detect stopwords \n",
        "- What’s the shape of train & test data sets after performing a 75:25 split.\n",
        "  - Train data shape - (1668,)\n",
        "  - Test data shape - (557,) \n",
        "- Which of the following is found to be the best performing model..\n",
        "  - a. Random Forest\n",
        "  -\tb. Nearest Neighbors\t\t\n",
        "  - c. Naive Bayes\n",
        "  - Ans : **Naive Bayes is performing better**\n",
        "- According to this particular use case, both precision and recall are equally important. (T/F)\n",
        "  - True. Precision measures the accuracy of positive predictions, while recall measures the completeness of positive predictions"
      ],
      "metadata": {
        "id": "L4GMP9t4M9D5"
      }
    }
  ]
}
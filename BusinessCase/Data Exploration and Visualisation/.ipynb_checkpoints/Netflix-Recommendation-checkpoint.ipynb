{
 "cells": [
  {
   "cell_type": "markdown",
   "id": "123a9e3f",
   "metadata": {},
   "source": [
    "# 1. Problem Statement - Analyze the data and generate insights that could help Netflix in deciding which type of shows/movies to produce  and how they can grow the business in different countries"
   ]
  },
  {
   "cell_type": "code",
   "execution_count": 551,
   "id": "2b1e38f5",
   "metadata": {},
   "outputs": [],
   "source": [
    "import numpy as np\n",
    "import pandas as pd\n",
    "import matplotlib.pyplot as plt"
   ]
  },
  {
   "cell_type": "markdown",
   "id": "271a3418",
   "metadata": {},
   "source": [
    "## Read data "
   ]
  },
  {
   "cell_type": "code",
   "execution_count": 552,
   "id": "e524ea3c",
   "metadata": {},
   "outputs": [],
   "source": [
    "df = pd.read_csv(\"./Data/xyzflix.csv\")"
   ]
  },
  {
   "cell_type": "markdown",
   "id": "cae858c8",
   "metadata": {},
   "source": [
    "# 2. Observations on the shape of data, data types of all the attributes, conversion of categorical attributes to 'category' (If required), missing value detection, statistical summary "
   ]
  },
  {
   "cell_type": "markdown",
   "id": "3741bd64",
   "metadata": {},
   "source": [
    "## 2.1 The shape of data"
   ]
  },
  {
   "cell_type": "code",
   "execution_count": 553,
   "id": "95a95f7c",
   "metadata": {},
   "outputs": [
    {
     "data": {
      "text/plain": [
       "(8807, 12)"
      ]
     },
     "execution_count": 553,
     "metadata": {},
     "output_type": "execute_result"
    }
   ],
   "source": [
    "df.shape"
   ]
  },
  {
   "cell_type": "markdown",
   "id": "8a7d5e63",
   "metadata": {},
   "source": [
    "## 2.2 Data types of all the attributes, conversion of categorical attributes to 'category' (If required) , missing value detection"
   ]
  },
  {
   "cell_type": "code",
   "execution_count": 554,
   "id": "77a91525",
   "metadata": {},
   "outputs": [
    {
     "name": "stdout",
     "output_type": "stream",
     "text": [
      "<class 'pandas.core.frame.DataFrame'>\n",
      "RangeIndex: 8807 entries, 0 to 8806\n",
      "Data columns (total 12 columns):\n",
      " #   Column        Non-Null Count  Dtype \n",
      "---  ------        --------------  ----- \n",
      " 0   show_id       8807 non-null   object\n",
      " 1   type          8807 non-null   object\n",
      " 2   title         8807 non-null   object\n",
      " 3   director      6173 non-null   object\n",
      " 4   cast          7982 non-null   object\n",
      " 5   country       7976 non-null   object\n",
      " 6   date_added    8797 non-null   object\n",
      " 7   release_year  8807 non-null   int64 \n",
      " 8   rating        8803 non-null   object\n",
      " 9   duration      8804 non-null   object\n",
      " 10  listed_in     8807 non-null   object\n",
      " 11  description   8807 non-null   object\n",
      "dtypes: int64(1), object(11)\n",
      "memory usage: 825.8+ KB\n"
     ]
    }
   ],
   "source": [
    "df.info()"
   ]
  },
  {
   "cell_type": "markdown",
   "id": "7570bfda",
   "metadata": {},
   "source": [
    "### Observation :\n",
    "####     A. There are missing values in features such as \"director\" (29 %) , \"cast\" , \"country\" , \"rating\" , and duration   \n",
    "####     B. date_added is an 'Object' , need to convert it datetime                "
   ]
  },
  {
   "cell_type": "markdown",
   "id": "a37225dd",
   "metadata": {},
   "source": [
    "## 2.3  Missing value detection"
   ]
  },
  {
   "cell_type": "code",
   "execution_count": 555,
   "id": "8bcd8cfb",
   "metadata": {},
   "outputs": [
    {
     "data": {
      "text/plain": [
       "show_id            0\n",
       "type               0\n",
       "title              0\n",
       "director        2634\n",
       "cast             825\n",
       "country          831\n",
       "date_added        10\n",
       "release_year       0\n",
       "rating             4\n",
       "duration           3\n",
       "listed_in          0\n",
       "description        0\n",
       "dtype: int64"
      ]
     },
     "execution_count": 555,
     "metadata": {},
     "output_type": "execute_result"
    }
   ],
   "source": [
    "df.isnull().sum(axis=0)"
   ]
  },
  {
   "cell_type": "markdown",
   "id": "b332ffaf",
   "metadata": {},
   "source": [
    "## 2.4 Statistical summary"
   ]
  },
  {
   "cell_type": "code",
   "execution_count": 556,
   "id": "a45bff2c",
   "metadata": {},
   "outputs": [
    {
     "data": {
      "text/html": [
       "<div>\n",
       "<style scoped>\n",
       "    .dataframe tbody tr th:only-of-type {\n",
       "        vertical-align: middle;\n",
       "    }\n",
       "\n",
       "    .dataframe tbody tr th {\n",
       "        vertical-align: top;\n",
       "    }\n",
       "\n",
       "    .dataframe thead th {\n",
       "        text-align: right;\n",
       "    }\n",
       "</style>\n",
       "<table border=\"1\" class=\"dataframe\">\n",
       "  <thead>\n",
       "    <tr style=\"text-align: right;\">\n",
       "      <th></th>\n",
       "      <th>release_year</th>\n",
       "    </tr>\n",
       "  </thead>\n",
       "  <tbody>\n",
       "    <tr>\n",
       "      <th>count</th>\n",
       "      <td>8807.000000</td>\n",
       "    </tr>\n",
       "    <tr>\n",
       "      <th>mean</th>\n",
       "      <td>2014.180198</td>\n",
       "    </tr>\n",
       "    <tr>\n",
       "      <th>std</th>\n",
       "      <td>8.819312</td>\n",
       "    </tr>\n",
       "    <tr>\n",
       "      <th>min</th>\n",
       "      <td>1925.000000</td>\n",
       "    </tr>\n",
       "    <tr>\n",
       "      <th>25%</th>\n",
       "      <td>2013.000000</td>\n",
       "    </tr>\n",
       "    <tr>\n",
       "      <th>50%</th>\n",
       "      <td>2017.000000</td>\n",
       "    </tr>\n",
       "    <tr>\n",
       "      <th>75%</th>\n",
       "      <td>2019.000000</td>\n",
       "    </tr>\n",
       "    <tr>\n",
       "      <th>max</th>\n",
       "      <td>2021.000000</td>\n",
       "    </tr>\n",
       "  </tbody>\n",
       "</table>\n",
       "</div>"
      ],
      "text/plain": [
       "       release_year\n",
       "count   8807.000000\n",
       "mean    2014.180198\n",
       "std        8.819312\n",
       "min     1925.000000\n",
       "25%     2013.000000\n",
       "50%     2017.000000\n",
       "75%     2019.000000\n",
       "max     2021.000000"
      ]
     },
     "execution_count": 556,
     "metadata": {},
     "output_type": "execute_result"
    }
   ],
   "source": [
    "df.describe()"
   ]
  },
  {
   "cell_type": "code",
   "execution_count": 557,
   "id": "e4066ee6",
   "metadata": {},
   "outputs": [
    {
     "data": {
      "text/html": [
       "<div>\n",
       "<style scoped>\n",
       "    .dataframe tbody tr th:only-of-type {\n",
       "        vertical-align: middle;\n",
       "    }\n",
       "\n",
       "    .dataframe tbody tr th {\n",
       "        vertical-align: top;\n",
       "    }\n",
       "\n",
       "    .dataframe thead th {\n",
       "        text-align: right;\n",
       "    }\n",
       "</style>\n",
       "<table border=\"1\" class=\"dataframe\">\n",
       "  <thead>\n",
       "    <tr style=\"text-align: right;\">\n",
       "      <th></th>\n",
       "      <th>show_id</th>\n",
       "      <th>type</th>\n",
       "      <th>title</th>\n",
       "      <th>director</th>\n",
       "      <th>cast</th>\n",
       "      <th>country</th>\n",
       "      <th>date_added</th>\n",
       "      <th>rating</th>\n",
       "      <th>duration</th>\n",
       "      <th>listed_in</th>\n",
       "      <th>description</th>\n",
       "    </tr>\n",
       "  </thead>\n",
       "  <tbody>\n",
       "    <tr>\n",
       "      <th>count</th>\n",
       "      <td>8807</td>\n",
       "      <td>8807</td>\n",
       "      <td>8807</td>\n",
       "      <td>6173</td>\n",
       "      <td>7982</td>\n",
       "      <td>7976</td>\n",
       "      <td>8797</td>\n",
       "      <td>8803</td>\n",
       "      <td>8804</td>\n",
       "      <td>8807</td>\n",
       "      <td>8807</td>\n",
       "    </tr>\n",
       "    <tr>\n",
       "      <th>unique</th>\n",
       "      <td>8807</td>\n",
       "      <td>2</td>\n",
       "      <td>8807</td>\n",
       "      <td>4528</td>\n",
       "      <td>7692</td>\n",
       "      <td>748</td>\n",
       "      <td>1767</td>\n",
       "      <td>17</td>\n",
       "      <td>220</td>\n",
       "      <td>514</td>\n",
       "      <td>8775</td>\n",
       "    </tr>\n",
       "    <tr>\n",
       "      <th>top</th>\n",
       "      <td>s1</td>\n",
       "      <td>Movie</td>\n",
       "      <td>Dick Johnson Is Dead</td>\n",
       "      <td>Rajiv Chilaka</td>\n",
       "      <td>David Attenborough</td>\n",
       "      <td>United States</td>\n",
       "      <td>January 1, 2020</td>\n",
       "      <td>TV-MA</td>\n",
       "      <td>1 Season</td>\n",
       "      <td>Dramas, International Movies</td>\n",
       "      <td>Paranormal activity at a lush, abandoned prope...</td>\n",
       "    </tr>\n",
       "    <tr>\n",
       "      <th>freq</th>\n",
       "      <td>1</td>\n",
       "      <td>6131</td>\n",
       "      <td>1</td>\n",
       "      <td>19</td>\n",
       "      <td>19</td>\n",
       "      <td>2818</td>\n",
       "      <td>109</td>\n",
       "      <td>3207</td>\n",
       "      <td>1793</td>\n",
       "      <td>362</td>\n",
       "      <td>4</td>\n",
       "    </tr>\n",
       "  </tbody>\n",
       "</table>\n",
       "</div>"
      ],
      "text/plain": [
       "       show_id   type                 title       director  \\\n",
       "count     8807   8807                  8807           6173   \n",
       "unique    8807      2                  8807           4528   \n",
       "top         s1  Movie  Dick Johnson Is Dead  Rajiv Chilaka   \n",
       "freq         1   6131                     1             19   \n",
       "\n",
       "                      cast        country       date_added rating  duration  \\\n",
       "count                 7982           7976             8797   8803      8804   \n",
       "unique                7692            748             1767     17       220   \n",
       "top     David Attenborough  United States  January 1, 2020  TV-MA  1 Season   \n",
       "freq                    19           2818              109   3207      1793   \n",
       "\n",
       "                           listed_in  \\\n",
       "count                           8807   \n",
       "unique                           514   \n",
       "top     Dramas, International Movies   \n",
       "freq                             362   \n",
       "\n",
       "                                              description  \n",
       "count                                                8807  \n",
       "unique                                               8775  \n",
       "top     Paranormal activity at a lush, abandoned prope...  \n",
       "freq                                                    4  "
      ]
     },
     "execution_count": 557,
     "metadata": {},
     "output_type": "execute_result"
    }
   ],
   "source": [
    "df.describe(include='object')"
   ]
  },
  {
   "cell_type": "markdown",
   "id": "32d66f09",
   "metadata": {},
   "source": [
    "### Observations : \n",
    "####                  A. Director is \"Rajiv Chilaka\" has 19 Movies/Series on the platform , including 4528 different directors\n",
    "####                  B. \"David Attenborough\" has been casted in 19 movies/series\n",
    "####                  C. There are 2818 movies/series from United states\n",
    "####                  D. There are Movies/Series from 748 different countries in Netflix platform\n",
    "####                  E. Mostly 'TV-MA' rated shows are in Netflix\n",
    "####                  F. 109 movies/series being added to platform on January 1, 2020"
   ]
  },
  {
   "cell_type": "code",
   "execution_count": 558,
   "id": "907e290e",
   "metadata": {},
   "outputs": [
    {
     "data": {
      "text/html": [
       "<div>\n",
       "<style scoped>\n",
       "    .dataframe tbody tr th:only-of-type {\n",
       "        vertical-align: middle;\n",
       "    }\n",
       "\n",
       "    .dataframe tbody tr th {\n",
       "        vertical-align: top;\n",
       "    }\n",
       "\n",
       "    .dataframe thead th {\n",
       "        text-align: right;\n",
       "    }\n",
       "</style>\n",
       "<table border=\"1\" class=\"dataframe\">\n",
       "  <thead>\n",
       "    <tr style=\"text-align: right;\">\n",
       "      <th></th>\n",
       "      <th>show_id</th>\n",
       "      <th>type</th>\n",
       "      <th>title</th>\n",
       "      <th>director</th>\n",
       "      <th>cast</th>\n",
       "      <th>country</th>\n",
       "      <th>date_added</th>\n",
       "      <th>release_year</th>\n",
       "      <th>rating</th>\n",
       "      <th>duration</th>\n",
       "      <th>listed_in</th>\n",
       "      <th>description</th>\n",
       "    </tr>\n",
       "  </thead>\n",
       "  <tbody>\n",
       "  </tbody>\n",
       "</table>\n",
       "</div>"
      ],
      "text/plain": [
       "Empty DataFrame\n",
       "Columns: [show_id, type, title, director, cast, country, date_added, release_year, rating, duration, listed_in, description]\n",
       "Index: []"
      ]
     },
     "execution_count": 558,
     "metadata": {},
     "output_type": "execute_result"
    }
   ],
   "source": [
    "# checking duplicates records\n",
    "df.loc[df.duplicated()]"
   ]
  },
  {
   "cell_type": "markdown",
   "id": "51074f0a",
   "metadata": {},
   "source": [
    "### Observations : \n",
    "#### No duplicate records present in the dataset, which is good.\n"
   ]
  },
  {
   "cell_type": "markdown",
   "id": "a96a6c01",
   "metadata": {},
   "source": [
    "# 3. Non-Graphical Analysis: Value counts and unique attributes"
   ]
  },
  {
   "cell_type": "code",
   "execution_count": 559,
   "id": "90efeb94",
   "metadata": {},
   "outputs": [
    {
     "data": {
      "text/plain": [
       "Movie      6131\n",
       "TV Show    2676\n",
       "Name: type, dtype: int64"
      ]
     },
     "execution_count": 559,
     "metadata": {},
     "output_type": "execute_result"
    }
   ],
   "source": [
    "df[\"type\"].value_counts()"
   ]
  },
  {
   "cell_type": "markdown",
   "id": "65b404e7",
   "metadata": {},
   "source": [
    "### Observation :\n",
    "#### The dataset contains data about only Movie and TV shows"
   ]
  },
  {
   "cell_type": "code",
   "execution_count": 560,
   "id": "c5e79d3f",
   "metadata": {},
   "outputs": [
    {
     "data": {
      "text/plain": [
       "Dick Johnson Is Dead                     1\n",
       "Ip Man 2                                 1\n",
       "Hannibal Buress: Comedy Camisado         1\n",
       "Turbo FAST                               1\n",
       "Masha's Tales                            1\n",
       "                                        ..\n",
       "Love for Sale 2                          1\n",
       "ROAD TO ROMA                             1\n",
       "Good Time                                1\n",
       "Captain Underpants Epic Choice-o-Rama    1\n",
       "Zubaan                                   1\n",
       "Name: title, Length: 8807, dtype: int64"
      ]
     },
     "execution_count": 560,
     "metadata": {},
     "output_type": "execute_result"
    }
   ],
   "source": [
    "df[\"title\"].value_counts()"
   ]
  },
  {
   "cell_type": "code",
   "execution_count": 561,
   "id": "f0a14c1e",
   "metadata": {},
   "outputs": [
    {
     "data": {
      "text/plain": [
       "array(['Dick Johnson Is Dead', 'Blood & Water', 'Ganglands', ...,\n",
       "       'Zombieland', 'Zoom', 'Zubaan'], dtype=object)"
      ]
     },
     "execution_count": 561,
     "metadata": {},
     "output_type": "execute_result"
    }
   ],
   "source": [
    "df[\"title\"].unique()"
   ]
  },
  {
   "cell_type": "code",
   "execution_count": 562,
   "id": "e3b229d9",
   "metadata": {},
   "outputs": [
    {
     "data": {
      "text/html": [
       "<div>\n",
       "<style scoped>\n",
       "    .dataframe tbody tr th:only-of-type {\n",
       "        vertical-align: middle;\n",
       "    }\n",
       "\n",
       "    .dataframe tbody tr th {\n",
       "        vertical-align: top;\n",
       "    }\n",
       "\n",
       "    .dataframe thead th {\n",
       "        text-align: right;\n",
       "    }\n",
       "</style>\n",
       "<table border=\"1\" class=\"dataframe\">\n",
       "  <thead>\n",
       "    <tr style=\"text-align: right;\">\n",
       "      <th></th>\n",
       "      <th>show_id</th>\n",
       "      <th>type</th>\n",
       "      <th>title</th>\n",
       "      <th>director</th>\n",
       "      <th>cast</th>\n",
       "      <th>country</th>\n",
       "      <th>date_added</th>\n",
       "      <th>release_year</th>\n",
       "      <th>rating</th>\n",
       "      <th>duration</th>\n",
       "      <th>listed_in</th>\n",
       "      <th>description</th>\n",
       "    </tr>\n",
       "  </thead>\n",
       "  <tbody>\n",
       "  </tbody>\n",
       "</table>\n",
       "</div>"
      ],
      "text/plain": [
       "Empty DataFrame\n",
       "Columns: [show_id, type, title, director, cast, country, date_added, release_year, rating, duration, listed_in, description]\n",
       "Index: []"
      ]
     },
     "execution_count": 562,
     "metadata": {},
     "output_type": "execute_result"
    }
   ],
   "source": [
    "df.loc[(df[\"title\"].isnull()) | (df[\"title\"].isna())]"
   ]
  },
  {
   "cell_type": "markdown",
   "id": "9c103b44",
   "metadata": {},
   "source": [
    "### Observation :\n",
    "#### No duplicate titles are present in the dataset\n",
    "#### No NaN /Null values for titles , which looks good "
   ]
  },
  {
   "cell_type": "code",
   "execution_count": 563,
   "id": "34b1ba84",
   "metadata": {},
   "outputs": [
    {
     "data": {
      "text/plain": [
       "Rajiv Chilaka                     19\n",
       "Raúl Campos, Jan Suter            18\n",
       "Marcus Raboy                      16\n",
       "Suhas Kadav                       16\n",
       "Jay Karas                         14\n",
       "                                  ..\n",
       "Raymie Muzquiz, Stu Livingston     1\n",
       "Joe Menendez                       1\n",
       "Eric Bross                         1\n",
       "Will Eisenberg                     1\n",
       "Mozez Singh                        1\n",
       "Name: director, Length: 4528, dtype: int64"
      ]
     },
     "execution_count": 563,
     "metadata": {},
     "output_type": "execute_result"
    }
   ],
   "source": [
    "df[\"director\"].value_counts()"
   ]
  },
  {
   "cell_type": "code",
   "execution_count": 564,
   "id": "bfab3866",
   "metadata": {},
   "outputs": [
    {
     "data": {
      "text/plain": [
       "array(['Kirsten Johnson', nan, 'Julien Leclercq', ..., 'Majid Al Ansari',\n",
       "       'Peter Hewitt', 'Mozez Singh'], dtype=object)"
      ]
     },
     "execution_count": 564,
     "metadata": {},
     "output_type": "execute_result"
    }
   ],
   "source": [
    "df[\"director\"].unique()"
   ]
  },
  {
   "cell_type": "code",
   "execution_count": 565,
   "id": "fb8a9d96",
   "metadata": {},
   "outputs": [
    {
     "data": {
      "text/html": [
       "<div>\n",
       "<style scoped>\n",
       "    .dataframe tbody tr th:only-of-type {\n",
       "        vertical-align: middle;\n",
       "    }\n",
       "\n",
       "    .dataframe tbody tr th {\n",
       "        vertical-align: top;\n",
       "    }\n",
       "\n",
       "    .dataframe thead th {\n",
       "        text-align: right;\n",
       "    }\n",
       "</style>\n",
       "<table border=\"1\" class=\"dataframe\">\n",
       "  <thead>\n",
       "    <tr style=\"text-align: right;\">\n",
       "      <th></th>\n",
       "      <th>show_id</th>\n",
       "      <th>type</th>\n",
       "      <th>title</th>\n",
       "      <th>director</th>\n",
       "      <th>cast</th>\n",
       "      <th>country</th>\n",
       "      <th>date_added</th>\n",
       "      <th>release_year</th>\n",
       "      <th>rating</th>\n",
       "      <th>duration</th>\n",
       "      <th>listed_in</th>\n",
       "      <th>description</th>\n",
       "    </tr>\n",
       "  </thead>\n",
       "  <tbody>\n",
       "    <tr>\n",
       "      <th>1</th>\n",
       "      <td>s2</td>\n",
       "      <td>TV Show</td>\n",
       "      <td>Blood &amp; Water</td>\n",
       "      <td>NaN</td>\n",
       "      <td>Ama Qamata, Khosi Ngema, Gail Mabalane, Thaban...</td>\n",
       "      <td>South Africa</td>\n",
       "      <td>September 24, 2021</td>\n",
       "      <td>2021</td>\n",
       "      <td>TV-MA</td>\n",
       "      <td>2 Seasons</td>\n",
       "      <td>International TV Shows, TV Dramas, TV Mysteries</td>\n",
       "      <td>After crossing paths at a party, a Cape Town t...</td>\n",
       "    </tr>\n",
       "    <tr>\n",
       "      <th>3</th>\n",
       "      <td>s4</td>\n",
       "      <td>TV Show</td>\n",
       "      <td>Jailbirds New Orleans</td>\n",
       "      <td>NaN</td>\n",
       "      <td>NaN</td>\n",
       "      <td>NaN</td>\n",
       "      <td>September 24, 2021</td>\n",
       "      <td>2021</td>\n",
       "      <td>TV-MA</td>\n",
       "      <td>1 Season</td>\n",
       "      <td>Docuseries, Reality TV</td>\n",
       "      <td>Feuds, flirtations and toilet talk go down amo...</td>\n",
       "    </tr>\n",
       "    <tr>\n",
       "      <th>4</th>\n",
       "      <td>s5</td>\n",
       "      <td>TV Show</td>\n",
       "      <td>Kota Factory</td>\n",
       "      <td>NaN</td>\n",
       "      <td>Mayur More, Jitendra Kumar, Ranjan Raj, Alam K...</td>\n",
       "      <td>India</td>\n",
       "      <td>September 24, 2021</td>\n",
       "      <td>2021</td>\n",
       "      <td>TV-MA</td>\n",
       "      <td>2 Seasons</td>\n",
       "      <td>International TV Shows, Romantic TV Shows, TV ...</td>\n",
       "      <td>In a city of coaching centers known to train I...</td>\n",
       "    </tr>\n",
       "    <tr>\n",
       "      <th>10</th>\n",
       "      <td>s11</td>\n",
       "      <td>TV Show</td>\n",
       "      <td>Vendetta: Truth, Lies and The Mafia</td>\n",
       "      <td>NaN</td>\n",
       "      <td>NaN</td>\n",
       "      <td>NaN</td>\n",
       "      <td>September 24, 2021</td>\n",
       "      <td>2021</td>\n",
       "      <td>TV-MA</td>\n",
       "      <td>1 Season</td>\n",
       "      <td>Crime TV Shows, Docuseries, International TV S...</td>\n",
       "      <td>Sicily boasts a bold \"Anti-Mafia\" coalition. B...</td>\n",
       "    </tr>\n",
       "    <tr>\n",
       "      <th>14</th>\n",
       "      <td>s15</td>\n",
       "      <td>TV Show</td>\n",
       "      <td>Crime Stories: India Detectives</td>\n",
       "      <td>NaN</td>\n",
       "      <td>NaN</td>\n",
       "      <td>NaN</td>\n",
       "      <td>September 22, 2021</td>\n",
       "      <td>2021</td>\n",
       "      <td>TV-MA</td>\n",
       "      <td>1 Season</td>\n",
       "      <td>British TV Shows, Crime TV Shows, Docuseries</td>\n",
       "      <td>Cameras following Bengaluru police on the job ...</td>\n",
       "    </tr>\n",
       "  </tbody>\n",
       "</table>\n",
       "</div>"
      ],
      "text/plain": [
       "   show_id     type                                title director  \\\n",
       "1       s2  TV Show                        Blood & Water      NaN   \n",
       "3       s4  TV Show                Jailbirds New Orleans      NaN   \n",
       "4       s5  TV Show                         Kota Factory      NaN   \n",
       "10     s11  TV Show  Vendetta: Truth, Lies and The Mafia      NaN   \n",
       "14     s15  TV Show      Crime Stories: India Detectives      NaN   \n",
       "\n",
       "                                                 cast       country  \\\n",
       "1   Ama Qamata, Khosi Ngema, Gail Mabalane, Thaban...  South Africa   \n",
       "3                                                 NaN           NaN   \n",
       "4   Mayur More, Jitendra Kumar, Ranjan Raj, Alam K...         India   \n",
       "10                                                NaN           NaN   \n",
       "14                                                NaN           NaN   \n",
       "\n",
       "            date_added  release_year rating   duration  \\\n",
       "1   September 24, 2021          2021  TV-MA  2 Seasons   \n",
       "3   September 24, 2021          2021  TV-MA   1 Season   \n",
       "4   September 24, 2021          2021  TV-MA  2 Seasons   \n",
       "10  September 24, 2021          2021  TV-MA   1 Season   \n",
       "14  September 22, 2021          2021  TV-MA   1 Season   \n",
       "\n",
       "                                            listed_in  \\\n",
       "1     International TV Shows, TV Dramas, TV Mysteries   \n",
       "3                              Docuseries, Reality TV   \n",
       "4   International TV Shows, Romantic TV Shows, TV ...   \n",
       "10  Crime TV Shows, Docuseries, International TV S...   \n",
       "14       British TV Shows, Crime TV Shows, Docuseries   \n",
       "\n",
       "                                          description  \n",
       "1   After crossing paths at a party, a Cape Town t...  \n",
       "3   Feuds, flirtations and toilet talk go down amo...  \n",
       "4   In a city of coaching centers known to train I...  \n",
       "10  Sicily boasts a bold \"Anti-Mafia\" coalition. B...  \n",
       "14  Cameras following Bengaluru police on the job ...  "
      ]
     },
     "execution_count": 565,
     "metadata": {},
     "output_type": "execute_result"
    }
   ],
   "source": [
    "df.loc[(df[\"director\"].isnull()) | (df[\"director\"].isna())][:5]"
   ]
  },
  {
   "cell_type": "markdown",
   "id": "4b7fc1a0",
   "metadata": {},
   "source": [
    "### Observation : \n",
    "#### Director feature has multiple Nan values . Need to analyzed further why dierctors are null "
   ]
  },
  {
   "cell_type": "code",
   "execution_count": 566,
   "id": "a3cd783b",
   "metadata": {},
   "outputs": [
    {
     "data": {
      "text/plain": [
       "David Attenborough                                                                                                                                                                            19\n",
       "Vatsal Dubey, Julie Tejwani, Rupa Bhimani, Jigna Bhardwaj, Rajesh Kava, Mousam, Swapnil                                                                                                       14\n",
       "Samuel West                                                                                                                                                                                   10\n",
       "Jeff Dunham                                                                                                                                                                                    7\n",
       "David Spade, London Hughes, Fortune Feimster                                                                                                                                                   6\n",
       "                                                                                                                                                                                              ..\n",
       "Michael Peña, Diego Luna, Tenoch Huerta, Joaquin Cosio, José María Yazpik, Matt Letscher, Alyssa Diaz                                                                                          1\n",
       "Nick Lachey, Vanessa Lachey                                                                                                                                                                    1\n",
       "Takeru Sato, Kasumi Arimura, Haru, Kentaro Sakaguchi, Takayuki Yamada, Kendo Kobayashi, Ken Yasuda, Arata Furuta, Suzuki Matsuo, Koichi Yamadera, Arata Iura, Chikako Kaku, Kotaro Yoshida     1\n",
       "Toyin Abraham, Sambasa Nzeribe, Chioma Chukwuka Akpotha, Chioma Omeruah, Chiwetalu Agu, Dele Odule, Femi Adebayo, Bayray McNwizu, Biodun Stephen                                               1\n",
       "Vicky Kaushal, Sarah-Jane Dias, Raaghav Chanana, Manish Chaudhary, Meghna Malik, Malkeet Rauni, Anita Shabdish, Chittaranjan Tripathy                                                          1\n",
       "Name: cast, Length: 7692, dtype: int64"
      ]
     },
     "execution_count": 566,
     "metadata": {},
     "output_type": "execute_result"
    }
   ],
   "source": [
    "df[\"cast\"].value_counts()"
   ]
  },
  {
   "cell_type": "code",
   "execution_count": 567,
   "id": "701ae98d",
   "metadata": {},
   "outputs": [
    {
     "data": {
      "text/plain": [
       "array([nan,\n",
       "       'Ama Qamata, Khosi Ngema, Gail Mabalane, Thabang Molaba, Dillon Windvogel, Natasha Thahane, Arno Greeff, Xolile Tshabalala, Getmore Sithole, Cindy Mahlangu, Ryle De Morny, Greteli Fincham, Sello Maake Ka-Ncube, Odwa Gwanya, Mekaila Mathys, Sandi Schultz, Duane Williams, Shamilla Miller, Patrick Mofokeng',\n",
       "       'Sami Bouajila, Tracy Gotoas, Samuel Jouy, Nabiha Akkari, Sofia Lesaffre, Salim Kechiouche, Noureddine Farihi, Geert Van Rampelberg, Bakary Diombera',\n",
       "       ...,\n",
       "       'Jesse Eisenberg, Woody Harrelson, Emma Stone, Abigail Breslin, Amber Heard, Bill Murray, Derek Graf',\n",
       "       'Tim Allen, Courteney Cox, Chevy Chase, Kate Mara, Ryan Newman, Michael Cassidy, Spencer Breslin, Rip Torn, Kevin Zegers',\n",
       "       'Vicky Kaushal, Sarah-Jane Dias, Raaghav Chanana, Manish Chaudhary, Meghna Malik, Malkeet Rauni, Anita Shabdish, Chittaranjan Tripathy'],\n",
       "      dtype=object)"
      ]
     },
     "execution_count": 567,
     "metadata": {},
     "output_type": "execute_result"
    }
   ],
   "source": [
    "df[\"cast\"].unique()"
   ]
  },
  {
   "cell_type": "markdown",
   "id": "42f95d61",
   "metadata": {},
   "source": [
    "### Observation : \n",
    "#### Casts are comma seperated , need to process this feature before further analysis"
   ]
  },
  {
   "cell_type": "code",
   "execution_count": 568,
   "id": "bf5c7269",
   "metadata": {},
   "outputs": [
    {
     "data": {
      "text/plain": [
       "United States                             2818\n",
       "India                                      972\n",
       "United Kingdom                             419\n",
       "Japan                                      245\n",
       "South Korea                                199\n",
       "                                          ... \n",
       "Romania, Bulgaria, Hungary                   1\n",
       "Uruguay, Guatemala                           1\n",
       "France, Senegal, Belgium                     1\n",
       "Mexico, United States, Spain, Colombia       1\n",
       "United Arab Emirates, Jordan                 1\n",
       "Name: country, Length: 748, dtype: int64"
      ]
     },
     "execution_count": 568,
     "metadata": {},
     "output_type": "execute_result"
    }
   ],
   "source": [
    "df[\"country\"].value_counts()"
   ]
  },
  {
   "cell_type": "markdown",
   "id": "f6eb695d",
   "metadata": {},
   "source": [
    "### Observation : \n",
    "#### Few countries are comma seperated and few are not . Hence data processing is required "
   ]
  },
  {
   "cell_type": "code",
   "execution_count": 569,
   "id": "7d71e2c7",
   "metadata": {},
   "outputs": [
    {
     "data": {
      "text/html": [
       "<div>\n",
       "<style scoped>\n",
       "    .dataframe tbody tr th:only-of-type {\n",
       "        vertical-align: middle;\n",
       "    }\n",
       "\n",
       "    .dataframe tbody tr th {\n",
       "        vertical-align: top;\n",
       "    }\n",
       "\n",
       "    .dataframe thead th {\n",
       "        text-align: right;\n",
       "    }\n",
       "</style>\n",
       "<table border=\"1\" class=\"dataframe\">\n",
       "  <thead>\n",
       "    <tr style=\"text-align: right;\">\n",
       "      <th></th>\n",
       "      <th>show_id</th>\n",
       "      <th>type</th>\n",
       "      <th>title</th>\n",
       "      <th>director</th>\n",
       "      <th>cast</th>\n",
       "      <th>country</th>\n",
       "      <th>date_added</th>\n",
       "      <th>release_year</th>\n",
       "      <th>rating</th>\n",
       "      <th>duration</th>\n",
       "      <th>listed_in</th>\n",
       "      <th>description</th>\n",
       "    </tr>\n",
       "  </thead>\n",
       "  <tbody>\n",
       "    <tr>\n",
       "      <th>2</th>\n",
       "      <td>s3</td>\n",
       "      <td>TV Show</td>\n",
       "      <td>Ganglands</td>\n",
       "      <td>Julien Leclercq</td>\n",
       "      <td>Sami Bouajila, Tracy Gotoas, Samuel Jouy, Nabi...</td>\n",
       "      <td>NaN</td>\n",
       "      <td>September 24, 2021</td>\n",
       "      <td>2021</td>\n",
       "      <td>TV-MA</td>\n",
       "      <td>1 Season</td>\n",
       "      <td>Crime TV Shows, International TV Shows, TV Act...</td>\n",
       "      <td>To protect his family from a powerful drug lor...</td>\n",
       "    </tr>\n",
       "    <tr>\n",
       "      <th>3</th>\n",
       "      <td>s4</td>\n",
       "      <td>TV Show</td>\n",
       "      <td>Jailbirds New Orleans</td>\n",
       "      <td>NaN</td>\n",
       "      <td>NaN</td>\n",
       "      <td>NaN</td>\n",
       "      <td>September 24, 2021</td>\n",
       "      <td>2021</td>\n",
       "      <td>TV-MA</td>\n",
       "      <td>1 Season</td>\n",
       "      <td>Docuseries, Reality TV</td>\n",
       "      <td>Feuds, flirtations and toilet talk go down amo...</td>\n",
       "    </tr>\n",
       "    <tr>\n",
       "      <th>5</th>\n",
       "      <td>s6</td>\n",
       "      <td>TV Show</td>\n",
       "      <td>Midnight Mass</td>\n",
       "      <td>Mike Flanagan</td>\n",
       "      <td>Kate Siegel, Zach Gilford, Hamish Linklater, H...</td>\n",
       "      <td>NaN</td>\n",
       "      <td>September 24, 2021</td>\n",
       "      <td>2021</td>\n",
       "      <td>TV-MA</td>\n",
       "      <td>1 Season</td>\n",
       "      <td>TV Dramas, TV Horror, TV Mysteries</td>\n",
       "      <td>The arrival of a charismatic young priest brin...</td>\n",
       "    </tr>\n",
       "    <tr>\n",
       "      <th>6</th>\n",
       "      <td>s7</td>\n",
       "      <td>Movie</td>\n",
       "      <td>My Little Pony: A New Generation</td>\n",
       "      <td>Robert Cullen, José Luis Ucha</td>\n",
       "      <td>Vanessa Hudgens, Kimiko Glenn, James Marsden, ...</td>\n",
       "      <td>NaN</td>\n",
       "      <td>September 24, 2021</td>\n",
       "      <td>2021</td>\n",
       "      <td>PG</td>\n",
       "      <td>91 min</td>\n",
       "      <td>Children &amp; Family Movies</td>\n",
       "      <td>Equestria's divided. But a bright-eyed hero be...</td>\n",
       "    </tr>\n",
       "    <tr>\n",
       "      <th>10</th>\n",
       "      <td>s11</td>\n",
       "      <td>TV Show</td>\n",
       "      <td>Vendetta: Truth, Lies and The Mafia</td>\n",
       "      <td>NaN</td>\n",
       "      <td>NaN</td>\n",
       "      <td>NaN</td>\n",
       "      <td>September 24, 2021</td>\n",
       "      <td>2021</td>\n",
       "      <td>TV-MA</td>\n",
       "      <td>1 Season</td>\n",
       "      <td>Crime TV Shows, Docuseries, International TV S...</td>\n",
       "      <td>Sicily boasts a bold \"Anti-Mafia\" coalition. B...</td>\n",
       "    </tr>\n",
       "  </tbody>\n",
       "</table>\n",
       "</div>"
      ],
      "text/plain": [
       "   show_id     type                                title  \\\n",
       "2       s3  TV Show                            Ganglands   \n",
       "3       s4  TV Show                Jailbirds New Orleans   \n",
       "5       s6  TV Show                        Midnight Mass   \n",
       "6       s7    Movie     My Little Pony: A New Generation   \n",
       "10     s11  TV Show  Vendetta: Truth, Lies and The Mafia   \n",
       "\n",
       "                         director  \\\n",
       "2                 Julien Leclercq   \n",
       "3                             NaN   \n",
       "5                   Mike Flanagan   \n",
       "6   Robert Cullen, José Luis Ucha   \n",
       "10                            NaN   \n",
       "\n",
       "                                                 cast country  \\\n",
       "2   Sami Bouajila, Tracy Gotoas, Samuel Jouy, Nabi...     NaN   \n",
       "3                                                 NaN     NaN   \n",
       "5   Kate Siegel, Zach Gilford, Hamish Linklater, H...     NaN   \n",
       "6   Vanessa Hudgens, Kimiko Glenn, James Marsden, ...     NaN   \n",
       "10                                                NaN     NaN   \n",
       "\n",
       "            date_added  release_year rating  duration  \\\n",
       "2   September 24, 2021          2021  TV-MA  1 Season   \n",
       "3   September 24, 2021          2021  TV-MA  1 Season   \n",
       "5   September 24, 2021          2021  TV-MA  1 Season   \n",
       "6   September 24, 2021          2021     PG    91 min   \n",
       "10  September 24, 2021          2021  TV-MA  1 Season   \n",
       "\n",
       "                                            listed_in  \\\n",
       "2   Crime TV Shows, International TV Shows, TV Act...   \n",
       "3                              Docuseries, Reality TV   \n",
       "5                  TV Dramas, TV Horror, TV Mysteries   \n",
       "6                            Children & Family Movies   \n",
       "10  Crime TV Shows, Docuseries, International TV S...   \n",
       "\n",
       "                                          description  \n",
       "2   To protect his family from a powerful drug lor...  \n",
       "3   Feuds, flirtations and toilet talk go down amo...  \n",
       "5   The arrival of a charismatic young priest brin...  \n",
       "6   Equestria's divided. But a bright-eyed hero be...  \n",
       "10  Sicily boasts a bold \"Anti-Mafia\" coalition. B...  "
      ]
     },
     "execution_count": 569,
     "metadata": {},
     "output_type": "execute_result"
    }
   ],
   "source": [
    "df.loc[(df[\"country\"].isnull()) | (df[\"country\"].isna())][:5]"
   ]
  },
  {
   "cell_type": "markdown",
   "id": "b11498b0",
   "metadata": {},
   "source": [
    "### Observation : \n",
    "#### Looks like for both TV Show and Movie, There are missing 'country' and 'director' . Need to reach out to business analyst to see why those are missing. Those missing data need to be tagged appropriately and processed further. "
   ]
  },
  {
   "cell_type": "code",
   "execution_count": 570,
   "id": "a1b65276",
   "metadata": {},
   "outputs": [
    {
     "data": {
      "text/plain": [
       "TV-MA       3207\n",
       "TV-14       2160\n",
       "TV-PG        863\n",
       "R            799\n",
       "PG-13        490\n",
       "TV-Y7        334\n",
       "TV-Y         307\n",
       "PG           287\n",
       "TV-G         220\n",
       "NR            80\n",
       "G             41\n",
       "TV-Y7-FV       6\n",
       "NC-17          3\n",
       "UR             3\n",
       "74 min         1\n",
       "84 min         1\n",
       "66 min         1\n",
       "Name: rating, dtype: int64"
      ]
     },
     "execution_count": 570,
     "metadata": {},
     "output_type": "execute_result"
    }
   ],
   "source": [
    "df[\"rating\"].value_counts()"
   ]
  },
  {
   "cell_type": "code",
   "execution_count": 571,
   "id": "26ba1d78",
   "metadata": {},
   "outputs": [
    {
     "data": {
      "text/plain": [
       "array(['PG-13', 'TV-MA', 'PG', 'TV-14', 'TV-PG', 'TV-Y', 'TV-Y7', 'R',\n",
       "       'TV-G', 'G', 'NC-17', '74 min', '84 min', '66 min', 'NR', nan,\n",
       "       'TV-Y7-FV', 'UR'], dtype=object)"
      ]
     },
     "execution_count": 571,
     "metadata": {},
     "output_type": "execute_result"
    }
   ],
   "source": [
    "df[\"rating\"].unique()"
   ]
  },
  {
   "cell_type": "markdown",
   "id": "2ee1daec",
   "metadata": {},
   "source": [
    "### Observation : \n",
    "#### A few ratings have duration value with units (i.e. 74 mins , 84 min etc.) hence pre processsing is required"
   ]
  },
  {
   "cell_type": "code",
   "execution_count": 572,
   "id": "846a3af0",
   "metadata": {},
   "outputs": [
    {
     "data": {
      "text/html": [
       "<div>\n",
       "<style scoped>\n",
       "    .dataframe tbody tr th:only-of-type {\n",
       "        vertical-align: middle;\n",
       "    }\n",
       "\n",
       "    .dataframe tbody tr th {\n",
       "        vertical-align: top;\n",
       "    }\n",
       "\n",
       "    .dataframe thead th {\n",
       "        text-align: right;\n",
       "    }\n",
       "</style>\n",
       "<table border=\"1\" class=\"dataframe\">\n",
       "  <thead>\n",
       "    <tr style=\"text-align: right;\">\n",
       "      <th></th>\n",
       "      <th>show_id</th>\n",
       "      <th>type</th>\n",
       "      <th>title</th>\n",
       "      <th>director</th>\n",
       "      <th>cast</th>\n",
       "      <th>country</th>\n",
       "      <th>date_added</th>\n",
       "      <th>release_year</th>\n",
       "      <th>rating</th>\n",
       "      <th>duration</th>\n",
       "      <th>listed_in</th>\n",
       "      <th>description</th>\n",
       "    </tr>\n",
       "  </thead>\n",
       "  <tbody>\n",
       "    <tr>\n",
       "      <th>5989</th>\n",
       "      <td>s5990</td>\n",
       "      <td>Movie</td>\n",
       "      <td>13TH: A Conversation with Oprah Winfrey &amp; Ava ...</td>\n",
       "      <td>NaN</td>\n",
       "      <td>Oprah Winfrey, Ava DuVernay</td>\n",
       "      <td>NaN</td>\n",
       "      <td>January 26, 2017</td>\n",
       "      <td>2017</td>\n",
       "      <td>NaN</td>\n",
       "      <td>37 min</td>\n",
       "      <td>Movies</td>\n",
       "      <td>Oprah Winfrey sits down with director Ava DuVe...</td>\n",
       "    </tr>\n",
       "    <tr>\n",
       "      <th>6827</th>\n",
       "      <td>s6828</td>\n",
       "      <td>TV Show</td>\n",
       "      <td>Gargantia on the Verdurous Planet</td>\n",
       "      <td>NaN</td>\n",
       "      <td>Kaito Ishikawa, Hisako Kanemoto, Ai Kayano, Ka...</td>\n",
       "      <td>Japan</td>\n",
       "      <td>December 1, 2016</td>\n",
       "      <td>2013</td>\n",
       "      <td>NaN</td>\n",
       "      <td>1 Season</td>\n",
       "      <td>Anime Series, International TV Shows</td>\n",
       "      <td>After falling through a wormhole, a space-dwel...</td>\n",
       "    </tr>\n",
       "    <tr>\n",
       "      <th>7312</th>\n",
       "      <td>s7313</td>\n",
       "      <td>TV Show</td>\n",
       "      <td>Little Lunch</td>\n",
       "      <td>NaN</td>\n",
       "      <td>Flynn Curry, Olivia Deeble, Madison Lu, Oisín ...</td>\n",
       "      <td>Australia</td>\n",
       "      <td>February 1, 2018</td>\n",
       "      <td>2015</td>\n",
       "      <td>NaN</td>\n",
       "      <td>1 Season</td>\n",
       "      <td>Kids' TV, TV Comedies</td>\n",
       "      <td>Adopting a child's perspective, this show take...</td>\n",
       "    </tr>\n",
       "    <tr>\n",
       "      <th>7537</th>\n",
       "      <td>s7538</td>\n",
       "      <td>Movie</td>\n",
       "      <td>My Honor Was Loyalty</td>\n",
       "      <td>Alessandro Pepe</td>\n",
       "      <td>Leone Frisa, Paolo Vaccarino, Francesco Miglio...</td>\n",
       "      <td>Italy</td>\n",
       "      <td>March 1, 2017</td>\n",
       "      <td>2015</td>\n",
       "      <td>NaN</td>\n",
       "      <td>115 min</td>\n",
       "      <td>Dramas</td>\n",
       "      <td>Amid the chaos and horror of World War II, a c...</td>\n",
       "    </tr>\n",
       "  </tbody>\n",
       "</table>\n",
       "</div>"
      ],
      "text/plain": [
       "     show_id     type                                              title  \\\n",
       "5989   s5990    Movie  13TH: A Conversation with Oprah Winfrey & Ava ...   \n",
       "6827   s6828  TV Show                  Gargantia on the Verdurous Planet   \n",
       "7312   s7313  TV Show                                       Little Lunch   \n",
       "7537   s7538    Movie                               My Honor Was Loyalty   \n",
       "\n",
       "             director                                               cast  \\\n",
       "5989              NaN                        Oprah Winfrey, Ava DuVernay   \n",
       "6827              NaN  Kaito Ishikawa, Hisako Kanemoto, Ai Kayano, Ka...   \n",
       "7312              NaN  Flynn Curry, Olivia Deeble, Madison Lu, Oisín ...   \n",
       "7537  Alessandro Pepe  Leone Frisa, Paolo Vaccarino, Francesco Miglio...   \n",
       "\n",
       "        country        date_added  release_year rating  duration  \\\n",
       "5989        NaN  January 26, 2017          2017    NaN    37 min   \n",
       "6827      Japan  December 1, 2016          2013    NaN  1 Season   \n",
       "7312  Australia  February 1, 2018          2015    NaN  1 Season   \n",
       "7537      Italy     March 1, 2017          2015    NaN   115 min   \n",
       "\n",
       "                                 listed_in  \\\n",
       "5989                                Movies   \n",
       "6827  Anime Series, International TV Shows   \n",
       "7312                 Kids' TV, TV Comedies   \n",
       "7537                                Dramas   \n",
       "\n",
       "                                            description  \n",
       "5989  Oprah Winfrey sits down with director Ava DuVe...  \n",
       "6827  After falling through a wormhole, a space-dwel...  \n",
       "7312  Adopting a child's perspective, this show take...  \n",
       "7537  Amid the chaos and horror of World War II, a c...  "
      ]
     },
     "execution_count": 572,
     "metadata": {},
     "output_type": "execute_result"
    }
   ],
   "source": [
    "df.loc[df[\"rating\"].isnull()]"
   ]
  },
  {
   "cell_type": "markdown",
   "id": "ccf14092",
   "metadata": {},
   "source": [
    "### Observation : \n",
    "#### A few ratings are Null . Need to analyze why "
   ]
  },
  {
   "cell_type": "code",
   "execution_count": 573,
   "id": "d66b37ee",
   "metadata": {},
   "outputs": [
    {
     "data": {
      "text/plain": [
       "1 Season     1793\n",
       "2 Seasons     425\n",
       "3 Seasons     199\n",
       "90 min        152\n",
       "94 min        146\n",
       "             ... \n",
       "16 min          1\n",
       "186 min         1\n",
       "193 min         1\n",
       "189 min         1\n",
       "191 min         1\n",
       "Name: duration, Length: 220, dtype: int64"
      ]
     },
     "execution_count": 573,
     "metadata": {},
     "output_type": "execute_result"
    }
   ],
   "source": [
    "df[\"duration\"].value_counts()"
   ]
  },
  {
   "cell_type": "code",
   "execution_count": 574,
   "id": "5b687714",
   "metadata": {},
   "outputs": [
    {
     "data": {
      "text/html": [
       "<div>\n",
       "<style scoped>\n",
       "    .dataframe tbody tr th:only-of-type {\n",
       "        vertical-align: middle;\n",
       "    }\n",
       "\n",
       "    .dataframe tbody tr th {\n",
       "        vertical-align: top;\n",
       "    }\n",
       "\n",
       "    .dataframe thead th {\n",
       "        text-align: right;\n",
       "    }\n",
       "</style>\n",
       "<table border=\"1\" class=\"dataframe\">\n",
       "  <thead>\n",
       "    <tr style=\"text-align: right;\">\n",
       "      <th></th>\n",
       "      <th>show_id</th>\n",
       "      <th>type</th>\n",
       "      <th>title</th>\n",
       "      <th>director</th>\n",
       "      <th>cast</th>\n",
       "      <th>country</th>\n",
       "      <th>date_added</th>\n",
       "      <th>release_year</th>\n",
       "      <th>rating</th>\n",
       "      <th>duration</th>\n",
       "      <th>listed_in</th>\n",
       "      <th>description</th>\n",
       "    </tr>\n",
       "  </thead>\n",
       "  <tbody>\n",
       "    <tr>\n",
       "      <th>5541</th>\n",
       "      <td>s5542</td>\n",
       "      <td>Movie</td>\n",
       "      <td>Louis C.K. 2017</td>\n",
       "      <td>Louis C.K.</td>\n",
       "      <td>Louis C.K.</td>\n",
       "      <td>United States</td>\n",
       "      <td>April 4, 2017</td>\n",
       "      <td>2017</td>\n",
       "      <td>74 min</td>\n",
       "      <td>NaN</td>\n",
       "      <td>Movies</td>\n",
       "      <td>Louis C.K. muses on religion, eternal love, gi...</td>\n",
       "    </tr>\n",
       "    <tr>\n",
       "      <th>5794</th>\n",
       "      <td>s5795</td>\n",
       "      <td>Movie</td>\n",
       "      <td>Louis C.K.: Hilarious</td>\n",
       "      <td>Louis C.K.</td>\n",
       "      <td>Louis C.K.</td>\n",
       "      <td>United States</td>\n",
       "      <td>September 16, 2016</td>\n",
       "      <td>2010</td>\n",
       "      <td>84 min</td>\n",
       "      <td>NaN</td>\n",
       "      <td>Movies</td>\n",
       "      <td>Emmy-winning comedy writer Louis C.K. brings h...</td>\n",
       "    </tr>\n",
       "    <tr>\n",
       "      <th>5813</th>\n",
       "      <td>s5814</td>\n",
       "      <td>Movie</td>\n",
       "      <td>Louis C.K.: Live at the Comedy Store</td>\n",
       "      <td>Louis C.K.</td>\n",
       "      <td>Louis C.K.</td>\n",
       "      <td>United States</td>\n",
       "      <td>August 15, 2016</td>\n",
       "      <td>2015</td>\n",
       "      <td>66 min</td>\n",
       "      <td>NaN</td>\n",
       "      <td>Movies</td>\n",
       "      <td>The comic puts his trademark hilarious/thought...</td>\n",
       "    </tr>\n",
       "  </tbody>\n",
       "</table>\n",
       "</div>"
      ],
      "text/plain": [
       "     show_id   type                                 title    director  \\\n",
       "5541   s5542  Movie                       Louis C.K. 2017  Louis C.K.   \n",
       "5794   s5795  Movie                 Louis C.K.: Hilarious  Louis C.K.   \n",
       "5813   s5814  Movie  Louis C.K.: Live at the Comedy Store  Louis C.K.   \n",
       "\n",
       "            cast        country          date_added  release_year  rating  \\\n",
       "5541  Louis C.K.  United States       April 4, 2017          2017  74 min   \n",
       "5794  Louis C.K.  United States  September 16, 2016          2010  84 min   \n",
       "5813  Louis C.K.  United States     August 15, 2016          2015  66 min   \n",
       "\n",
       "     duration listed_in                                        description  \n",
       "5541      NaN    Movies  Louis C.K. muses on religion, eternal love, gi...  \n",
       "5794      NaN    Movies  Emmy-winning comedy writer Louis C.K. brings h...  \n",
       "5813      NaN    Movies  The comic puts his trademark hilarious/thought...  "
      ]
     },
     "execution_count": 574,
     "metadata": {},
     "output_type": "execute_result"
    }
   ],
   "source": [
    "df.loc[(df[\"duration\"].isnull()) | (df[\"duration\"].isna())]"
   ]
  },
  {
   "cell_type": "code",
   "execution_count": 575,
   "id": "2b6c0d60",
   "metadata": {},
   "outputs": [
    {
     "data": {
      "text/plain": [
       "Dramas, International Movies                          362\n",
       "Documentaries                                         359\n",
       "Stand-Up Comedy                                       334\n",
       "Comedies, Dramas, International Movies                274\n",
       "Dramas, Independent Movies, International Movies      252\n",
       "                                                     ... \n",
       "Kids' TV, TV Action & Adventure, TV Dramas              1\n",
       "TV Comedies, TV Dramas, TV Horror                       1\n",
       "Children & Family Movies, Comedies, LGBTQ Movies        1\n",
       "Kids' TV, Spanish-Language TV Shows, Teen TV Shows      1\n",
       "Cult Movies, Dramas, Thrillers                          1\n",
       "Name: listed_in, Length: 514, dtype: int64"
      ]
     },
     "execution_count": 575,
     "metadata": {},
     "output_type": "execute_result"
    }
   ],
   "source": [
    "df[\"listed_in\"].value_counts()"
   ]
  },
  {
   "cell_type": "code",
   "execution_count": 576,
   "id": "04f250d8",
   "metadata": {},
   "outputs": [
    {
     "data": {
      "text/html": [
       "<div>\n",
       "<style scoped>\n",
       "    .dataframe tbody tr th:only-of-type {\n",
       "        vertical-align: middle;\n",
       "    }\n",
       "\n",
       "    .dataframe tbody tr th {\n",
       "        vertical-align: top;\n",
       "    }\n",
       "\n",
       "    .dataframe thead th {\n",
       "        text-align: right;\n",
       "    }\n",
       "</style>\n",
       "<table border=\"1\" class=\"dataframe\">\n",
       "  <thead>\n",
       "    <tr style=\"text-align: right;\">\n",
       "      <th></th>\n",
       "      <th>show_id</th>\n",
       "      <th>type</th>\n",
       "      <th>title</th>\n",
       "      <th>director</th>\n",
       "      <th>cast</th>\n",
       "      <th>country</th>\n",
       "      <th>date_added</th>\n",
       "      <th>release_year</th>\n",
       "      <th>rating</th>\n",
       "      <th>duration</th>\n",
       "      <th>listed_in</th>\n",
       "      <th>description</th>\n",
       "    </tr>\n",
       "  </thead>\n",
       "  <tbody>\n",
       "  </tbody>\n",
       "</table>\n",
       "</div>"
      ],
      "text/plain": [
       "Empty DataFrame\n",
       "Columns: [show_id, type, title, director, cast, country, date_added, release_year, rating, duration, listed_in, description]\n",
       "Index: []"
      ]
     },
     "execution_count": 576,
     "metadata": {},
     "output_type": "execute_result"
    }
   ],
   "source": [
    "df.loc[(df[\"listed_in\"].isnull()) | (df[\"listed_in\"].isna())]"
   ]
  },
  {
   "cell_type": "markdown",
   "id": "003843ea",
   "metadata": {},
   "source": [
    "### Observation :  \n",
    "#### \"listed_in\" needs to be pre processed as there are comma sperated values . However no null /Nan values are present . "
   ]
  },
  {
   "cell_type": "markdown",
   "id": "b5bdfddc",
   "metadata": {},
   "source": [
    "## Pre-processing - Excluding feature \"description\" as we're doing basic analysis without NLP"
   ]
  },
  {
   "cell_type": "code",
   "execution_count": 577,
   "id": "aac84f9e",
   "metadata": {},
   "outputs": [],
   "source": [
    "df.drop(\"description\",axis = 1,inplace=True)"
   ]
  },
  {
   "cell_type": "code",
   "execution_count": 578,
   "id": "65439f4c",
   "metadata": {},
   "outputs": [
    {
     "name": "stdout",
     "output_type": "stream",
     "text": [
      "<class 'pandas.core.frame.DataFrame'>\n",
      "RangeIndex: 8807 entries, 0 to 8806\n",
      "Data columns (total 11 columns):\n",
      " #   Column        Non-Null Count  Dtype \n",
      "---  ------        --------------  ----- \n",
      " 0   show_id       8807 non-null   object\n",
      " 1   type          8807 non-null   object\n",
      " 2   title         8807 non-null   object\n",
      " 3   director      6173 non-null   object\n",
      " 4   cast          7982 non-null   object\n",
      " 5   country       7976 non-null   object\n",
      " 6   date_added    8797 non-null   object\n",
      " 7   release_year  8807 non-null   int64 \n",
      " 8   rating        8803 non-null   object\n",
      " 9   duration      8804 non-null   object\n",
      " 10  listed_in     8807 non-null   object\n",
      "dtypes: int64(1), object(10)\n",
      "memory usage: 757.0+ KB\n"
     ]
    }
   ],
   "source": [
    "# checking \"description\" feature was dropped or not \n",
    "df.info()"
   ]
  },
  {
   "cell_type": "code",
   "execution_count": 579,
   "id": "20ed12f3",
   "metadata": {},
   "outputs": [],
   "source": [
    "# Pre-processing -   \"cast\" , \"country\", \"listed_in\" - Needs to be melted as multiple comma seperated values \n",
    "#                    \"rating\" have duration i.e. 74 mins , 84 min etc. Some pre processsing is required\n",
    "    \n",
    "# Missing values -   \"director\" feature has multiple Nan values\n",
    "#                    Looks like for both TV Show and Movie, country and director is null.Need further analysis\n",
    "#                    A few ratings are Null . Need to analyze why "
   ]
  },
  {
   "cell_type": "markdown",
   "id": "d05fd3b2",
   "metadata": {},
   "source": [
    "### Pre-processing 1.1   -   Melt comma sperated colums \"cast\" , \"country\", \"listed_in\""
   ]
  },
  {
   "cell_type": "code",
   "execution_count": 580,
   "id": "de95d37f",
   "metadata": {},
   "outputs": [],
   "source": [
    "cast_list = df['cast'].apply(lambda x:str(x).split(\", \")).to_list()\n",
    "df_title_to_cast = pd.DataFrame(cast_list,index=df['title']) # converting casts into panda series index by title \n",
    "df_title_to_cast = df_title_to_cast.stack() # level wise stacking \n",
    "df_title_to_cast = pd.DataFrame(df_title_to_cast)\n",
    "df_title_to_cast.reset_index(inplace=True)\n",
    "df_title_to_cast.drop(\"level_1\", axis = 1, inplace=True)\n",
    "df_title_to_cast.rename(columns = {0:'cast'}, inplace = True)"
   ]
  },
  {
   "cell_type": "code",
   "execution_count": 581,
   "id": "50f4f598",
   "metadata": {},
   "outputs": [
    {
     "data": {
      "text/html": [
       "<div>\n",
       "<style scoped>\n",
       "    .dataframe tbody tr th:only-of-type {\n",
       "        vertical-align: middle;\n",
       "    }\n",
       "\n",
       "    .dataframe tbody tr th {\n",
       "        vertical-align: top;\n",
       "    }\n",
       "\n",
       "    .dataframe thead th {\n",
       "        text-align: right;\n",
       "    }\n",
       "</style>\n",
       "<table border=\"1\" class=\"dataframe\">\n",
       "  <thead>\n",
       "    <tr style=\"text-align: right;\">\n",
       "      <th></th>\n",
       "      <th>title</th>\n",
       "      <th>cast</th>\n",
       "    </tr>\n",
       "  </thead>\n",
       "  <tbody>\n",
       "    <tr>\n",
       "      <th>0</th>\n",
       "      <td>Dick Johnson Is Dead</td>\n",
       "      <td>nan</td>\n",
       "    </tr>\n",
       "    <tr>\n",
       "      <th>1</th>\n",
       "      <td>Blood &amp; Water</td>\n",
       "      <td>Ama Qamata</td>\n",
       "    </tr>\n",
       "    <tr>\n",
       "      <th>2</th>\n",
       "      <td>Blood &amp; Water</td>\n",
       "      <td>Khosi Ngema</td>\n",
       "    </tr>\n",
       "    <tr>\n",
       "      <th>3</th>\n",
       "      <td>Blood &amp; Water</td>\n",
       "      <td>Gail Mabalane</td>\n",
       "    </tr>\n",
       "    <tr>\n",
       "      <th>4</th>\n",
       "      <td>Blood &amp; Water</td>\n",
       "      <td>Thabang Molaba</td>\n",
       "    </tr>\n",
       "  </tbody>\n",
       "</table>\n",
       "</div>"
      ],
      "text/plain": [
       "                  title            cast\n",
       "0  Dick Johnson Is Dead             nan\n",
       "1         Blood & Water      Ama Qamata\n",
       "2         Blood & Water     Khosi Ngema\n",
       "3         Blood & Water   Gail Mabalane\n",
       "4         Blood & Water  Thabang Molaba"
      ]
     },
     "execution_count": 581,
     "metadata": {},
     "output_type": "execute_result"
    }
   ],
   "source": [
    "df_title_to_cast.head()"
   ]
  },
  {
   "cell_type": "code",
   "execution_count": 582,
   "id": "b8326726",
   "metadata": {},
   "outputs": [
    {
     "data": {
      "text/plain": [
       "(64951, 2)"
      ]
     },
     "execution_count": 582,
     "metadata": {},
     "output_type": "execute_result"
    }
   ],
   "source": [
    "df_title_to_cast.shape"
   ]
  },
  {
   "cell_type": "code",
   "execution_count": 583,
   "id": "287858bf",
   "metadata": {},
   "outputs": [],
   "source": [
    "country_list = df[\"country\"].apply(lambda x: str(x).split(\", \")).to_list()\n",
    "df_title_to_country = pd.DataFrame(country_list,index=df[\"title\"])\n",
    "df_title_to_country = df_title_to_country.stack()\n",
    "df_title_to_country = pd.DataFrame(df_title_to_country)\n",
    "df_title_to_country.reset_index(inplace = True)\n",
    "df_title_to_country.drop(\"level_1\",axis = 1 , inplace= True)\n",
    "df_title_to_country.rename(columns = {0:'country'}, inplace = True)"
   ]
  },
  {
   "cell_type": "code",
   "execution_count": 584,
   "id": "07a02ee2",
   "metadata": {},
   "outputs": [
    {
     "data": {
      "text/plain": [
       "(10845, 2)"
      ]
     },
     "execution_count": 584,
     "metadata": {},
     "output_type": "execute_result"
    }
   ],
   "source": [
    "df_title_to_country.shape"
   ]
  },
  {
   "cell_type": "code",
   "execution_count": 585,
   "id": "7a1ee593",
   "metadata": {},
   "outputs": [
    {
     "data": {
      "text/html": [
       "<div>\n",
       "<style scoped>\n",
       "    .dataframe tbody tr th:only-of-type {\n",
       "        vertical-align: middle;\n",
       "    }\n",
       "\n",
       "    .dataframe tbody tr th {\n",
       "        vertical-align: top;\n",
       "    }\n",
       "\n",
       "    .dataframe thead th {\n",
       "        text-align: right;\n",
       "    }\n",
       "</style>\n",
       "<table border=\"1\" class=\"dataframe\">\n",
       "  <thead>\n",
       "    <tr style=\"text-align: right;\">\n",
       "      <th></th>\n",
       "      <th>title</th>\n",
       "      <th>country</th>\n",
       "    </tr>\n",
       "  </thead>\n",
       "  <tbody>\n",
       "    <tr>\n",
       "      <th>0</th>\n",
       "      <td>Dick Johnson Is Dead</td>\n",
       "      <td>United States</td>\n",
       "    </tr>\n",
       "    <tr>\n",
       "      <th>1</th>\n",
       "      <td>Blood &amp; Water</td>\n",
       "      <td>South Africa</td>\n",
       "    </tr>\n",
       "    <tr>\n",
       "      <th>2</th>\n",
       "      <td>Ganglands</td>\n",
       "      <td>nan</td>\n",
       "    </tr>\n",
       "    <tr>\n",
       "      <th>3</th>\n",
       "      <td>Jailbirds New Orleans</td>\n",
       "      <td>nan</td>\n",
       "    </tr>\n",
       "    <tr>\n",
       "      <th>4</th>\n",
       "      <td>Kota Factory</td>\n",
       "      <td>India</td>\n",
       "    </tr>\n",
       "  </tbody>\n",
       "</table>\n",
       "</div>"
      ],
      "text/plain": [
       "                   title        country\n",
       "0   Dick Johnson Is Dead  United States\n",
       "1          Blood & Water   South Africa\n",
       "2              Ganglands            nan\n",
       "3  Jailbirds New Orleans            nan\n",
       "4           Kota Factory          India"
      ]
     },
     "execution_count": 585,
     "metadata": {},
     "output_type": "execute_result"
    }
   ],
   "source": [
    "df_title_to_country.head()"
   ]
  },
  {
   "cell_type": "code",
   "execution_count": 586,
   "id": "0573e1cb",
   "metadata": {},
   "outputs": [
    {
     "data": {
      "text/plain": [
       "0                                        Documentaries\n",
       "1      International TV Shows, TV Dramas, TV Mysteries\n",
       "2    Crime TV Shows, International TV Shows, TV Act...\n",
       "3                               Docuseries, Reality TV\n",
       "4    International TV Shows, Romantic TV Shows, TV ...\n",
       "Name: listed_in, dtype: object"
      ]
     },
     "execution_count": 586,
     "metadata": {},
     "output_type": "execute_result"
    }
   ],
   "source": [
    "df[\"listed_in\"].head()"
   ]
  },
  {
   "cell_type": "code",
   "execution_count": 587,
   "id": "a1a0de91",
   "metadata": {},
   "outputs": [],
   "source": [
    "listed_in_list = df[\"listed_in\"].apply(lambda x: str(x).split()).to_list()\n",
    "df_title_to_listed = pd.DataFrame(listed_in_list,index=df[\"title\"])\n",
    "df_title_to_listed = df_title_to_listed.stack()\n",
    "df_title_to_listed = pd.DataFrame(df_title_to_listed)\n",
    "df_title_to_listed.reset_index(inplace= True)\n",
    "df_title_to_listed.drop(\"level_1\", axis = 1, inplace = True)\n",
    "df_title_to_listed.rename(columns={0:'listed_in'},inplace = True)"
   ]
  },
  {
   "cell_type": "code",
   "execution_count": 588,
   "id": "7a6267c1",
   "metadata": {},
   "outputs": [
    {
     "data": {
      "text/plain": [
       "(39221, 2)"
      ]
     },
     "execution_count": 588,
     "metadata": {},
     "output_type": "execute_result"
    }
   ],
   "source": [
    "df_title_to_listed.shape"
   ]
  },
  {
   "cell_type": "code",
   "execution_count": 589,
   "id": "9e3cc9dd",
   "metadata": {},
   "outputs": [
    {
     "data": {
      "text/html": [
       "<div>\n",
       "<style scoped>\n",
       "    .dataframe tbody tr th:only-of-type {\n",
       "        vertical-align: middle;\n",
       "    }\n",
       "\n",
       "    .dataframe tbody tr th {\n",
       "        vertical-align: top;\n",
       "    }\n",
       "\n",
       "    .dataframe thead th {\n",
       "        text-align: right;\n",
       "    }\n",
       "</style>\n",
       "<table border=\"1\" class=\"dataframe\">\n",
       "  <thead>\n",
       "    <tr style=\"text-align: right;\">\n",
       "      <th></th>\n",
       "      <th>title</th>\n",
       "      <th>listed_in</th>\n",
       "    </tr>\n",
       "  </thead>\n",
       "  <tbody>\n",
       "    <tr>\n",
       "      <th>0</th>\n",
       "      <td>Dick Johnson Is Dead</td>\n",
       "      <td>Documentaries</td>\n",
       "    </tr>\n",
       "    <tr>\n",
       "      <th>1</th>\n",
       "      <td>Blood &amp; Water</td>\n",
       "      <td>International</td>\n",
       "    </tr>\n",
       "    <tr>\n",
       "      <th>2</th>\n",
       "      <td>Blood &amp; Water</td>\n",
       "      <td>TV</td>\n",
       "    </tr>\n",
       "    <tr>\n",
       "      <th>3</th>\n",
       "      <td>Blood &amp; Water</td>\n",
       "      <td>Shows,</td>\n",
       "    </tr>\n",
       "    <tr>\n",
       "      <th>4</th>\n",
       "      <td>Blood &amp; Water</td>\n",
       "      <td>TV</td>\n",
       "    </tr>\n",
       "  </tbody>\n",
       "</table>\n",
       "</div>"
      ],
      "text/plain": [
       "                  title      listed_in\n",
       "0  Dick Johnson Is Dead  Documentaries\n",
       "1         Blood & Water  International\n",
       "2         Blood & Water             TV\n",
       "3         Blood & Water         Shows,\n",
       "4         Blood & Water             TV"
      ]
     },
     "execution_count": 589,
     "metadata": {},
     "output_type": "execute_result"
    }
   ],
   "source": [
    "df_title_to_listed.head()"
   ]
  },
  {
   "cell_type": "code",
   "execution_count": 590,
   "id": "d78a9dae",
   "metadata": {},
   "outputs": [
    {
     "data": {
      "text/html": [
       "<div>\n",
       "<style scoped>\n",
       "    .dataframe tbody tr th:only-of-type {\n",
       "        vertical-align: middle;\n",
       "    }\n",
       "\n",
       "    .dataframe tbody tr th {\n",
       "        vertical-align: top;\n",
       "    }\n",
       "\n",
       "    .dataframe thead th {\n",
       "        text-align: right;\n",
       "    }\n",
       "</style>\n",
       "<table border=\"1\" class=\"dataframe\">\n",
       "  <thead>\n",
       "    <tr style=\"text-align: right;\">\n",
       "      <th></th>\n",
       "      <th>show_id</th>\n",
       "      <th>type</th>\n",
       "      <th>title</th>\n",
       "      <th>director</th>\n",
       "      <th>cast</th>\n",
       "      <th>country</th>\n",
       "      <th>date_added</th>\n",
       "      <th>release_year</th>\n",
       "      <th>rating</th>\n",
       "      <th>duration</th>\n",
       "      <th>listed_in</th>\n",
       "    </tr>\n",
       "  </thead>\n",
       "  <tbody>\n",
       "    <tr>\n",
       "      <th>0</th>\n",
       "      <td>s1</td>\n",
       "      <td>Movie</td>\n",
       "      <td>Dick Johnson Is Dead</td>\n",
       "      <td>Kirsten Johnson</td>\n",
       "      <td>NaN</td>\n",
       "      <td>United States</td>\n",
       "      <td>September 25, 2021</td>\n",
       "      <td>2020</td>\n",
       "      <td>PG-13</td>\n",
       "      <td>90 min</td>\n",
       "      <td>Documentaries</td>\n",
       "    </tr>\n",
       "    <tr>\n",
       "      <th>1</th>\n",
       "      <td>s2</td>\n",
       "      <td>TV Show</td>\n",
       "      <td>Blood &amp; Water</td>\n",
       "      <td>NaN</td>\n",
       "      <td>Ama Qamata, Khosi Ngema, Gail Mabalane, Thaban...</td>\n",
       "      <td>South Africa</td>\n",
       "      <td>September 24, 2021</td>\n",
       "      <td>2021</td>\n",
       "      <td>TV-MA</td>\n",
       "      <td>2 Seasons</td>\n",
       "      <td>International TV Shows, TV Dramas, TV Mysteries</td>\n",
       "    </tr>\n",
       "    <tr>\n",
       "      <th>2</th>\n",
       "      <td>s3</td>\n",
       "      <td>TV Show</td>\n",
       "      <td>Ganglands</td>\n",
       "      <td>Julien Leclercq</td>\n",
       "      <td>Sami Bouajila, Tracy Gotoas, Samuel Jouy, Nabi...</td>\n",
       "      <td>NaN</td>\n",
       "      <td>September 24, 2021</td>\n",
       "      <td>2021</td>\n",
       "      <td>TV-MA</td>\n",
       "      <td>1 Season</td>\n",
       "      <td>Crime TV Shows, International TV Shows, TV Act...</td>\n",
       "    </tr>\n",
       "    <tr>\n",
       "      <th>3</th>\n",
       "      <td>s4</td>\n",
       "      <td>TV Show</td>\n",
       "      <td>Jailbirds New Orleans</td>\n",
       "      <td>NaN</td>\n",
       "      <td>NaN</td>\n",
       "      <td>NaN</td>\n",
       "      <td>September 24, 2021</td>\n",
       "      <td>2021</td>\n",
       "      <td>TV-MA</td>\n",
       "      <td>1 Season</td>\n",
       "      <td>Docuseries, Reality TV</td>\n",
       "    </tr>\n",
       "    <tr>\n",
       "      <th>4</th>\n",
       "      <td>s5</td>\n",
       "      <td>TV Show</td>\n",
       "      <td>Kota Factory</td>\n",
       "      <td>NaN</td>\n",
       "      <td>Mayur More, Jitendra Kumar, Ranjan Raj, Alam K...</td>\n",
       "      <td>India</td>\n",
       "      <td>September 24, 2021</td>\n",
       "      <td>2021</td>\n",
       "      <td>TV-MA</td>\n",
       "      <td>2 Seasons</td>\n",
       "      <td>International TV Shows, Romantic TV Shows, TV ...</td>\n",
       "    </tr>\n",
       "  </tbody>\n",
       "</table>\n",
       "</div>"
      ],
      "text/plain": [
       "  show_id     type                  title         director  \\\n",
       "0      s1    Movie   Dick Johnson Is Dead  Kirsten Johnson   \n",
       "1      s2  TV Show          Blood & Water              NaN   \n",
       "2      s3  TV Show              Ganglands  Julien Leclercq   \n",
       "3      s4  TV Show  Jailbirds New Orleans              NaN   \n",
       "4      s5  TV Show           Kota Factory              NaN   \n",
       "\n",
       "                                                cast        country  \\\n",
       "0                                                NaN  United States   \n",
       "1  Ama Qamata, Khosi Ngema, Gail Mabalane, Thaban...   South Africa   \n",
       "2  Sami Bouajila, Tracy Gotoas, Samuel Jouy, Nabi...            NaN   \n",
       "3                                                NaN            NaN   \n",
       "4  Mayur More, Jitendra Kumar, Ranjan Raj, Alam K...          India   \n",
       "\n",
       "           date_added  release_year rating   duration  \\\n",
       "0  September 25, 2021          2020  PG-13     90 min   \n",
       "1  September 24, 2021          2021  TV-MA  2 Seasons   \n",
       "2  September 24, 2021          2021  TV-MA   1 Season   \n",
       "3  September 24, 2021          2021  TV-MA   1 Season   \n",
       "4  September 24, 2021          2021  TV-MA  2 Seasons   \n",
       "\n",
       "                                           listed_in  \n",
       "0                                      Documentaries  \n",
       "1    International TV Shows, TV Dramas, TV Mysteries  \n",
       "2  Crime TV Shows, International TV Shows, TV Act...  \n",
       "3                             Docuseries, Reality TV  \n",
       "4  International TV Shows, Romantic TV Shows, TV ...  "
      ]
     },
     "execution_count": 590,
     "metadata": {},
     "output_type": "execute_result"
    }
   ],
   "source": [
    "df.head()"
   ]
  },
  {
   "cell_type": "code",
   "execution_count": 591,
   "id": "75fdb85f",
   "metadata": {},
   "outputs": [],
   "source": [
    "df_tiltle_cast_country = df_title_to_cast.merge(df_title_to_country,on=\"title\")"
   ]
  },
  {
   "cell_type": "code",
   "execution_count": 592,
   "id": "f3672be4",
   "metadata": {},
   "outputs": [
    {
     "data": {
      "text/html": [
       "<div>\n",
       "<style scoped>\n",
       "    .dataframe tbody tr th:only-of-type {\n",
       "        vertical-align: middle;\n",
       "    }\n",
       "\n",
       "    .dataframe tbody tr th {\n",
       "        vertical-align: top;\n",
       "    }\n",
       "\n",
       "    .dataframe thead th {\n",
       "        text-align: right;\n",
       "    }\n",
       "</style>\n",
       "<table border=\"1\" class=\"dataframe\">\n",
       "  <thead>\n",
       "    <tr style=\"text-align: right;\">\n",
       "      <th></th>\n",
       "      <th>title</th>\n",
       "      <th>cast</th>\n",
       "      <th>country</th>\n",
       "    </tr>\n",
       "  </thead>\n",
       "  <tbody>\n",
       "    <tr>\n",
       "      <th>0</th>\n",
       "      <td>Dick Johnson Is Dead</td>\n",
       "      <td>nan</td>\n",
       "      <td>United States</td>\n",
       "    </tr>\n",
       "    <tr>\n",
       "      <th>1</th>\n",
       "      <td>Blood &amp; Water</td>\n",
       "      <td>Ama Qamata</td>\n",
       "      <td>South Africa</td>\n",
       "    </tr>\n",
       "    <tr>\n",
       "      <th>2</th>\n",
       "      <td>Blood &amp; Water</td>\n",
       "      <td>Khosi Ngema</td>\n",
       "      <td>South Africa</td>\n",
       "    </tr>\n",
       "    <tr>\n",
       "      <th>3</th>\n",
       "      <td>Blood &amp; Water</td>\n",
       "      <td>Gail Mabalane</td>\n",
       "      <td>South Africa</td>\n",
       "    </tr>\n",
       "    <tr>\n",
       "      <th>4</th>\n",
       "      <td>Blood &amp; Water</td>\n",
       "      <td>Thabang Molaba</td>\n",
       "      <td>South Africa</td>\n",
       "    </tr>\n",
       "  </tbody>\n",
       "</table>\n",
       "</div>"
      ],
      "text/plain": [
       "                  title            cast        country\n",
       "0  Dick Johnson Is Dead             nan  United States\n",
       "1         Blood & Water      Ama Qamata   South Africa\n",
       "2         Blood & Water     Khosi Ngema   South Africa\n",
       "3         Blood & Water   Gail Mabalane   South Africa\n",
       "4         Blood & Water  Thabang Molaba   South Africa"
      ]
     },
     "execution_count": 592,
     "metadata": {},
     "output_type": "execute_result"
    }
   ],
   "source": [
    "df_tiltle_cast_country.head()"
   ]
  },
  {
   "cell_type": "code",
   "execution_count": 593,
   "id": "2c72786b",
   "metadata": {},
   "outputs": [],
   "source": [
    "df_tiltle_cast_country_list_in = df_tiltle_cast_country.merge(df_title_to_listed,on=\"title\")"
   ]
  },
  {
   "cell_type": "code",
   "execution_count": 594,
   "id": "930bfb81",
   "metadata": {},
   "outputs": [
    {
     "data": {
      "text/html": [
       "<div>\n",
       "<style scoped>\n",
       "    .dataframe tbody tr th:only-of-type {\n",
       "        vertical-align: middle;\n",
       "    }\n",
       "\n",
       "    .dataframe tbody tr th {\n",
       "        vertical-align: top;\n",
       "    }\n",
       "\n",
       "    .dataframe thead th {\n",
       "        text-align: right;\n",
       "    }\n",
       "</style>\n",
       "<table border=\"1\" class=\"dataframe\">\n",
       "  <thead>\n",
       "    <tr style=\"text-align: right;\">\n",
       "      <th></th>\n",
       "      <th>title</th>\n",
       "      <th>cast</th>\n",
       "      <th>country</th>\n",
       "      <th>listed_in</th>\n",
       "    </tr>\n",
       "  </thead>\n",
       "  <tbody>\n",
       "    <tr>\n",
       "      <th>0</th>\n",
       "      <td>Dick Johnson Is Dead</td>\n",
       "      <td>nan</td>\n",
       "      <td>United States</td>\n",
       "      <td>Documentaries</td>\n",
       "    </tr>\n",
       "    <tr>\n",
       "      <th>1</th>\n",
       "      <td>Blood &amp; Water</td>\n",
       "      <td>Ama Qamata</td>\n",
       "      <td>South Africa</td>\n",
       "      <td>International</td>\n",
       "    </tr>\n",
       "    <tr>\n",
       "      <th>2</th>\n",
       "      <td>Blood &amp; Water</td>\n",
       "      <td>Ama Qamata</td>\n",
       "      <td>South Africa</td>\n",
       "      <td>TV</td>\n",
       "    </tr>\n",
       "    <tr>\n",
       "      <th>3</th>\n",
       "      <td>Blood &amp; Water</td>\n",
       "      <td>Ama Qamata</td>\n",
       "      <td>South Africa</td>\n",
       "      <td>Shows,</td>\n",
       "    </tr>\n",
       "    <tr>\n",
       "      <th>4</th>\n",
       "      <td>Blood &amp; Water</td>\n",
       "      <td>Ama Qamata</td>\n",
       "      <td>South Africa</td>\n",
       "      <td>TV</td>\n",
       "    </tr>\n",
       "  </tbody>\n",
       "</table>\n",
       "</div>"
      ],
      "text/plain": [
       "                  title        cast        country      listed_in\n",
       "0  Dick Johnson Is Dead         nan  United States  Documentaries\n",
       "1         Blood & Water  Ama Qamata   South Africa  International\n",
       "2         Blood & Water  Ama Qamata   South Africa             TV\n",
       "3         Blood & Water  Ama Qamata   South Africa         Shows,\n",
       "4         Blood & Water  Ama Qamata   South Africa             TV"
      ]
     },
     "execution_count": 594,
     "metadata": {},
     "output_type": "execute_result"
    }
   ],
   "source": [
    "df_tiltle_cast_country_list_in.head()"
   ]
  },
  {
   "cell_type": "code",
   "execution_count": 595,
   "id": "0d4a2588",
   "metadata": {},
   "outputs": [
    {
     "data": {
      "text/html": [
       "<div>\n",
       "<style scoped>\n",
       "    .dataframe tbody tr th:only-of-type {\n",
       "        vertical-align: middle;\n",
       "    }\n",
       "\n",
       "    .dataframe tbody tr th {\n",
       "        vertical-align: top;\n",
       "    }\n",
       "\n",
       "    .dataframe thead th {\n",
       "        text-align: right;\n",
       "    }\n",
       "</style>\n",
       "<table border=\"1\" class=\"dataframe\">\n",
       "  <thead>\n",
       "    <tr style=\"text-align: right;\">\n",
       "      <th></th>\n",
       "      <th>show_id</th>\n",
       "      <th>type</th>\n",
       "      <th>title</th>\n",
       "      <th>director</th>\n",
       "      <th>cast</th>\n",
       "      <th>country</th>\n",
       "      <th>date_added</th>\n",
       "      <th>release_year</th>\n",
       "      <th>rating</th>\n",
       "      <th>duration</th>\n",
       "      <th>listed_in</th>\n",
       "    </tr>\n",
       "  </thead>\n",
       "  <tbody>\n",
       "    <tr>\n",
       "      <th>0</th>\n",
       "      <td>s1</td>\n",
       "      <td>Movie</td>\n",
       "      <td>Dick Johnson Is Dead</td>\n",
       "      <td>Kirsten Johnson</td>\n",
       "      <td>NaN</td>\n",
       "      <td>United States</td>\n",
       "      <td>September 25, 2021</td>\n",
       "      <td>2020</td>\n",
       "      <td>PG-13</td>\n",
       "      <td>90 min</td>\n",
       "      <td>Documentaries</td>\n",
       "    </tr>\n",
       "    <tr>\n",
       "      <th>1</th>\n",
       "      <td>s2</td>\n",
       "      <td>TV Show</td>\n",
       "      <td>Blood &amp; Water</td>\n",
       "      <td>NaN</td>\n",
       "      <td>Ama Qamata, Khosi Ngema, Gail Mabalane, Thaban...</td>\n",
       "      <td>South Africa</td>\n",
       "      <td>September 24, 2021</td>\n",
       "      <td>2021</td>\n",
       "      <td>TV-MA</td>\n",
       "      <td>2 Seasons</td>\n",
       "      <td>International TV Shows, TV Dramas, TV Mysteries</td>\n",
       "    </tr>\n",
       "    <tr>\n",
       "      <th>2</th>\n",
       "      <td>s3</td>\n",
       "      <td>TV Show</td>\n",
       "      <td>Ganglands</td>\n",
       "      <td>Julien Leclercq</td>\n",
       "      <td>Sami Bouajila, Tracy Gotoas, Samuel Jouy, Nabi...</td>\n",
       "      <td>NaN</td>\n",
       "      <td>September 24, 2021</td>\n",
       "      <td>2021</td>\n",
       "      <td>TV-MA</td>\n",
       "      <td>1 Season</td>\n",
       "      <td>Crime TV Shows, International TV Shows, TV Act...</td>\n",
       "    </tr>\n",
       "    <tr>\n",
       "      <th>3</th>\n",
       "      <td>s4</td>\n",
       "      <td>TV Show</td>\n",
       "      <td>Jailbirds New Orleans</td>\n",
       "      <td>NaN</td>\n",
       "      <td>NaN</td>\n",
       "      <td>NaN</td>\n",
       "      <td>September 24, 2021</td>\n",
       "      <td>2021</td>\n",
       "      <td>TV-MA</td>\n",
       "      <td>1 Season</td>\n",
       "      <td>Docuseries, Reality TV</td>\n",
       "    </tr>\n",
       "    <tr>\n",
       "      <th>4</th>\n",
       "      <td>s5</td>\n",
       "      <td>TV Show</td>\n",
       "      <td>Kota Factory</td>\n",
       "      <td>NaN</td>\n",
       "      <td>Mayur More, Jitendra Kumar, Ranjan Raj, Alam K...</td>\n",
       "      <td>India</td>\n",
       "      <td>September 24, 2021</td>\n",
       "      <td>2021</td>\n",
       "      <td>TV-MA</td>\n",
       "      <td>2 Seasons</td>\n",
       "      <td>International TV Shows, Romantic TV Shows, TV ...</td>\n",
       "    </tr>\n",
       "  </tbody>\n",
       "</table>\n",
       "</div>"
      ],
      "text/plain": [
       "  show_id     type                  title         director  \\\n",
       "0      s1    Movie   Dick Johnson Is Dead  Kirsten Johnson   \n",
       "1      s2  TV Show          Blood & Water              NaN   \n",
       "2      s3  TV Show              Ganglands  Julien Leclercq   \n",
       "3      s4  TV Show  Jailbirds New Orleans              NaN   \n",
       "4      s5  TV Show           Kota Factory              NaN   \n",
       "\n",
       "                                                cast        country  \\\n",
       "0                                                NaN  United States   \n",
       "1  Ama Qamata, Khosi Ngema, Gail Mabalane, Thaban...   South Africa   \n",
       "2  Sami Bouajila, Tracy Gotoas, Samuel Jouy, Nabi...            NaN   \n",
       "3                                                NaN            NaN   \n",
       "4  Mayur More, Jitendra Kumar, Ranjan Raj, Alam K...          India   \n",
       "\n",
       "           date_added  release_year rating   duration  \\\n",
       "0  September 25, 2021          2020  PG-13     90 min   \n",
       "1  September 24, 2021          2021  TV-MA  2 Seasons   \n",
       "2  September 24, 2021          2021  TV-MA   1 Season   \n",
       "3  September 24, 2021          2021  TV-MA   1 Season   \n",
       "4  September 24, 2021          2021  TV-MA  2 Seasons   \n",
       "\n",
       "                                           listed_in  \n",
       "0                                      Documentaries  \n",
       "1    International TV Shows, TV Dramas, TV Mysteries  \n",
       "2  Crime TV Shows, International TV Shows, TV Act...  \n",
       "3                             Docuseries, Reality TV  \n",
       "4  International TV Shows, Romantic TV Shows, TV ...  "
      ]
     },
     "execution_count": 595,
     "metadata": {},
     "output_type": "execute_result"
    }
   ],
   "source": [
    "df.head()"
   ]
  },
  {
   "cell_type": "code",
   "execution_count": 596,
   "id": "02a127bd",
   "metadata": {},
   "outputs": [],
   "source": [
    "df_selected = df[[\"show_id\",\"type\",\"title\",\"director\",\"date_added\",\"release_year\",\"rating\",\"duration\"]]"
   ]
  },
  {
   "cell_type": "code",
   "execution_count": 597,
   "id": "f752a467",
   "metadata": {},
   "outputs": [
    {
     "data": {
      "text/html": [
       "<div>\n",
       "<style scoped>\n",
       "    .dataframe tbody tr th:only-of-type {\n",
       "        vertical-align: middle;\n",
       "    }\n",
       "\n",
       "    .dataframe tbody tr th {\n",
       "        vertical-align: top;\n",
       "    }\n",
       "\n",
       "    .dataframe thead th {\n",
       "        text-align: right;\n",
       "    }\n",
       "</style>\n",
       "<table border=\"1\" class=\"dataframe\">\n",
       "  <thead>\n",
       "    <tr style=\"text-align: right;\">\n",
       "      <th></th>\n",
       "      <th>show_id</th>\n",
       "      <th>type</th>\n",
       "      <th>title</th>\n",
       "      <th>director</th>\n",
       "      <th>date_added</th>\n",
       "      <th>release_year</th>\n",
       "      <th>rating</th>\n",
       "      <th>duration</th>\n",
       "    </tr>\n",
       "  </thead>\n",
       "  <tbody>\n",
       "    <tr>\n",
       "      <th>0</th>\n",
       "      <td>s1</td>\n",
       "      <td>Movie</td>\n",
       "      <td>Dick Johnson Is Dead</td>\n",
       "      <td>Kirsten Johnson</td>\n",
       "      <td>September 25, 2021</td>\n",
       "      <td>2020</td>\n",
       "      <td>PG-13</td>\n",
       "      <td>90 min</td>\n",
       "    </tr>\n",
       "    <tr>\n",
       "      <th>1</th>\n",
       "      <td>s2</td>\n",
       "      <td>TV Show</td>\n",
       "      <td>Blood &amp; Water</td>\n",
       "      <td>NaN</td>\n",
       "      <td>September 24, 2021</td>\n",
       "      <td>2021</td>\n",
       "      <td>TV-MA</td>\n",
       "      <td>2 Seasons</td>\n",
       "    </tr>\n",
       "    <tr>\n",
       "      <th>2</th>\n",
       "      <td>s3</td>\n",
       "      <td>TV Show</td>\n",
       "      <td>Ganglands</td>\n",
       "      <td>Julien Leclercq</td>\n",
       "      <td>September 24, 2021</td>\n",
       "      <td>2021</td>\n",
       "      <td>TV-MA</td>\n",
       "      <td>1 Season</td>\n",
       "    </tr>\n",
       "    <tr>\n",
       "      <th>3</th>\n",
       "      <td>s4</td>\n",
       "      <td>TV Show</td>\n",
       "      <td>Jailbirds New Orleans</td>\n",
       "      <td>NaN</td>\n",
       "      <td>September 24, 2021</td>\n",
       "      <td>2021</td>\n",
       "      <td>TV-MA</td>\n",
       "      <td>1 Season</td>\n",
       "    </tr>\n",
       "    <tr>\n",
       "      <th>4</th>\n",
       "      <td>s5</td>\n",
       "      <td>TV Show</td>\n",
       "      <td>Kota Factory</td>\n",
       "      <td>NaN</td>\n",
       "      <td>September 24, 2021</td>\n",
       "      <td>2021</td>\n",
       "      <td>TV-MA</td>\n",
       "      <td>2 Seasons</td>\n",
       "    </tr>\n",
       "  </tbody>\n",
       "</table>\n",
       "</div>"
      ],
      "text/plain": [
       "  show_id     type                  title         director  \\\n",
       "0      s1    Movie   Dick Johnson Is Dead  Kirsten Johnson   \n",
       "1      s2  TV Show          Blood & Water              NaN   \n",
       "2      s3  TV Show              Ganglands  Julien Leclercq   \n",
       "3      s4  TV Show  Jailbirds New Orleans              NaN   \n",
       "4      s5  TV Show           Kota Factory              NaN   \n",
       "\n",
       "           date_added  release_year rating   duration  \n",
       "0  September 25, 2021          2020  PG-13     90 min  \n",
       "1  September 24, 2021          2021  TV-MA  2 Seasons  \n",
       "2  September 24, 2021          2021  TV-MA   1 Season  \n",
       "3  September 24, 2021          2021  TV-MA   1 Season  \n",
       "4  September 24, 2021          2021  TV-MA  2 Seasons  "
      ]
     },
     "execution_count": 597,
     "metadata": {},
     "output_type": "execute_result"
    }
   ],
   "source": [
    "df_selected.head()"
   ]
  },
  {
   "cell_type": "code",
   "execution_count": 598,
   "id": "ead0ab9b",
   "metadata": {},
   "outputs": [
    {
     "data": {
      "text/plain": [
       "(8807, 8)"
      ]
     },
     "execution_count": 598,
     "metadata": {},
     "output_type": "execute_result"
    }
   ],
   "source": [
    "df_selected.shape"
   ]
  },
  {
   "cell_type": "code",
   "execution_count": 599,
   "id": "1844e208",
   "metadata": {},
   "outputs": [
    {
     "data": {
      "text/plain": [
       "(384220, 4)"
      ]
     },
     "execution_count": 599,
     "metadata": {},
     "output_type": "execute_result"
    }
   ],
   "source": [
    "df_tiltle_cast_country_list_in.shape"
   ]
  },
  {
   "cell_type": "code",
   "execution_count": 600,
   "id": "92f0425b",
   "metadata": {},
   "outputs": [],
   "source": [
    "df_processed = df_selected.merge(df_tiltle_cast_country_list_in,on=\"title\")"
   ]
  },
  {
   "cell_type": "code",
   "execution_count": 601,
   "id": "58b34ae7",
   "metadata": {},
   "outputs": [
    {
     "data": {
      "text/html": [
       "<div>\n",
       "<style scoped>\n",
       "    .dataframe tbody tr th:only-of-type {\n",
       "        vertical-align: middle;\n",
       "    }\n",
       "\n",
       "    .dataframe tbody tr th {\n",
       "        vertical-align: top;\n",
       "    }\n",
       "\n",
       "    .dataframe thead th {\n",
       "        text-align: right;\n",
       "    }\n",
       "</style>\n",
       "<table border=\"1\" class=\"dataframe\">\n",
       "  <thead>\n",
       "    <tr style=\"text-align: right;\">\n",
       "      <th></th>\n",
       "      <th>show_id</th>\n",
       "      <th>type</th>\n",
       "      <th>title</th>\n",
       "      <th>director</th>\n",
       "      <th>date_added</th>\n",
       "      <th>release_year</th>\n",
       "      <th>rating</th>\n",
       "      <th>duration</th>\n",
       "      <th>cast</th>\n",
       "      <th>country</th>\n",
       "      <th>listed_in</th>\n",
       "    </tr>\n",
       "  </thead>\n",
       "  <tbody>\n",
       "    <tr>\n",
       "      <th>0</th>\n",
       "      <td>s1</td>\n",
       "      <td>Movie</td>\n",
       "      <td>Dick Johnson Is Dead</td>\n",
       "      <td>Kirsten Johnson</td>\n",
       "      <td>September 25, 2021</td>\n",
       "      <td>2020</td>\n",
       "      <td>PG-13</td>\n",
       "      <td>90 min</td>\n",
       "      <td>nan</td>\n",
       "      <td>United States</td>\n",
       "      <td>Documentaries</td>\n",
       "    </tr>\n",
       "    <tr>\n",
       "      <th>1</th>\n",
       "      <td>s2</td>\n",
       "      <td>TV Show</td>\n",
       "      <td>Blood &amp; Water</td>\n",
       "      <td>NaN</td>\n",
       "      <td>September 24, 2021</td>\n",
       "      <td>2021</td>\n",
       "      <td>TV-MA</td>\n",
       "      <td>2 Seasons</td>\n",
       "      <td>Ama Qamata</td>\n",
       "      <td>South Africa</td>\n",
       "      <td>International</td>\n",
       "    </tr>\n",
       "    <tr>\n",
       "      <th>2</th>\n",
       "      <td>s2</td>\n",
       "      <td>TV Show</td>\n",
       "      <td>Blood &amp; Water</td>\n",
       "      <td>NaN</td>\n",
       "      <td>September 24, 2021</td>\n",
       "      <td>2021</td>\n",
       "      <td>TV-MA</td>\n",
       "      <td>2 Seasons</td>\n",
       "      <td>Ama Qamata</td>\n",
       "      <td>South Africa</td>\n",
       "      <td>TV</td>\n",
       "    </tr>\n",
       "    <tr>\n",
       "      <th>3</th>\n",
       "      <td>s2</td>\n",
       "      <td>TV Show</td>\n",
       "      <td>Blood &amp; Water</td>\n",
       "      <td>NaN</td>\n",
       "      <td>September 24, 2021</td>\n",
       "      <td>2021</td>\n",
       "      <td>TV-MA</td>\n",
       "      <td>2 Seasons</td>\n",
       "      <td>Ama Qamata</td>\n",
       "      <td>South Africa</td>\n",
       "      <td>Shows,</td>\n",
       "    </tr>\n",
       "    <tr>\n",
       "      <th>4</th>\n",
       "      <td>s2</td>\n",
       "      <td>TV Show</td>\n",
       "      <td>Blood &amp; Water</td>\n",
       "      <td>NaN</td>\n",
       "      <td>September 24, 2021</td>\n",
       "      <td>2021</td>\n",
       "      <td>TV-MA</td>\n",
       "      <td>2 Seasons</td>\n",
       "      <td>Ama Qamata</td>\n",
       "      <td>South Africa</td>\n",
       "      <td>TV</td>\n",
       "    </tr>\n",
       "  </tbody>\n",
       "</table>\n",
       "</div>"
      ],
      "text/plain": [
       "  show_id     type                 title         director          date_added  \\\n",
       "0      s1    Movie  Dick Johnson Is Dead  Kirsten Johnson  September 25, 2021   \n",
       "1      s2  TV Show         Blood & Water              NaN  September 24, 2021   \n",
       "2      s2  TV Show         Blood & Water              NaN  September 24, 2021   \n",
       "3      s2  TV Show         Blood & Water              NaN  September 24, 2021   \n",
       "4      s2  TV Show         Blood & Water              NaN  September 24, 2021   \n",
       "\n",
       "   release_year rating   duration        cast        country      listed_in  \n",
       "0          2020  PG-13     90 min         nan  United States  Documentaries  \n",
       "1          2021  TV-MA  2 Seasons  Ama Qamata   South Africa  International  \n",
       "2          2021  TV-MA  2 Seasons  Ama Qamata   South Africa             TV  \n",
       "3          2021  TV-MA  2 Seasons  Ama Qamata   South Africa         Shows,  \n",
       "4          2021  TV-MA  2 Seasons  Ama Qamata   South Africa             TV  "
      ]
     },
     "execution_count": 601,
     "metadata": {},
     "output_type": "execute_result"
    }
   ],
   "source": [
    "df_processed.head()"
   ]
  },
  {
   "cell_type": "code",
   "execution_count": 602,
   "id": "2965440e",
   "metadata": {},
   "outputs": [
    {
     "data": {
      "text/plain": [
       "(384220, 11)"
      ]
     },
     "execution_count": 602,
     "metadata": {},
     "output_type": "execute_result"
    }
   ],
   "source": [
    "df_processed.shape"
   ]
  },
  {
   "cell_type": "markdown",
   "id": "f753123f",
   "metadata": {},
   "source": [
    "### Pre-processing 1.2   -  Convert \"date_added\" feature to datetime and  then feature extraction to year , month, week, day"
   ]
  },
  {
   "cell_type": "code",
   "execution_count": 603,
   "id": "af65caa7",
   "metadata": {},
   "outputs": [
    {
     "name": "stdout",
     "output_type": "stream",
     "text": [
      "<class 'pandas.core.frame.DataFrame'>\n",
      "Int64Index: 384220 entries, 0 to 384219\n",
      "Data columns (total 11 columns):\n",
      " #   Column        Non-Null Count   Dtype \n",
      "---  ------        --------------   ----- \n",
      " 0   show_id       384220 non-null  object\n",
      " 1   type          384220 non-null  object\n",
      " 2   title         384220 non-null  object\n",
      " 3   director      253193 non-null  object\n",
      " 4   date_added    383798 non-null  object\n",
      " 5   release_year  384220 non-null  int64 \n",
      " 6   rating        384073 non-null  object\n",
      " 7   duration      384217 non-null  object\n",
      " 8   cast          384220 non-null  object\n",
      " 9   country       384220 non-null  object\n",
      " 10  listed_in     384220 non-null  object\n",
      "dtypes: int64(1), object(10)\n",
      "memory usage: 35.2+ MB\n"
     ]
    }
   ],
   "source": [
    "df_processed.info() # BEFORE convertion, checking data type of \"date_added\" feature   "
   ]
  },
  {
   "cell_type": "code",
   "execution_count": 604,
   "id": "ad99bcfe",
   "metadata": {},
   "outputs": [],
   "source": [
    "df_processed[\"date_added\"]= pd.to_datetime(df_processed[\"date_added\"])"
   ]
  },
  {
   "cell_type": "code",
   "execution_count": 605,
   "id": "93135823",
   "metadata": {},
   "outputs": [
    {
     "name": "stdout",
     "output_type": "stream",
     "text": [
      "<class 'pandas.core.frame.DataFrame'>\n",
      "Int64Index: 384220 entries, 0 to 384219\n",
      "Data columns (total 11 columns):\n",
      " #   Column        Non-Null Count   Dtype         \n",
      "---  ------        --------------   -----         \n",
      " 0   show_id       384220 non-null  object        \n",
      " 1   type          384220 non-null  object        \n",
      " 2   title         384220 non-null  object        \n",
      " 3   director      253193 non-null  object        \n",
      " 4   date_added    383798 non-null  datetime64[ns]\n",
      " 5   release_year  384220 non-null  int64         \n",
      " 6   rating        384073 non-null  object        \n",
      " 7   duration      384217 non-null  object        \n",
      " 8   cast          384220 non-null  object        \n",
      " 9   country       384220 non-null  object        \n",
      " 10  listed_in     384220 non-null  object        \n",
      "dtypes: datetime64[ns](1), int64(1), object(9)\n",
      "memory usage: 35.2+ MB\n"
     ]
    }
   ],
   "source": [
    "df_processed.info() #  AFTER convertion, checking data type of \"date_added\" feature  "
   ]
  },
  {
   "cell_type": "code",
   "execution_count": 606,
   "id": "a0f0440d",
   "metadata": {},
   "outputs": [
    {
     "data": {
      "text/html": [
       "<div>\n",
       "<style scoped>\n",
       "    .dataframe tbody tr th:only-of-type {\n",
       "        vertical-align: middle;\n",
       "    }\n",
       "\n",
       "    .dataframe tbody tr th {\n",
       "        vertical-align: top;\n",
       "    }\n",
       "\n",
       "    .dataframe thead th {\n",
       "        text-align: right;\n",
       "    }\n",
       "</style>\n",
       "<table border=\"1\" class=\"dataframe\">\n",
       "  <thead>\n",
       "    <tr style=\"text-align: right;\">\n",
       "      <th></th>\n",
       "      <th>show_id</th>\n",
       "      <th>type</th>\n",
       "      <th>title</th>\n",
       "      <th>director</th>\n",
       "      <th>date_added</th>\n",
       "      <th>release_year</th>\n",
       "      <th>rating</th>\n",
       "      <th>duration</th>\n",
       "      <th>cast</th>\n",
       "      <th>country</th>\n",
       "      <th>listed_in</th>\n",
       "    </tr>\n",
       "  </thead>\n",
       "  <tbody>\n",
       "    <tr>\n",
       "      <th>0</th>\n",
       "      <td>s1</td>\n",
       "      <td>Movie</td>\n",
       "      <td>Dick Johnson Is Dead</td>\n",
       "      <td>Kirsten Johnson</td>\n",
       "      <td>2021-09-25</td>\n",
       "      <td>2020</td>\n",
       "      <td>PG-13</td>\n",
       "      <td>90 min</td>\n",
       "      <td>nan</td>\n",
       "      <td>United States</td>\n",
       "      <td>Documentaries</td>\n",
       "    </tr>\n",
       "    <tr>\n",
       "      <th>1</th>\n",
       "      <td>s2</td>\n",
       "      <td>TV Show</td>\n",
       "      <td>Blood &amp; Water</td>\n",
       "      <td>NaN</td>\n",
       "      <td>2021-09-24</td>\n",
       "      <td>2021</td>\n",
       "      <td>TV-MA</td>\n",
       "      <td>2 Seasons</td>\n",
       "      <td>Ama Qamata</td>\n",
       "      <td>South Africa</td>\n",
       "      <td>International</td>\n",
       "    </tr>\n",
       "    <tr>\n",
       "      <th>2</th>\n",
       "      <td>s2</td>\n",
       "      <td>TV Show</td>\n",
       "      <td>Blood &amp; Water</td>\n",
       "      <td>NaN</td>\n",
       "      <td>2021-09-24</td>\n",
       "      <td>2021</td>\n",
       "      <td>TV-MA</td>\n",
       "      <td>2 Seasons</td>\n",
       "      <td>Ama Qamata</td>\n",
       "      <td>South Africa</td>\n",
       "      <td>TV</td>\n",
       "    </tr>\n",
       "    <tr>\n",
       "      <th>3</th>\n",
       "      <td>s2</td>\n",
       "      <td>TV Show</td>\n",
       "      <td>Blood &amp; Water</td>\n",
       "      <td>NaN</td>\n",
       "      <td>2021-09-24</td>\n",
       "      <td>2021</td>\n",
       "      <td>TV-MA</td>\n",
       "      <td>2 Seasons</td>\n",
       "      <td>Ama Qamata</td>\n",
       "      <td>South Africa</td>\n",
       "      <td>Shows,</td>\n",
       "    </tr>\n",
       "    <tr>\n",
       "      <th>4</th>\n",
       "      <td>s2</td>\n",
       "      <td>TV Show</td>\n",
       "      <td>Blood &amp; Water</td>\n",
       "      <td>NaN</td>\n",
       "      <td>2021-09-24</td>\n",
       "      <td>2021</td>\n",
       "      <td>TV-MA</td>\n",
       "      <td>2 Seasons</td>\n",
       "      <td>Ama Qamata</td>\n",
       "      <td>South Africa</td>\n",
       "      <td>TV</td>\n",
       "    </tr>\n",
       "  </tbody>\n",
       "</table>\n",
       "</div>"
      ],
      "text/plain": [
       "  show_id     type                 title         director date_added  \\\n",
       "0      s1    Movie  Dick Johnson Is Dead  Kirsten Johnson 2021-09-25   \n",
       "1      s2  TV Show         Blood & Water              NaN 2021-09-24   \n",
       "2      s2  TV Show         Blood & Water              NaN 2021-09-24   \n",
       "3      s2  TV Show         Blood & Water              NaN 2021-09-24   \n",
       "4      s2  TV Show         Blood & Water              NaN 2021-09-24   \n",
       "\n",
       "   release_year rating   duration        cast        country      listed_in  \n",
       "0          2020  PG-13     90 min         nan  United States  Documentaries  \n",
       "1          2021  TV-MA  2 Seasons  Ama Qamata   South Africa  International  \n",
       "2          2021  TV-MA  2 Seasons  Ama Qamata   South Africa             TV  \n",
       "3          2021  TV-MA  2 Seasons  Ama Qamata   South Africa         Shows,  \n",
       "4          2021  TV-MA  2 Seasons  Ama Qamata   South Africa             TV  "
      ]
     },
     "execution_count": 606,
     "metadata": {},
     "output_type": "execute_result"
    }
   ],
   "source": [
    "df_processed.head()"
   ]
  },
  {
   "cell_type": "code",
   "execution_count": 607,
   "id": "a5f1f0aa",
   "metadata": {},
   "outputs": [],
   "source": [
    "df_processed[\"date_added_year\"] = df_processed[\"date_added\"].dt.year\n",
    "df_processed[\"date_added_month\"] = df_processed[\"date_added\"].dt.month_name()\n",
    "df_processed[\"date_added_week\"] = df_processed[\"date_added\"].dt.weekday\n",
    "df_processed[\"date_added_day\"] = df_processed[\"date_added\"].dt.day_name()"
   ]
  },
  {
   "cell_type": "code",
   "execution_count": 608,
   "id": "e73d5dd9",
   "metadata": {},
   "outputs": [
    {
     "data": {
      "text/html": [
       "<div>\n",
       "<style scoped>\n",
       "    .dataframe tbody tr th:only-of-type {\n",
       "        vertical-align: middle;\n",
       "    }\n",
       "\n",
       "    .dataframe tbody tr th {\n",
       "        vertical-align: top;\n",
       "    }\n",
       "\n",
       "    .dataframe thead th {\n",
       "        text-align: right;\n",
       "    }\n",
       "</style>\n",
       "<table border=\"1\" class=\"dataframe\">\n",
       "  <thead>\n",
       "    <tr style=\"text-align: right;\">\n",
       "      <th></th>\n",
       "      <th>show_id</th>\n",
       "      <th>type</th>\n",
       "      <th>title</th>\n",
       "      <th>director</th>\n",
       "      <th>date_added</th>\n",
       "      <th>release_year</th>\n",
       "      <th>rating</th>\n",
       "      <th>duration</th>\n",
       "      <th>cast</th>\n",
       "      <th>country</th>\n",
       "      <th>listed_in</th>\n",
       "      <th>date_added_year</th>\n",
       "      <th>date_added_month</th>\n",
       "      <th>date_added_week</th>\n",
       "      <th>date_added_day</th>\n",
       "    </tr>\n",
       "  </thead>\n",
       "  <tbody>\n",
       "    <tr>\n",
       "      <th>0</th>\n",
       "      <td>s1</td>\n",
       "      <td>Movie</td>\n",
       "      <td>Dick Johnson Is Dead</td>\n",
       "      <td>Kirsten Johnson</td>\n",
       "      <td>2021-09-25</td>\n",
       "      <td>2020</td>\n",
       "      <td>PG-13</td>\n",
       "      <td>90 min</td>\n",
       "      <td>nan</td>\n",
       "      <td>United States</td>\n",
       "      <td>Documentaries</td>\n",
       "      <td>2021.0</td>\n",
       "      <td>September</td>\n",
       "      <td>5.0</td>\n",
       "      <td>Saturday</td>\n",
       "    </tr>\n",
       "    <tr>\n",
       "      <th>1</th>\n",
       "      <td>s2</td>\n",
       "      <td>TV Show</td>\n",
       "      <td>Blood &amp; Water</td>\n",
       "      <td>NaN</td>\n",
       "      <td>2021-09-24</td>\n",
       "      <td>2021</td>\n",
       "      <td>TV-MA</td>\n",
       "      <td>2 Seasons</td>\n",
       "      <td>Ama Qamata</td>\n",
       "      <td>South Africa</td>\n",
       "      <td>International</td>\n",
       "      <td>2021.0</td>\n",
       "      <td>September</td>\n",
       "      <td>4.0</td>\n",
       "      <td>Friday</td>\n",
       "    </tr>\n",
       "    <tr>\n",
       "      <th>2</th>\n",
       "      <td>s2</td>\n",
       "      <td>TV Show</td>\n",
       "      <td>Blood &amp; Water</td>\n",
       "      <td>NaN</td>\n",
       "      <td>2021-09-24</td>\n",
       "      <td>2021</td>\n",
       "      <td>TV-MA</td>\n",
       "      <td>2 Seasons</td>\n",
       "      <td>Ama Qamata</td>\n",
       "      <td>South Africa</td>\n",
       "      <td>TV</td>\n",
       "      <td>2021.0</td>\n",
       "      <td>September</td>\n",
       "      <td>4.0</td>\n",
       "      <td>Friday</td>\n",
       "    </tr>\n",
       "    <tr>\n",
       "      <th>3</th>\n",
       "      <td>s2</td>\n",
       "      <td>TV Show</td>\n",
       "      <td>Blood &amp; Water</td>\n",
       "      <td>NaN</td>\n",
       "      <td>2021-09-24</td>\n",
       "      <td>2021</td>\n",
       "      <td>TV-MA</td>\n",
       "      <td>2 Seasons</td>\n",
       "      <td>Ama Qamata</td>\n",
       "      <td>South Africa</td>\n",
       "      <td>Shows,</td>\n",
       "      <td>2021.0</td>\n",
       "      <td>September</td>\n",
       "      <td>4.0</td>\n",
       "      <td>Friday</td>\n",
       "    </tr>\n",
       "    <tr>\n",
       "      <th>4</th>\n",
       "      <td>s2</td>\n",
       "      <td>TV Show</td>\n",
       "      <td>Blood &amp; Water</td>\n",
       "      <td>NaN</td>\n",
       "      <td>2021-09-24</td>\n",
       "      <td>2021</td>\n",
       "      <td>TV-MA</td>\n",
       "      <td>2 Seasons</td>\n",
       "      <td>Ama Qamata</td>\n",
       "      <td>South Africa</td>\n",
       "      <td>TV</td>\n",
       "      <td>2021.0</td>\n",
       "      <td>September</td>\n",
       "      <td>4.0</td>\n",
       "      <td>Friday</td>\n",
       "    </tr>\n",
       "  </tbody>\n",
       "</table>\n",
       "</div>"
      ],
      "text/plain": [
       "  show_id     type                 title         director date_added  \\\n",
       "0      s1    Movie  Dick Johnson Is Dead  Kirsten Johnson 2021-09-25   \n",
       "1      s2  TV Show         Blood & Water              NaN 2021-09-24   \n",
       "2      s2  TV Show         Blood & Water              NaN 2021-09-24   \n",
       "3      s2  TV Show         Blood & Water              NaN 2021-09-24   \n",
       "4      s2  TV Show         Blood & Water              NaN 2021-09-24   \n",
       "\n",
       "   release_year rating   duration        cast        country      listed_in  \\\n",
       "0          2020  PG-13     90 min         nan  United States  Documentaries   \n",
       "1          2021  TV-MA  2 Seasons  Ama Qamata   South Africa  International   \n",
       "2          2021  TV-MA  2 Seasons  Ama Qamata   South Africa             TV   \n",
       "3          2021  TV-MA  2 Seasons  Ama Qamata   South Africa         Shows,   \n",
       "4          2021  TV-MA  2 Seasons  Ama Qamata   South Africa             TV   \n",
       "\n",
       "   date_added_year date_added_month  date_added_week date_added_day  \n",
       "0           2021.0        September              5.0       Saturday  \n",
       "1           2021.0        September              4.0         Friday  \n",
       "2           2021.0        September              4.0         Friday  \n",
       "3           2021.0        September              4.0         Friday  \n",
       "4           2021.0        September              4.0         Friday  "
      ]
     },
     "execution_count": 608,
     "metadata": {},
     "output_type": "execute_result"
    }
   ],
   "source": [
    "df_processed.head()"
   ]
  },
  {
   "cell_type": "code",
   "execution_count": 609,
   "id": "8c50b502",
   "metadata": {},
   "outputs": [],
   "source": [
    "# df_processed.date_added_year = df_processed.date_added_year.astype(int)"
   ]
  },
  {
   "cell_type": "markdown",
   "id": "692a6bf1",
   "metadata": {},
   "source": [
    "### Pre-processing 1.3   - \"rating\" have duration i.e. 74 mins , 84 min etc. Some pre processsing is required"
   ]
  },
  {
   "cell_type": "code",
   "execution_count": 610,
   "id": "edaf8be3",
   "metadata": {},
   "outputs": [
    {
     "data": {
      "text/plain": [
       "TV-MA       140910\n",
       "TV-14        85908\n",
       "R            42099\n",
       "TV-PG        29258\n",
       "PG-13        28633\n",
       "PG           22095\n",
       "TV-Y7        14454\n",
       "TV-Y          8214\n",
       "TV-G          5940\n",
       "G             3204\n",
       "NR            2723\n",
       "NC-17          243\n",
       "TV-Y7-FV       239\n",
       "UR             150\n",
       "74 min           1\n",
       "84 min           1\n",
       "66 min           1\n",
       "Name: rating, dtype: int64"
      ]
     },
     "execution_count": 610,
     "metadata": {},
     "output_type": "execute_result"
    }
   ],
   "source": [
    "df_processed[\"rating\"].value_counts()"
   ]
  },
  {
   "cell_type": "code",
   "execution_count": 611,
   "id": "74b36b8c",
   "metadata": {},
   "outputs": [],
   "source": [
    "df_processed[\"rating\"].replace(to_replace=r'(^.*min$)', value='Unknown', regex=True,inplace = True)"
   ]
  },
  {
   "cell_type": "code",
   "execution_count": 612,
   "id": "7f177183",
   "metadata": {},
   "outputs": [
    {
     "data": {
      "text/plain": [
       "TV-MA       140910\n",
       "TV-14        85908\n",
       "R            42099\n",
       "TV-PG        29258\n",
       "PG-13        28633\n",
       "PG           22095\n",
       "TV-Y7        14454\n",
       "TV-Y          8214\n",
       "TV-G          5940\n",
       "G             3204\n",
       "NR            2723\n",
       "NC-17          243\n",
       "TV-Y7-FV       239\n",
       "UR             150\n",
       "Unknown          3\n",
       "Name: rating, dtype: int64"
      ]
     },
     "execution_count": 612,
     "metadata": {},
     "output_type": "execute_result"
    }
   ],
   "source": [
    "df_processed[\"rating\"].value_counts()"
   ]
  },
  {
   "cell_type": "markdown",
   "id": "92f91e00",
   "metadata": {},
   "source": [
    "### Pre-processing 1.4   - \"duration\" is string , need to translate to interger\n"
   ]
  },
  {
   "cell_type": "code",
   "execution_count": 613,
   "id": "7320f9e1",
   "metadata": {},
   "outputs": [],
   "source": [
    "df_processed[\"duration\"]= df_processed[\"duration\"].str.replace(\" min\", \"\", case = True)"
   ]
  },
  {
   "cell_type": "code",
   "execution_count": 614,
   "id": "8a76c1e5",
   "metadata": {},
   "outputs": [
    {
     "data": {
      "text/plain": [
       "94     6370\n",
       "93     6351\n",
       "97     6112\n",
       "95     5849\n",
       "106    5569\n",
       "       ... \n",
       "18        6\n",
       "39        6\n",
       "9         5\n",
       "10        4\n",
       "8         1\n",
       "Name: duration, Length: 205, dtype: int64"
      ]
     },
     "execution_count": 614,
     "metadata": {},
     "output_type": "execute_result"
    }
   ],
   "source": [
    "df_processed[df_processed[\"type\"] == \"Movie\"][\"duration\"].value_counts()"
   ]
  },
  {
   "cell_type": "code",
   "execution_count": 615,
   "id": "9b29d63f",
   "metadata": {},
   "outputs": [
    {
     "data": {
      "text/plain": [
       "1 Season      87664\n",
       "2 Seasons     24405\n",
       "3 Seasons     13072\n",
       "4 Seasons      5420\n",
       "5 Seasons      4649\n",
       "7 Seasons      2270\n",
       "6 Seasons      1555\n",
       "8 Seasons       698\n",
       "10 Seasons      652\n",
       "9 Seasons       596\n",
       "13 Seasons      445\n",
       "12 Seasons      304\n",
       "15 Seasons      278\n",
       "11 Seasons       90\n",
       "17 Seasons       75\n",
       "Name: duration, dtype: int64"
      ]
     },
     "execution_count": 615,
     "metadata": {},
     "output_type": "execute_result"
    }
   ],
   "source": [
    "df_processed[df_processed[\"type\"] == \"TV Show\"][\"duration\"].value_counts()"
   ]
  },
  {
   "cell_type": "markdown",
   "id": "9438ed5d",
   "metadata": {},
   "source": [
    "### Pre-processing 1.5   - In \"listed_in\", Few Genres can be combined such as 'Movies' and 'Movies,' , 'Shows' and 'Shows,' etc.\n"
   ]
  },
  {
   "cell_type": "code",
   "execution_count": 616,
   "id": "a0364730",
   "metadata": {},
   "outputs": [],
   "source": [
    "df_processed[\"listed_in\"]= df_processed[\"listed_in\"].str.replace(\",\", \"\", case = True)"
   ]
  },
  {
   "cell_type": "markdown",
   "id": "ca16ca67",
   "metadata": {},
   "source": [
    "### Pre-processing 1.6   - For movies , creating new feature 'duration_catgory' from 'duration'  as following categories :\n",
    "#### Short (< 15)\n",
    "#### Medium(16 - 30) \n",
    "#### Regular(H) - Regular Duration for Hollywood Movies  (31 to 90)\n",
    "#### Regular(I) - Regular Duration for Bollywood Movies  (91 to 150)\n",
    "#### Long  - Long (> 151) "
   ]
  },
  {
   "cell_type": "code",
   "execution_count": 617,
   "id": "28767a0a",
   "metadata": {},
   "outputs": [],
   "source": [
    "def movie_duration_categorization(x):\n",
    "    x = int(x)\n",
    "    if x <= 15:\n",
    "        return \"Short\"\n",
    "    elif 15 < x <= 30:\n",
    "        return \"Medium\"\n",
    "    elif 30 < x <= 90:\n",
    "        return \"Regular-H\"\n",
    "    elif 90 < x <= 150:\n",
    "        return \"Regular-I\"\n",
    "    else:\n",
    "        return \"Long\"\n"
   ]
  },
  {
   "cell_type": "code",
   "execution_count": 618,
   "id": "a1fb30fa",
   "metadata": {},
   "outputs": [
    {
     "data": {
      "text/plain": [
       "array(['Regular-H', 'Unknown', 'Regular-I', 'Long', 'Medium', 'Short'],\n",
       "      dtype=object)"
      ]
     },
     "execution_count": 618,
     "metadata": {},
     "output_type": "execute_result"
    }
   ],
   "source": [
    "df_processed[\"duration\"] = df_processed[\"duration\"].fillna(0)\n",
    "df_processed[\"duration_category\"] = df_processed[df_processed[\"type\"] == 'Movie'][\"duration\"].apply(movie_duration_categorization)\n",
    "df_processed[\"duration_category\"] = df_processed[\"duration_category\"].replace(np.nan,\"Unknown\")\n",
    "df_processed[\"duration_category\"].unique()"
   ]
  },
  {
   "cell_type": "markdown",
   "id": "90166b35",
   "metadata": {},
   "source": [
    "# 5.1 Missing Value check (Treatment optional)"
   ]
  },
  {
   "cell_type": "code",
   "execution_count": 619,
   "id": "607cf1fb",
   "metadata": {},
   "outputs": [
    {
     "data": {
      "text/html": [
       "<div>\n",
       "<style scoped>\n",
       "    .dataframe tbody tr th:only-of-type {\n",
       "        vertical-align: middle;\n",
       "    }\n",
       "\n",
       "    .dataframe tbody tr th {\n",
       "        vertical-align: top;\n",
       "    }\n",
       "\n",
       "    .dataframe thead th {\n",
       "        text-align: right;\n",
       "    }\n",
       "</style>\n",
       "<table border=\"1\" class=\"dataframe\">\n",
       "  <thead>\n",
       "    <tr style=\"text-align: right;\">\n",
       "      <th></th>\n",
       "      <th>column_name</th>\n",
       "      <th>percent_missing</th>\n",
       "    </tr>\n",
       "  </thead>\n",
       "  <tbody>\n",
       "    <tr>\n",
       "      <th>director</th>\n",
       "      <td>director</td>\n",
       "      <td>34.102077</td>\n",
       "    </tr>\n",
       "    <tr>\n",
       "      <th>date_added</th>\n",
       "      <td>date_added</td>\n",
       "      <td>0.109833</td>\n",
       "    </tr>\n",
       "    <tr>\n",
       "      <th>date_added_year</th>\n",
       "      <td>date_added_year</td>\n",
       "      <td>0.109833</td>\n",
       "    </tr>\n",
       "    <tr>\n",
       "      <th>date_added_month</th>\n",
       "      <td>date_added_month</td>\n",
       "      <td>0.109833</td>\n",
       "    </tr>\n",
       "    <tr>\n",
       "      <th>date_added_week</th>\n",
       "      <td>date_added_week</td>\n",
       "      <td>0.109833</td>\n",
       "    </tr>\n",
       "    <tr>\n",
       "      <th>date_added_day</th>\n",
       "      <td>date_added_day</td>\n",
       "      <td>0.109833</td>\n",
       "    </tr>\n",
       "    <tr>\n",
       "      <th>rating</th>\n",
       "      <td>rating</td>\n",
       "      <td>0.038259</td>\n",
       "    </tr>\n",
       "    <tr>\n",
       "      <th>show_id</th>\n",
       "      <td>show_id</td>\n",
       "      <td>0.000000</td>\n",
       "    </tr>\n",
       "    <tr>\n",
       "      <th>type</th>\n",
       "      <td>type</td>\n",
       "      <td>0.000000</td>\n",
       "    </tr>\n",
       "    <tr>\n",
       "      <th>title</th>\n",
       "      <td>title</td>\n",
       "      <td>0.000000</td>\n",
       "    </tr>\n",
       "    <tr>\n",
       "      <th>release_year</th>\n",
       "      <td>release_year</td>\n",
       "      <td>0.000000</td>\n",
       "    </tr>\n",
       "    <tr>\n",
       "      <th>duration</th>\n",
       "      <td>duration</td>\n",
       "      <td>0.000000</td>\n",
       "    </tr>\n",
       "    <tr>\n",
       "      <th>cast</th>\n",
       "      <td>cast</td>\n",
       "      <td>0.000000</td>\n",
       "    </tr>\n",
       "    <tr>\n",
       "      <th>country</th>\n",
       "      <td>country</td>\n",
       "      <td>0.000000</td>\n",
       "    </tr>\n",
       "    <tr>\n",
       "      <th>listed_in</th>\n",
       "      <td>listed_in</td>\n",
       "      <td>0.000000</td>\n",
       "    </tr>\n",
       "    <tr>\n",
       "      <th>duration_category</th>\n",
       "      <td>duration_category</td>\n",
       "      <td>0.000000</td>\n",
       "    </tr>\n",
       "  </tbody>\n",
       "</table>\n",
       "</div>"
      ],
      "text/plain": [
       "                         column_name  percent_missing\n",
       "director                    director        34.102077\n",
       "date_added                date_added         0.109833\n",
       "date_added_year      date_added_year         0.109833\n",
       "date_added_month    date_added_month         0.109833\n",
       "date_added_week      date_added_week         0.109833\n",
       "date_added_day        date_added_day         0.109833\n",
       "rating                        rating         0.038259\n",
       "show_id                      show_id         0.000000\n",
       "type                            type         0.000000\n",
       "title                          title         0.000000\n",
       "release_year            release_year         0.000000\n",
       "duration                    duration         0.000000\n",
       "cast                            cast         0.000000\n",
       "country                      country         0.000000\n",
       "listed_in                  listed_in         0.000000\n",
       "duration_category  duration_category         0.000000"
      ]
     },
     "execution_count": 619,
     "metadata": {},
     "output_type": "execute_result"
    }
   ],
   "source": [
    "percent_missing = df_processed.isnull().sum() * 100 / len(df_processed)\n",
    "missing_value_df = pd.DataFrame({'column_name': df_processed.columns,\n",
    "                                 'percent_missing': percent_missing})\n",
    "missing_value_df.sort_values('percent_missing', ascending=False)"
   ]
  },
  {
   "cell_type": "markdown",
   "id": "22f89c49",
   "metadata": {},
   "source": [
    "# 5.1.1 Missing Value Treatment"
   ]
  },
  {
   "cell_type": "code",
   "execution_count": 620,
   "id": "52fafa02",
   "metadata": {},
   "outputs": [],
   "source": [
    "df_processed[\"date_added_year\"] = df_processed[\"date_added_year\"].fillna(0)\n",
    "df_processed['date_added_year'] =df_processed['date_added_year'].astype(np.int64)\n",
    "\n",
    "df_processed[\"date_added_week\"] = df_processed[\"date_added_week\"].fillna(0)\n",
    "df_processed['date_added_week'] = df_processed['date_added_week'].astype(np.int64)\n",
    "\n",
    "df_processed[\"date_added_month\"] = df_processed[\"date_added_month\"].fillna(\"Unknown\")\n",
    "df_processed[\"date_added_day\"] = df_processed[\"date_added_day\"].fillna(\"Unknown\")\n",
    "\n",
    "df_processed[\"duration\"] = df_processed[\"duration\"].fillna(0)\n",
    "#df_processed['duration'] = df_processed['duration'].astype(np.int64)"
   ]
  },
  {
   "cell_type": "code",
   "execution_count": 621,
   "id": "cdad8962",
   "metadata": {},
   "outputs": [],
   "source": [
    "df_selected = df_processed[[\"type\",\"director\",\"release_year\",\"rating\",\"duration\",\"cast\",\"country\",\"listed_in\",\"date_added_year\",\"date_added_month\",\"date_added_week\",\"date_added_day\",\"duration_category\"]]"
   ]
  },
  {
   "cell_type": "markdown",
   "id": "a9b274f9",
   "metadata": {},
   "source": [
    "# 4. Visual Analysis - Univariate, Bivariate after pre-processing of the data"
   ]
  },
  {
   "cell_type": "markdown",
   "id": "17fbe908",
   "metadata": {},
   "source": [
    "## 4.1 For continuous variable(s): Distplot, countplot, histogram for univariate analysis"
   ]
  },
  {
   "cell_type": "code",
   "execution_count": 622,
   "id": "9c6fbbb4",
   "metadata": {},
   "outputs": [],
   "source": [
    "import matplotlib.pyplot as plt\n",
    "import seaborn as sns"
   ]
  },
  {
   "cell_type": "code",
   "execution_count": 623,
   "id": "5982d7e1",
   "metadata": {},
   "outputs": [],
   "source": [
    "df_movies = df_selected.loc[df_selected['type'] == 'Movie']\n",
    "df_series = df_selected.loc[df_selected['type'] == 'TV Show']"
   ]
  },
  {
   "cell_type": "code",
   "execution_count": 624,
   "id": "93b00d56",
   "metadata": {},
   "outputs": [
    {
     "data": {
      "image/png": "[encoded data removed]",
      "text/plain": [
       "<Figure size 432x288 with 1 Axes>"
      ]
     },
     "metadata": {
      "needs_background": "light"
     },
     "output_type": "display_data"
    }
   ],
   "source": [
    "sns.histplot(df_movies['release_year'],bins=20).set(title='Movies by year of Release')\n",
    "plt.show()"
   ]
  },
  {
   "cell_type": "code",
   "execution_count": 625,
   "id": "b0b644e0",
   "metadata": {},
   "outputs": [
    {
     "data": {
      "text/plain": [
       "1942"
      ]
     },
     "execution_count": 625,
     "metadata": {},
     "output_type": "execute_result"
    }
   ],
   "source": [
    "df_movies['release_year'].min()"
   ]
  },
  {
   "cell_type": "code",
   "execution_count": 626,
   "id": "121842d5",
   "metadata": {},
   "outputs": [
    {
     "data": {
      "image/png": "[encoded data removed]",
      "text/plain": [
       "<Figure size 432x288 with 1 Axes>"
      ]
     },
     "metadata": {
      "needs_background": "light"
     },
     "output_type": "display_data"
    }
   ],
   "source": [
    "sns.histplot(df_series['release_year'],bins=20).set(title='Series by year of Release')\n",
    "plt.show()"
   ]
  },
  {
   "cell_type": "markdown",
   "id": "95df9766",
   "metadata": {},
   "source": [
    "### Observation :  \n",
    "#### In year 2019 - 2020 most of Movies and Series were released in Netflix"
   ]
  },
  {
   "cell_type": "code",
   "execution_count": 627,
   "id": "c329b78e",
   "metadata": {},
   "outputs": [
    {
     "data": {
      "image/png": "[encoded data removed]",
      "text/plain": [
       "<Figure size 432x288 with 1 Axes>"
      ]
     },
     "metadata": {
      "needs_background": "light"
     },
     "output_type": "display_data"
    }
   ],
   "source": [
    "total = float(len(df_selected))\n",
    "ax = sns.countplot(x=\"date_added_week\", data=df_movies)\n",
    "plt.title('Movies added by week', fontsize=20)\n",
    "for p in ax.patches:\n",
    "    percentage = '{:.1f}%'.format(100 * p.get_height()/total)\n",
    "    x = p.get_x() + p.get_width()\n",
    "    y = p.get_height()\n",
    "    ax.annotate(percentage, (x, y),ha='right')\n",
    "plt.show()"
   ]
  },
  {
   "cell_type": "code",
   "execution_count": 628,
   "id": "2bc56ef6",
   "metadata": {},
   "outputs": [
    {
     "data": {
      "image/png": "[encoded data removed]",
      "text/plain": [
       "<Figure size 432x288 with 1 Axes>"
      ]
     },
     "metadata": {
      "needs_background": "light"
     },
     "output_type": "display_data"
    }
   ],
   "source": [
    "total = float(len(df_selected))\n",
    "ax = sns.countplot(x=\"date_added_week\", data=df_series)\n",
    "plt.title('Series added by week', fontsize=20)\n",
    "for p in ax.patches:\n",
    "    percentage = '{:.1f}%'.format(100 * p.get_height()/total)\n",
    "    x = p.get_x() + p.get_width()\n",
    "    y = p.get_height()\n",
    "    ax.annotate(percentage, (x, y),ha='right')\n",
    "plt.show()"
   ]
  },
  {
   "cell_type": "markdown",
   "id": "f0f87e2f",
   "metadata": {},
   "source": [
    "### Observation : \n",
    "#### Both movies and Series are more often added on Friday(i.e. week day # 4)"
   ]
  },
  {
   "cell_type": "markdown",
   "id": "2eedf8aa",
   "metadata": {},
   "source": [
    "## 4.2 For categorical variable(s): Boxplot"
   ]
  },
  {
   "cell_type": "code",
   "execution_count": 629,
   "id": "1a1a7f23",
   "metadata": {},
   "outputs": [
    {
     "name": "stderr",
     "output_type": "stream",
     "text": [
      "C:\\Users\\hp\\AppData\\Local\\Temp/ipykernel_19412/1770795435.py:1: SettingWithCopyWarning: \n",
      "A value is trying to be set on a copy of a slice from a DataFrame.\n",
      "Try using .loc[row_indexer,col_indexer] = value instead\n",
      "\n",
      "See the caveats in the documentation: https://pandas.pydata.org/pandas-docs/stable/user_guide/indexing.html#returning-a-view-versus-a-copy\n",
      "  df_movies['duration'] = df_movies['duration'].astype(np.int64)\n"
     ]
    }
   ],
   "source": [
    "df_movies['duration'] = df_movies['duration'].astype(np.int64)"
   ]
  },
  {
   "cell_type": "code",
   "execution_count": 630,
   "id": "8f148fe8",
   "metadata": {},
   "outputs": [
    {
     "data": {
      "image/png": "[encoded data removed]",
      "text/plain": [
       "<Figure size 432x288 with 1 Axes>"
      ]
     },
     "metadata": {
      "needs_background": "light"
     },
     "output_type": "display_data"
    }
   ],
   "source": [
    "sns.boxplot(x=\"type\",y='date_added_week',data=df_processed)\n",
    "plt.show()"
   ]
  },
  {
   "cell_type": "code",
   "execution_count": 631,
   "id": "6d742e3e",
   "metadata": {},
   "outputs": [
    {
     "data": {
      "image/png": "[encoded data removed]",
      "text/plain": [
       "<Figure size 432x288 with 1 Axes>"
      ]
     },
     "metadata": {
      "needs_background": "light"
     },
     "output_type": "display_data"
    }
   ],
   "source": [
    "sns.boxplot(x=\"type\",y='duration',data=df_movies)\n",
    "plt.show()"
   ]
  },
  {
   "cell_type": "markdown",
   "id": "1b46abeb",
   "metadata": {},
   "source": [
    "### Observation : \n",
    "#### Wide range of shows/movies - from very short to very long duration, even across different ratings"
   ]
  },
  {
   "cell_type": "code",
   "execution_count": 632,
   "id": "a3dc405a",
   "metadata": {},
   "outputs": [
    {
     "data": {
      "text/plain": [
       "<AxesSubplot:xlabel='type', ylabel='release_year'>"
      ]
     },
     "execution_count": 632,
     "metadata": {},
     "output_type": "execute_result"
    },
    {
     "data": {
      "image/png": "[encoded data removed]",
      "text/plain": [
       "<Figure size 432x288 with 1 Axes>"
      ]
     },
     "metadata": {
      "needs_background": "light"
     },
     "output_type": "display_data"
    }
   ],
   "source": [
    "sns.boxplot(x=\"type\", y=\"release_year\", data=df_selected)"
   ]
  },
  {
   "cell_type": "markdown",
   "id": "3917187e",
   "metadata": {},
   "source": [
    "### Observation : \n",
    "#### Both shows/movies data are skewed , with many outliers on each type "
   ]
  },
  {
   "cell_type": "code",
   "execution_count": 633,
   "id": "ca504b3f",
   "metadata": {},
   "outputs": [
    {
     "data": {
      "image/png": "[encoded data removed]",
      "text/plain": [
       "<Figure size 432x288 with 1 Axes>"
      ]
     },
     "metadata": {
      "needs_background": "light"
     },
     "output_type": "display_data"
    }
   ],
   "source": [
    "sp = sns.countplot(x=\"country\",data=df_selected,hue=\"type\",order=df_selected.country.value_counts().iloc[:10].index)\n",
    "sp.set(title='Top 10 producing Countries by show type')\n",
    "plt.xticks(rotation=90)\n",
    "plt.show()"
   ]
  },
  {
   "cell_type": "markdown",
   "id": "f76f3700",
   "metadata": {},
   "source": [
    "### Observation : \n",
    "#### A. United states and India produce more movies than TV Shows\n",
    "#### B. Japan , South Korea and Mexio produce more TV Shows than movies"
   ]
  },
  {
   "cell_type": "code",
   "execution_count": 634,
   "id": "4f34a841",
   "metadata": {},
   "outputs": [
    {
     "data": {
      "image/png": "[encoded data removed]",
      "text/plain": [
       "<Figure size 432x288 with 1 Axes>"
      ]
     },
     "metadata": {
      "needs_background": "light"
     },
     "output_type": "display_data"
    }
   ],
   "source": [
    "sns.countplot(x=\"director\",data=df_selected,hue=\"type\",order=df_selected.director.value_counts().iloc[:20].index).set(title='Top 20 Directors by show type')\n",
    "plt.xticks(rotation=90)\n",
    "plt.show()"
   ]
  },
  {
   "cell_type": "markdown",
   "id": "75e539cf",
   "metadata": {},
   "source": [
    "### Observation : \n",
    "#### A. Noam Murro and Thomas Astruc more often produces TV Shows \n",
    "#### B. Steven Spielberg , Raja Gosnell have more movies in Neflix platform"
   ]
  },
  {
   "cell_type": "code",
   "execution_count": 635,
   "id": "5a31da27",
   "metadata": {},
   "outputs": [
    {
     "data": {
      "image/png": "[encoded data removed]",
      "text/plain": [
       "<Figure size 432x288 with 1 Axes>"
      ]
     },
     "metadata": {
      "needs_background": "light"
     },
     "output_type": "display_data"
    }
   ],
   "source": [
    "sns.countplot(x=\"cast\",data=df_selected,hue=\"type\",order=df_selected.cast.value_counts().iloc[:15].index).set(title='Top 15 Casts by show type')\n",
    "plt.xticks(rotation=90)\n",
    "plt.show()"
   ]
  },
  {
   "cell_type": "markdown",
   "id": "75228ed2",
   "metadata": {},
   "source": [
    "### Observation : \n",
    "#### A. Netflix is showing more movies of Anupam Kher , Shah Rukh Khan , Akshyay Kumar , Boman Irani etc. \n",
    "#### B. Many Movies/shows have no cast information tagged, which can be improved for deep dive analysis \n",
    "#### C. David Attenborough, Takahiro Sakurai , Yuki Kaji have more TV shows than movies in Netflix platform"
   ]
  },
  {
   "cell_type": "code",
   "execution_count": 636,
   "id": "d7345b94",
   "metadata": {},
   "outputs": [
    {
     "data": {
      "image/png": "[encoded data removed]",
      "text/plain": [
       "<Figure size 432x288 with 1 Axes>"
      ]
     },
     "metadata": {
      "needs_background": "light"
     },
     "output_type": "display_data"
    }
   ],
   "source": [
    "sns.countplot(x=\"listed_in\",data=df_selected,hue=\"type\",order=df_selected.listed_in.value_counts().iloc[:25].index).set(title='Top 25 Genre by show type')\n",
    "plt.xticks(rotation=90)\n",
    "plt.show()"
   ]
  },
  {
   "cell_type": "markdown",
   "id": "63114d91",
   "metadata": {},
   "source": [
    "### Observation : \n",
    "#### A. Less Comedy,Thriller, and no Children \"shows\"  in Netflix platform, which can be explored\n",
    "#### B. Too many Genres to choose from "
   ]
  },
  {
   "cell_type": "code",
   "execution_count": 637,
   "id": "b884a833",
   "metadata": {},
   "outputs": [
    {
     "data": {
      "image/png": "[encoded data removed]",
      "text/plain": [
       "<Figure size 432x288 with 1 Axes>"
      ]
     },
     "metadata": {
      "needs_background": "light"
     },
     "output_type": "display_data"
    }
   ],
   "source": [
    "sns.countplot(x=\"rating\",data=df_selected,hue=\"type\",order=df_selected.rating.value_counts().iloc[:10].index).set(title='Top 10 rating by show type')\n",
    "plt.xticks(rotation=90)\n",
    "plt.show()"
   ]
  },
  {
   "cell_type": "code",
   "execution_count": 638,
   "id": "436c750e",
   "metadata": {},
   "outputs": [
    {
     "name": "stderr",
     "output_type": "stream",
     "text": [
      "C:\\Users\\hp\\AppData\\Local\\Temp/ipykernel_19412/3073083368.py:2: SettingWithCopyWarning: \n",
      "A value is trying to be set on a copy of a slice from a DataFrame.\n",
      "Try using .loc[row_indexer,col_indexer] = value instead\n",
      "\n",
      "See the caveats in the documentation: https://pandas.pydata.org/pandas-docs/stable/user_guide/indexing.html#returning-a-view-versus-a-copy\n",
      "  df_movies['duration'] =df_movies['duration'].astype(np.int64)\n"
     ]
    }
   ],
   "source": [
    "df_movies = df_processed.loc[(df_processed[\"type\"] ==\"Movie\")]\n",
    "df_movies['duration'] =df_movies['duration'].astype(np.int64)"
   ]
  },
  {
   "cell_type": "code",
   "execution_count": 639,
   "id": "202b974f",
   "metadata": {},
   "outputs": [],
   "source": [
    "df_movies_intresting_countries = df_selected.loc[(df_selected[\"type\"] ==\"Movie\") & ((df_movies[\"country\"] == 'United States') | (df_movies[\"country\"] == 'United Kingdom') | (df_movies[\"country\"] == 'South Korea') | (df_movies[\"country\"] == 'India') | (df_movies[\"country\"] == 'Japan'))]"
   ]
  },
  {
   "cell_type": "code",
   "execution_count": 640,
   "id": "22bcb0a2",
   "metadata": {},
   "outputs": [
    {
     "data": {
      "image/png": "[encoded data removed]",
      "text/plain": [
       "<Figure size 432x288 with 1 Axes>"
      ]
     },
     "metadata": {
      "needs_background": "light"
     },
     "output_type": "display_data"
    }
   ],
   "source": [
    "ax = sns.countplot(x=\"rating\",data=df_movies_intresting_countries,hue=\"country\",order=df_movies_intresting_countries.rating.value_counts().iloc[:10].index)\n",
    "ax.set(title='Top 10 rating by country')\n",
    "sns.move_legend(ax, \"upper right\")\n",
    "plt.xticks(rotation=90)\n",
    "plt.show()"
   ]
  },
  {
   "cell_type": "markdown",
   "id": "3d7b6c66",
   "metadata": {},
   "source": [
    "### Observation : \n",
    "#### A. In India -  Other rated movies (which are frequently published in US and other countries) can be listed to see viewers response.\n",
    "#### B. Likewise category movies in other countries can be listed in other countries , with audio or subtitle "
   ]
  },
  {
   "cell_type": "code",
   "execution_count": 641,
   "id": "41c2f00b",
   "metadata": {},
   "outputs": [
    {
     "data": {
      "image/png": "[encoded data removed]",
      "text/plain": [
       "<Figure size 432x288 with 1 Axes>"
      ]
     },
     "metadata": {
      "needs_background": "light"
     },
     "output_type": "display_data"
    }
   ],
   "source": [
    "ax = sns.countplot(x=\"duration\",data=df_movies_intresting_countries,hue=\"country\",order=df_movies_intresting_countries.duration.value_counts().iloc[:10].index)\n",
    "ax.set(title='Top 10 duration by country')\n",
    "sns.move_legend(ax, \"upper right\")\n",
    "plt.xticks(rotation=90)\n",
    "plt.show()"
   ]
  },
  {
   "cell_type": "markdown",
   "id": "cd4ad157",
   "metadata": {},
   "source": [
    "### Observation : \n",
    "#### A. Duration ranging from 90 to 106 minutes are generally being listed across top countries "
   ]
  },
  {
   "cell_type": "code",
   "execution_count": 642,
   "id": "c88a6e1a",
   "metadata": {},
   "outputs": [
    {
     "data": {
      "image/png": "[encoded data removed]",
      "text/plain": [
       "<Figure size 432x288 with 1 Axes>"
      ]
     },
     "metadata": {
      "needs_background": "light"
     },
     "output_type": "display_data"
    }
   ],
   "source": [
    "ax = sns.countplot(x=\"cast\",data=df_movies_intresting_countries,hue=\"country\",order=df_movies_intresting_countries.cast.value_counts().iloc[:10].index)\n",
    "ax.set(title='Top 10 cast by country')\n",
    "sns.move_legend(ax, \"upper right\")\n",
    "plt.xticks(rotation=90)\n",
    "plt.show()"
   ]
  },
  {
   "cell_type": "markdown",
   "id": "0dab723e",
   "metadata": {},
   "source": [
    "### Observation : \n",
    "#### A. Except India -  There is not many cast centric listing in other countries"
   ]
  },
  {
   "cell_type": "code",
   "execution_count": 643,
   "id": "5b2f3a92",
   "metadata": {},
   "outputs": [
    {
     "data": {
      "image/png": "[encoded data removed]",
      "text/plain": [
       "<Figure size 432x288 with 1 Axes>"
      ]
     },
     "metadata": {
      "needs_background": "light"
     },
     "output_type": "display_data"
    }
   ],
   "source": [
    "ax = sns.countplot(x=\"director\",data=df_movies_intresting_countries,hue=\"country\",order=df_movies_intresting_countries.director.value_counts().iloc[:15].index)\n",
    "ax.set(title='Top 10 director by country')\n",
    "sns.move_legend(ax, \"upper right\")\n",
    "plt.xticks(rotation=90)\n",
    "plt.show()"
   ]
  },
  {
   "cell_type": "markdown",
   "id": "6edf2fa2",
   "metadata": {},
   "source": [
    "### Observation : \n",
    "#### A. India -  David Dhawan , Asutosh Gowariker and Sooraj R. Barjatya are mostly listed directors \n",
    "#### B. Japan - Toshiya Shinohara , Masahiko Murata are mostly listed directors \n",
    "#### C. Sahra Smith has been listed  in both US and UK"
   ]
  },
  {
   "cell_type": "code",
   "execution_count": 644,
   "id": "80c7b6b3",
   "metadata": {},
   "outputs": [
    {
     "data": {
      "image/png": "[encoded data removed]",
      "text/plain": [
       "<Figure size 432x288 with 1 Axes>"
      ]
     },
     "metadata": {
      "needs_background": "light"
     },
     "output_type": "display_data"
    }
   ],
   "source": [
    "ax = sns.countplot(x=\"date_added_month\",data=df_movies_intresting_countries,hue=\"country\",order=df_movies_intresting_countries.date_added_month.value_counts().iloc[:15].index)\n",
    "ax.set(title='Top 10 date_added_month by country')\n",
    "sns.move_legend(ax, \"upper right\")\n",
    "plt.xticks(rotation=90)\n",
    "plt.show()"
   ]
  },
  {
   "cell_type": "markdown",
   "id": "285e0744",
   "metadata": {},
   "source": [
    "### Observation : \n",
    "#### A. US - Listing is relatively high in Jan , Sep, Nov , July  and June \n",
    "#### B. Japan - September has highest listing  \n",
    "#### C.  India - Most listing in Dec, Oct, Nov, Aug , March , April etc.  "
   ]
  },
  {
   "cell_type": "code",
   "execution_count": 645,
   "id": "4bb84be8",
   "metadata": {},
   "outputs": [
    {
     "data": {
      "image/png": "[encoded data removed]",
      "text/plain": [
       "<Figure size 432x288 with 1 Axes>"
      ]
     },
     "metadata": {
      "needs_background": "light"
     },
     "output_type": "display_data"
    }
   ],
   "source": [
    "ax = sns.countplot(x=\"duration_category\",data=df_movies_intresting_countries,hue=\"country\",order=df_movies_intresting_countries.duration_category.value_counts().iloc[:10].index)\n",
    "ax.set(title='Top 10 duration_category by country')\n",
    "sns.move_legend(ax, \"upper right\")\n",
    "plt.xticks(rotation=90)\n",
    "plt.show() "
   ]
  },
  {
   "cell_type": "markdown",
   "id": "29685c36",
   "metadata": {},
   "source": [
    "### Observation : \n",
    "#### A. Any specific pattern is not observed wrt. duration_category   \n",
    "#### B. Customization based on country can be explored "
   ]
  },
  {
   "cell_type": "code",
   "execution_count": 646,
   "id": "f97e2031",
   "metadata": {},
   "outputs": [
    {
     "data": {
      "text/plain": [
       "0         Regular-H\n",
       "427       Regular-I\n",
       "428       Regular-I\n",
       "429       Regular-I\n",
       "430       Regular-I\n",
       "            ...    \n",
       "384215    Regular-I\n",
       "384216    Regular-I\n",
       "384217    Regular-I\n",
       "384218    Regular-I\n",
       "384219    Regular-I\n",
       "Name: duration_category, Length: 135773, dtype: object"
      ]
     },
     "execution_count": 646,
     "metadata": {},
     "output_type": "execute_result"
    }
   ],
   "source": [
    "#categorical_features = df_movies.select_dtypes(exclude=['int64','float64']).columns\n",
    "#categorical_features[1:] # Excluding identity column show_id\n",
    "df_movies_intresting_countries[\"duration_category\"]\n"
   ]
  },
  {
   "cell_type": "markdown",
   "id": "c6258114",
   "metadata": {},
   "source": [
    "## 4.3 For correlation: Heatmaps, Pairplots"
   ]
  },
  {
   "cell_type": "code",
   "execution_count": 647,
   "id": "ababcebd",
   "metadata": {},
   "outputs": [
    {
     "data": {
      "text/plain": [
       "<AxesSubplot:>"
      ]
     },
     "execution_count": 647,
     "metadata": {},
     "output_type": "execute_result"
    },
    {
     "data": {
      "image/png": "[encoded data removed]",
      "text/plain": [
       "<Figure size 432x288 with 2 Axes>"
      ]
     },
     "metadata": {
      "needs_background": "light"
     },
     "output_type": "display_data"
    }
   ],
   "source": [
    "sns.heatmap(df_movies.corr(), cmap=\"Blues\", annot=True)"
   ]
  },
  {
   "cell_type": "markdown",
   "id": "01cb6c20",
   "metadata": {},
   "source": [
    "### Observation : \n",
    "#### A. Little correlation bteween added week and year of release   \n",
    "#### B. likewise , corr between date added year and duration  \n",
    "#### C. Negative corr between duration and year of release ."
   ]
  },
  {
   "cell_type": "code",
   "execution_count": 648,
   "id": "a6373df2",
   "metadata": {},
   "outputs": [
    {
     "data": {
      "text/plain": [
       "[]"
      ]
     },
     "execution_count": 648,
     "metadata": {},
     "output_type": "execute_result"
    },
    {
     "data": {
      "image/png": "[encoded data removed]",
      "text/plain": [
       "<Figure size 720x720 with 20 Axes>"
      ]
     },
     "metadata": {
      "needs_background": "light"
     },
     "output_type": "display_data"
    }
   ],
   "source": [
    "sns.pairplot(data=df_movies)\n",
    "plt.plot()"
   ]
  },
  {
   "cell_type": "code",
   "execution_count": 649,
   "id": "57515e2a",
   "metadata": {},
   "outputs": [
    {
     "data": {
      "text/plain": [
       "<AxesSubplot:>"
      ]
     },
     "execution_count": 649,
     "metadata": {},
     "output_type": "execute_result"
    },
    {
     "data": {
      "image/png": "[encoded data removed]",
      "text/plain": [
       "<Figure size 432x288 with 2 Axes>"
      ]
     },
     "metadata": {
      "needs_background": "light"
     },
     "output_type": "display_data"
    }
   ],
   "source": [
    "sns.heatmap(df_series.corr(), cmap=\"Blues\", annot=True)"
   ]
  },
  {
   "cell_type": "code",
   "execution_count": 650,
   "id": "71bc8bd2",
   "metadata": {},
   "outputs": [
    {
     "data": {
      "text/plain": [
       "[]"
      ]
     },
     "execution_count": 650,
     "metadata": {},
     "output_type": "execute_result"
    },
    {
     "data": {
      "image/png": "[encoded data removed]",
      "text/plain": [
       "<Figure size 540x540 with 12 Axes>"
      ]
     },
     "metadata": {
      "needs_background": "light"
     },
     "output_type": "display_data"
    }
   ],
   "source": [
    "sns.pairplot(data=df_series)\n",
    "plt.plot()"
   ]
  },
  {
   "cell_type": "markdown",
   "id": "00b33701",
   "metadata": {},
   "source": [
    "# 5.2 Outlier check"
   ]
  },
  {
   "cell_type": "code",
   "execution_count": 651,
   "id": "f47cd45c",
   "metadata": {},
   "outputs": [],
   "source": [
    "# Z score\n",
    "from scipy import stats"
   ]
  },
  {
   "cell_type": "code",
   "execution_count": 652,
   "id": "0fe52c90",
   "metadata": {},
   "outputs": [
    {
     "data": {
      "text/html": [
       "<div>\n",
       "<style scoped>\n",
       "    .dataframe tbody tr th:only-of-type {\n",
       "        vertical-align: middle;\n",
       "    }\n",
       "\n",
       "    .dataframe tbody tr th {\n",
       "        vertical-align: top;\n",
       "    }\n",
       "\n",
       "    .dataframe thead th {\n",
       "        text-align: right;\n",
       "    }\n",
       "</style>\n",
       "<table border=\"1\" class=\"dataframe\">\n",
       "  <thead>\n",
       "    <tr style=\"text-align: right;\">\n",
       "      <th></th>\n",
       "      <th>type</th>\n",
       "      <th>director</th>\n",
       "      <th>release_year</th>\n",
       "      <th>rating</th>\n",
       "      <th>duration</th>\n",
       "      <th>cast</th>\n",
       "      <th>country</th>\n",
       "      <th>listed_in</th>\n",
       "      <th>date_added_year</th>\n",
       "      <th>date_added_month</th>\n",
       "      <th>date_added_week</th>\n",
       "      <th>date_added_day</th>\n",
       "      <th>duration_category</th>\n",
       "    </tr>\n",
       "  </thead>\n",
       "  <tbody>\n",
       "    <tr>\n",
       "      <th>2095</th>\n",
       "      <td>Movie</td>\n",
       "      <td>Steven Spielberg</td>\n",
       "      <td>1975</td>\n",
       "      <td>PG</td>\n",
       "      <td>124</td>\n",
       "      <td>Roy Scheider</td>\n",
       "      <td>United States</td>\n",
       "      <td>Action</td>\n",
       "      <td>2021</td>\n",
       "      <td>September</td>\n",
       "      <td>3</td>\n",
       "      <td>Thursday</td>\n",
       "      <td>Regular-I</td>\n",
       "    </tr>\n",
       "    <tr>\n",
       "      <th>2096</th>\n",
       "      <td>Movie</td>\n",
       "      <td>Steven Spielberg</td>\n",
       "      <td>1975</td>\n",
       "      <td>PG</td>\n",
       "      <td>124</td>\n",
       "      <td>Roy Scheider</td>\n",
       "      <td>United States</td>\n",
       "      <td>&amp;</td>\n",
       "      <td>2021</td>\n",
       "      <td>September</td>\n",
       "      <td>3</td>\n",
       "      <td>Thursday</td>\n",
       "      <td>Regular-I</td>\n",
       "    </tr>\n",
       "    <tr>\n",
       "      <th>2097</th>\n",
       "      <td>Movie</td>\n",
       "      <td>Steven Spielberg</td>\n",
       "      <td>1975</td>\n",
       "      <td>PG</td>\n",
       "      <td>124</td>\n",
       "      <td>Roy Scheider</td>\n",
       "      <td>United States</td>\n",
       "      <td>Adventure</td>\n",
       "      <td>2021</td>\n",
       "      <td>September</td>\n",
       "      <td>3</td>\n",
       "      <td>Thursday</td>\n",
       "      <td>Regular-I</td>\n",
       "    </tr>\n",
       "    <tr>\n",
       "      <th>2098</th>\n",
       "      <td>Movie</td>\n",
       "      <td>Steven Spielberg</td>\n",
       "      <td>1975</td>\n",
       "      <td>PG</td>\n",
       "      <td>124</td>\n",
       "      <td>Roy Scheider</td>\n",
       "      <td>United States</td>\n",
       "      <td>Classic</td>\n",
       "      <td>2021</td>\n",
       "      <td>September</td>\n",
       "      <td>3</td>\n",
       "      <td>Thursday</td>\n",
       "      <td>Regular-I</td>\n",
       "    </tr>\n",
       "    <tr>\n",
       "      <th>2099</th>\n",
       "      <td>Movie</td>\n",
       "      <td>Steven Spielberg</td>\n",
       "      <td>1975</td>\n",
       "      <td>PG</td>\n",
       "      <td>124</td>\n",
       "      <td>Roy Scheider</td>\n",
       "      <td>United States</td>\n",
       "      <td>Movies</td>\n",
       "      <td>2021</td>\n",
       "      <td>September</td>\n",
       "      <td>3</td>\n",
       "      <td>Thursday</td>\n",
       "      <td>Regular-I</td>\n",
       "    </tr>\n",
       "    <tr>\n",
       "      <th>...</th>\n",
       "      <td>...</td>\n",
       "      <td>...</td>\n",
       "      <td>...</td>\n",
       "      <td>...</td>\n",
       "      <td>...</td>\n",
       "      <td>...</td>\n",
       "      <td>...</td>\n",
       "      <td>...</td>\n",
       "      <td>...</td>\n",
       "      <td>...</td>\n",
       "      <td>...</td>\n",
       "      <td>...</td>\n",
       "      <td>...</td>\n",
       "    </tr>\n",
       "    <tr>\n",
       "      <th>383524</th>\n",
       "      <td>Movie</td>\n",
       "      <td>Mu Chu</td>\n",
       "      <td>1973</td>\n",
       "      <td>NR</td>\n",
       "      <td>81</td>\n",
       "      <td>Nan Chiang</td>\n",
       "      <td>Hong Kong</td>\n",
       "      <td>Action</td>\n",
       "      <td>2016</td>\n",
       "      <td>November</td>\n",
       "      <td>1</td>\n",
       "      <td>Tuesday</td>\n",
       "      <td>Regular-H</td>\n",
       "    </tr>\n",
       "    <tr>\n",
       "      <th>383525</th>\n",
       "      <td>Movie</td>\n",
       "      <td>Mu Chu</td>\n",
       "      <td>1973</td>\n",
       "      <td>NR</td>\n",
       "      <td>81</td>\n",
       "      <td>Nan Chiang</td>\n",
       "      <td>Hong Kong</td>\n",
       "      <td>&amp;</td>\n",
       "      <td>2016</td>\n",
       "      <td>November</td>\n",
       "      <td>1</td>\n",
       "      <td>Tuesday</td>\n",
       "      <td>Regular-H</td>\n",
       "    </tr>\n",
       "    <tr>\n",
       "      <th>383526</th>\n",
       "      <td>Movie</td>\n",
       "      <td>Mu Chu</td>\n",
       "      <td>1973</td>\n",
       "      <td>NR</td>\n",
       "      <td>81</td>\n",
       "      <td>Nan Chiang</td>\n",
       "      <td>Hong Kong</td>\n",
       "      <td>Adventure</td>\n",
       "      <td>2016</td>\n",
       "      <td>November</td>\n",
       "      <td>1</td>\n",
       "      <td>Tuesday</td>\n",
       "      <td>Regular-H</td>\n",
       "    </tr>\n",
       "    <tr>\n",
       "      <th>383527</th>\n",
       "      <td>Movie</td>\n",
       "      <td>Mu Chu</td>\n",
       "      <td>1973</td>\n",
       "      <td>NR</td>\n",
       "      <td>81</td>\n",
       "      <td>Nan Chiang</td>\n",
       "      <td>Hong Kong</td>\n",
       "      <td>International</td>\n",
       "      <td>2016</td>\n",
       "      <td>November</td>\n",
       "      <td>1</td>\n",
       "      <td>Tuesday</td>\n",
       "      <td>Regular-H</td>\n",
       "    </tr>\n",
       "    <tr>\n",
       "      <th>383528</th>\n",
       "      <td>Movie</td>\n",
       "      <td>Mu Chu</td>\n",
       "      <td>1973</td>\n",
       "      <td>NR</td>\n",
       "      <td>81</td>\n",
       "      <td>Nan Chiang</td>\n",
       "      <td>Hong Kong</td>\n",
       "      <td>Movies</td>\n",
       "      <td>2016</td>\n",
       "      <td>November</td>\n",
       "      <td>1</td>\n",
       "      <td>Tuesday</td>\n",
       "      <td>Regular-H</td>\n",
       "    </tr>\n",
       "  </tbody>\n",
       "</table>\n",
       "<p>10167 rows × 13 columns</p>\n",
       "</div>"
      ],
      "text/plain": [
       "         type          director  release_year rating duration          cast  \\\n",
       "2095    Movie  Steven Spielberg          1975     PG      124  Roy Scheider   \n",
       "2096    Movie  Steven Spielberg          1975     PG      124  Roy Scheider   \n",
       "2097    Movie  Steven Spielberg          1975     PG      124  Roy Scheider   \n",
       "2098    Movie  Steven Spielberg          1975     PG      124  Roy Scheider   \n",
       "2099    Movie  Steven Spielberg          1975     PG      124  Roy Scheider   \n",
       "...       ...               ...           ...    ...      ...           ...   \n",
       "383524  Movie            Mu Chu          1973     NR       81    Nan Chiang   \n",
       "383525  Movie            Mu Chu          1973     NR       81    Nan Chiang   \n",
       "383526  Movie            Mu Chu          1973     NR       81    Nan Chiang   \n",
       "383527  Movie            Mu Chu          1973     NR       81    Nan Chiang   \n",
       "383528  Movie            Mu Chu          1973     NR       81    Nan Chiang   \n",
       "\n",
       "              country      listed_in  date_added_year date_added_month  \\\n",
       "2095    United States         Action             2021        September   \n",
       "2096    United States              &             2021        September   \n",
       "2097    United States      Adventure             2021        September   \n",
       "2098    United States        Classic             2021        September   \n",
       "2099    United States         Movies             2021        September   \n",
       "...               ...            ...              ...              ...   \n",
       "383524      Hong Kong         Action             2016         November   \n",
       "383525      Hong Kong              &             2016         November   \n",
       "383526      Hong Kong      Adventure             2016         November   \n",
       "383527      Hong Kong  International             2016         November   \n",
       "383528      Hong Kong         Movies             2016         November   \n",
       "\n",
       "        date_added_week date_added_day duration_category  \n",
       "2095                  3       Thursday         Regular-I  \n",
       "2096                  3       Thursday         Regular-I  \n",
       "2097                  3       Thursday         Regular-I  \n",
       "2098                  3       Thursday         Regular-I  \n",
       "2099                  3       Thursday         Regular-I  \n",
       "...                 ...            ...               ...  \n",
       "383524                1        Tuesday         Regular-H  \n",
       "383525                1        Tuesday         Regular-H  \n",
       "383526                1        Tuesday         Regular-H  \n",
       "383527                1        Tuesday         Regular-H  \n",
       "383528                1        Tuesday         Regular-H  \n",
       "\n",
       "[10167 rows x 13 columns]"
      ]
     },
     "execution_count": 652,
     "metadata": {},
     "output_type": "execute_result"
    }
   ],
   "source": [
    "z_release_year = np.abs(stats.zscore(df_selected['release_year']))\n",
    "df_selected.loc[np.where(z_release_year > 3)]"
   ]
  },
  {
   "cell_type": "markdown",
   "id": "60a085e7",
   "metadata": {},
   "source": [
    "### Observation :\n",
    "#### There is outliers for feature \"release_year\"  as there few old movies starting from 1975 onwards"
   ]
  },
  {
   "cell_type": "markdown",
   "id": "667aafb6",
   "metadata": {},
   "source": [
    "# 6. Insights based on Non-Graphical and Visual Analysis\n"
   ]
  },
  {
   "cell_type": "markdown",
   "id": "f8c30ad7",
   "metadata": {},
   "source": [
    "- **Overview** - The dataset contains data about only Movie and TV shows\n",
    "- **Identity features** - 'show_id', 'title' are identity features , won't add much value for data analysis. Hence can be ignored\n",
    "- **Data Quality** -  feature **'director'** contains **many empty** values (34 % of entire dataset)\n",
    " - Both TV Show and Movie, there are missing 'country' and 'director'\n",
    " - **'ratings'** has **non-homoginious data**\n",
    " - 'duration' value for movies in string (i.e. 74 mins , 84 min etc.)\n",
    " -  TV shows in terms of seasons number , hence pre processsing is must. \n",
    "- **Preprocessing** - **'casts', 'country' , 'listed_in'** have **comma seperated values** , which needs to be pre-processed before further analysis.\n",
    "- **Visual Analysis**\n",
    " -  In year **2019 - 2020 most of Movies and Series were released** in Netflix\n",
    " -  Both movies and Series are **more often added on Friday**(i.e. week day # 4)\n",
    " -  **Wide range** of shows/movies - from **very short to very long duration**, even across different ratings\n",
    " -  Both shows/movies **data are skewed , with many outliers** on each type \n",
    " -  **United states and India** release **more movies** than TV Shows in Neflix platform\n",
    " -  **Japan , South Korea and Mexico** release **more TV Shows** than movies in Neflix platform\n",
    "\n",
    " -  **Noam Murro and Thomas Astruc** **more often** releases **TV Shows**  in Neflix platform\n",
    " -  **Steven Spielberg , Raja Gosnell** have **more movies** in Neflix platform\n",
    "\n",
    " -  Netflix is showing **more movies of Anupam Kher , Shah Rukh Khan , Akshyay Kumar , Boman Irani** etc. \n",
    " -  **Many** Movies/shows have **no cast information tagged**, which can be improved for deep dive analysis \n",
    " -  **David Attenborough, Takahiro Sakurai , Yuki Kaji** have **more TV shows** than movies in Netflix platform\n",
    "\n",
    " -  **Less Comedy,Thriller, and no Children(i.e. \"TV shows\" )**  in Netflix platform, which can be explored\n",
    " -  **Too many Genres to choose from** \n",
    " -  **In India** -  **Other rated movies** (which are frequently published in US and other countries) have **fewer release**.\n",
    " -  Likewise category movies in other countries can be listed in other countries , with audio or subtitle\n",
    "\n",
    " -  Duration ranging from 90 to 106 minutes are generally being listed across top countries \n",
    "\n",
    " -  **Except India** -  There is **not many cast centric listing** in other countries\n",
    "\n",
    " -  **India** -  **David Dhawan , Asutosh Gowariker and Sooraj R. Barjatya** are **mostly listed directors** \n",
    " -  Japan - Toshiya Shinohara , Masahiko Murata are mostly listed directors \n",
    " -  Sahra Smith has been listed  in both US and UK\n",
    " -  **US** - Listing is relatively high in **Jan**(New year) , Sep, Nov , **July** (Independence day)  and June \n",
    " -  **Japan - September has highest listing**  \n",
    " -  **India** - **Most listing in Dec, Oct, Nov, Aug**(second half of the year) , March , April etc.  \n",
    "\n",
    " -  No specific pattern is not observed wrt. duration_category   \n"
   ]
  },
  {
   "cell_type": "code",
   "execution_count": 653,
   "id": "32251c4a",
   "metadata": {},
   "outputs": [
    {
     "data": {
      "text/html": [
       "<div>\n",
       "<style scoped>\n",
       "    .dataframe tbody tr th:only-of-type {\n",
       "        vertical-align: middle;\n",
       "    }\n",
       "\n",
       "    .dataframe tbody tr th {\n",
       "        vertical-align: top;\n",
       "    }\n",
       "\n",
       "    .dataframe thead th {\n",
       "        text-align: right;\n",
       "    }\n",
       "</style>\n",
       "<table border=\"1\" class=\"dataframe\">\n",
       "  <thead>\n",
       "    <tr style=\"text-align: right;\">\n",
       "      <th></th>\n",
       "      <th>type</th>\n",
       "      <th>director</th>\n",
       "      <th>rating</th>\n",
       "      <th>duration</th>\n",
       "      <th>cast</th>\n",
       "      <th>country</th>\n",
       "      <th>listed_in</th>\n",
       "      <th>date_added_month</th>\n",
       "      <th>date_added_day</th>\n",
       "      <th>duration_category</th>\n",
       "    </tr>\n",
       "  </thead>\n",
       "  <tbody>\n",
       "    <tr>\n",
       "      <th>count</th>\n",
       "      <td>384220</td>\n",
       "      <td>253193</td>\n",
       "      <td>384073</td>\n",
       "      <td>384220</td>\n",
       "      <td>384220</td>\n",
       "      <td>384220</td>\n",
       "      <td>384220</td>\n",
       "      <td>384220</td>\n",
       "      <td>384220</td>\n",
       "      <td>384220</td>\n",
       "    </tr>\n",
       "    <tr>\n",
       "      <th>unique</th>\n",
       "      <td>2</td>\n",
       "      <td>4528</td>\n",
       "      <td>15</td>\n",
       "      <td>221</td>\n",
       "      <td>36440</td>\n",
       "      <td>128</td>\n",
       "      <td>43</td>\n",
       "      <td>13</td>\n",
       "      <td>8</td>\n",
       "      <td>6</td>\n",
       "    </tr>\n",
       "    <tr>\n",
       "      <th>top</th>\n",
       "      <td>Movie</td>\n",
       "      <td>Steven Spielberg</td>\n",
       "      <td>TV-MA</td>\n",
       "      <td>1 Season</td>\n",
       "      <td>nan</td>\n",
       "      <td>United States</td>\n",
       "      <td>Movies</td>\n",
       "      <td>July</td>\n",
       "      <td>Friday</td>\n",
       "      <td>Regular-I</td>\n",
       "    </tr>\n",
       "    <tr>\n",
       "      <th>freq</th>\n",
       "      <td>242047</td>\n",
       "      <td>840</td>\n",
       "      <td>140910</td>\n",
       "      <td>87664</td>\n",
       "      <td>3398</td>\n",
       "      <td>111473</td>\n",
       "      <td>57642</td>\n",
       "      <td>37498</td>\n",
       "      <td>111675</td>\n",
       "      <td>178600</td>\n",
       "    </tr>\n",
       "  </tbody>\n",
       "</table>\n",
       "</div>"
      ],
      "text/plain": [
       "          type          director  rating  duration    cast        country  \\\n",
       "count   384220            253193  384073    384220  384220         384220   \n",
       "unique       2              4528      15       221   36440            128   \n",
       "top      Movie  Steven Spielberg   TV-MA  1 Season     nan  United States   \n",
       "freq    242047               840  140910     87664    3398         111473   \n",
       "\n",
       "       listed_in date_added_month date_added_day duration_category  \n",
       "count     384220           384220         384220            384220  \n",
       "unique        43               13              8                 6  \n",
       "top       Movies             July         Friday         Regular-I  \n",
       "freq       57642            37498         111675            178600  "
      ]
     },
     "execution_count": 653,
     "metadata": {},
     "output_type": "execute_result"
    }
   ],
   "source": [
    "df_selected.describe(include=object)"
   ]
  },
  {
   "cell_type": "markdown",
   "id": "6e964a5c",
   "metadata": {},
   "source": [
    "# 6.1 Comments on the range of attributes\n"
   ]
  },
  {
   "cell_type": "markdown",
   "id": "30160af5",
   "metadata": {},
   "source": [
    "- **Range of attributes**\n",
    " -  **Release year** ranges from 1942 to 2021 , but most of movies are released in 2019 (75 %) and 2020\n",
    "        - 50 % released in 2017\n",
    "        - 25 % released in 2012\n",
    " -  **Date added year** most of movies are added in 2020 (75 %) and latest by 2021\n",
    " -  **Top stats** ranges from 0 to 6 most of movies are added in Friday(75 %) and latest by 2021\n",
    "        - type : Movie (i.e. less TV shows)  \n",
    "        - director : Steven Spielberg\n",
    "        - rating : TV-MA\n",
    "        - season : 1 Season\n",
    "        - country: United states\n",
    "        - Month added - **July (may be due to US independence day i.e. holiday season)**\n",
    "        - duration category - Regular I(ranges from 91 minutes to 150 minutes)\n",
    " -  **Casting information** is missing for majority listing\n",
    " -  **Range** release and date added are not uniform , very much skewed around 2019 and 2020"
   ]
  },
  {
   "cell_type": "markdown",
   "id": "b54cffce",
   "metadata": {},
   "source": [
    "## 6.2 Comments on the distribution of the variables and relationship between them\n"
   ]
  },
  {
   "cell_type": "code",
   "execution_count": 654,
   "id": "40f6ad95",
   "metadata": {},
   "outputs": [
    {
     "data": {
      "text/plain": [
       "<AxesSubplot:>"
      ]
     },
     "execution_count": 654,
     "metadata": {},
     "output_type": "execute_result"
    },
    {
     "data": {
      "image/png": "[encoded data removed]",
      "text/plain": [
       "<Figure size 432x288 with 2 Axes>"
      ]
     },
     "metadata": {
      "needs_background": "light"
     },
     "output_type": "display_data"
    }
   ],
   "source": [
    "sns.heatmap(df_series.corr(), cmap=\"Blues\", annot=True)"
   ]
  },
  {
   "cell_type": "code",
   "execution_count": 655,
   "id": "e9e44094",
   "metadata": {},
   "outputs": [
    {
     "data": {
      "text/plain": [
       "<AxesSubplot:>"
      ]
     },
     "execution_count": 655,
     "metadata": {},
     "output_type": "execute_result"
    },
    {
     "data": {
      "image/png": "[encoded data removed]",
      "text/plain": [
       "<Figure size 432x288 with 2 Axes>"
      ]
     },
     "metadata": {
      "needs_background": "light"
     },
     "output_type": "display_data"
    }
   ],
   "source": [
    "sns.heatmap(df_movies.corr(), cmap=\"Blues\", annot=True)"
   ]
  },
  {
   "cell_type": "markdown",
   "id": "fa1a1d35",
   "metadata": {},
   "source": [
    "- **Distribution of variables**\n",
    " -  **Overall Data spread** **not uniform** , very much **skewed around 2019 and 2020**\n",
    "        - **type**    : more data point of movies than TV shows\n",
    "        - **country** : more data points in United states and India , less in other countries\n",
    "        - **rating**  : less data points across categories and countries \n",
    "\n",
    "- **Relationship between variables**\n",
    " -  **Movies** \n",
    "        - **release_year and date-added-year** - There is minor negative correlation (i.e.-0.038)\n",
    "        - **release_year and date-added-week** - There is minor positive correlation (i.e. 0.07)\n",
    "        - **release_year and duration** - There is decent negative correlation (i.e. -0.25) \n",
    "\n",
    " -  **Series** \n",
    "        - **release_year and date-added-year** - There is minor positive correlation (i.e. 0.073)\n",
    "        - **release_year and date-added-week** - There is minor negative correlation (i.e. -0.012)\n",
    "         \n",
    "- **Categorical variables** - relationship has been mentioned  in section 6 above "
   ]
  },
  {
   "cell_type": "markdown",
   "id": "de7240eb",
   "metadata": {},
   "source": [
    "\n",
    "## 6.3 Comments for each univariate and bivariate plot"
   ]
  },
  {
   "cell_type": "markdown",
   "id": "05663c0a",
   "metadata": {},
   "source": [
    "- **Categorical variables** - Comments for each univariate and bivariate plot have been mentioned in section 6 above"
   ]
  },
  {
   "cell_type": "markdown",
   "id": "44cb46b1",
   "metadata": {},
   "source": [
    "# 7. Business Insights - Should include patterns observed in the data along with what you can infer from it"
   ]
  },
  {
   "cell_type": "markdown",
   "id": "72df6492",
   "metadata": {},
   "source": [
    "- **Business Insights**\n",
    " -  **Country wise focus**: More focus in US and India considering the relative volume of listing in those countries\n",
    " -  **Categories** : Movies catogory listing is primary and \"TV Shows\" are catching up based on pattern observed in other countries like Japan , Korea etc.\n",
    " -  **Holiday list**: More fresh listing towards holidays - such as weekends or holiday seasons in July(i.e. specific to US) , December etc.\n",
    " -  **Region specific customization for listing** . e.g . more actor centric listing in India etc.\n",
    " -  **Range**: Wide range of movies to target all category of viewers e.g. different ratings , different Genres, different durations etc. "
   ]
  },
  {
   "cell_type": "markdown",
   "id": "9b1a8817",
   "metadata": {},
   "source": [
    "#  8. Recommendations  - Actionable items for business. No technical jargon. No complications. Simple action items that everyone can understand"
   ]
  },
  {
   "cell_type": "markdown",
   "id": "8bfee589",
   "metadata": {},
   "source": [
    "- **Recommendations**\n",
    " -  **Cutomized Genres**: There are too many options for consumers , if selected Genres or recommendation based on review pattern in the region would help\n",
    " -  **Duration** : Average duration is very high for most of the listing . Short duration movies /series is an opportunity if some viewers don't have much time to spend \n",
    " -  **New categories beyond Movies / TV shows** : More specificalized Genres with **short duration** can be experimented\n",
    "        - **Business conferences** \n",
    "        - **Technology innovations**  \n",
    "        - **Audio content** : like podcast or audio streaming platform can be one option that consumers can explore\n",
    " -  **More customization**: More customization based on country , viewers pattern etc. would help get competitive advantage"
   ]
  },
  {
   "cell_type": "code",
   "execution_count": null,
   "id": "34c79e0b",
   "metadata": {},
   "outputs": [],
   "source": []
  }
 ],
 "metadata": {
  "kernelspec": {
   "display_name": "Python 3 (ipykernel)",
   "language": "python",
   "name": "python3"
  },
  "language_info": {
   "codemirror_mode": {
    "name": "ipython",
    "version": 3
   },
   "file_extension": ".py",
   "mimetype": "text/x-python",
   "name": "python",
   "nbconvert_exporter": "python",
   "pygments_lexer": "ipython3",
   "version": "3.10.1"
  }
 },
 "nbformat": 4,
 "nbformat_minor": 5
}
